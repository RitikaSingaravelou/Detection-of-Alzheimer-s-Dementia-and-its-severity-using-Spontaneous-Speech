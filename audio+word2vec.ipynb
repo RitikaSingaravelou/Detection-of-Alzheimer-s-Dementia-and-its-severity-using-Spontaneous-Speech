{
  "nbformat": 4,
  "nbformat_minor": 0,
  "metadata": {
    "colab": {
      "provenance": []
    },
    "kernelspec": {
      "name": "python3",
      "display_name": "Python 3"
    },
    "language_info": {
      "name": "python"
    }
  },
  "cells": [
    {
      "cell_type": "code",
      "execution_count": null,
      "metadata": {
        "id": "pbJZfi2gRi3q"
      },
      "outputs": [],
      "source": []
    },
    {
      "cell_type": "code",
      "execution_count": null,
      "metadata": {
        "colab": {
          "base_uri": "https://localhost:8080/"
        },
        "id": "19ICcBtgwQ7n",
        "outputId": "abf289f8-eb06-41b4-c89f-c3a34a6400aa"
      },
      "outputs": [
        {
          "output_type": "stream",
          "name": "stdout",
          "text": [
            "(108, 82) (108,)\n"
          ]
        }
      ],
      "source": [
        "import pandas as pd\n",
        "import numpy as np\n",
        "import pickle\n",
        "\n",
        "import itertools\n",
        "import xgboost as xgb\n",
        "from sklearn.svm import LinearSVC\n",
        "\n",
        "from sklearn.naive_bayes import MultinomialNB\n",
        "from sklearn.neural_network import MLPClassifier\n",
        "from sklearn.linear_model import LogisticRegression\n",
        "from sklearn.ensemble import RandomForestClassifier\n",
        "from sklearn.model_selection import train_test_split\n",
        "from sklearn.feature_selection import SelectFromModel\n",
        "from sklearn.feature_extraction.text import CountVectorizer\n",
        "\n",
        "from sklearn.feature_extraction.text import TfidfTransformer, TfidfVectorizer\n",
        "from sklearn.metrics import confusion_matrix, f1_score, accuracy_score, precision_score, recall_score\n",
        "\n",
        "import matplotlib\n",
        "from sklearn.linear_model import LogisticRegression\n",
        "from sklearn.neural_network import MLPClassifier\n",
        "from sklearn.decomposition import PCA\n",
        "from sklearn.manifold import TSNE\n",
        "from sklearn.preprocessing import MinMaxScaler, OneHotEncoder\n",
        "from sklearn.utils.class_weight import compute_class_weight\n",
        "\n",
        "from IPython.display import display\n",
        "import matplotlib.pyplot as plt\n",
        "import seaborn as sns\n",
        "\n",
        "\n",
        "\n",
        "x_train_audio = pd.read_csv('/content/drive/MyDrive/MFCCDeltaFeatures.csv')\n",
        "\n",
        "\n",
        "xtrainaudiofull=pd.read_csv('/content/drive/MyDrive/MFCCDeltaFeaturestrain.csv')\n",
        "y_train_audio = xtrainaudiofull['label']\n",
        "\n",
        "\n",
        "y_train = y_train_audio  \n",
        "\n",
        "print(x_train_audio.shape, y_train_audio.shape)"
      ]
    },
    {
      "cell_type": "code",
      "source": [
        "x_test_audio = pd.read_csv('/content/drive/MyDrive/MFCCDeltaFeaturestestlabel.csv')\n",
        "\n",
        "\n",
        "xtestaudiofull=pd.read_csv('/content/drive/MyDrive/MFCCDeltaFeaturestestlabelsorder.csv')\n",
        "y_test_audio = xtestaudiofull['label']\n",
        "\n",
        "\n",
        "y_test = y_test_audio  \n",
        "\n",
        "print(x_test_audio.shape, y_test_audio.shape)"
      ],
      "metadata": {
        "colab": {
          "base_uri": "https://localhost:8080/"
        },
        "id": "SWwkVwYUAMNc",
        "outputId": "7b93dc9c-dd52-4890-eb9a-34a9bec2b691"
      },
      "execution_count": null,
      "outputs": [
        {
          "output_type": "stream",
          "name": "stdout",
          "text": [
            "(48, 82) (48,)\n"
          ]
        }
      ]
    },
    {
      "cell_type": "code",
      "source": [
        "ytam=pd.read_csv('/content/drive/MyDrive/train108.csv')\n",
        "y_train_mmse=ytam['mmse']"
      ],
      "metadata": {
        "id": "0JgD5vv5Rci2"
      },
      "execution_count": null,
      "outputs": []
    },
    {
      "cell_type": "code",
      "source": [
        "ytestam=pd.read_csv('/content/drive/MyDrive/test108crct.csv')\n",
        "y_test_mmse=ytestam['mmse']"
      ],
      "metadata": {
        "id": "XcLn-i7fSHmQ"
      },
      "execution_count": null,
      "outputs": []
    },
    {
      "cell_type": "code",
      "source": [
        "y_test_mmse"
      ],
      "metadata": {
        "colab": {
          "base_uri": "https://localhost:8080/"
        },
        "id": "G7qdCzDJT4L-",
        "outputId": "66852722-6aed-49ca-d556-afa99e7fc0c3"
      },
      "execution_count": null,
      "outputs": [
        {
          "output_type": "execute_result",
          "data": {
            "text/plain": [
              "0     28\n",
              "1     29\n",
              "2     24\n",
              "3     30\n",
              "4     21\n",
              "5     15\n",
              "6     29\n",
              "7     28\n",
              "8     27\n",
              "9     26\n",
              "10    28\n",
              "11    23\n",
              "12    30\n",
              "13    17\n",
              "14    29\n",
              "15    30\n",
              "16    27\n",
              "17    30\n",
              "18    30\n",
              "19    10\n",
              "20    29\n",
              "21    17\n",
              "22    12\n",
              "23    30\n",
              "24    29\n",
              "25    19\n",
              "26    29\n",
              "27    18\n",
              "28    20\n",
              "29    20\n",
              "30    13\n",
              "31    22\n",
              "32    12\n",
              "33    24\n",
              "34    11\n",
              "35    26\n",
              "36    30\n",
              "37    28\n",
              "38    19\n",
              "39    30\n",
              "40    25\n",
              "41    30\n",
              "42    30\n",
              "43    18\n",
              "44    28\n",
              "45    23\n",
              "46    28\n",
              "47    27\n",
              "Name: mmse, dtype: int64"
            ]
          },
          "metadata": {},
          "execution_count": 8
        }
      ]
    },
    {
      "cell_type": "code",
      "source": [
        "y_train_mmse"
      ],
      "metadata": {
        "colab": {
          "base_uri": "https://localhost:8080/"
        },
        "id": "nwt7mX3XTkU4",
        "outputId": "d15fd51c-34b2-4db9-cd79-5e7b3c3e94c3"
      },
      "execution_count": null,
      "outputs": [
        {
          "output_type": "execute_result",
          "data": {
            "text/plain": [
              "0       NA\n",
              "1       30\n",
              "2       29\n",
              "3       30\n",
              "4       30\n",
              "      ... \n",
              "103     20\n",
              "104     24\n",
              "105     12\n",
              "106     20\n",
              "107     13\n",
              "Name: mmse, Length: 108, dtype: object"
            ]
          },
          "metadata": {},
          "execution_count": 9
        }
      ]
    },
    {
      "cell_type": "code",
      "source": [
        "xtrainaudiofull=pd.read_csv('/content/drive/MyDrive/MFCCDeltaFeaturestrain.csv')\n",
        "y_train_audio = xtrainaudiofull['label']\n",
        "\n",
        "y_train = y_train_audio  "
      ],
      "metadata": {
        "id": "OPnMd9h23Wmv"
      },
      "execution_count": null,
      "outputs": []
    },
    {
      "cell_type": "code",
      "source": [
        "y_train_audio"
      ],
      "metadata": {
        "colab": {
          "base_uri": "https://localhost:8080/"
        },
        "id": "HtWmaQvPJgma",
        "outputId": "d26ea502-c1ce-4bb2-c2f2-85741405b74d"
      },
      "execution_count": null,
      "outputs": [
        {
          "output_type": "execute_result",
          "data": {
            "text/plain": [
              "0      0\n",
              "1      0\n",
              "2      0\n",
              "3      0\n",
              "4      0\n",
              "      ..\n",
              "103    1\n",
              "104    1\n",
              "105    1\n",
              "106    1\n",
              "107    1\n",
              "Name: label, Length: 108, dtype: int64"
            ]
          },
          "metadata": {},
          "execution_count": 11
        }
      ]
    },
    {
      "cell_type": "code",
      "source": [
        "y_test_text"
      ],
      "metadata": {
        "colab": {
          "base_uri": "https://localhost:8080/"
        },
        "id": "AfMTOixNZkpY",
        "outputId": "641fc2a3-3777-4302-d82b-2b84a7dec34f"
      },
      "execution_count": null,
      "outputs": [
        {
          "output_type": "execute_result",
          "data": {
            "text/plain": [
              "array([1, 0, 0, 1, 1, 1, 0, 0, 0, 1, 1, 1, 1, 1, 0, 1, 0, 0, 1, 0, 0, 0,\n",
              "       1, 0, 0, 1, 0, 1, 1, 1, 1, 1, 0, 0, 1, 1, 0, 0, 0, 1, 0, 1, 0, 0,\n",
              "       1, 1, 0, 0])"
            ]
          },
          "metadata": {},
          "execution_count": 20
        }
      ]
    },
    {
      "cell_type": "code",
      "source": [
        "y_test_audio"
      ],
      "metadata": {
        "colab": {
          "base_uri": "https://localhost:8080/"
        },
        "id": "MgR51qz-ZeCk",
        "outputId": "70596035-55b8-4878-97e7-c77e12c4fb06"
      },
      "execution_count": null,
      "outputs": [
        {
          "output_type": "execute_result",
          "data": {
            "text/plain": [
              "0     0\n",
              "1     0\n",
              "2     0\n",
              "3     0\n",
              "4     0\n",
              "5     0\n",
              "6     0\n",
              "7     0\n",
              "8     0\n",
              "9     0\n",
              "10    0\n",
              "11    0\n",
              "12    0\n",
              "13    0\n",
              "14    0\n",
              "15    0\n",
              "16    0\n",
              "17    0\n",
              "18    0\n",
              "19    0\n",
              "20    0\n",
              "21    0\n",
              "22    0\n",
              "23    0\n",
              "24    1\n",
              "25    1\n",
              "26    1\n",
              "27    1\n",
              "28    1\n",
              "29    1\n",
              "30    1\n",
              "31    1\n",
              "32    1\n",
              "33    1\n",
              "34    1\n",
              "35    1\n",
              "36    1\n",
              "37    1\n",
              "38    1\n",
              "39    1\n",
              "40    1\n",
              "41    1\n",
              "42    1\n",
              "43    1\n",
              "44    1\n",
              "45    1\n",
              "46    1\n",
              "47    1\n",
              "Name: label, dtype: int64"
            ]
          },
          "metadata": {},
          "execution_count": 19
        }
      ]
    },
    {
      "cell_type": "code",
      "source": [
        "y_test"
      ],
      "metadata": {
        "colab": {
          "base_uri": "https://localhost:8080/"
        },
        "id": "hUts49hEAsgg",
        "outputId": "e6717e22-3108-4b1f-b7d7-03e771223ba3"
      },
      "execution_count": null,
      "outputs": [
        {
          "output_type": "execute_result",
          "data": {
            "text/plain": [
              "0     0\n",
              "1     0\n",
              "2     1\n",
              "3     0\n",
              "4     1\n",
              "5     1\n",
              "6     0\n",
              "7     1\n",
              "8     1\n",
              "9     1\n",
              "10    0\n",
              "11    1\n",
              "12    0\n",
              "13    1\n",
              "14    0\n",
              "15    0\n",
              "16    1\n",
              "17    0\n",
              "18    0\n",
              "19    1\n",
              "20    0\n",
              "21    1\n",
              "22    1\n",
              "23    0\n",
              "24    0\n",
              "25    1\n",
              "26    0\n",
              "27    1\n",
              "28    1\n",
              "29    1\n",
              "30    1\n",
              "31    1\n",
              "32    1\n",
              "33    0\n",
              "34    1\n",
              "35    0\n",
              "36    0\n",
              "37    0\n",
              "38    1\n",
              "39    0\n",
              "40    1\n",
              "41    0\n",
              "42    0\n",
              "43    1\n",
              "44    0\n",
              "45    1\n",
              "46    0\n",
              "47    0\n",
              "Name: label, dtype: int64"
            ]
          },
          "metadata": {},
          "execution_count": 4
        }
      ]
    },
    {
      "cell_type": "code",
      "source": [
        "y_train"
      ],
      "metadata": {
        "colab": {
          "base_uri": "https://localhost:8080/"
        },
        "id": "DAixLe0q23Se",
        "outputId": "975b6b3c-8530-4830-f151-c4d3ac6df3d3"
      },
      "execution_count": null,
      "outputs": [
        {
          "output_type": "execute_result",
          "data": {
            "text/plain": [
              "0      0\n",
              "1      0\n",
              "2      0\n",
              "3      0\n",
              "4      0\n",
              "      ..\n",
              "103    1\n",
              "104    1\n",
              "105    1\n",
              "106    1\n",
              "107    1\n",
              "Name: label, Length: 108, dtype: int64"
            ]
          },
          "metadata": {},
          "execution_count": 5
        }
      ]
    },
    {
      "cell_type": "code",
      "source": [],
      "metadata": {
        "id": "M0QIVe6fzs1i"
      },
      "execution_count": null,
      "outputs": []
    },
    {
      "cell_type": "code",
      "source": [
        "from google.colab import drive\n",
        "drive.mount('/content/drive')"
      ],
      "metadata": {
        "colab": {
          "base_uri": "https://localhost:8080/"
        },
        "id": "bDqXDzKiwThg",
        "outputId": "201caeb2-ac09-4cfd-f63e-c23a1a4d5deb"
      },
      "execution_count": null,
      "outputs": [
        {
          "output_type": "stream",
          "name": "stdout",
          "text": [
            "Mounted at /content/drive\n"
          ]
        }
      ]
    },
    {
      "cell_type": "code",
      "execution_count": null,
      "metadata": {
        "id": "5kBXaD9YwQ7q"
      },
      "outputs": [],
      "source": [
        "ad_dict = {'NON-AD': 0,\n",
        "                'AD': 1}\n",
        "\n",
        "ad_keys = list(['NON-AD', 'AD'])\n",
        "\n",
        "\n",
        "def plot_confusion_matrix(cm, classes,\n",
        "                          normalize=False,\n",
        "                          title='Confusion matrix',\n",
        "                          cmap=plt.cm.Blues):\n",
        "    \n",
        "    plt.imshow(cm, interpolation='nearest', cmap=cmap)\n",
        "    plt.title(title)\n",
        "    plt.colorbar()\n",
        "    tick_marks = np.arange(len(classes))\n",
        "    plt.xticks(tick_marks, classes, rotation=45)\n",
        "    plt.yticks(tick_marks, classes)\n",
        "\n",
        "    if normalize:\n",
        "        cm = cm.astype('float') / cm.sum(axis=1)[:, np.newaxis]\n",
        "        print(\"Normalized confusion matrix\")\n",
        "    else:\n",
        "        print('Confusion matrix')\n",
        "\n",
        "    print(cm)\n",
        "\n",
        "    thresh = cm.max() / 2.\n",
        "    for i, j in itertools.product(range(cm.shape[0]), range(cm.shape[1])):\n",
        "        plt.text(j, i, cm[i, j],\n",
        "                 horizontalalignment=\"center\",\n",
        "                 color=\"white\" if cm[i, j] > thresh else \"black\")\n",
        "\n",
        "    plt.tight_layout()\n",
        "    plt.ylabel('True label')\n",
        "    plt.xlabel('Predicted label')\n",
        "    \n",
        "def one_hot_encoder(true_labels, num_records, num_classes):\n",
        "    temp = np.array(true_labels[:num_records])\n",
        "    true_labels = np.zeros((num_records, num_classes))\n",
        "    true_labels[np.arange(num_records), temp] = 1\n",
        "    return true_labels\n",
        "\n",
        "def display_results(y_test, pred_probs, cm=True):\n",
        "    pred = np.argmax(pred_probs, axis=-1)\n",
        "    one_hot_true = one_hot_encoder(y_test, len(pred), len(ad_dict))\n",
        "    print('Test Set Accuracy =  {0:.3f}'.format(accuracy_score(y_test, pred)))\n",
        "    print('Test Set F1-score =  {0:.3f}'.format(f1_score(y_test, pred, average='macro')))\n",
        "    print('Test Set Precision =  {0:.3f}'.format(precision_score(y_test, pred, average='macro')))\n",
        "    print('Test Set Recall =  {0:.3f}'.format(recall_score(y_test, pred, average='macro')))\n",
        "    if cm:\n",
        "        plot_confusion_matrix(confusion_matrix(y_test, pred), classes=ad_keys)"
      ]
    },
    {
      "cell_type": "markdown",
      "metadata": {
        "id": "-pMa-qSDwQ7r"
      },
      "source": [
        "## Get word2vec Features"
      ]
    },
    {
      "cell_type": "code",
      "source": [
        "from numpy import load\n",
        "# load array\n",
        "x_train_text = load('/content/drive/MyDrive/word2vec_train.npy')\n",
        "y_train_text = load('/content/drive/MyDrive/labelstext_train.npy')\n",
        "print(x_train_text.shape, y_train_text.shape)"
      ],
      "metadata": {
        "colab": {
          "base_uri": "https://localhost:8080/"
        },
        "id": "ImeWhn33z-Lx",
        "outputId": "7607ae90-6a83-4073-b22a-ba6fabbe3534"
      },
      "execution_count": null,
      "outputs": [
        {
          "output_type": "stream",
          "name": "stdout",
          "text": [
            "(108, 300) (108,)\n"
          ]
        }
      ]
    },
    {
      "cell_type": "code",
      "source": [
        "y_train_text"
      ],
      "metadata": {
        "colab": {
          "base_uri": "https://localhost:8080/"
        },
        "id": "uYllyB6AKIbi",
        "outputId": "5107fdaa-5aa7-42df-8210-a8f7f4dabbd2"
      },
      "execution_count": null,
      "outputs": [
        {
          "output_type": "execute_result",
          "data": {
            "text/plain": [
              "array([0, 0, 0, 0, 0, 0, 0, 0, 0, 0, 0, 0, 0, 0, 0, 0, 0, 0, 0, 0, 0, 0,\n",
              "       0, 0, 0, 0, 0, 0, 0, 0, 0, 0, 0, 0, 0, 0, 0, 0, 0, 0, 0, 0, 0, 0,\n",
              "       0, 0, 0, 0, 0, 0, 0, 0, 0, 0, 1, 1, 1, 1, 1, 1, 1, 1, 1, 1, 1, 1,\n",
              "       1, 1, 1, 1, 1, 1, 1, 1, 1, 1, 1, 1, 1, 1, 1, 1, 1, 1, 1, 1, 1, 1,\n",
              "       1, 1, 1, 1, 1, 1, 1, 1, 1, 1, 1, 1, 1, 1, 1, 1, 1, 1, 1, 1])"
            ]
          },
          "metadata": {},
          "execution_count": 56
        }
      ]
    },
    {
      "cell_type": "code",
      "source": [
        "from numpy import load\n",
        "\n",
        "x_test_text = load('/content/drive/MyDrive/word2vec_test.npy')\n",
        "y_test_text = load('/content/drive/MyDrive/labeltext_test.npy')\n",
        "print(x_test_text.shape, y_test_text.shape)\n"
      ],
      "metadata": {
        "colab": {
          "base_uri": "https://localhost:8080/"
        },
        "id": "0lUVmlOQY7be",
        "outputId": "72f959d4-67fe-4ef5-f6a4-11cda1703f79"
      },
      "execution_count": null,
      "outputs": [
        {
          "output_type": "stream",
          "name": "stdout",
          "text": [
            "(48, 300) (48,)\n"
          ]
        }
      ]
    },
    {
      "cell_type": "code",
      "source": [
        "y_test=y_test_text"
      ],
      "metadata": {
        "id": "SDErIszFKacL"
      },
      "execution_count": null,
      "outputs": []
    },
    {
      "cell_type": "code",
      "source": [
        "import numpy\n",
        "numpy.array_equal(y_test_text,y_test_audio, equal_nan=False)"
      ],
      "metadata": {
        "colab": {
          "base_uri": "https://localhost:8080/"
        },
        "id": "j28CdxrbJGLM",
        "outputId": "fd1adb25-6ea2-4dae-e876-bc58e8c915df"
      },
      "execution_count": null,
      "outputs": [
        {
          "output_type": "execute_result",
          "data": {
            "text/plain": [
              "True"
            ]
          },
          "metadata": {},
          "execution_count": 59
        }
      ]
    },
    {
      "cell_type": "code",
      "source": [
        "import numpy\n",
        "numpy.array_equal(y_train_text,y_train_audio, equal_nan=False)"
      ],
      "metadata": {
        "colab": {
          "base_uri": "https://localhost:8080/"
        },
        "id": "In9wF2RDJRDd",
        "outputId": "48be7350-0ac3-4ab7-976e-9e1abdcbaf18"
      },
      "execution_count": null,
      "outputs": [
        {
          "output_type": "execute_result",
          "data": {
            "text/plain": [
              "True"
            ]
          },
          "metadata": {},
          "execution_count": 60
        }
      ]
    },
    {
      "cell_type": "markdown",
      "metadata": {
        "id": "613Qz-m4wQ7s"
      },
      "source": [
        "## Combine Text + Audio Features"
      ]
    },
    {
      "cell_type": "code",
      "execution_count": null,
      "metadata": {
        "colab": {
          "base_uri": "https://localhost:8080/"
        },
        "id": "n2btdvjrwQ7t",
        "outputId": "4f64b001-820e-44df-914c-057d162317a8"
      },
      "outputs": [
        {
          "output_type": "stream",
          "name": "stdout",
          "text": [
            "(108, 380)\n"
          ]
        }
      ],
      "source": [
        "combinedxtrain = np.concatenate((np.array(x_train_audio[x_train_audio.columns[2:]]), x_train_text), axis=1)\n",
        "combinedxtest = np.concatenate((np.array(x_test_audio[x_test_audio.columns[2:]]), x_test_text), axis=1)\n",
        "\n",
        "print(combinedxtrain.shape)\n",
        "\n",
        "combined_features_dict = {}\n",
        "\n",
        "combined_features_dict['x_train'] = combinedxtrain\n",
        "combined_features_dict['x_test'] = combinedxtest\n",
        "combined_features_dict['y_train'] = np.array(y_train)\n",
        "combined_features_dict['y_test'] = np.array(y_test)\n",
        "\n",
        "with open('combined_features.pkl', 'wb') as f:\n",
        "    pickle.dump(combined_features_dict, f)"
      ]
    },
    {
      "cell_type": "code",
      "source": [
        "y_train"
      ],
      "metadata": {
        "colab": {
          "base_uri": "https://localhost:8080/"
        },
        "id": "0_nLhBtH3lcs",
        "outputId": "9c168fa9-9378-4061-b76c-fbcec0633a61"
      },
      "execution_count": null,
      "outputs": [
        {
          "output_type": "execute_result",
          "data": {
            "text/plain": [
              "0      0\n",
              "1      0\n",
              "2      0\n",
              "3      0\n",
              "4      0\n",
              "      ..\n",
              "103    1\n",
              "104    1\n",
              "105    1\n",
              "106    1\n",
              "107    1\n",
              "Name: label, Length: 108, dtype: int64"
            ]
          },
          "metadata": {},
          "execution_count": 43
        }
      ]
    },
    {
      "cell_type": "code",
      "source": [
        "rf_classifier = RandomForestClassifier(n_estimators=600, min_samples_split=25)\n",
        "rf_classifier.fit(combined_xtrain, y_train)"
      ],
      "metadata": {
        "colab": {
          "base_uri": "https://localhost:8080/",
          "height": 183
        },
        "id": "a5kAB57d2jiG",
        "outputId": "820a7723-c0e1-4452-a8b9-d31dbfd1cee7"
      },
      "execution_count": null,
      "outputs": [
        {
          "output_type": "error",
          "ename": "NameError",
          "evalue": "ignored",
          "traceback": [
            "\u001b[0;31m---------------------------------------------------------------------------\u001b[0m",
            "\u001b[0;31mNameError\u001b[0m                                 Traceback (most recent call last)",
            "\u001b[0;32m<ipython-input-22-47c4c63485d3>\u001b[0m in \u001b[0;36m<module>\u001b[0;34m()\u001b[0m\n\u001b[1;32m      1\u001b[0m \u001b[0mrf_classifier\u001b[0m \u001b[0;34m=\u001b[0m \u001b[0mRandomForestClassifier\u001b[0m\u001b[0;34m(\u001b[0m\u001b[0mn_estimators\u001b[0m\u001b[0;34m=\u001b[0m\u001b[0;36m600\u001b[0m\u001b[0;34m,\u001b[0m \u001b[0mmin_samples_split\u001b[0m\u001b[0;34m=\u001b[0m\u001b[0;36m25\u001b[0m\u001b[0;34m)\u001b[0m\u001b[0;34m\u001b[0m\u001b[0;34m\u001b[0m\u001b[0m\n\u001b[0;32m----> 2\u001b[0;31m \u001b[0mrf_classifier\u001b[0m\u001b[0;34m.\u001b[0m\u001b[0mfit\u001b[0m\u001b[0;34m(\u001b[0m\u001b[0mcombined_xtrain\u001b[0m\u001b[0;34m,\u001b[0m \u001b[0my_train\u001b[0m\u001b[0;34m)\u001b[0m\u001b[0;34m\u001b[0m\u001b[0;34m\u001b[0m\u001b[0m\n\u001b[0m",
            "\u001b[0;31mNameError\u001b[0m: name 'combined_xtrain' is not defined"
          ]
        }
      ]
    },
    {
      "cell_type": "code",
      "source": [
        "combinedxtest.shape"
      ],
      "metadata": {
        "colab": {
          "base_uri": "https://localhost:8080/"
        },
        "id": "Im1ELIBZSHbx",
        "outputId": "0f52fda2-6995-436d-c479-c9ecef14f907"
      },
      "execution_count": null,
      "outputs": [
        {
          "output_type": "execute_result",
          "data": {
            "text/plain": [
              "(48, 380)"
            ]
          },
          "metadata": {},
          "execution_count": 62
        }
      ]
    },
    {
      "cell_type": "code",
      "source": [
        "rf_classifier = RandomForestClassifier(n_estimators=600, min_samples_split=25)\n",
        "rf_classifier.fit(combinedxtrain, y_train)\n",
        "\n",
        "pred_probs = rf_classifier.predict_proba(combinedxtest)\n",
        "display_results(y_test, pred_probs)"
      ],
      "metadata": {
        "colab": {
          "base_uri": "https://localhost:8080/",
          "height": 432
        },
        "id": "RGlUOF0LL3It",
        "outputId": "0a64567c-088d-4ad1-e370-bdb5d41d4af5"
      },
      "execution_count": null,
      "outputs": [
        {
          "output_type": "stream",
          "name": "stdout",
          "text": [
            "Test Set Accuracy =  0.708\n",
            "Test Set F1-score =  0.708\n",
            "Test Set Precision =  0.708\n",
            "Test Set Recall =  0.708\n",
            "Confusion matrix\n",
            "[[17  7]\n",
            " [ 7 17]]\n"
          ]
        },
        {
          "output_type": "display_data",
          "data": {
            "text/plain": [
              "<Figure size 432x288 with 2 Axes>"
            ],
            "image/png": "[encoded data removed]"
          },
          "metadata": {
            "needs_background": "light"
          }
        }
      ]
    },
    {
      "cell_type": "code",
      "source": [
        "xgb_classifier = xgb.XGBClassifier(max_depth=7, learning_rate=0.008, objective='multi:softprob', \n",
        "                                   n_estimators=600, sub_sample=0.8, num_class=len(ad_dict),\n",
        "                                   booster='gbtree', n_jobs=4)\n",
        "xgb_classifier.fit(combinedxtrain, y_train)\n",
        "pred_probs = xgb_classifier.predict_proba(combinedxtest)\n",
        "display_results(y_test, pred_probs)"
      ],
      "metadata": {
        "colab": {
          "base_uri": "https://localhost:8080/",
          "height": 432
        },
        "id": "4poyxRizNUP_",
        "outputId": "030b43b3-9ef5-43c1-c7a3-1fb73fdde957"
      },
      "execution_count": null,
      "outputs": [
        {
          "output_type": "stream",
          "name": "stdout",
          "text": [
            "Test Set Accuracy =  0.583\n",
            "Test Set F1-score =  0.583\n",
            "Test Set Precision =  0.584\n",
            "Test Set Recall =  0.583\n",
            "Confusion matrix\n",
            "[[13 11]\n",
            " [ 9 15]]\n"
          ]
        },
        {
          "output_type": "display_data",
          "data": {
            "text/plain": [
              "<Figure size 432x288 with 2 Axes>"
            ],
            "image/png": "[encoded data removed]"
          },
          "metadata": {
            "needs_background": "light"
          }
        }
      ]
    },
    {
      "cell_type": "code",
      "source": [
        "svc_classifier = LinearSVC()\n",
        "\n",
        "svc_classifier.fit(combinedxtrain, y_train)\n",
        "\n",
        "pred = svc_classifier.predict(combinedxtest)\n",
        "\n",
        "\n",
        "one_hot_true = one_hot_encoder(y_test, len(pred), len(ad_dict))\n",
        "print('Test Set Accuracy =  {0:.3f}'.format(accuracy_score(y_test, pred)))\n",
        "print('Test Set F-score =  {0:.3f}'.format(f1_score(y_test, pred, average='macro')))\n",
        "print('Test Set Precision =  {0:.3f}'.format(precision_score(y_test, pred, average='macro')))\n",
        "print('Test Set Recall =  {0:.3f}'.format(recall_score(y_test, pred, average='macro')))\n",
        "plot_confusion_matrix(confusion_matrix(y_test, pred), classes=ad_keys)\n",
        "(y_test, pred_probs)"
      ],
      "metadata": {
        "colab": {
          "base_uri": "https://localhost:8080/",
          "height": 1000
        },
        "id": "MXV8YSe9NhU3",
        "outputId": "af30e568-9a78-4a2a-f0f4-d19002ec1c5e"
      },
      "execution_count": null,
      "outputs": [
        {
          "output_type": "stream",
          "name": "stdout",
          "text": [
            "Test Set Accuracy =  0.500\n",
            "Test Set F-score =  0.333\n",
            "Test Set Precision =  0.250\n",
            "Test Set Recall =  0.500\n",
            "Confusion matrix\n",
            "[[24  0]\n",
            " [24  0]]\n"
          ]
        },
        {
          "output_type": "stream",
          "name": "stderr",
          "text": [
            "/usr/local/lib/python3.7/dist-packages/sklearn/svm/_base.py:1208: ConvergenceWarning: Liblinear failed to converge, increase the number of iterations.\n",
            "  ConvergenceWarning,\n",
            "/usr/local/lib/python3.7/dist-packages/sklearn/metrics/_classification.py:1318: UndefinedMetricWarning: Precision is ill-defined and being set to 0.0 in labels with no predicted samples. Use `zero_division` parameter to control this behavior.\n",
            "  _warn_prf(average, modifier, msg_start, len(result))\n"
          ]
        },
        {
          "output_type": "execute_result",
          "data": {
            "text/plain": [
              "(array([0, 0, 1, 0, 1, 1, 0, 1, 1, 1, 0, 1, 0, 1, 0, 0, 1, 0, 0, 1, 0, 1,\n",
              "        1, 0, 0, 1, 0, 1, 1, 1, 1, 1, 1, 0, 1, 0, 0, 0, 1, 0, 1, 0, 0, 1,\n",
              "        0, 1, 0, 0]), array([[0.88942933, 0.11057072],\n",
              "        [0.19929628, 0.80070376],\n",
              "        [0.46554768, 0.5344523 ],\n",
              "        [0.6086063 , 0.39139375],\n",
              "        [0.27007735, 0.7299227 ],\n",
              "        [0.03849664, 0.9615033 ],\n",
              "        [0.93938357, 0.06061641],\n",
              "        [0.10990344, 0.89009655],\n",
              "        [0.79925406, 0.20074594],\n",
              "        [0.7969172 , 0.20308281],\n",
              "        [0.07773292, 0.92226714],\n",
              "        [0.799309  , 0.20069101],\n",
              "        [0.9054271 , 0.09457289],\n",
              "        [0.9224026 , 0.07759736],\n",
              "        [0.5822639 , 0.41773614],\n",
              "        [0.19347914, 0.8065208 ],\n",
              "        [0.5840688 , 0.41593128],\n",
              "        [0.320898  , 0.67910206],\n",
              "        [0.11114063, 0.88885933],\n",
              "        [0.29262346, 0.70737654],\n",
              "        [0.383933  , 0.61606693],\n",
              "        [0.5526377 , 0.4473623 ],\n",
              "        [0.08770359, 0.91229635],\n",
              "        [0.7397127 , 0.26028726],\n",
              "        [0.8833381 , 0.11666186],\n",
              "        [0.12001649, 0.8799835 ],\n",
              "        [0.28977996, 0.71022004],\n",
              "        [0.097647  , 0.902353  ],\n",
              "        [0.0936393 , 0.9063606 ],\n",
              "        [0.37194997, 0.62805   ],\n",
              "        [0.07749291, 0.9225071 ],\n",
              "        [0.5658531 , 0.43414688],\n",
              "        [0.25625825, 0.74374175],\n",
              "        [0.91123617, 0.08876385],\n",
              "        [0.7872665 , 0.21273349],\n",
              "        [0.8896786 , 0.11032134],\n",
              "        [0.8900954 , 0.10990462],\n",
              "        [0.23823956, 0.7617604 ],\n",
              "        [0.4669851 , 0.5330149 ],\n",
              "        [0.74302936, 0.2569706 ],\n",
              "        [0.26394832, 0.7360517 ],\n",
              "        [0.2560851 , 0.74391484],\n",
              "        [0.9039156 , 0.09608443],\n",
              "        [0.67969376, 0.32030627],\n",
              "        [0.86933374, 0.13066632],\n",
              "        [0.18250953, 0.81749046],\n",
              "        [0.46504998, 0.53495   ],\n",
              "        [0.18755749, 0.81244254]], dtype=float32))"
            ]
          },
          "metadata": {},
          "execution_count": 65
        },
        {
          "output_type": "display_data",
          "data": {
            "text/plain": [
              "<Figure size 432x288 with 2 Axes>"
            ],
            "image/png": "[encoded data removed]"
          },
          "metadata": {
            "needs_background": "light"
          }
        }
      ]
    },
    {
      "cell_type": "code",
      "source": [
        "mlp_classifier = MLPClassifier(hidden_layer_sizes=(500, ), activation='relu', solver='adam', alpha=0.0001,\n",
        "                               batch_size='auto', learning_rate='adaptive', learning_rate_init=0.01,\n",
        "                               power_t=0.5, max_iter=1000, shuffle=True, random_state=None, tol=0.0001,\n",
        "                               verbose=False, warm_start=True, momentum=0.8, nesterovs_momentum=True,\n",
        "                               early_stopping=False, validation_fraction=0.1, beta_1=0.9, beta_2=0.999,\n",
        "                               epsilon=1e-08)\n",
        "\n",
        "mlp_classifier.fit(combinedxtrain, y_train)\n",
        "\n",
        "pred_probs = mlp_classifier.predict_proba(combinedxtest)\n",
        "\n",
        "display_results(y_test, pred_probs)"
      ],
      "metadata": {
        "colab": {
          "base_uri": "https://localhost:8080/",
          "height": 432
        },
        "id": "LS8uVP_wNzUR",
        "outputId": "a5cee225-7b57-4006-e1a4-f54dd12c3561"
      },
      "execution_count": null,
      "outputs": [
        {
          "output_type": "stream",
          "name": "stdout",
          "text": [
            "Test Set Accuracy =  0.521\n",
            "Test Set F1-score =  0.469\n",
            "Test Set Precision =  0.534\n",
            "Test Set Recall =  0.521\n",
            "Confusion matrix\n",
            "[[ 5 19]\n",
            " [ 4 20]]\n"
          ]
        },
        {
          "output_type": "display_data",
          "data": {
            "text/plain": [
              "<Figure size 432x288 with 2 Axes>"
            ],
            "image/png": "[encoded data removed]"
          },
          "metadata": {
            "needs_background": "light"
          }
        }
      ]
    },
    {
      "cell_type": "code",
      "source": [
        "lr_classifier = LogisticRegression(solver='lbfgs', multi_class='multinomial', max_iter=1000)\n",
        "\n",
        "lr_classifier.fit(combinedxtrain, y_train)\n",
        "\n",
        "pred_probs = lr_classifier.predict_proba(combinedxtest)\n",
        "\n",
        "display_results(y_test, pred_probs)"
      ],
      "metadata": {
        "colab": {
          "base_uri": "https://localhost:8080/",
          "height": 571
        },
        "id": "s2uRxaxxN-MX",
        "outputId": "41a09f42-0ece-4a92-a5a8-713ae7785bd6"
      },
      "execution_count": null,
      "outputs": [
        {
          "output_type": "stream",
          "name": "stderr",
          "text": [
            "/usr/local/lib/python3.7/dist-packages/sklearn/linear_model/_logistic.py:818: ConvergenceWarning: lbfgs failed to converge (status=1):\n",
            "STOP: TOTAL NO. of ITERATIONS REACHED LIMIT.\n",
            "\n",
            "Increase the number of iterations (max_iter) or scale the data as shown in:\n",
            "    https://scikit-learn.org/stable/modules/preprocessing.html\n",
            "Please also refer to the documentation for alternative solver options:\n",
            "    https://scikit-learn.org/stable/modules/linear_model.html#logistic-regression\n",
            "  extra_warning_msg=_LOGISTIC_SOLVER_CONVERGENCE_MSG,\n"
          ]
        },
        {
          "output_type": "stream",
          "name": "stdout",
          "text": [
            "Test Set Accuracy =  0.562\n",
            "Test Set F1-score =  0.553\n",
            "Test Set Precision =  0.568\n",
            "Test Set Recall =  0.562\n",
            "Confusion matrix\n",
            "[[17  7]\n",
            " [14 10]]\n"
          ]
        },
        {
          "output_type": "display_data",
          "data": {
            "text/plain": [
              "<Figure size 432x288 with 2 Axes>"
            ],
            "image/png": "[encoded data removed]"
          },
          "metadata": {
            "needs_background": "light"
          }
        }
      ]
    },
    {
      "cell_type": "code",
      "source": [
        "lr_classifier = LogisticRegression(solver='lbfgs', multi_class='multinomial', max_iter=1000)\n",
        "\n",
        "lr_classifier.fit(combinedxtrain, y_train)\n",
        "\n",
        "pred_probs = lr_classifier.predict_proba(combinedxtest)\n",
        "\n",
        "display_results(y_test, pred_probs)\n"
      ],
      "metadata": {
        "colab": {
          "base_uri": "https://localhost:8080/",
          "height": 571
        },
        "id": "HKRpg3i8OESK",
        "outputId": "934bcce2-ded5-4aed-8687-4206020146a0"
      },
      "execution_count": null,
      "outputs": [
        {
          "output_type": "stream",
          "name": "stderr",
          "text": [
            "/usr/local/lib/python3.7/dist-packages/sklearn/linear_model/_logistic.py:818: ConvergenceWarning: lbfgs failed to converge (status=1):\n",
            "STOP: TOTAL NO. of ITERATIONS REACHED LIMIT.\n",
            "\n",
            "Increase the number of iterations (max_iter) or scale the data as shown in:\n",
            "    https://scikit-learn.org/stable/modules/preprocessing.html\n",
            "Please also refer to the documentation for alternative solver options:\n",
            "    https://scikit-learn.org/stable/modules/linear_model.html#logistic-regression\n",
            "  extra_warning_msg=_LOGISTIC_SOLVER_CONVERGENCE_MSG,\n"
          ]
        },
        {
          "output_type": "stream",
          "name": "stdout",
          "text": [
            "Test Set Accuracy =  0.562\n",
            "Test Set F1-score =  0.553\n",
            "Test Set Precision =  0.568\n",
            "Test Set Recall =  0.562\n",
            "Confusion matrix\n",
            "[[17  7]\n",
            " [14 10]]\n"
          ]
        },
        {
          "output_type": "display_data",
          "data": {
            "text/plain": [
              "<Figure size 432x288 with 2 Axes>"
            ],
            "image/png": "[encoded data removed]"
          },
          "metadata": {
            "needs_background": "light"
          }
        }
      ]
    },
    {
      "cell_type": "markdown",
      "source": [
        "Regression"
      ],
      "metadata": {
        "id": "kz16nquDOWZq"
      }
    },
    {
      "cell_type": "code",
      "source": [
        "import numpy as np\n",
        "import pandas as pd\n",
        "import seaborn as sns\n",
        "import matplotlib.pyplot as plt\n",
        "from sklearn import preprocessing, svm\n",
        "from sklearn.model_selection import train_test_split\n",
        "from sklearn.linear_model import LinearRegression"
      ],
      "metadata": {
        "id": "dxhazRPbOXq_"
      },
      "execution_count": null,
      "outputs": []
    },
    {
      "cell_type": "code",
      "source": [
        "regr = LinearRegression()\n",
        "  \n",
        "regr.fit(combinedxtrain, y_train_mmse)\n",
        "print(regr.score(combinedxtest, y_test_mmse))"
      ],
      "metadata": {
        "colab": {
          "base_uri": "https://localhost:8080/"
        },
        "id": "vzU_ID8mOX-6",
        "outputId": "186c7f83-85b5-45ea-d60e-dca05eac5f23"
      },
      "execution_count": null,
      "outputs": [
        {
          "output_type": "stream",
          "name": "stdout",
          "text": [
            "-1.8405569356292975\n"
          ]
        }
      ]
    },
    {
      "cell_type": "code",
      "source": [
        "y_train_mmse[0]=30"
      ],
      "metadata": {
        "colab": {
          "base_uri": "https://localhost:8080/"
        },
        "id": "FcA3quBpSRNI",
        "outputId": "b01dcb7a-78f4-4931-88a3-f35a50a2bea6"
      },
      "execution_count": null,
      "outputs": [
        {
          "output_type": "stream",
          "name": "stderr",
          "text": [
            "/usr/local/lib/python3.7/dist-packages/ipykernel_launcher.py:1: SettingWithCopyWarning: \n",
            "A value is trying to be set on a copy of a slice from a DataFrame\n",
            "\n",
            "See the caveats in the documentation: https://pandas.pydata.org/pandas-docs/stable/user_guide/indexing.html#returning-a-view-versus-a-copy\n",
            "  \"\"\"Entry point for launching an IPython kernel.\n"
          ]
        }
      ]
    },
    {
      "cell_type": "code",
      "source": [
        "y_pred=regr.predict(combinedxtest)\n",
        "from sklearn.metrics import mean_squared_error\n",
        "print(\"RMSE : \",np.sqrt(mean_squared_error(y_test_mmse,y_pred)))"
      ],
      "metadata": {
        "colab": {
          "base_uri": "https://localhost:8080/"
        },
        "id": "N3TVTILgUwbu",
        "outputId": "6eb01cb9-f3af-4ab7-be8f-9cbb7739ea3b"
      },
      "execution_count": null,
      "outputs": [
        {
          "output_type": "stream",
          "name": "stdout",
          "text": [
            "RMSE :  10.848261799657818\n"
          ]
        }
      ]
    },
    {
      "cell_type": "code",
      "source": [
        "from sklearn.ensemble import RandomForestRegressor\n",
        "rf = RandomForestRegressor(n_estimators = 100, max_features = 'sqrt', max_depth = 5, random_state = 18).fit(combinedxtrain, y_train_mmse)\n",
        "y_pred=rf.predict(combinedxtest)\n",
        "from sklearn.metrics import mean_squared_error\n",
        "print(\"RMSE : \",np.sqrt(mean_squared_error(y_test_mmse,y_pred)))"
      ],
      "metadata": {
        "colab": {
          "base_uri": "https://localhost:8080/"
        },
        "id": "y8FD1HvNVJ4E",
        "outputId": "3d98e042-9c94-4b69-a6fa-34db051fd0a3"
      },
      "execution_count": null,
      "outputs": [
        {
          "output_type": "stream",
          "name": "stdout",
          "text": [
            "RMSE :  5.755015564622545\n"
          ]
        }
      ]
    },
    {
      "cell_type": "code",
      "source": [
        "from sklearn.svm import SVR\n",
        "svr = SVR().fit(combinedxtrain, y_train_mmse)\n",
        "y_pred=svr.predict(combinedxtest)\n",
        "from sklearn.metrics import mean_squared_error\n",
        "print(\"RMSE : \",np.sqrt(mean_squared_error(y_test_mmse,y_pred)))\n"
      ],
      "metadata": {
        "colab": {
          "base_uri": "https://localhost:8080/"
        },
        "id": "AWQn6ge0WBhf",
        "outputId": "5e4ac327-4332-48eb-dd46-80d15906449e"
      },
      "execution_count": null,
      "outputs": [
        {
          "output_type": "stream",
          "name": "stdout",
          "text": [
            "RMSE :  6.576595557571688\n"
          ]
        }
      ]
    },
    {
      "cell_type": "code",
      "source": [],
      "metadata": {
        "id": "EBGUwc-5VzI2"
      },
      "execution_count": null,
      "outputs": []
    }
  ]
}