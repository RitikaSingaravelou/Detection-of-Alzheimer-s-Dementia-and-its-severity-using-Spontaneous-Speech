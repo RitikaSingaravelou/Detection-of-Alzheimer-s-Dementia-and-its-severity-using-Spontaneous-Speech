{
  "cells": [
    {
      "cell_type": "code",
      "execution_count": null,
      "metadata": {
        "colab": {
          "base_uri": "https://localhost:8080/"
        },
        "id": "19ICcBtgwQ7n",
        "outputId": "bd4715e3-536c-4d96-f54f-b38e15752fc4"
      },
      "outputs": [
        {
          "output_type": "stream",
          "name": "stdout",
          "text": [
            "(108, 82) (108,)\n"
          ]
        }
      ],
      "source": [
        "import pandas as pd\n",
        "import numpy as np\n",
        "import pickle\n",
        "\n",
        "import itertools\n",
        "import xgboost as xgb\n",
        "from sklearn.svm import LinearSVC\n",
        "\n",
        "from sklearn.naive_bayes import MultinomialNB\n",
        "from sklearn.neural_network import MLPClassifier\n",
        "from sklearn.linear_model import LogisticRegression\n",
        "from sklearn.ensemble import RandomForestClassifier\n",
        "from sklearn.model_selection import train_test_split\n",
        "from sklearn.feature_selection import SelectFromModel\n",
        "from sklearn.feature_extraction.text import CountVectorizer\n",
        "\n",
        "from sklearn.feature_extraction.text import TfidfTransformer, TfidfVectorizer\n",
        "from sklearn.metrics import confusion_matrix, f1_score, accuracy_score, precision_score, recall_score\n",
        "\n",
        "import matplotlib\n",
        "from sklearn.linear_model import LogisticRegression\n",
        "from sklearn.neural_network import MLPClassifier\n",
        "from sklearn.decomposition import PCA\n",
        "from sklearn.manifold import TSNE\n",
        "from sklearn.preprocessing import MinMaxScaler, OneHotEncoder\n",
        "from sklearn.utils.class_weight import compute_class_weight\n",
        "\n",
        "from IPython.display import display\n",
        "import matplotlib.pyplot as plt\n",
        "import seaborn as sns\n",
        "\n",
        "\n",
        "\n",
        "x_train_audio = pd.read_csv('/content/drive/MyDrive/MFCCDeltaFeatures.csv')\n",
        "\n",
        "\n",
        "xtrainaudiofull=pd.read_csv('/content/drive/MyDrive/MFCCDeltaFeaturestrain.csv')\n",
        "y_train_audio = xtrainaudiofull['label']\n",
        "\n",
        "\n",
        "y_train = y_train_audio  \n",
        "\n",
        "print(x_train_audio.shape, y_train_audio.shape)"
      ]
    },
    {
      "cell_type": "code",
      "source": [
        "x_test_audio = pd.read_csv('/content/drive/MyDrive/MFCCDeltaFeaturestestlabel.csv')\n",
        "\n",
        "\n",
        "xtestaudiofull=pd.read_csv('/content/drive/MyDrive/MFCCDeltaFeaturestestlabelsorder.csv')\n",
        "y_test_audio = xtestaudiofull['label']\n",
        "\n",
        "\n",
        "y_test = y_test_audio  \n",
        "\n",
        "print(x_test_audio.shape, y_test_audio.shape)"
      ],
      "metadata": {
        "colab": {
          "base_uri": "https://localhost:8080/"
        },
        "id": "SWwkVwYUAMNc",
        "outputId": "75ee2f56-f554-4453-c0de-adccbf7a06a5"
      },
      "execution_count": null,
      "outputs": [
        {
          "output_type": "stream",
          "name": "stdout",
          "text": [
            "(48, 82) (48,)\n"
          ]
        }
      ]
    },
    {
      "cell_type": "code",
      "source": [
        "ytam=pd.read_csv('/content/drive/MyDrive/train108.csv')\n",
        "y_train_mmse=ytam['mmse']"
      ],
      "metadata": {
        "id": "0JgD5vv5Rci2"
      },
      "execution_count": null,
      "outputs": []
    },
    {
      "cell_type": "code",
      "source": [
        "ytestam=pd.read_csv('/content/drive/MyDrive/test108crct.csv')\n",
        "y_test_mmse=ytestam['mmse']"
      ],
      "metadata": {
        "id": "XcLn-i7fSHmQ"
      },
      "execution_count": null,
      "outputs": []
    },
    {
      "cell_type": "code",
      "source": [
        "y_test_mmse"
      ],
      "metadata": {
        "colab": {
          "base_uri": "https://localhost:8080/"
        },
        "id": "G7qdCzDJT4L-",
        "outputId": "0d0d206a-badd-408a-a7c8-1f8c918d042e"
      },
      "execution_count": null,
      "outputs": [
        {
          "output_type": "execute_result",
          "data": {
            "text/plain": [
              "0     28\n",
              "1     29\n",
              "2     24\n",
              "3     30\n",
              "4     21\n",
              "5     15\n",
              "6     29\n",
              "7     28\n",
              "8     27\n",
              "9     26\n",
              "10    28\n",
              "11    23\n",
              "12    30\n",
              "13    17\n",
              "14    29\n",
              "15    30\n",
              "16    27\n",
              "17    30\n",
              "18    30\n",
              "19    10\n",
              "20    29\n",
              "21    17\n",
              "22    12\n",
              "23    30\n",
              "24    29\n",
              "25    19\n",
              "26    29\n",
              "27    18\n",
              "28    20\n",
              "29    20\n",
              "30    13\n",
              "31    22\n",
              "32    12\n",
              "33    24\n",
              "34    11\n",
              "35    26\n",
              "36    30\n",
              "37    28\n",
              "38    19\n",
              "39    30\n",
              "40    25\n",
              "41    30\n",
              "42    30\n",
              "43    18\n",
              "44    28\n",
              "45    23\n",
              "46    28\n",
              "47    27\n",
              "Name: mmse, dtype: int64"
            ]
          },
          "metadata": {},
          "execution_count": 42
        }
      ]
    },
    {
      "cell_type": "code",
      "source": [
        "y_train_mmse"
      ],
      "metadata": {
        "colab": {
          "base_uri": "https://localhost:8080/"
        },
        "id": "nwt7mX3XTkU4",
        "outputId": "d1d7cdf6-c171-4f12-a9d9-cdbf92e30144"
      },
      "execution_count": null,
      "outputs": [
        {
          "output_type": "execute_result",
          "data": {
            "text/plain": [
              "0       30\n",
              "1       30\n",
              "2       29\n",
              "3       30\n",
              "4       30\n",
              "      ... \n",
              "103     20\n",
              "104     24\n",
              "105     12\n",
              "106     20\n",
              "107     13\n",
              "Name: mmse, Length: 108, dtype: object"
            ]
          },
          "metadata": {},
          "execution_count": 41
        }
      ]
    },
    {
      "cell_type": "code",
      "source": [
        "xtrainaudiofull=pd.read_csv('/content/drive/MyDrive/MFCCDeltaFeaturestrain.csv')\n",
        "y_train_audio = xtrainaudiofull['label']\n",
        "\n",
        "y_train = y_train_audio  "
      ],
      "metadata": {
        "id": "OPnMd9h23Wmv"
      },
      "execution_count": null,
      "outputs": []
    },
    {
      "cell_type": "code",
      "source": [
        "y_train_audio"
      ],
      "metadata": {
        "colab": {
          "base_uri": "https://localhost:8080/"
        },
        "id": "HtWmaQvPJgma",
        "outputId": "bcc95496-28d8-41b6-ba4f-1ae6bc76a8b1"
      },
      "execution_count": null,
      "outputs": [
        {
          "output_type": "execute_result",
          "data": {
            "text/plain": [
              "0      0\n",
              "1      0\n",
              "2      0\n",
              "3      0\n",
              "4      0\n",
              "      ..\n",
              "103    1\n",
              "104    1\n",
              "105    1\n",
              "106    1\n",
              "107    1\n",
              "Name: label, Length: 108, dtype: int64"
            ]
          },
          "metadata": {},
          "execution_count": 14
        }
      ]
    },
    {
      "cell_type": "code",
      "source": [
        "y_train_text"
      ],
      "metadata": {
        "colab": {
          "base_uri": "https://localhost:8080/"
        },
        "id": "2XlyKklJJjvE",
        "outputId": "b95f61ff-8f75-4bae-815e-6ac75dec77d4"
      },
      "execution_count": null,
      "outputs": [
        {
          "output_type": "execute_result",
          "data": {
            "text/plain": [
              "array([0, 0, 0, 1, 0, 0, 0, 1, 1, 0, 0, 0, 1, 1, 1, 0, 1, 0, 1, 1, 1, 1,\n",
              "       1, 0, 0, 1, 0, 1, 1, 0, 0, 0, 0, 1, 1, 0, 0, 0, 1, 0, 1, 0, 0, 1,\n",
              "       1, 0, 0, 0, 0, 1, 1, 1, 1, 0, 1, 0, 1, 1, 0, 0, 0, 1, 1, 0, 0, 1,\n",
              "       1, 1, 0, 0, 0, 1, 0, 0, 1, 0, 1, 1, 0, 1, 0, 1, 1, 1, 1, 1, 1, 1,\n",
              "       0, 1, 0, 0, 1, 1, 0, 1, 0, 0, 0, 1, 0, 0, 0, 0, 1, 1, 1, 1])"
            ]
          },
          "metadata": {},
          "execution_count": 15
        }
      ]
    },
    {
      "cell_type": "code",
      "source": [
        "y_test_text"
      ],
      "metadata": {
        "colab": {
          "base_uri": "https://localhost:8080/"
        },
        "id": "AfMTOixNZkpY",
        "outputId": "641fc2a3-3777-4302-d82b-2b84a7dec34f"
      },
      "execution_count": null,
      "outputs": [
        {
          "output_type": "execute_result",
          "data": {
            "text/plain": [
              "array([1, 0, 0, 1, 1, 1, 0, 0, 0, 1, 1, 1, 1, 1, 0, 1, 0, 0, 1, 0, 0, 0,\n",
              "       1, 0, 0, 1, 0, 1, 1, 1, 1, 1, 0, 0, 1, 1, 0, 0, 0, 1, 0, 1, 0, 0,\n",
              "       1, 1, 0, 0])"
            ]
          },
          "metadata": {},
          "execution_count": 20
        }
      ]
    },
    {
      "cell_type": "code",
      "source": [
        "y_test_audio"
      ],
      "metadata": {
        "colab": {
          "base_uri": "https://localhost:8080/"
        },
        "id": "MgR51qz-ZeCk",
        "outputId": "70596035-55b8-4878-97e7-c77e12c4fb06"
      },
      "execution_count": null,
      "outputs": [
        {
          "output_type": "execute_result",
          "data": {
            "text/plain": [
              "0     0\n",
              "1     0\n",
              "2     0\n",
              "3     0\n",
              "4     0\n",
              "5     0\n",
              "6     0\n",
              "7     0\n",
              "8     0\n",
              "9     0\n",
              "10    0\n",
              "11    0\n",
              "12    0\n",
              "13    0\n",
              "14    0\n",
              "15    0\n",
              "16    0\n",
              "17    0\n",
              "18    0\n",
              "19    0\n",
              "20    0\n",
              "21    0\n",
              "22    0\n",
              "23    0\n",
              "24    1\n",
              "25    1\n",
              "26    1\n",
              "27    1\n",
              "28    1\n",
              "29    1\n",
              "30    1\n",
              "31    1\n",
              "32    1\n",
              "33    1\n",
              "34    1\n",
              "35    1\n",
              "36    1\n",
              "37    1\n",
              "38    1\n",
              "39    1\n",
              "40    1\n",
              "41    1\n",
              "42    1\n",
              "43    1\n",
              "44    1\n",
              "45    1\n",
              "46    1\n",
              "47    1\n",
              "Name: label, dtype: int64"
            ]
          },
          "metadata": {},
          "execution_count": 19
        }
      ]
    },
    {
      "cell_type": "code",
      "source": [
        "y_test"
      ],
      "metadata": {
        "colab": {
          "base_uri": "https://localhost:8080/"
        },
        "id": "hUts49hEAsgg",
        "outputId": "e6717e22-3108-4b1f-b7d7-03e771223ba3"
      },
      "execution_count": null,
      "outputs": [
        {
          "output_type": "execute_result",
          "data": {
            "text/plain": [
              "0     0\n",
              "1     0\n",
              "2     1\n",
              "3     0\n",
              "4     1\n",
              "5     1\n",
              "6     0\n",
              "7     1\n",
              "8     1\n",
              "9     1\n",
              "10    0\n",
              "11    1\n",
              "12    0\n",
              "13    1\n",
              "14    0\n",
              "15    0\n",
              "16    1\n",
              "17    0\n",
              "18    0\n",
              "19    1\n",
              "20    0\n",
              "21    1\n",
              "22    1\n",
              "23    0\n",
              "24    0\n",
              "25    1\n",
              "26    0\n",
              "27    1\n",
              "28    1\n",
              "29    1\n",
              "30    1\n",
              "31    1\n",
              "32    1\n",
              "33    0\n",
              "34    1\n",
              "35    0\n",
              "36    0\n",
              "37    0\n",
              "38    1\n",
              "39    0\n",
              "40    1\n",
              "41    0\n",
              "42    0\n",
              "43    1\n",
              "44    0\n",
              "45    1\n",
              "46    0\n",
              "47    0\n",
              "Name: label, dtype: int64"
            ]
          },
          "metadata": {},
          "execution_count": 4
        }
      ]
    },
    {
      "cell_type": "code",
      "source": [
        "y_train"
      ],
      "metadata": {
        "colab": {
          "base_uri": "https://localhost:8080/"
        },
        "id": "DAixLe0q23Se",
        "outputId": "975b6b3c-8530-4830-f151-c4d3ac6df3d3"
      },
      "execution_count": null,
      "outputs": [
        {
          "output_type": "execute_result",
          "data": {
            "text/plain": [
              "0      0\n",
              "1      0\n",
              "2      0\n",
              "3      0\n",
              "4      0\n",
              "      ..\n",
              "103    1\n",
              "104    1\n",
              "105    1\n",
              "106    1\n",
              "107    1\n",
              "Name: label, Length: 108, dtype: int64"
            ]
          },
          "metadata": {},
          "execution_count": 5
        }
      ]
    },
    {
      "cell_type": "code",
      "source": [],
      "metadata": {
        "id": "M0QIVe6fzs1i"
      },
      "execution_count": null,
      "outputs": []
    },
    {
      "cell_type": "code",
      "source": [
        "from google.colab import drive\n",
        "drive.mount('/content/drive')"
      ],
      "metadata": {
        "colab": {
          "base_uri": "https://localhost:8080/"
        },
        "id": "bDqXDzKiwThg",
        "outputId": "201caeb2-ac09-4cfd-f63e-c23a1a4d5deb"
      },
      "execution_count": null,
      "outputs": [
        {
          "output_type": "stream",
          "name": "stdout",
          "text": [
            "Mounted at /content/drive\n"
          ]
        }
      ]
    },
    {
      "cell_type": "code",
      "execution_count": null,
      "metadata": {
        "id": "5kBXaD9YwQ7q"
      },
      "outputs": [],
      "source": [
        "ad_dict = {'NON-AD': 0,\n",
        "                'AD': 1}\n",
        "\n",
        "ad_keys = list(['NON-AD', 'AD'])\n",
        "\n",
        "\n",
        "def plot_confusion_matrix(cm, classes,\n",
        "                          normalize=False,\n",
        "                          title='Confusion matrix',\n",
        "                          cmap=plt.cm.Blues):\n",
        "    \n",
        "    plt.imshow(cm, interpolation='nearest', cmap=cmap)\n",
        "    plt.title(title)\n",
        "    plt.colorbar()\n",
        "    tick_marks = np.arange(len(classes))\n",
        "    plt.xticks(tick_marks, classes, rotation=45)\n",
        "    plt.yticks(tick_marks, classes)\n",
        "\n",
        "    if normalize:\n",
        "        cm = cm.astype('float') / cm.sum(axis=1)[:, np.newaxis]\n",
        "        print(\"Normalized confusion matrix\")\n",
        "    else:\n",
        "        print('Confusion matrix')\n",
        "\n",
        "    print(cm)\n",
        "\n",
        "    thresh = cm.max() / 2.\n",
        "    for i, j in itertools.product(range(cm.shape[0]), range(cm.shape[1])):\n",
        "        plt.text(j, i, cm[i, j],\n",
        "                 horizontalalignment=\"center\",\n",
        "                 color=\"white\" if cm[i, j] > thresh else \"black\")\n",
        "\n",
        "    plt.tight_layout()\n",
        "    plt.ylabel('True label')\n",
        "    plt.xlabel('Predicted label')\n",
        "    \n",
        "def one_hot_encoder(true_labels, num_records, num_classes):\n",
        "    temp = np.array(true_labels[:num_records])\n",
        "    true_labels = np.zeros((num_records, num_classes))\n",
        "    true_labels[np.arange(num_records), temp] = 1\n",
        "    return true_labels\n",
        "\n",
        "def display_results(y_test, pred_probs, cm=True):\n",
        "    pred = np.argmax(pred_probs, axis=-1)\n",
        "    one_hot_true = one_hot_encoder(y_test, len(pred), len(ad_dict))\n",
        "    print('Test Set Accuracy =  {0:.3f}'.format(accuracy_score(y_test, pred)))\n",
        "    print('Test Set F1-score =  {0:.3f}'.format(f1_score(y_test, pred, average='macro')))\n",
        "    print('Test Set Precision =  {0:.3f}'.format(precision_score(y_test, pred, average='macro')))\n",
        "    print('Test Set Recall =  {0:.3f}'.format(recall_score(y_test, pred, average='macro')))\n",
        "    if cm:\n",
        "        plot_confusion_matrix(confusion_matrix(y_test, pred), classes=ad_keys)"
      ]
    },
    {
      "cell_type": "markdown",
      "metadata": {
        "id": "-pMa-qSDwQ7r"
      },
      "source": [
        "## Get Text Features"
      ]
    },
    {
      "cell_type": "code",
      "source": [
        "from numpy import load\n",
        "# load array\n",
        "x_train_text = load('/content/drive/MyDrive/fasttextvectors_train.npy')\n",
        "y_train_text = load('/content/drive/MyDrive/labelstext_train.npy')\n",
        "print(x_train_text.shape, y_train_text.shape)"
      ],
      "metadata": {
        "colab": {
          "base_uri": "https://localhost:8080/"
        },
        "id": "ImeWhn33z-Lx",
        "outputId": "7a739751-3a12-4bfc-9738-d245e52a7fec"
      },
      "execution_count": null,
      "outputs": [
        {
          "output_type": "stream",
          "name": "stdout",
          "text": [
            "(108, 300) (108,)\n"
          ]
        }
      ]
    },
    {
      "cell_type": "code",
      "source": [
        "y_train_text"
      ],
      "metadata": {
        "colab": {
          "base_uri": "https://localhost:8080/"
        },
        "id": "uYllyB6AKIbi",
        "outputId": "824d450d-76cc-43c9-d56f-d2d779c84ad1"
      },
      "execution_count": null,
      "outputs": [
        {
          "output_type": "execute_result",
          "data": {
            "text/plain": [
              "array([0, 0, 0, 0, 0, 0, 0, 0, 0, 0, 0, 0, 0, 0, 0, 0, 0, 0, 0, 0, 0, 0,\n",
              "       0, 0, 0, 0, 0, 0, 0, 0, 0, 0, 0, 0, 0, 0, 0, 0, 0, 0, 0, 0, 0, 0,\n",
              "       0, 0, 0, 0, 0, 0, 0, 0, 0, 0, 1, 1, 1, 1, 1, 1, 1, 1, 1, 1, 1, 1,\n",
              "       1, 1, 1, 1, 1, 1, 1, 1, 1, 1, 1, 1, 1, 1, 1, 1, 1, 1, 1, 1, 1, 1,\n",
              "       1, 1, 1, 1, 1, 1, 1, 1, 1, 1, 1, 1, 1, 1, 1, 1, 1, 1, 1, 1])"
            ]
          },
          "metadata": {},
          "execution_count": 17
        }
      ]
    },
    {
      "cell_type": "code",
      "source": [
        "from numpy import load\n",
        "\n",
        "x_test_text = load('/content/drive/MyDrive/fasttext_test.npy')\n",
        "y_test_text = load('/content/drive/MyDrive/labeltext_test.npy')\n",
        "print(x_test_text.shape, y_test_text.shape)\n"
      ],
      "metadata": {
        "colab": {
          "base_uri": "https://localhost:8080/"
        },
        "id": "0lUVmlOQY7be",
        "outputId": "232dcb05-37f2-4d54-dc6d-583617ea9944"
      },
      "execution_count": null,
      "outputs": [
        {
          "output_type": "stream",
          "name": "stdout",
          "text": [
            "(48, 300) (48,)\n"
          ]
        }
      ]
    },
    {
      "cell_type": "code",
      "source": [
        "y_test=y_test_text"
      ],
      "metadata": {
        "id": "SDErIszFKacL"
      },
      "execution_count": null,
      "outputs": []
    },
    {
      "cell_type": "code",
      "source": [
        "import numpy\n",
        "numpy.array_equal(y_test_text,y_test_audio, equal_nan=False)"
      ],
      "metadata": {
        "colab": {
          "base_uri": "https://localhost:8080/"
        },
        "id": "j28CdxrbJGLM",
        "outputId": "58d8e285-bcf6-4fee-e0d5-7b6c82205aef"
      },
      "execution_count": null,
      "outputs": [
        {
          "output_type": "execute_result",
          "data": {
            "text/plain": [
              "True"
            ]
          },
          "metadata": {},
          "execution_count": 12
        }
      ]
    },
    {
      "cell_type": "code",
      "source": [
        "import numpy\n",
        "numpy.array_equal(y_train_text,y_train_audio, equal_nan=False)"
      ],
      "metadata": {
        "colab": {
          "base_uri": "https://localhost:8080/"
        },
        "id": "In9wF2RDJRDd",
        "outputId": "388a2702-a0b0-48b3-a25b-c707b8397d8c"
      },
      "execution_count": null,
      "outputs": [
        {
          "output_type": "execute_result",
          "data": {
            "text/plain": [
              "True"
            ]
          },
          "metadata": {},
          "execution_count": 18
        }
      ]
    },
    {
      "cell_type": "markdown",
      "metadata": {
        "id": "613Qz-m4wQ7s"
      },
      "source": [
        "## Combine Text + Audio Features"
      ]
    },
    {
      "cell_type": "code",
      "execution_count": null,
      "metadata": {
        "colab": {
          "base_uri": "https://localhost:8080/"
        },
        "id": "n2btdvjrwQ7t",
        "outputId": "c8fd0f02-dab0-4733-87d4-931d51161559"
      },
      "outputs": [
        {
          "output_type": "stream",
          "name": "stdout",
          "text": [
            "(108, 380)\n"
          ]
        }
      ],
      "source": [
        "combinedxtrain = np.concatenate((np.array(x_train_audio[x_train_audio.columns[2:]]), x_train_text), axis=1)\n",
        "combinedxtest = np.concatenate((np.array(x_test_audio[x_test_audio.columns[2:]]), x_test_text), axis=1)\n",
        "\n",
        "print(combinedxtrain.shape)\n",
        "\n",
        "combined_features_dict = {}\n",
        "\n",
        "combined_features_dict['x_train'] = combinedxtrain\n",
        "combined_features_dict['x_test'] = combinedxtest\n",
        "combined_features_dict['y_train'] = np.array(y_train)\n",
        "combined_features_dict['y_test'] = np.array(y_test)\n",
        "\n",
        "with open('combined_features.pkl', 'wb') as f:\n",
        "    pickle.dump(combined_features_dict, f)"
      ]
    },
    {
      "cell_type": "code",
      "source": [
        "y_train"
      ],
      "metadata": {
        "colab": {
          "base_uri": "https://localhost:8080/"
        },
        "id": "0_nLhBtH3lcs",
        "outputId": "1bdc5991-42cb-4e7f-f3a6-11aac3acdc18"
      },
      "execution_count": null,
      "outputs": [
        {
          "output_type": "execute_result",
          "data": {
            "text/plain": [
              "0      0\n",
              "1      0\n",
              "2      0\n",
              "3      0\n",
              "4      0\n",
              "      ..\n",
              "103    1\n",
              "104    1\n",
              "105    1\n",
              "106    1\n",
              "107    1\n",
              "Name: label, Length: 108, dtype: int64"
            ]
          },
          "metadata": {},
          "execution_count": 13
        }
      ]
    },
    {
      "cell_type": "code",
      "source": [
        "rf_classifier = RandomForestClassifier(n_estimators=600, min_samples_split=25)\n",
        "rf_classifier.fit(combined_xtrain, y_train)"
      ],
      "metadata": {
        "colab": {
          "base_uri": "https://localhost:8080/"
        },
        "id": "a5kAB57d2jiG",
        "outputId": "56cfe113-470d-42da-d35b-d2b8564b912b"
      },
      "execution_count": null,
      "outputs": [
        {
          "output_type": "execute_result",
          "data": {
            "text/plain": [
              "RandomForestClassifier(min_samples_split=25, n_estimators=600)"
            ]
          },
          "metadata": {},
          "execution_count": 14
        }
      ]
    },
    {
      "cell_type": "code",
      "source": [
        "rf_classifier = RandomForestClassifier(n_estimators=600, min_samples_split=25)\n",
        "rf_classifier.fit(combinedxtrain, y_train)\n",
        "\n",
        "pred_probs = rf_classifier.predict_proba(combinedxtest)\n",
        "display_results(y_test, pred_probs)"
      ],
      "metadata": {
        "colab": {
          "base_uri": "https://localhost:8080/",
          "height": 432
        },
        "id": "RGlUOF0LL3It",
        "outputId": "576342ba-2fc8-42b9-c47c-35a5e906f6fd"
      },
      "execution_count": null,
      "outputs": [
        {
          "output_type": "stream",
          "name": "stdout",
          "text": [
            "Test Set Accuracy =  0.792\n",
            "Test Set F1-score =  0.790\n",
            "Test Set Precision =  0.800\n",
            "Test Set Recall =  0.792\n",
            "Confusion matrix\n",
            "[[21  3]\n",
            " [ 7 17]]\n"
          ]
        },
        {
          "output_type": "display_data",
          "data": {
            "text/plain": [
              "<Figure size 432x288 with 2 Axes>"
            ],
            "image/png": "[encoded data removed]"
          },
          "metadata": {
            "needs_background": "light"
          }
        }
      ]
    },
    {
      "cell_type": "code",
      "source": [
        "xgb_classifier = xgb.XGBClassifier(max_depth=7, learning_rate=0.008, objective='multi:softprob', \n",
        "                                   n_estimators=600, sub_sample=0.8, num_class=len(ad_dict),\n",
        "                                   booster='gbtree', n_jobs=4)\n",
        "xgb_classifier.fit(combinedxtrain, y_train)\n",
        "pred_probs = xgb_classifier.predict_proba(combinedxtest)\n",
        "display_results(y_test, pred_probs)"
      ],
      "metadata": {
        "colab": {
          "base_uri": "https://localhost:8080/",
          "height": 432
        },
        "id": "4poyxRizNUP_",
        "outputId": "1a4ed492-07d8-4985-b182-b32aa3f0927e"
      },
      "execution_count": null,
      "outputs": [
        {
          "output_type": "stream",
          "name": "stdout",
          "text": [
            "Test Set Accuracy =  0.729\n",
            "Test Set F1-score =  0.726\n",
            "Test Set Precision =  0.740\n",
            "Test Set Recall =  0.729\n",
            "Confusion matrix\n",
            "[[20  4]\n",
            " [ 9 15]]\n"
          ]
        },
        {
          "output_type": "display_data",
          "data": {
            "text/plain": [
              "<Figure size 432x288 with 2 Axes>"
            ],
            "image/png": "[encoded data removed]"
          },
          "metadata": {
            "needs_background": "light"
          }
        }
      ]
    },
    {
      "cell_type": "code",
      "source": [
        "svc_classifier = LinearSVC()\n",
        "\n",
        "svc_classifier.fit(combinedxtrain, y_train)\n",
        "\n",
        "pred = svc_classifier.predict(combinedxtest)\n",
        "\n",
        "\n",
        "one_hot_true = one_hot_encoder(y_test, len(pred), len(ad_dict))\n",
        "print('Test Set Accuracy =  {0:.3f}'.format(accuracy_score(y_test, pred)))\n",
        "print('Test Set F-score =  {0:.3f}'.format(f1_score(y_test, pred, average='macro')))\n",
        "print('Test Set Precision =  {0:.3f}'.format(precision_score(y_test, pred, average='macro')))\n",
        "print('Test Set Recall =  {0:.3f}'.format(recall_score(y_test, pred, average='macro')))\n",
        "plot_confusion_matrix(confusion_matrix(y_test, pred), classes=ad_keys)\n",
        "(y_test, pred_probs)"
      ],
      "metadata": {
        "colab": {
          "base_uri": "https://localhost:8080/",
          "height": 1000
        },
        "id": "MXV8YSe9NhU3",
        "outputId": "e56ec69a-42d4-4a01-d11c-d764f3ad3749"
      },
      "execution_count": null,
      "outputs": [
        {
          "output_type": "stream",
          "name": "stdout",
          "text": [
            "Test Set Accuracy =  0.500\n",
            "Test Set F-score =  0.333\n",
            "Test Set Precision =  0.250\n",
            "Test Set Recall =  0.500\n",
            "Confusion matrix\n",
            "[[24  0]\n",
            " [24  0]]\n"
          ]
        },
        {
          "output_type": "stream",
          "name": "stderr",
          "text": [
            "/usr/local/lib/python3.7/dist-packages/sklearn/svm/_base.py:1208: ConvergenceWarning: Liblinear failed to converge, increase the number of iterations.\n",
            "  ConvergenceWarning,\n",
            "/usr/local/lib/python3.7/dist-packages/sklearn/metrics/_classification.py:1318: UndefinedMetricWarning: Precision is ill-defined and being set to 0.0 in labels with no predicted samples. Use `zero_division` parameter to control this behavior.\n",
            "  _warn_prf(average, modifier, msg_start, len(result))\n"
          ]
        },
        {
          "output_type": "execute_result",
          "data": {
            "text/plain": [
              "(array([0, 0, 1, 0, 1, 1, 0, 1, 1, 1, 0, 1, 0, 1, 0, 0, 1, 0, 0, 1, 0, 1,\n",
              "        1, 0, 0, 1, 0, 1, 1, 1, 1, 1, 1, 0, 1, 0, 0, 0, 1, 0, 1, 0, 0, 1,\n",
              "        0, 1, 0, 0]), array([[0.96838766, 0.03161231],\n",
              "        [0.9514853 , 0.04851478],\n",
              "        [0.98197985, 0.01802015],\n",
              "        [0.97080964, 0.02919039],\n",
              "        [0.8049479 , 0.19505206],\n",
              "        [0.01317163, 0.98682845],\n",
              "        [0.93787813, 0.06212187],\n",
              "        [0.8661058 , 0.13389419],\n",
              "        [0.8913068 , 0.10869316],\n",
              "        [0.8877467 , 0.11225335],\n",
              "        [0.13553944, 0.8644606 ],\n",
              "        [0.03539388, 0.96460605],\n",
              "        [0.9822286 , 0.01777149],\n",
              "        [0.90322495, 0.09677505],\n",
              "        [0.9867938 , 0.01320622],\n",
              "        [0.0211386 , 0.9788614 ],\n",
              "        [0.0289902 , 0.9710098 ],\n",
              "        [0.9839361 , 0.01606398],\n",
              "        [0.98939717, 0.0106028 ],\n",
              "        [0.05784906, 0.94215095],\n",
              "        [0.9798921 , 0.02010798],\n",
              "        [0.09400827, 0.90599173],\n",
              "        [0.06194528, 0.93805474],\n",
              "        [0.9582741 , 0.04172592],\n",
              "        [0.77715486, 0.22284512],\n",
              "        [0.3472681 , 0.6527319 ],\n",
              "        [0.98421186, 0.01578817],\n",
              "        [0.03424927, 0.9657507 ],\n",
              "        [0.09431481, 0.9056851 ],\n",
              "        [0.8815211 , 0.11847892],\n",
              "        [0.3574375 , 0.64256245],\n",
              "        [0.02744389, 0.9725562 ],\n",
              "        [0.04246141, 0.9575386 ],\n",
              "        [0.9679415 , 0.0320585 ],\n",
              "        [0.10811486, 0.89188516],\n",
              "        [0.31792012, 0.68207985],\n",
              "        [0.97340083, 0.02659909],\n",
              "        [0.4792241 , 0.5207759 ],\n",
              "        [0.9651309 , 0.03486914],\n",
              "        [0.97531563, 0.02468439],\n",
              "        [0.01600156, 0.9839984 ],\n",
              "        [0.96871513, 0.03128488],\n",
              "        [0.91916513, 0.08083486],\n",
              "        [0.05303132, 0.9469686 ],\n",
              "        [0.9760608 , 0.02393921],\n",
              "        [0.9742546 , 0.02574535],\n",
              "        [0.92128223, 0.07871781],\n",
              "        [0.7817293 , 0.21827073]], dtype=float32))"
            ]
          },
          "metadata": {},
          "execution_count": 31
        },
        {
          "output_type": "display_data",
          "data": {
            "text/plain": [
              "<Figure size 432x288 with 2 Axes>"
            ],
            "image/png": "[encoded data removed]"
          },
          "metadata": {
            "needs_background": "light"
          }
        }
      ]
    },
    {
      "cell_type": "code",
      "source": [
        "mlp_classifier = MLPClassifier(hidden_layer_sizes=(500, ), activation='relu', solver='adam', alpha=0.0001,\n",
        "                               batch_size='auto', learning_rate='adaptive', learning_rate_init=0.01,\n",
        "                               power_t=0.5, max_iter=1000, shuffle=True, random_state=None, tol=0.0001,\n",
        "                               verbose=False, warm_start=True, momentum=0.8, nesterovs_momentum=True,\n",
        "                               early_stopping=False, validation_fraction=0.1, beta_1=0.9, beta_2=0.999,\n",
        "                               epsilon=1e-08)\n",
        "\n",
        "mlp_classifier.fit(combinedxtrain, y_train)\n",
        "\n",
        "pred_probs = mlp_classifier.predict_proba(combinedxtest)\n",
        "\n",
        "display_results(y_test, pred_probs)"
      ],
      "metadata": {
        "colab": {
          "base_uri": "https://localhost:8080/",
          "height": 432
        },
        "id": "LS8uVP_wNzUR",
        "outputId": "f597f6a1-550f-4bfa-de7e-636590ab4ec8"
      },
      "execution_count": null,
      "outputs": [
        {
          "output_type": "stream",
          "name": "stdout",
          "text": [
            "Test Set Accuracy =  0.521\n",
            "Test Set F1-score =  0.378\n",
            "Test Set Precision =  0.755\n",
            "Test Set Recall =  0.521\n",
            "Confusion matrix\n",
            "[[ 1 23]\n",
            " [ 0 24]]\n"
          ]
        },
        {
          "output_type": "display_data",
          "data": {
            "text/plain": [
              "<Figure size 432x288 with 2 Axes>"
            ],
            "image/png": "[encoded data removed]"
          },
          "metadata": {
            "needs_background": "light"
          }
        }
      ]
    },
    {
      "cell_type": "code",
      "source": [
        "lr_classifier = LogisticRegression(solver='lbfgs', multi_class='multinomial', max_iter=1000)\n",
        "\n",
        "lr_classifier.fit(combinedxtrain, y_train)\n",
        "\n",
        "pred_probs = lr_classifier.predict_proba(combinedxtest)\n",
        "\n",
        "display_results(y_test, pred_probs)"
      ],
      "metadata": {
        "colab": {
          "base_uri": "https://localhost:8080/",
          "height": 591
        },
        "id": "s2uRxaxxN-MX",
        "outputId": "ad01f256-5155-4742-bf9c-c3b04d17be44"
      },
      "execution_count": null,
      "outputs": [
        {
          "output_type": "stream",
          "name": "stderr",
          "text": [
            "/usr/local/lib/python3.7/dist-packages/sklearn/linear_model/_logistic.py:818: ConvergenceWarning: lbfgs failed to converge (status=1):\n",
            "STOP: TOTAL NO. of ITERATIONS REACHED LIMIT.\n",
            "\n",
            "Increase the number of iterations (max_iter) or scale the data as shown in:\n",
            "    https://scikit-learn.org/stable/modules/preprocessing.html\n",
            "Please also refer to the documentation for alternative solver options:\n",
            "    https://scikit-learn.org/stable/modules/linear_model.html#logistic-regression\n",
            "  extra_warning_msg=_LOGISTIC_SOLVER_CONVERGENCE_MSG,\n"
          ]
        },
        {
          "output_type": "stream",
          "name": "stdout",
          "text": [
            "Test Set Accuracy =  0.562\n",
            "Test Set F1-score =  0.553\n",
            "Test Set Precision =  0.568\n",
            "Test Set Recall =  0.562\n",
            "Confusion matrix\n",
            "[[17  7]\n",
            " [14 10]]\n"
          ]
        },
        {
          "output_type": "display_data",
          "data": {
            "text/plain": [
              "<Figure size 432x288 with 2 Axes>"
            ],
            "image/png": "[encoded data removed]"
          },
          "metadata": {
            "needs_background": "light"
          }
        }
      ]
    },
    {
      "cell_type": "code",
      "source": [
        "lr_classifier = LogisticRegression(solver='lbfgs', multi_class='multinomial', max_iter=1000)\n",
        "\n",
        "lr_classifier.fit(combinedxtrain, y_train)\n",
        "\n",
        "pred_probs = lr_classifier.predict_proba(combinedxtest)\n",
        "\n",
        "display_results(y_test, pred_probs)\n"
      ],
      "metadata": {
        "colab": {
          "base_uri": "https://localhost:8080/",
          "height": 591
        },
        "id": "HKRpg3i8OESK",
        "outputId": "3c7ca71b-99d2-4f95-cd73-74827e1f1b6f"
      },
      "execution_count": null,
      "outputs": [
        {
          "output_type": "stream",
          "name": "stderr",
          "text": [
            "/usr/local/lib/python3.7/dist-packages/sklearn/linear_model/_logistic.py:818: ConvergenceWarning: lbfgs failed to converge (status=1):\n",
            "STOP: TOTAL NO. of ITERATIONS REACHED LIMIT.\n",
            "\n",
            "Increase the number of iterations (max_iter) or scale the data as shown in:\n",
            "    https://scikit-learn.org/stable/modules/preprocessing.html\n",
            "Please also refer to the documentation for alternative solver options:\n",
            "    https://scikit-learn.org/stable/modules/linear_model.html#logistic-regression\n",
            "  extra_warning_msg=_LOGISTIC_SOLVER_CONVERGENCE_MSG,\n"
          ]
        },
        {
          "output_type": "stream",
          "name": "stdout",
          "text": [
            "Test Set Accuracy =  0.562\n",
            "Test Set F1-score =  0.553\n",
            "Test Set Precision =  0.568\n",
            "Test Set Recall =  0.562\n",
            "Confusion matrix\n",
            "[[17  7]\n",
            " [14 10]]\n"
          ]
        },
        {
          "output_type": "display_data",
          "data": {
            "text/plain": [
              "<Figure size 432x288 with 2 Axes>"
            ],
            "image/png": "[encoded data removed]"
          },
          "metadata": {
            "needs_background": "light"
          }
        }
      ]
    },
    {
      "cell_type": "markdown",
      "source": [
        "Regression"
      ],
      "metadata": {
        "id": "kz16nquDOWZq"
      }
    },
    {
      "cell_type": "code",
      "source": [
        "import numpy as np\n",
        "import pandas as pd\n",
        "import seaborn as sns\n",
        "import matplotlib.pyplot as plt\n",
        "from sklearn import preprocessing, svm\n",
        "from sklearn.model_selection import train_test_split\n",
        "from sklearn.linear_model import LinearRegression"
      ],
      "metadata": {
        "id": "dxhazRPbOXq_"
      },
      "execution_count": null,
      "outputs": []
    },
    {
      "cell_type": "code",
      "source": [
        "regr = LinearRegression()\n",
        "  \n",
        "regr.fit(combinedxtrain, y_train_mmse)\n",
        "print(regr.score(combinedxtest, y_test_mmse))"
      ],
      "metadata": {
        "colab": {
          "base_uri": "https://localhost:8080/"
        },
        "id": "vzU_ID8mOX-6",
        "outputId": "ea09a4f0-6b04-4fb6-89fa-96e39538c511"
      },
      "execution_count": null,
      "outputs": [
        {
          "output_type": "stream",
          "name": "stdout",
          "text": [
            "-0.2961027165242818\n"
          ]
        }
      ]
    },
    {
      "cell_type": "code",
      "source": [
        "y_pred=regr.predict(combinedxtest)\n",
        "from sklearn.metrics import mean_squared_error\n",
        "print(\"RMSE : \",np.sqrt(mean_squared_error(y_test_mmse,y_pred)))"
      ],
      "metadata": {
        "colab": {
          "base_uri": "https://localhost:8080/"
        },
        "id": "N3TVTILgUwbu",
        "outputId": "17d1d391-fbc5-45b8-af9e-bfa9f716af9b"
      },
      "execution_count": null,
      "outputs": [
        {
          "output_type": "stream",
          "name": "stdout",
          "text": [
            "RMSE :  6.900110377908578\n"
          ]
        }
      ]
    },
    {
      "cell_type": "code",
      "source": [
        "from sklearn.ensemble import RandomForestRegressor\n",
        "rf = RandomForestRegressor(n_estimators = 100, max_features = 'sqrt', max_depth = 5, random_state = 18).fit(combinedxtrain, y_train_mmse)\n",
        "y_pred=rf.predict(combinedxtest)\n",
        "from sklearn.metrics import mean_squared_error\n",
        "print(\"RMSE : \",np.sqrt(mean_squared_error(y_test_mmse,y_pred)))"
      ],
      "metadata": {
        "colab": {
          "base_uri": "https://localhost:8080/"
        },
        "id": "y8FD1HvNVJ4E",
        "outputId": "9de143d3-bdb7-44b6-beb9-4865e406d95f"
      },
      "execution_count": null,
      "outputs": [
        {
          "output_type": "stream",
          "name": "stdout",
          "text": [
            "RMSE :  4.335136394635722\n"
          ]
        }
      ]
    },
    {
      "cell_type": "code",
      "source": [
        "from sklearn.svm import SVR\n",
        "svr = SVR().fit(combinedxtrain, y_train_mmse)\n",
        "y_pred=svr.predict(combinedxtest)\n",
        "from sklearn.metrics import mean_squared_error\n",
        "print(\"RMSE : \",np.sqrt(mean_squared_error(y_test_mmse,y_pred)))\n"
      ],
      "metadata": {
        "colab": {
          "base_uri": "https://localhost:8080/"
        },
        "id": "AWQn6ge0WBhf",
        "outputId": "6af24225-12e4-41a0-c56e-b27e83c68974"
      },
      "execution_count": null,
      "outputs": [
        {
          "output_type": "stream",
          "name": "stdout",
          "text": [
            "RMSE :  6.576594502960622\n"
          ]
        }
      ]
    },
    {
      "cell_type": "code",
      "source": [],
      "metadata": {
        "id": "EBGUwc-5VzI2"
      },
      "execution_count": null,
      "outputs": []
    }
  ],
  "metadata": {
    "kernelspec": {
      "display_name": "Python 3",
      "language": "python",
      "name": "python3"
    },
    "language_info": {
      "codemirror_mode": {
        "name": "ipython",
        "version": 3
      },
      "file_extension": ".py",
      "mimetype": "text/x-python",
      "name": "python",
      "nbconvert_exporter": "python",
      "pygments_lexer": "ipython3",
      "version": "3.5.2"
    },
    "colab": {
      "provenance": []
    }
  },
  "nbformat": 4,
  "nbformat_minor": 0
}