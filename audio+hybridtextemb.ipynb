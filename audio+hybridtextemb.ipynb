{
  "nbformat": 4,
  "nbformat_minor": 0,
  "metadata": {
    "colab": {
      "provenance": []
    },
    "kernelspec": {
      "name": "python3",
      "display_name": "Python 3"
    },
    "language_info": {
      "name": "python"
    }
  },
  "cells": [
    {
      "cell_type": "code",
      "execution_count": null,
      "metadata": {
        "id": "Fv8JPRwZN0rl"
      },
      "outputs": [],
      "source": []
    },
    {
      "cell_type": "code",
      "execution_count": null,
      "metadata": {
        "colab": {
          "base_uri": "https://localhost:8080/"
        },
        "id": "19ICcBtgwQ7n",
        "outputId": "1378daf9-db65-4d77-dbf9-99e65280da8c"
      },
      "outputs": [
        {
          "output_type": "stream",
          "name": "stdout",
          "text": [
            "(108, 82) (108,)\n"
          ]
        }
      ],
      "source": [
        "import pandas as pd\n",
        "import numpy as np\n",
        "import pickle\n",
        "\n",
        "import itertools\n",
        "import xgboost as xgb\n",
        "from sklearn.svm import LinearSVC\n",
        "from sklearn import metrics\n",
        "import matplotlib.pyplot as plt\n",
        "from sklearn.naive_bayes import MultinomialNB\n",
        "from sklearn.neural_network import MLPClassifier\n",
        "from sklearn.linear_model import LogisticRegression\n",
        "from sklearn.ensemble import RandomForestClassifier\n",
        "from sklearn.model_selection import train_test_split\n",
        "from sklearn.feature_selection import SelectFromModel\n",
        "from sklearn.feature_extraction.text import CountVectorizer\n",
        "\n",
        "from sklearn.feature_extraction.text import TfidfTransformer, TfidfVectorizer\n",
        "from sklearn.metrics import confusion_matrix, f1_score, accuracy_score, precision_score, recall_score\n",
        "\n",
        "import matplotlib\n",
        "from sklearn.linear_model import LogisticRegression\n",
        "from sklearn.neural_network import MLPClassifier\n",
        "from sklearn.decomposition import PCA\n",
        "from sklearn.manifold import TSNE\n",
        "from sklearn.preprocessing import MinMaxScaler, OneHotEncoder\n",
        "from sklearn.utils.class_weight import compute_class_weight\n",
        "\n",
        "from IPython.display import display\n",
        "import matplotlib.pyplot as plt\n",
        "import seaborn as sns\n",
        "\n",
        "\n",
        "\n",
        "x_train_audio = pd.read_csv('/content/drive/MyDrive/MFCCDeltaFeatures.csv')\n",
        "\n",
        "\n",
        "xtrainaudiofull=pd.read_csv('/content/drive/MyDrive/MFCCDeltaFeaturestrain.csv')\n",
        "y_train_audio = xtrainaudiofull['label']\n",
        "\n",
        "\n",
        "y_train = y_train_audio  \n",
        "\n",
        "print(x_train_audio.shape, y_train_audio.shape)"
      ]
    },
    {
      "cell_type": "code",
      "source": [
        "x_train_audio"
      ],
      "metadata": {
        "colab": {
          "base_uri": "https://localhost:8080/",
          "height": 679
        },
        "id": "7-E3_9b5R02g",
        "outputId": "df0f4057-a8de-484b-f80f-b71f2ceca447"
      },
      "execution_count": null,
      "outputs": [
        {
          "output_type": "execute_result",
          "data": {
            "text/plain": [
              "     Unnamed: 0                                          file_name      mfcc0  \\\n",
              "0             0  /content/drive/MyDrive/ADReSS-IS2020-train/ADR... -460.90607   \n",
              "1             1  /content/drive/MyDrive/ADReSS-IS2020-train/ADR... -639.86945   \n",
              "2             2  /content/drive/MyDrive/ADReSS-IS2020-train/ADR... -431.11642   \n",
              "3             3  /content/drive/MyDrive/ADReSS-IS2020-train/ADR... -429.46110   \n",
              "4             4  /content/drive/MyDrive/ADReSS-IS2020-train/ADR... -662.18567   \n",
              "..          ...                                                ...        ...   \n",
              "103         103  /content/drive/MyDrive/ADReSS-IS2020-train/ADR... -257.00696   \n",
              "104         104  /content/drive/MyDrive/ADReSS-IS2020-train/ADR... -384.31482   \n",
              "105         105  /content/drive/MyDrive/ADReSS-IS2020-train/ADR... -401.28894   \n",
              "106         106  /content/drive/MyDrive/ADReSS-IS2020-train/ADR... -411.27524   \n",
              "107         107  /content/drive/MyDrive/ADReSS-IS2020-train/ADR... -396.82874   \n",
              "\n",
              "     mfcc_delta_0       mfcc1  mfcc_delta_1      mfcc2  mfcc_delta_2  \\\n",
              "0       -0.018794  106.734184     -0.001240  19.644960      0.001848   \n",
              "1        0.043816   26.613937      0.022380  14.082454      0.010468   \n",
              "2       -0.034949   93.799420     -0.002451  12.218521      0.021432   \n",
              "3       -0.035754   94.118750     -0.024255  11.154120      0.007485   \n",
              "4       -0.019101   30.167618     -0.006534   8.654386      0.006215   \n",
              "..            ...         ...           ...        ...           ...   \n",
              "103      0.005968  165.744890      0.066067  11.250540      0.068997   \n",
              "104      0.246331  119.023470     -0.011250  10.822275     -0.051819   \n",
              "105     -0.020932   82.869350      0.016101   7.984150      0.005254   \n",
              "106      0.002620   88.563995      0.011765   8.849334      0.009350   \n",
              "107     -0.008323   68.971510     -0.013151  19.154013     -0.011199   \n",
              "\n",
              "         mfcc3  mfcc_delta_3  ...    mfcc35  mfcc_delta_35    mfcc36  \\\n",
              "0    12.897753      0.001396  ... -3.188853       0.001488 -3.223350   \n",
              "1    12.126171      0.008678  ...  0.846052      -0.000148  1.175525   \n",
              "2     0.382562      0.002659  ...  2.838116       0.001317  3.085031   \n",
              "3     3.756388      0.008959  ...  1.686478      -0.000933  1.807249   \n",
              "4     5.094745      0.002016  ... -1.106185       0.001780 -0.842622   \n",
              "..         ...           ...  ...       ...            ...       ...   \n",
              "103   4.709266      0.012074  ... -4.198981       0.009107 -4.751925   \n",
              "104  10.476232      0.019245  ... -1.476437       0.005702 -2.167106   \n",
              "105   6.798459     -0.024294  ...  0.939390      -0.004008  2.348096   \n",
              "106  16.664940     -0.009155  ... -0.437249       0.004563  0.684672   \n",
              "107  11.984971     -0.004477  ...  1.123712       0.000526  0.654731   \n",
              "\n",
              "     mfcc_delta_36    mfcc37  mfcc_delta_37    mfcc38  mfcc_delta_38  \\\n",
              "0         0.001349 -3.295188       0.000805 -2.960966       0.000398   \n",
              "1         0.002494  1.431465       0.002802  1.537133       0.001584   \n",
              "2         0.000482  3.389264       0.000252  3.557967       0.001019   \n",
              "3        -0.002869  1.959160      -0.003992  2.679396      -0.001729   \n",
              "4         0.000748 -0.551393       0.001366 -0.836118       0.003177   \n",
              "..             ...       ...            ...       ...            ...   \n",
              "103      -0.000737 -5.169671      -0.003658 -5.064559       0.000765   \n",
              "104       0.006980 -1.114018       0.007121 -1.348118      -0.001763   \n",
              "105       0.001067  2.554813       0.000567  2.458925      -0.000944   \n",
              "106       0.000890  2.327295      -0.002550  5.003067      -0.001830   \n",
              "107      -0.000145  1.536792       0.000123  1.057296      -0.001654   \n",
              "\n",
              "       mfcc39  mfcc_delta_39  \n",
              "0   -2.589983       0.002936  \n",
              "1    1.515576      -0.000201  \n",
              "2    3.429221       0.000965  \n",
              "3    3.962038       0.000331  \n",
              "4   -0.959681      -0.000054  \n",
              "..        ...            ...  \n",
              "103 -4.110144       0.004907  \n",
              "104 -2.191198      -0.011943  \n",
              "105  2.620968      -0.000572  \n",
              "106  4.178454      -0.001274  \n",
              "107  1.359341      -0.001028  \n",
              "\n",
              "[108 rows x 82 columns]"
            ],
            "text/html": [
              "\n",
              "  <div id=\"df-f4fe62a8-8b8b-429d-aee9-109a01b9eb69\">\n",
              "    <div class=\"colab-df-container\">\n",
              "      <div>\n",
              "<style scoped>\n",
              "    .dataframe tbody tr th:only-of-type {\n",
              "        vertical-align: middle;\n",
              "    }\n",
              "\n",
              "    .dataframe tbody tr th {\n",
              "        vertical-align: top;\n",
              "    }\n",
              "\n",
              "    .dataframe thead th {\n",
              "        text-align: right;\n",
              "    }\n",
              "</style>\n",
              "<table border=\"1\" class=\"dataframe\">\n",
              "  <thead>\n",
              "    <tr style=\"text-align: right;\">\n",
              "      <th></th>\n",
              "      <th>Unnamed: 0</th>\n",
              "      <th>file_name</th>\n",
              "      <th>mfcc0</th>\n",
              "      <th>mfcc_delta_0</th>\n",
              "      <th>mfcc1</th>\n",
              "      <th>mfcc_delta_1</th>\n",
              "      <th>mfcc2</th>\n",
              "      <th>mfcc_delta_2</th>\n",
              "      <th>mfcc3</th>\n",
              "      <th>mfcc_delta_3</th>\n",
              "      <th>...</th>\n",
              "      <th>mfcc35</th>\n",
              "      <th>mfcc_delta_35</th>\n",
              "      <th>mfcc36</th>\n",
              "      <th>mfcc_delta_36</th>\n",
              "      <th>mfcc37</th>\n",
              "      <th>mfcc_delta_37</th>\n",
              "      <th>mfcc38</th>\n",
              "      <th>mfcc_delta_38</th>\n",
              "      <th>mfcc39</th>\n",
              "      <th>mfcc_delta_39</th>\n",
              "    </tr>\n",
              "  </thead>\n",
              "  <tbody>\n",
              "    <tr>\n",
              "      <th>0</th>\n",
              "      <td>0</td>\n",
              "      <td>/content/drive/MyDrive/ADReSS-IS2020-train/ADR...</td>\n",
              "      <td>-460.90607</td>\n",
              "      <td>-0.018794</td>\n",
              "      <td>106.734184</td>\n",
              "      <td>-0.001240</td>\n",
              "      <td>19.644960</td>\n",
              "      <td>0.001848</td>\n",
              "      <td>12.897753</td>\n",
              "      <td>0.001396</td>\n",
              "      <td>...</td>\n",
              "      <td>-3.188853</td>\n",
              "      <td>0.001488</td>\n",
              "      <td>-3.223350</td>\n",
              "      <td>0.001349</td>\n",
              "      <td>-3.295188</td>\n",
              "      <td>0.000805</td>\n",
              "      <td>-2.960966</td>\n",
              "      <td>0.000398</td>\n",
              "      <td>-2.589983</td>\n",
              "      <td>0.002936</td>\n",
              "    </tr>\n",
              "    <tr>\n",
              "      <th>1</th>\n",
              "      <td>1</td>\n",
              "      <td>/content/drive/MyDrive/ADReSS-IS2020-train/ADR...</td>\n",
              "      <td>-639.86945</td>\n",
              "      <td>0.043816</td>\n",
              "      <td>26.613937</td>\n",
              "      <td>0.022380</td>\n",
              "      <td>14.082454</td>\n",
              "      <td>0.010468</td>\n",
              "      <td>12.126171</td>\n",
              "      <td>0.008678</td>\n",
              "      <td>...</td>\n",
              "      <td>0.846052</td>\n",
              "      <td>-0.000148</td>\n",
              "      <td>1.175525</td>\n",
              "      <td>0.002494</td>\n",
              "      <td>1.431465</td>\n",
              "      <td>0.002802</td>\n",
              "      <td>1.537133</td>\n",
              "      <td>0.001584</td>\n",
              "      <td>1.515576</td>\n",
              "      <td>-0.000201</td>\n",
              "    </tr>\n",
              "    <tr>\n",
              "      <th>2</th>\n",
              "      <td>2</td>\n",
              "      <td>/content/drive/MyDrive/ADReSS-IS2020-train/ADR...</td>\n",
              "      <td>-431.11642</td>\n",
              "      <td>-0.034949</td>\n",
              "      <td>93.799420</td>\n",
              "      <td>-0.002451</td>\n",
              "      <td>12.218521</td>\n",
              "      <td>0.021432</td>\n",
              "      <td>0.382562</td>\n",
              "      <td>0.002659</td>\n",
              "      <td>...</td>\n",
              "      <td>2.838116</td>\n",
              "      <td>0.001317</td>\n",
              "      <td>3.085031</td>\n",
              "      <td>0.000482</td>\n",
              "      <td>3.389264</td>\n",
              "      <td>0.000252</td>\n",
              "      <td>3.557967</td>\n",
              "      <td>0.001019</td>\n",
              "      <td>3.429221</td>\n",
              "      <td>0.000965</td>\n",
              "    </tr>\n",
              "    <tr>\n",
              "      <th>3</th>\n",
              "      <td>3</td>\n",
              "      <td>/content/drive/MyDrive/ADReSS-IS2020-train/ADR...</td>\n",
              "      <td>-429.46110</td>\n",
              "      <td>-0.035754</td>\n",
              "      <td>94.118750</td>\n",
              "      <td>-0.024255</td>\n",
              "      <td>11.154120</td>\n",
              "      <td>0.007485</td>\n",
              "      <td>3.756388</td>\n",
              "      <td>0.008959</td>\n",
              "      <td>...</td>\n",
              "      <td>1.686478</td>\n",
              "      <td>-0.000933</td>\n",
              "      <td>1.807249</td>\n",
              "      <td>-0.002869</td>\n",
              "      <td>1.959160</td>\n",
              "      <td>-0.003992</td>\n",
              "      <td>2.679396</td>\n",
              "      <td>-0.001729</td>\n",
              "      <td>3.962038</td>\n",
              "      <td>0.000331</td>\n",
              "    </tr>\n",
              "    <tr>\n",
              "      <th>4</th>\n",
              "      <td>4</td>\n",
              "      <td>/content/drive/MyDrive/ADReSS-IS2020-train/ADR...</td>\n",
              "      <td>-662.18567</td>\n",
              "      <td>-0.019101</td>\n",
              "      <td>30.167618</td>\n",
              "      <td>-0.006534</td>\n",
              "      <td>8.654386</td>\n",
              "      <td>0.006215</td>\n",
              "      <td>5.094745</td>\n",
              "      <td>0.002016</td>\n",
              "      <td>...</td>\n",
              "      <td>-1.106185</td>\n",
              "      <td>0.001780</td>\n",
              "      <td>-0.842622</td>\n",
              "      <td>0.000748</td>\n",
              "      <td>-0.551393</td>\n",
              "      <td>0.001366</td>\n",
              "      <td>-0.836118</td>\n",
              "      <td>0.003177</td>\n",
              "      <td>-0.959681</td>\n",
              "      <td>-0.000054</td>\n",
              "    </tr>\n",
              "    <tr>\n",
              "      <th>...</th>\n",
              "      <td>...</td>\n",
              "      <td>...</td>\n",
              "      <td>...</td>\n",
              "      <td>...</td>\n",
              "      <td>...</td>\n",
              "      <td>...</td>\n",
              "      <td>...</td>\n",
              "      <td>...</td>\n",
              "      <td>...</td>\n",
              "      <td>...</td>\n",
              "      <td>...</td>\n",
              "      <td>...</td>\n",
              "      <td>...</td>\n",
              "      <td>...</td>\n",
              "      <td>...</td>\n",
              "      <td>...</td>\n",
              "      <td>...</td>\n",
              "      <td>...</td>\n",
              "      <td>...</td>\n",
              "      <td>...</td>\n",
              "      <td>...</td>\n",
              "    </tr>\n",
              "    <tr>\n",
              "      <th>103</th>\n",
              "      <td>103</td>\n",
              "      <td>/content/drive/MyDrive/ADReSS-IS2020-train/ADR...</td>\n",
              "      <td>-257.00696</td>\n",
              "      <td>0.005968</td>\n",
              "      <td>165.744890</td>\n",
              "      <td>0.066067</td>\n",
              "      <td>11.250540</td>\n",
              "      <td>0.068997</td>\n",
              "      <td>4.709266</td>\n",
              "      <td>0.012074</td>\n",
              "      <td>...</td>\n",
              "      <td>-4.198981</td>\n",
              "      <td>0.009107</td>\n",
              "      <td>-4.751925</td>\n",
              "      <td>-0.000737</td>\n",
              "      <td>-5.169671</td>\n",
              "      <td>-0.003658</td>\n",
              "      <td>-5.064559</td>\n",
              "      <td>0.000765</td>\n",
              "      <td>-4.110144</td>\n",
              "      <td>0.004907</td>\n",
              "    </tr>\n",
              "    <tr>\n",
              "      <th>104</th>\n",
              "      <td>104</td>\n",
              "      <td>/content/drive/MyDrive/ADReSS-IS2020-train/ADR...</td>\n",
              "      <td>-384.31482</td>\n",
              "      <td>0.246331</td>\n",
              "      <td>119.023470</td>\n",
              "      <td>-0.011250</td>\n",
              "      <td>10.822275</td>\n",
              "      <td>-0.051819</td>\n",
              "      <td>10.476232</td>\n",
              "      <td>0.019245</td>\n",
              "      <td>...</td>\n",
              "      <td>-1.476437</td>\n",
              "      <td>0.005702</td>\n",
              "      <td>-2.167106</td>\n",
              "      <td>0.006980</td>\n",
              "      <td>-1.114018</td>\n",
              "      <td>0.007121</td>\n",
              "      <td>-1.348118</td>\n",
              "      <td>-0.001763</td>\n",
              "      <td>-2.191198</td>\n",
              "      <td>-0.011943</td>\n",
              "    </tr>\n",
              "    <tr>\n",
              "      <th>105</th>\n",
              "      <td>105</td>\n",
              "      <td>/content/drive/MyDrive/ADReSS-IS2020-train/ADR...</td>\n",
              "      <td>-401.28894</td>\n",
              "      <td>-0.020932</td>\n",
              "      <td>82.869350</td>\n",
              "      <td>0.016101</td>\n",
              "      <td>7.984150</td>\n",
              "      <td>0.005254</td>\n",
              "      <td>6.798459</td>\n",
              "      <td>-0.024294</td>\n",
              "      <td>...</td>\n",
              "      <td>0.939390</td>\n",
              "      <td>-0.004008</td>\n",
              "      <td>2.348096</td>\n",
              "      <td>0.001067</td>\n",
              "      <td>2.554813</td>\n",
              "      <td>0.000567</td>\n",
              "      <td>2.458925</td>\n",
              "      <td>-0.000944</td>\n",
              "      <td>2.620968</td>\n",
              "      <td>-0.000572</td>\n",
              "    </tr>\n",
              "    <tr>\n",
              "      <th>106</th>\n",
              "      <td>106</td>\n",
              "      <td>/content/drive/MyDrive/ADReSS-IS2020-train/ADR...</td>\n",
              "      <td>-411.27524</td>\n",
              "      <td>0.002620</td>\n",
              "      <td>88.563995</td>\n",
              "      <td>0.011765</td>\n",
              "      <td>8.849334</td>\n",
              "      <td>0.009350</td>\n",
              "      <td>16.664940</td>\n",
              "      <td>-0.009155</td>\n",
              "      <td>...</td>\n",
              "      <td>-0.437249</td>\n",
              "      <td>0.004563</td>\n",
              "      <td>0.684672</td>\n",
              "      <td>0.000890</td>\n",
              "      <td>2.327295</td>\n",
              "      <td>-0.002550</td>\n",
              "      <td>5.003067</td>\n",
              "      <td>-0.001830</td>\n",
              "      <td>4.178454</td>\n",
              "      <td>-0.001274</td>\n",
              "    </tr>\n",
              "    <tr>\n",
              "      <th>107</th>\n",
              "      <td>107</td>\n",
              "      <td>/content/drive/MyDrive/ADReSS-IS2020-train/ADR...</td>\n",
              "      <td>-396.82874</td>\n",
              "      <td>-0.008323</td>\n",
              "      <td>68.971510</td>\n",
              "      <td>-0.013151</td>\n",
              "      <td>19.154013</td>\n",
              "      <td>-0.011199</td>\n",
              "      <td>11.984971</td>\n",
              "      <td>-0.004477</td>\n",
              "      <td>...</td>\n",
              "      <td>1.123712</td>\n",
              "      <td>0.000526</td>\n",
              "      <td>0.654731</td>\n",
              "      <td>-0.000145</td>\n",
              "      <td>1.536792</td>\n",
              "      <td>0.000123</td>\n",
              "      <td>1.057296</td>\n",
              "      <td>-0.001654</td>\n",
              "      <td>1.359341</td>\n",
              "      <td>-0.001028</td>\n",
              "    </tr>\n",
              "  </tbody>\n",
              "</table>\n",
              "<p>108 rows × 82 columns</p>\n",
              "</div>\n",
              "      <button class=\"colab-df-convert\" onclick=\"convertToInteractive('df-f4fe62a8-8b8b-429d-aee9-109a01b9eb69')\"\n",
              "              title=\"Convert this dataframe to an interactive table.\"\n",
              "              style=\"display:none;\">\n",
              "        \n",
              "  <svg xmlns=\"http://www.w3.org/2000/svg\" height=\"24px\"viewBox=\"0 0 24 24\"\n",
              "       width=\"24px\">\n",
              "    <path d=\"M0 0h24v24H0V0z\" fill=\"none\"/>\n",
              "    <path d=\"M18.56 5.44l.94 2.06.94-2.06 2.06-.94-2.06-.94-.94-2.06-.94 2.06-2.06.94zm-11 1L8.5 8.5l.94-2.06 2.06-.94-2.06-.94L8.5 2.5l-.94 2.06-2.06.94zm10 10l.94 2.06.94-2.06 2.06-.94-2.06-.94-.94-2.06-.94 2.06-2.06.94z\"/><path d=\"M17.41 7.96l-1.37-1.37c-.4-.4-.92-.59-1.43-.59-.52 0-1.04.2-1.43.59L10.3 9.45l-7.72 7.72c-.78.78-.78 2.05 0 2.83L4 21.41c.39.39.9.59 1.41.59.51 0 1.02-.2 1.41-.59l7.78-7.78 2.81-2.81c.8-.78.8-2.07 0-2.86zM5.41 20L4 18.59l7.72-7.72 1.47 1.35L5.41 20z\"/>\n",
              "  </svg>\n",
              "      </button>\n",
              "      \n",
              "  <style>\n",
              "    .colab-df-container {\n",
              "      display:flex;\n",
              "      flex-wrap:wrap;\n",
              "      gap: 12px;\n",
              "    }\n",
              "\n",
              "    .colab-df-convert {\n",
              "      background-color: #E8F0FE;\n",
              "      border: none;\n",
              "      border-radius: 50%;\n",
              "      cursor: pointer;\n",
              "      display: none;\n",
              "      fill: #1967D2;\n",
              "      height: 32px;\n",
              "      padding: 0 0 0 0;\n",
              "      width: 32px;\n",
              "    }\n",
              "\n",
              "    .colab-df-convert:hover {\n",
              "      background-color: #E2EBFA;\n",
              "      box-shadow: 0px 1px 2px rgba(60, 64, 67, 0.3), 0px 1px 3px 1px rgba(60, 64, 67, 0.15);\n",
              "      fill: #174EA6;\n",
              "    }\n",
              "\n",
              "    [theme=dark] .colab-df-convert {\n",
              "      background-color: #3B4455;\n",
              "      fill: #D2E3FC;\n",
              "    }\n",
              "\n",
              "    [theme=dark] .colab-df-convert:hover {\n",
              "      background-color: #434B5C;\n",
              "      box-shadow: 0px 1px 3px 1px rgba(0, 0, 0, 0.15);\n",
              "      filter: drop-shadow(0px 1px 2px rgba(0, 0, 0, 0.3));\n",
              "      fill: #FFFFFF;\n",
              "    }\n",
              "  </style>\n",
              "\n",
              "      <script>\n",
              "        const buttonEl =\n",
              "          document.querySelector('#df-f4fe62a8-8b8b-429d-aee9-109a01b9eb69 button.colab-df-convert');\n",
              "        buttonEl.style.display =\n",
              "          google.colab.kernel.accessAllowed ? 'block' : 'none';\n",
              "\n",
              "        async function convertToInteractive(key) {\n",
              "          const element = document.querySelector('#df-f4fe62a8-8b8b-429d-aee9-109a01b9eb69');\n",
              "          const dataTable =\n",
              "            await google.colab.kernel.invokeFunction('convertToInteractive',\n",
              "                                                     [key], {});\n",
              "          if (!dataTable) return;\n",
              "\n",
              "          const docLinkHtml = 'Like what you see? Visit the ' +\n",
              "            '<a target=\"_blank\" href=https://colab.research.google.com/notebooks/data_table.ipynb>data table notebook</a>'\n",
              "            + ' to learn more about interactive tables.';\n",
              "          element.innerHTML = '';\n",
              "          dataTable['output_type'] = 'display_data';\n",
              "          await google.colab.output.renderOutput(dataTable, element);\n",
              "          const docLink = document.createElement('div');\n",
              "          docLink.innerHTML = docLinkHtml;\n",
              "          element.appendChild(docLink);\n",
              "        }\n",
              "      </script>\n",
              "    </div>\n",
              "  </div>\n",
              "  "
            ]
          },
          "metadata": {},
          "execution_count": 31
        }
      ]
    },
    {
      "cell_type": "code",
      "source": [
        "x_test_audio = pd.read_csv('/content/drive/MyDrive/MFCCDeltaFeaturestestlabel.csv')\n",
        "\n",
        "\n",
        "xtestaudiofull=pd.read_csv('/content/drive/MyDrive/MFCCDeltaFeaturestestlabelsorder.csv')\n",
        "y_test_audio = xtestaudiofull['label']\n",
        "\n",
        "\n",
        "y_test = y_test_audio  \n",
        "\n",
        "print(x_test_audio.shape, y_test_audio.shape)"
      ],
      "metadata": {
        "colab": {
          "base_uri": "https://localhost:8080/"
        },
        "id": "SWwkVwYUAMNc",
        "outputId": "c544f8c2-f494-47e6-b534-1b8277bc897a"
      },
      "execution_count": null,
      "outputs": [
        {
          "output_type": "stream",
          "name": "stdout",
          "text": [
            "(48, 82) (48,)\n"
          ]
        }
      ]
    },
    {
      "cell_type": "code",
      "source": [
        "ytam=pd.read_csv('/content/drive/MyDrive/train108.csv')\n",
        "y_train_mmse=ytam['mmse']"
      ],
      "metadata": {
        "id": "0JgD5vv5Rci2"
      },
      "execution_count": null,
      "outputs": []
    },
    {
      "cell_type": "code",
      "source": [
        "ytestam=pd.read_csv('/content/drive/MyDrive/test108crct.csv')\n",
        "y_test_mmse=ytestam['mmse']"
      ],
      "metadata": {
        "id": "XcLn-i7fSHmQ"
      },
      "execution_count": null,
      "outputs": []
    },
    {
      "cell_type": "code",
      "source": [
        "y_test_mmse"
      ],
      "metadata": {
        "colab": {
          "base_uri": "https://localhost:8080/"
        },
        "id": "G7qdCzDJT4L-",
        "outputId": "6e615508-56c1-48a2-e36d-ca9164835dd7"
      },
      "execution_count": null,
      "outputs": [
        {
          "output_type": "execute_result",
          "data": {
            "text/plain": [
              "0     28\n",
              "1     29\n",
              "2     24\n",
              "3     30\n",
              "4     21\n",
              "5     15\n",
              "6     29\n",
              "7     28\n",
              "8     27\n",
              "9     26\n",
              "10    28\n",
              "11    23\n",
              "12    30\n",
              "13    17\n",
              "14    29\n",
              "15    30\n",
              "16    27\n",
              "17    30\n",
              "18    30\n",
              "19    10\n",
              "20    29\n",
              "21    17\n",
              "22    12\n",
              "23    30\n",
              "24    29\n",
              "25    19\n",
              "26    29\n",
              "27    18\n",
              "28    20\n",
              "29    20\n",
              "30    13\n",
              "31    22\n",
              "32    12\n",
              "33    24\n",
              "34    11\n",
              "35    26\n",
              "36    30\n",
              "37    28\n",
              "38    19\n",
              "39    30\n",
              "40    25\n",
              "41    30\n",
              "42    30\n",
              "43    18\n",
              "44    28\n",
              "45    23\n",
              "46    28\n",
              "47    27\n",
              "Name: mmse, dtype: int64"
            ]
          },
          "metadata": {},
          "execution_count": 7
        }
      ]
    },
    {
      "cell_type": "code",
      "source": [
        "y_train_mmse"
      ],
      "metadata": {
        "colab": {
          "base_uri": "https://localhost:8080/"
        },
        "id": "nwt7mX3XTkU4",
        "outputId": "039b94fa-e0eb-4f96-cb8f-abc6a385b23a"
      },
      "execution_count": null,
      "outputs": [
        {
          "output_type": "execute_result",
          "data": {
            "text/plain": [
              "0       30\n",
              "1       30\n",
              "2       29\n",
              "3       30\n",
              "4       30\n",
              "      ... \n",
              "103     20\n",
              "104     24\n",
              "105     12\n",
              "106     20\n",
              "107     13\n",
              "Name: mmse, Length: 108, dtype: object"
            ]
          },
          "metadata": {},
          "execution_count": 44
        }
      ]
    },
    {
      "cell_type": "code",
      "source": [
        "xtrainaudiofull=pd.read_csv('/content/drive/MyDrive/MFCCDeltaFeaturestrain.csv')\n",
        "y_train_audio = xtrainaudiofull['label']\n",
        "\n",
        "y_train = y_train_audio  "
      ],
      "metadata": {
        "id": "OPnMd9h23Wmv"
      },
      "execution_count": null,
      "outputs": []
    },
    {
      "cell_type": "code",
      "source": [
        "y_train_audio"
      ],
      "metadata": {
        "colab": {
          "base_uri": "https://localhost:8080/"
        },
        "id": "HtWmaQvPJgma",
        "outputId": "fa4e4311-0ca6-4239-bd62-f5b8e4928d9d"
      },
      "execution_count": null,
      "outputs": [
        {
          "output_type": "execute_result",
          "data": {
            "text/plain": [
              "0      0\n",
              "1      0\n",
              "2      0\n",
              "3      0\n",
              "4      0\n",
              "      ..\n",
              "103    1\n",
              "104    1\n",
              "105    1\n",
              "106    1\n",
              "107    1\n",
              "Name: label, Length: 108, dtype: int64"
            ]
          },
          "metadata": {},
          "execution_count": 10
        }
      ]
    },
    {
      "cell_type": "code",
      "source": [
        "y_train_text"
      ],
      "metadata": {
        "colab": {
          "base_uri": "https://localhost:8080/"
        },
        "id": "2XlyKklJJjvE",
        "outputId": "0d89297b-c251-4c22-e824-06156033a896"
      },
      "execution_count": null,
      "outputs": [
        {
          "output_type": "execute_result",
          "data": {
            "text/plain": [
              "array([0, 0, 0, 0, 0, 0, 0, 0, 0, 0, 0, 0, 0, 0, 0, 0, 0, 0, 0, 0, 0, 0,\n",
              "       0, 0, 0, 0, 0, 0, 0, 0, 0, 0, 0, 0, 0, 0, 0, 0, 0, 0, 0, 0, 0, 0,\n",
              "       0, 0, 0, 0, 0, 0, 0, 0, 0, 0, 1, 1, 1, 1, 1, 1, 1, 1, 1, 1, 1, 1,\n",
              "       1, 1, 1, 1, 1, 1, 1, 1, 1, 1, 1, 1, 1, 1, 1, 1, 1, 1, 1, 1, 1, 1,\n",
              "       1, 1, 1, 1, 1, 1, 1, 1, 1, 1, 1, 1, 1, 1, 1, 1, 1, 1, 1, 1])"
            ]
          },
          "metadata": {},
          "execution_count": 29
        }
      ]
    },
    {
      "cell_type": "code",
      "source": [
        "y_test_text"
      ],
      "metadata": {
        "colab": {
          "base_uri": "https://localhost:8080/"
        },
        "id": "AfMTOixNZkpY",
        "outputId": "d25dfcef-2fff-4bf5-e193-1d642ed78dda"
      },
      "execution_count": null,
      "outputs": [
        {
          "output_type": "execute_result",
          "data": {
            "text/plain": [
              "array([0, 0, 1, 0, 1, 1, 0, 1, 1, 1, 0, 1, 0, 1, 0, 0, 1, 0, 0, 1, 0, 1,\n",
              "       1, 0, 0, 1, 0, 1, 1, 1, 1, 1, 1, 0, 1, 0, 0, 0, 1, 0, 1, 0, 0, 1,\n",
              "       0, 1, 0, 0])"
            ]
          },
          "metadata": {},
          "execution_count": 30
        }
      ]
    },
    {
      "cell_type": "code",
      "source": [
        "y_test_audio"
      ],
      "metadata": {
        "colab": {
          "base_uri": "https://localhost:8080/"
        },
        "id": "MgR51qz-ZeCk",
        "outputId": "ca392757-071c-49f2-8b95-952a69e7fe5f"
      },
      "execution_count": null,
      "outputs": [
        {
          "output_type": "execute_result",
          "data": {
            "text/plain": [
              "0     0\n",
              "1     0\n",
              "2     1\n",
              "3     0\n",
              "4     1\n",
              "5     1\n",
              "6     0\n",
              "7     1\n",
              "8     1\n",
              "9     1\n",
              "10    0\n",
              "11    1\n",
              "12    0\n",
              "13    1\n",
              "14    0\n",
              "15    0\n",
              "16    1\n",
              "17    0\n",
              "18    0\n",
              "19    1\n",
              "20    0\n",
              "21    1\n",
              "22    1\n",
              "23    0\n",
              "24    0\n",
              "25    1\n",
              "26    0\n",
              "27    1\n",
              "28    1\n",
              "29    1\n",
              "30    1\n",
              "31    1\n",
              "32    1\n",
              "33    0\n",
              "34    1\n",
              "35    0\n",
              "36    0\n",
              "37    0\n",
              "38    1\n",
              "39    0\n",
              "40    1\n",
              "41    0\n",
              "42    0\n",
              "43    1\n",
              "44    0\n",
              "45    1\n",
              "46    0\n",
              "47    0\n",
              "Name: label, dtype: int64"
            ]
          },
          "metadata": {},
          "execution_count": 13
        }
      ]
    },
    {
      "cell_type": "code",
      "source": [
        "y_test"
      ],
      "metadata": {
        "colab": {
          "base_uri": "https://localhost:8080/"
        },
        "id": "hUts49hEAsgg",
        "outputId": "6dba8786-e4da-43ae-f241-6e19b7ad0c7e"
      },
      "execution_count": null,
      "outputs": [
        {
          "output_type": "execute_result",
          "data": {
            "text/plain": [
              "0     0\n",
              "1     0\n",
              "2     1\n",
              "3     0\n",
              "4     1\n",
              "5     1\n",
              "6     0\n",
              "7     1\n",
              "8     1\n",
              "9     1\n",
              "10    0\n",
              "11    1\n",
              "12    0\n",
              "13    1\n",
              "14    0\n",
              "15    0\n",
              "16    1\n",
              "17    0\n",
              "18    0\n",
              "19    1\n",
              "20    0\n",
              "21    1\n",
              "22    1\n",
              "23    0\n",
              "24    0\n",
              "25    1\n",
              "26    0\n",
              "27    1\n",
              "28    1\n",
              "29    1\n",
              "30    1\n",
              "31    1\n",
              "32    1\n",
              "33    0\n",
              "34    1\n",
              "35    0\n",
              "36    0\n",
              "37    0\n",
              "38    1\n",
              "39    0\n",
              "40    1\n",
              "41    0\n",
              "42    0\n",
              "43    1\n",
              "44    0\n",
              "45    1\n",
              "46    0\n",
              "47    0\n",
              "Name: label, dtype: int64"
            ]
          },
          "metadata": {},
          "execution_count": 14
        }
      ]
    },
    {
      "cell_type": "code",
      "source": [
        "y_train"
      ],
      "metadata": {
        "colab": {
          "base_uri": "https://localhost:8080/"
        },
        "id": "DAixLe0q23Se",
        "outputId": "81bb8d5b-fdcf-4579-e742-50d173cf1066"
      },
      "execution_count": null,
      "outputs": [
        {
          "output_type": "execute_result",
          "data": {
            "text/plain": [
              "0      0\n",
              "1      0\n",
              "2      0\n",
              "3      0\n",
              "4      0\n",
              "      ..\n",
              "103    1\n",
              "104    1\n",
              "105    1\n",
              "106    1\n",
              "107    1\n",
              "Name: label, Length: 108, dtype: int64"
            ]
          },
          "metadata": {},
          "execution_count": 15
        }
      ]
    },
    {
      "cell_type": "code",
      "source": [],
      "metadata": {
        "id": "M0QIVe6fzs1i"
      },
      "execution_count": null,
      "outputs": []
    },
    {
      "cell_type": "code",
      "source": [
        "from google.colab import drive\n",
        "drive.mount('/content/drive')"
      ],
      "metadata": {
        "colab": {
          "base_uri": "https://localhost:8080/"
        },
        "id": "bDqXDzKiwThg",
        "outputId": "201caeb2-ac09-4cfd-f63e-c23a1a4d5deb"
      },
      "execution_count": null,
      "outputs": [
        {
          "output_type": "stream",
          "name": "stdout",
          "text": [
            "Mounted at /content/drive\n"
          ]
        }
      ]
    },
    {
      "cell_type": "code",
      "execution_count": null,
      "metadata": {
        "id": "5kBXaD9YwQ7q"
      },
      "outputs": [],
      "source": [
        "ad_dict = {'NON-AD': 0,\n",
        "                'AD': 1}\n",
        "\n",
        "ad_keys = list(['NON-AD', 'AD'])\n",
        "\n",
        "\n",
        "def plot_confusion_matrix(cm, classes,\n",
        "                          normalize=False,\n",
        "                          title='Confusion matrix',\n",
        "                          cmap=plt.cm.Blues):\n",
        "    \n",
        "    plt.imshow(cm, interpolation='nearest', cmap=cmap)\n",
        "    plt.title(title)\n",
        "    plt.colorbar()\n",
        "    tick_marks = np.arange(len(classes))\n",
        "    plt.xticks(tick_marks, classes, rotation=45)\n",
        "    plt.yticks(tick_marks, classes)\n",
        "\n",
        "    if normalize:\n",
        "        cm = cm.astype('float') / cm.sum(axis=1)[:, np.newaxis]\n",
        "        print(\"Normalized confusion matrix\")\n",
        "    else:\n",
        "        print('Confusion matrix')\n",
        "\n",
        "    print(cm)\n",
        "\n",
        "    thresh = cm.max() / 2.\n",
        "    for i, j in itertools.product(range(cm.shape[0]), range(cm.shape[1])):\n",
        "        plt.text(j, i, cm[i, j],\n",
        "                 horizontalalignment=\"center\",\n",
        "                 color=\"white\" if cm[i, j] > thresh else \"black\")\n",
        "\n",
        "    plt.tight_layout()\n",
        "    plt.ylabel('True label')\n",
        "    plt.xlabel('Predicted label')\n",
        "    \n",
        "def one_hot_encoder(true_labels, num_records, num_classes):\n",
        "    temp = np.array(true_labels[:num_records])\n",
        "    true_labels = np.zeros((num_records, num_classes))\n",
        "    true_labels[np.arange(num_records), temp] = 1\n",
        "    return true_labels\n",
        "\n",
        "def display_results(y_test, pred_probs, cm=True):\n",
        "    pred = np.argmax(pred_probs, axis=-1)\n",
        "    one_hot_true = one_hot_encoder(y_test, len(pred), len(ad_dict))\n",
        "    print('Test Set Accuracy =  {0:.3f}'.format(accuracy_score(y_test, pred)))\n",
        "    print('Test Set F1-score =  {0:.3f}'.format(f1_score(y_test, pred, average='macro')))\n",
        "    print('Test Set Precision =  {0:.3f}'.format(precision_score(y_test, pred, average='macro')))\n",
        "    print('Test Set Recall =  {0:.3f}'.format(recall_score(y_test, pred, average='macro')))\n",
        "    if cm:\n",
        "        plot_confusion_matrix(confusion_matrix(y_test, pred), classes=ad_keys)"
      ]
    },
    {
      "cell_type": "markdown",
      "metadata": {
        "id": "-pMa-qSDwQ7r"
      },
      "source": [
        "## Get Text Features"
      ]
    },
    {
      "cell_type": "code",
      "source": [
        "from numpy import load\n",
        "\n",
        "x_train_text = load('/content/drive/MyDrive/fasttext+bert.npy')\n",
        "y_train_text = load('/content/drive/MyDrive/labelstext_train.npy')\n",
        "print(x_train_text.shape, y_train_text.shape)"
      ],
      "metadata": {
        "colab": {
          "base_uri": "https://localhost:8080/"
        },
        "id": "ImeWhn33z-Lx",
        "outputId": "57e0cdeb-21a3-4a55-f94f-7680dac343f0"
      },
      "execution_count": null,
      "outputs": [
        {
          "output_type": "stream",
          "name": "stdout",
          "text": [
            "(108, 1068) (108,)\n"
          ]
        }
      ]
    },
    {
      "cell_type": "code",
      "source": [
        "y_train_text"
      ],
      "metadata": {
        "colab": {
          "base_uri": "https://localhost:8080/"
        },
        "id": "uYllyB6AKIbi",
        "outputId": "5fb58c29-d82c-44e4-9020-a240226b9bd3"
      },
      "execution_count": null,
      "outputs": [
        {
          "output_type": "execute_result",
          "data": {
            "text/plain": [
              "array([0, 0, 0, 0, 0, 0, 0, 0, 0, 0, 0, 0, 0, 0, 0, 0, 0, 0, 0, 0, 0, 0,\n",
              "       0, 0, 0, 0, 0, 0, 0, 0, 0, 0, 0, 0, 0, 0, 0, 0, 0, 0, 0, 0, 0, 0,\n",
              "       0, 0, 0, 0, 0, 0, 0, 0, 0, 0, 1, 1, 1, 1, 1, 1, 1, 1, 1, 1, 1, 1,\n",
              "       1, 1, 1, 1, 1, 1, 1, 1, 1, 1, 1, 1, 1, 1, 1, 1, 1, 1, 1, 1, 1, 1,\n",
              "       1, 1, 1, 1, 1, 1, 1, 1, 1, 1, 1, 1, 1, 1, 1, 1, 1, 1, 1, 1])"
            ]
          },
          "metadata": {},
          "execution_count": 21
        }
      ]
    },
    {
      "cell_type": "code",
      "source": [
        "\n",
        "\n",
        "x_test_text = load('/content/drive/MyDrive/fasttext+bert_test.npy')\n",
        "y_test_text = load('/content/drive/MyDrive/labeltext_test.npy')\n",
        "print(x_test_text.shape, y_test_text.shape)\n"
      ],
      "metadata": {
        "colab": {
          "base_uri": "https://localhost:8080/"
        },
        "id": "0lUVmlOQY7be",
        "outputId": "356d5bb1-e70a-47f6-ecca-00b5b3cee5bd"
      },
      "execution_count": null,
      "outputs": [
        {
          "output_type": "stream",
          "name": "stdout",
          "text": [
            "(48, 1068) (48,)\n"
          ]
        }
      ]
    },
    {
      "cell_type": "code",
      "source": [
        "y_test=y_test_text"
      ],
      "metadata": {
        "id": "SDErIszFKacL"
      },
      "execution_count": null,
      "outputs": []
    },
    {
      "cell_type": "code",
      "source": [
        "import numpy\n",
        "numpy.array_equal(y_test_text,y_test_audio, equal_nan=False)"
      ],
      "metadata": {
        "colab": {
          "base_uri": "https://localhost:8080/"
        },
        "id": "j28CdxrbJGLM",
        "outputId": "d3c51f4c-c89b-433b-ce2d-e4a61e815b02"
      },
      "execution_count": null,
      "outputs": [
        {
          "output_type": "execute_result",
          "data": {
            "text/plain": [
              "True"
            ]
          },
          "metadata": {},
          "execution_count": 26
        }
      ]
    },
    {
      "cell_type": "code",
      "source": [
        "import numpy\n",
        "numpy.array_equal(y_train_text,y_train_audio, equal_nan=False)"
      ],
      "metadata": {
        "colab": {
          "base_uri": "https://localhost:8080/"
        },
        "id": "In9wF2RDJRDd",
        "outputId": "38ab37eb-ae9b-4225-c398-f8cbaf556eda"
      },
      "execution_count": null,
      "outputs": [
        {
          "output_type": "execute_result",
          "data": {
            "text/plain": [
              "True"
            ]
          },
          "metadata": {},
          "execution_count": 27
        }
      ]
    },
    {
      "cell_type": "markdown",
      "metadata": {
        "id": "613Qz-m4wQ7s"
      },
      "source": [
        "## Combine Text + Audio Features"
      ]
    },
    {
      "cell_type": "code",
      "execution_count": null,
      "metadata": {
        "colab": {
          "base_uri": "https://localhost:8080/"
        },
        "id": "n2btdvjrwQ7t",
        "outputId": "8d8e1d08-0b27-41e0-b169-56c22a311038"
      },
      "outputs": [
        {
          "output_type": "stream",
          "name": "stdout",
          "text": [
            "(108, 1148)\n"
          ]
        }
      ],
      "source": [
        "combinedxtrain = np.concatenate((np.array(x_train_audio[x_train_audio.columns[2:]]), x_train_text), axis=1)\n",
        "combinedxtest = np.concatenate((np.array(x_test_audio[x_test_audio.columns[2:]]), x_test_text), axis=1)\n",
        "\n",
        "print(combinedxtrain.shape)\n",
        "\n",
        "combined_features_dict = {}\n",
        "\n",
        "combined_features_dict['x_train'] = combinedxtrain\n",
        "combined_features_dict['x_test'] = combinedxtest\n",
        "combined_features_dict['y_train'] = np.array(y_train)\n",
        "combined_features_dict['y_test'] = np.array(y_test)\n",
        "\n"
      ]
    },
    {
      "cell_type": "code",
      "source": [
        "y_train"
      ],
      "metadata": {
        "colab": {
          "base_uri": "https://localhost:8080/"
        },
        "id": "0_nLhBtH3lcs",
        "outputId": "448c41be-0771-4810-be01-009a0e280acd"
      },
      "execution_count": null,
      "outputs": [
        {
          "output_type": "execute_result",
          "data": {
            "text/plain": [
              "0      0\n",
              "1      0\n",
              "2      0\n",
              "3      0\n",
              "4      0\n",
              "      ..\n",
              "103    1\n",
              "104    1\n",
              "105    1\n",
              "106    1\n",
              "107    1\n",
              "Name: label, Length: 108, dtype: int64"
            ]
          },
          "metadata": {},
          "execution_count": 32
        }
      ]
    },
    {
      "cell_type": "code",
      "source": [
        "rf_classifier = RandomForestClassifier(n_estimators=600, min_samples_split=25)\n",
        "rf_classifier.fit(combinedxtrain, y_train)\n",
        "\n",
        "pred_probs = rf_classifier.predict_proba(combinedxtest)\n",
        "display_results(y_test, pred_probs)"
      ],
      "metadata": {
        "colab": {
          "base_uri": "https://localhost:8080/",
          "height": 432
        },
        "id": "RGlUOF0LL3It",
        "outputId": "5e3caeb9-a1bf-4f91-9c90-63c63df20f59"
      },
      "execution_count": null,
      "outputs": [
        {
          "output_type": "stream",
          "name": "stdout",
          "text": [
            "Test Set Accuracy =  0.812\n",
            "Test Set F1-score =  0.810\n",
            "Test Set Precision =  0.827\n",
            "Test Set Recall =  0.812\n",
            "Confusion matrix\n",
            "[[22  2]\n",
            " [ 7 17]]\n"
          ]
        },
        {
          "output_type": "display_data",
          "data": {
            "text/plain": [
              "<Figure size 432x288 with 2 Axes>"
            ],
            "image/png": "[encoded data removed]"
          },
          "metadata": {
            "needs_background": "light"
          }
        }
      ]
    },
    {
      "cell_type": "code",
      "source": [
        "pred_prob=[]\n",
        "\n",
        "\n",
        "for p in pred_probs:\n",
        "   pred_prob.append(max(p[0],p[1]))\n",
        "fpr, tpr, _ = metrics.roc_curve(y_test,  pred_prob)\n",
        "\n",
        "plt.plot(fpr,tpr)\n",
        "plt.ylabel('True Positive Rate')\n",
        "plt.xlabel('False Positive Rate')\n",
        "plt.show()"
      ],
      "metadata": {
        "colab": {
          "base_uri": "https://localhost:8080/",
          "height": 279
        },
        "id": "tMbQWJ70lSiZ",
        "outputId": "8c3a20e4-3edd-4ffc-e0e9-96b0fa0c8dcb"
      },
      "execution_count": null,
      "outputs": [
        {
          "output_type": "display_data",
          "data": {
            "text/plain": [
              "<Figure size 432x288 with 1 Axes>"
            ],
            "image/png": "[encoded data removed]"
          },
          "metadata": {
            "needs_background": "light"
          }
        }
      ]
    },
    {
      "cell_type": "code",
      "source": [
        "mlp_classifier = MLPClassifier(hidden_layer_sizes=(500, ), activation='relu', solver='adam', alpha=0.0001,\n",
        "                               batch_size='auto', learning_rate='adaptive', learning_rate_init=0.01,\n",
        "                               power_t=0.5, max_iter=1000, shuffle=True, random_state=None, tol=0.0001,\n",
        "                               verbose=False, warm_start=True, momentum=0.8, nesterovs_momentum=True,\n",
        "                               early_stopping=False, validation_fraction=0.1, beta_1=0.9, beta_2=0.999,\n",
        "                               epsilon=1e-08)\n",
        "\n",
        "mlp_classifier.fit(combinedxtrain, y_train)\n",
        "\n",
        "pred_probs = mlp_classifier.predict_proba(combinedxtest)\n",
        "\n",
        "display_results(y_test, pred_probs)"
      ],
      "metadata": {
        "colab": {
          "base_uri": "https://localhost:8080/",
          "height": 432
        },
        "id": "LS8uVP_wNzUR",
        "outputId": "af0d17d8-add2-476b-fb1e-4b88501db87c"
      },
      "execution_count": null,
      "outputs": [
        {
          "output_type": "stream",
          "name": "stdout",
          "text": [
            "Test Set Accuracy =  0.604\n",
            "Test Set F1-score =  0.547\n",
            "Test Set Precision =  0.709\n",
            "Test Set Recall =  0.604\n",
            "Confusion matrix\n",
            "[[ 6 18]\n",
            " [ 1 23]]\n"
          ]
        },
        {
          "output_type": "display_data",
          "data": {
            "text/plain": [
              "<Figure size 432x288 with 2 Axes>"
            ],
            "image/png": "[encoded data removed]"
          },
          "metadata": {
            "needs_background": "light"
          }
        }
      ]
    },
    {
      "cell_type": "code",
      "source": [
        "svc_classifier = LinearSVC()\n",
        "\n",
        "svc_classifier.fit(combinedxtrain, y_train)\n",
        "\n",
        "pred = svc_classifier.predict(combinedxtest)\n",
        "\n",
        "\n",
        "one_hot_true = one_hot_encoder(y_test, len(pred), len(ad_dict))\n",
        "print('Test Set Accuracy =  {0:.3f}'.format(accuracy_score(y_test, pred)))\n",
        "print('Test Set F-score =  {0:.3f}'.format(f1_score(y_test, pred, average='macro')))\n",
        "print('Test Set Precision =  {0:.3f}'.format(precision_score(y_test, pred, average='macro')))\n",
        "print('Test Set Recall =  {0:.3f}'.format(recall_score(y_test, pred, average='macro')))\n",
        "plot_confusion_matrix(confusion_matrix(y_test, pred), classes=ad_keys)\n"
      ],
      "metadata": {
        "colab": {
          "base_uri": "https://localhost:8080/",
          "height": 487
        },
        "id": "017vFdDYm-xL",
        "outputId": "c6b6221e-b53e-4b76-afaf-1a2e176d1320"
      },
      "execution_count": null,
      "outputs": [
        {
          "output_type": "stream",
          "name": "stderr",
          "text": [
            "/usr/local/lib/python3.7/dist-packages/sklearn/svm/_base.py:1208: ConvergenceWarning: Liblinear failed to converge, increase the number of iterations.\n",
            "  ConvergenceWarning,\n"
          ]
        },
        {
          "output_type": "stream",
          "name": "stdout",
          "text": [
            "Test Set Accuracy =  0.729\n",
            "Test Set F-score =  0.723\n",
            "Test Set Precision =  0.750\n",
            "Test Set Recall =  0.729\n",
            "Confusion matrix\n",
            "[[14 10]\n",
            " [ 3 21]]\n"
          ]
        },
        {
          "output_type": "display_data",
          "data": {
            "text/plain": [
              "<Figure size 432x288 with 2 Axes>"
            ],
            "image/png": "[encoded data removed]"
          },
          "metadata": {
            "needs_background": "light"
          }
        }
      ]
    },
    {
      "cell_type": "code",
      "source": [
        "lr_classifier = LogisticRegression(solver='lbfgs', multi_class='multinomial', max_iter=1000)\n",
        "\n",
        "lr_classifier.fit(combinedxtrain, y_train)\n",
        "\n",
        "pred_probs = lr_classifier.predict_proba(combinedxtest)\n",
        "\n",
        "display_results(y_test, pred_probs)"
      ],
      "metadata": {
        "colab": {
          "base_uri": "https://localhost:8080/",
          "height": 591
        },
        "id": "s2uRxaxxN-MX",
        "outputId": "24a5a7d0-1bb0-4ace-9b38-3f2375700a24"
      },
      "execution_count": null,
      "outputs": [
        {
          "output_type": "stream",
          "name": "stderr",
          "text": [
            "/usr/local/lib/python3.7/dist-packages/sklearn/linear_model/_logistic.py:818: ConvergenceWarning: lbfgs failed to converge (status=1):\n",
            "STOP: TOTAL NO. of ITERATIONS REACHED LIMIT.\n",
            "\n",
            "Increase the number of iterations (max_iter) or scale the data as shown in:\n",
            "    https://scikit-learn.org/stable/modules/preprocessing.html\n",
            "Please also refer to the documentation for alternative solver options:\n",
            "    https://scikit-learn.org/stable/modules/linear_model.html#logistic-regression\n",
            "  extra_warning_msg=_LOGISTIC_SOLVER_CONVERGENCE_MSG,\n"
          ]
        },
        {
          "output_type": "stream",
          "name": "stdout",
          "text": [
            "Test Set Accuracy =  0.792\n",
            "Test Set F1-score =  0.790\n",
            "Test Set Precision =  0.800\n",
            "Test Set Recall =  0.792\n",
            "Confusion matrix\n",
            "[[21  3]\n",
            " [ 7 17]]\n"
          ]
        },
        {
          "output_type": "display_data",
          "data": {
            "text/plain": [
              "<Figure size 432x288 with 2 Axes>"
            ],
            "image/png": "[encoded data removed]"
          },
          "metadata": {
            "needs_background": "light"
          }
        }
      ]
    },
    {
      "cell_type": "code",
      "source": [
        "xgb_classifier = xgb.XGBClassifier(max_depth=7, learning_rate=0.008, objective='multi:softprob', \n",
        "                                   n_estimators=600, sub_sample=0.8, num_class=len(ad_dict),\n",
        "                                   booster='gbtree', n_jobs=4)\n",
        "xgb_classifier.fit(combinedxtrain, y_train)\n",
        "pred_probs = xgb_classifier.predict_proba(combinedxtest)\n",
        "display_results(y_test, pred_probs)"
      ],
      "metadata": {
        "colab": {
          "base_uri": "https://localhost:8080/",
          "height": 432
        },
        "id": "IQJCgzjFoe3D",
        "outputId": "8dd57533-cfb7-4c66-f66d-64044d8d6eae"
      },
      "execution_count": null,
      "outputs": [
        {
          "output_type": "stream",
          "name": "stdout",
          "text": [
            "Test Set Accuracy =  0.792\n",
            "Test Set F1-score =  0.790\n",
            "Test Set Precision =  0.800\n",
            "Test Set Recall =  0.792\n",
            "Confusion matrix\n",
            "[[21  3]\n",
            " [ 7 17]]\n"
          ]
        },
        {
          "output_type": "display_data",
          "data": {
            "text/plain": [
              "<Figure size 432x288 with 2 Axes>"
            ],
            "image/png": "[encoded data removed]"
          },
          "metadata": {
            "needs_background": "light"
          }
        }
      ]
    },
    {
      "cell_type": "code",
      "source": [
        "pred_prob=[]\n",
        "\n",
        "for p in pred_probs:\n",
        "   pred_prob.append(max(p[0],p[1]))\n",
        "   "
      ],
      "metadata": {
        "id": "fLe5dMNNlob_"
      },
      "execution_count": null,
      "outputs": []
    },
    {
      "cell_type": "code",
      "source": [
        "\n",
        "y_pred_proba = lr_classifier.predict_proba(combinedxtest)[::,1]\n",
        "fpr, tpr, _ = metrics.roc_curve(y_test,  y_pred_proba)\n",
        "\n",
        "plt.plot(fpr,tpr)\n",
        "plt.ylabel('True Positive Rate')\n",
        "plt.xlabel('False Positive Rate')\n",
        "plt.show()"
      ],
      "metadata": {
        "colab": {
          "base_uri": "https://localhost:8080/",
          "height": 279
        },
        "id": "FefHnttnj08f",
        "outputId": "7ea574d5-fb4d-444b-810b-3cf6187d8568"
      },
      "execution_count": null,
      "outputs": [
        {
          "output_type": "display_data",
          "data": {
            "text/plain": [
              "<Figure size 432x288 with 1 Axes>"
            ],
            "image/png": "[encoded data removed]"
          },
          "metadata": {
            "needs_background": "light"
          }
        }
      ]
    },
    {
      "cell_type": "code",
      "source": [
        "pred_prob=[]\n",
        "\n",
        "\n",
        "for p in pred_probs:\n",
        "   pred_prob.append(max(p[0],p[1]))"
      ],
      "metadata": {
        "id": "lPD7l-HGog4r"
      },
      "execution_count": null,
      "outputs": []
    },
    {
      "cell_type": "markdown",
      "source": [
        "Regression"
      ],
      "metadata": {
        "id": "kz16nquDOWZq"
      }
    },
    {
      "cell_type": "code",
      "source": [
        "import numpy as np\n",
        "import pandas as pd\n",
        "import seaborn as sns\n",
        "import matplotlib.pyplot as plt\n",
        "from sklearn import preprocessing, svm\n",
        "from sklearn.model_selection import train_test_split\n",
        "from sklearn.linear_model import LinearRegression"
      ],
      "metadata": {
        "id": "dxhazRPbOXq_"
      },
      "execution_count": null,
      "outputs": []
    },
    {
      "cell_type": "code",
      "source": [
        "from sklearn.ensemble import RandomForestRegressor\n",
        "rf = RandomForestRegressor(n_estimators = 100, max_features = 'sqrt', max_depth = 5, random_state = 18).fit(combinedxtrain, y_train_mmse)\n",
        "y_pred=rf.predict(combinedxtest)\n",
        "from sklearn.metrics import mean_squared_error\n",
        "print(\"RMSE : \",np.sqrt(mean_squared_error(y_test_mmse,y_pred)))"
      ],
      "metadata": {
        "colab": {
          "base_uri": "https://localhost:8080/"
        },
        "id": "y8FD1HvNVJ4E",
        "outputId": "e33cb8d1-b77a-411a-a869-9c28f51c221c"
      },
      "execution_count": null,
      "outputs": [
        {
          "output_type": "stream",
          "name": "stdout",
          "text": [
            "RMSE :  4.703686667741241\n"
          ]
        }
      ]
    },
    {
      "cell_type": "code",
      "source": [
        "regr = LinearRegression()  \n",
        "regr.fit(combinedxtrain, y_train_mmse)\n",
        "y_pred=regr.predict(combinedxtest)\n",
        "from sklearn.metrics import mean_squared_error\n",
        "print(\"RMSE : \",np.sqrt(mean_squared_error(y_test_mmse,y_pred)))"
      ],
      "metadata": {
        "colab": {
          "base_uri": "https://localhost:8080/"
        },
        "id": "N3TVTILgUwbu",
        "outputId": "2a997fda-604c-47ec-b625-7a4499d5751d"
      },
      "execution_count": null,
      "outputs": [
        {
          "output_type": "stream",
          "name": "stdout",
          "text": [
            "RMSE :  5.862264178597664\n"
          ]
        }
      ]
    },
    {
      "cell_type": "code",
      "source": [],
      "metadata": {
        "id": "EBGUwc-5VzI2"
      },
      "execution_count": null,
      "outputs": []
    }
  ]
}