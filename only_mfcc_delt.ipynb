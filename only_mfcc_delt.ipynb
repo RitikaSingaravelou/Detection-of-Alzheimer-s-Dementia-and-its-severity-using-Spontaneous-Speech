{
  "nbformat": 4,
  "nbformat_minor": 0,
  "metadata": {
    "colab": {
      "provenance": []
    },
    "kernelspec": {
      "name": "python3",
      "display_name": "Python 3"
    },
    "language_info": {
      "name": "python"
    }
  },
  "cells": [
    {
      "cell_type": "code",
      "execution_count": null,
      "metadata": {
        "id": "CTlTo960e5AH"
      },
      "outputs": [],
      "source": []
    },
    {
      "cell_type": "code",
      "execution_count": null,
      "metadata": {
        "id": "UupGnNimNfgD"
      },
      "outputs": [],
      "source": [
        "import numpy as np\n",
        "import scipy as sp\n",
        "from scipy.stats import mode\n",
        "import pandas as pd\n",
        "import matplotlib.pyplot as plt\n",
        "from time import time\n",
        "\n",
        "import librosa\n",
        "import librosa.display\n",
        "\n",
        "from sklearn.preprocessing import StandardScaler\n",
        "from sklearn.decomposition import PCA\n",
        "from sklearn.neural_network import MLPClassifier\n",
        "from sklearn.model_selection import GridSearchCV\n",
        "from sklearn.metrics import classification_report\n",
        "from sklearn.ensemble import BaggingClassifier\n",
        "from sklearn import linear_model\n",
        "from sklearn.discriminant_analysis import LinearDiscriminantAnalysis\n",
        "from sklearn.svm import SVC"
      ]
    },
    {
      "cell_type": "code",
      "source": [
        "def load_sound_file(file_path):\n",
        "    X, sr = librosa.load(file_path, sr=None)\n",
        "    return X\n",
        "\n",
        "def extract_feature(file_name): # Late fusion\n",
        "    X, sample_rate = librosa.load(file_name, sr=None)\n",
        "    mfcc = librosa.feature.mfcc(y=X, sr=sample_rate, n_fft=4096, hop_length=4096, n_mfcc=n_mfcc).T\n",
        "    mfcc_delta = librosa.feature.delta(mfcc, width=5, order=1, trim=True)\n",
        "    return mfcc, mfcc_delta\n",
        "\n",
        "def parse_audio_files(file_names, file_labels):\n",
        "    features, features_delta, labels = np.empty((0,n_mfcc-1)), np.empty((0,n_mfcc)), np.empty(0)\n",
        "    for fn, fl in zip(file_names, file_labels):\n",
        "        try:\n",
        "            mfcc, mfcc_delta = extract_feature(fn)\n",
        "        except Exception as e:\n",
        "            print (\"Error encountered while parsing file: \", fn)\n",
        "            continue\n",
        "        features = np.vstack([features, mfcc])\n",
        "        features_delta = np.vstack([features_delta, mfcc_delta])\n",
        "        labels = np.append(labels, fl*np.ones(mfcc.shape[0]))\n",
        "    return np.array(features), np.array(features_delta), np.array(labels, dtype = np.int)\n",
        "\n",
        "def predict_proba(clf1, clf2, X_val):\n",
        "    pred_proba = np.empty((0,30))\n",
        "    for x in X_val:\n",
        "        x_mfcc, x_mfcc_delta = extract_feature(x)\n",
        "        y_pred_proba1 = np.sum(clf1.predict_proba(x_mfcc), axis=0).reshape(-1)\n",
        "        y_pred_proba2 = np.sum(clf2.predict_proba(x_mfcc_delta), axis=0).reshape(-1)\n",
        "        pred_proba = np.vstack([pred_proba,np.hstack([y_pred_proba1,y_pred_proba2])])\n",
        "        #print pred_proba.shape\n",
        "    return np.array(pred_proba, dtype=np.int)\n",
        "\n",
        "\n"
      ],
      "metadata": {
        "id": "o6uY6Mk4NiXW"
      },
      "execution_count": null,
      "outputs": []
    },
    {
      "cell_type": "code",
      "source": [
        "def plot_wave(title, raw_sound):\n",
        "    plt.close('all')\n",
        "    plt.figure(figsize=(20,6))\n",
        "    plt.title(title)\n",
        "    librosa.display.waveplot(np.array(raw_sound), sr=16000)\n",
        "    plt.show()\n",
        "    \n",
        "def plot_specgram(title,raw_sound):\n",
        "    plt.close('all')\n",
        "    plt.figure(figsize=(20,6))\n",
        "    plt.title(title)\n",
        "    plt.specgram(np.array(raw_sound), Fs=16000)\n",
        "    plt.show()\n",
        "\n",
        "def plot_log_power_specgram(title,raw_sound):\n",
        "    plt.close('all')\n",
        "    plt.figure(figsize=(20,6))\n",
        "    plt.title(title)\n",
        "    D = librosa.logamplitude(np.abs(librosa.stft(raw_sound))**2, ref_power=np.max)\n",
        "    librosa.display.specshow(D, x_axis='time' ,y_axis='log')\n",
        "    plt.specgram(np.array(f), Fs=16000)\n",
        "    plt.show()"
      ],
      "metadata": {
        "id": "MKcugHoGNxZ4"
      },
      "execution_count": null,
      "outputs": []
    },
    {
      "cell_type": "code",
      "source": [
        "from functools import partial\n",
        "from pathlib import Path\n",
        "from multiprocessing import Pool\n",
        "import os\n",
        "import shutil\n",
        "import numpy as np\n",
        "import pandas as pd\n",
        "import librosa\n",
        "from scipy.io import wavfile\n",
        "from tqdm import tqdm_notebook as tqdm\n",
        "import torch.nn.functional as F\n",
        "from fastai.basic_data import DatasetType\n"
      ],
      "metadata": {
        "id": "QtqGuli5NiP_"
      },
      "execution_count": null,
      "outputs": []
    },
    {
      "cell_type": "code",
      "source": [
        "DATA = Path('/content/drive/MyDrive/ADReSS-IS2020-train')\n",
        "NSYNTH_AUDIO = DATA/'ADReSS-IS2020-data'\n",
        "TRAIN_AUDIO_PATH = NSYNTH_AUDIO/'train/Full_wave_enhanced_audio/cd'\n",
        "TRAIN_AUDIO_PATH2 = NSYNTH_AUDIO/'train/Full_wave_enhanced_audio/cc'\n",
        "\n",
        "NSYNTH_IMAGES = DATA/'ADReSS2020_images'\n",
        "TRAIN_IMAGE_PATH = NSYNTH_IMAGES/'train'\n",
        "train_acoustic_fnames = [f.name for f in (TRAIN_AUDIO_PATH.iterdir())\n",
        "                         if 'S' in f.name]\n",
        "\n",
        "len(train_acoustic_fnames)"
      ],
      "metadata": {
        "colab": {
          "base_uri": "https://localhost:8080/"
        },
        "id": "9Q-4A4Z3NiM5",
        "outputId": "a05a148c-4850-4e30-e208-45a9bbbdf519"
      },
      "execution_count": null,
      "outputs": [
        {
          "output_type": "execute_result",
          "data": {
            "text/plain": [
              "54"
            ]
          },
          "metadata": {},
          "execution_count": 5
        }
      ]
    },
    {
      "cell_type": "code",
      "source": [
        "train_acoustic_fnames.append([f.name for f in (TRAIN_AUDIO_PATH2.iterdir())\n",
        "                         if 'S' in f.name])\n"
      ],
      "metadata": {
        "id": "2QP1DBKzTQiA"
      },
      "execution_count": null,
      "outputs": []
    },
    {
      "cell_type": "code",
      "source": [
        "fcd = [f.name for f in (TRAIN_AUDIO_PATH.iterdir())\n",
        "                         if 'S' in f.name]\n",
        "\n",
        "len(fcd)\n",
        "\n",
        "fcc = [f.name for f in (TRAIN_AUDIO_PATH2.iterdir())\n",
        "                         if 'S' in f.name]\n",
        "\n",
        "len(fcc)"
      ],
      "metadata": {
        "colab": {
          "base_uri": "https://localhost:8080/"
        },
        "id": "_YDnVwfsTvNV",
        "outputId": "0635bad9-5bfe-4535-bd5c-815144b479e4"
      },
      "execution_count": null,
      "outputs": [
        {
          "output_type": "execute_result",
          "data": {
            "text/plain": [
              "54"
            ]
          },
          "metadata": {},
          "execution_count": 7
        }
      ]
    },
    {
      "cell_type": "code",
      "source": [
        "len(fcc)"
      ],
      "metadata": {
        "colab": {
          "base_uri": "https://localhost:8080/"
        },
        "id": "9VqO_RIXUZU_",
        "outputId": "a20c79d7-a3ee-4aad-89a5-dc406cfd3368"
      },
      "execution_count": null,
      "outputs": [
        {
          "output_type": "execute_result",
          "data": {
            "text/plain": [
              "54"
            ]
          },
          "metadata": {},
          "execution_count": 8
        }
      ]
    },
    {
      "cell_type": "code",
      "source": [
        "train_fnames=[]\n",
        "for i in fcc:\n",
        "   train_fnames.append(i)\n",
        "for i in fcd:\n",
        "   train_fnames.append(i)"
      ],
      "metadata": {
        "id": "xhInTsTGU1Pr"
      },
      "execution_count": null,
      "outputs": []
    },
    {
      "cell_type": "code",
      "source": [
        "train_fnames"
      ],
      "metadata": {
        "colab": {
          "base_uri": "https://localhost:8080/"
        },
        "id": "JJnJXLAMVHwa",
        "outputId": "84b06fef-2820-41fc-883b-d7f2d71dc196"
      },
      "execution_count": null,
      "outputs": [
        {
          "output_type": "execute_result",
          "data": {
            "text/plain": [
              "['S001.wav',\n",
              " 'S002.wav',\n",
              " 'S003.wav',\n",
              " 'S004.wav',\n",
              " 'S005.wav',\n",
              " 'S006.wav',\n",
              " 'S007.wav',\n",
              " 'S009.wav',\n",
              " 'S011.wav',\n",
              " 'S012.wav',\n",
              " 'S013.wav',\n",
              " 'S015.wav',\n",
              " 'S016.wav',\n",
              " 'S017.wav',\n",
              " 'S018.wav',\n",
              " 'S019.wav',\n",
              " 'S020.wav',\n",
              " 'S021.wav',\n",
              " 'S024.wav',\n",
              " 'S025.wav',\n",
              " 'S027.wav',\n",
              " 'S028.wav',\n",
              " 'S029.wav',\n",
              " 'S030.wav',\n",
              " 'S032.wav',\n",
              " 'S033.wav',\n",
              " 'S034.wav',\n",
              " 'S035.wav',\n",
              " 'S036.wav',\n",
              " 'S038.wav',\n",
              " 'S039.wav',\n",
              " 'S040.wav',\n",
              " 'S041.wav',\n",
              " 'S043.wav',\n",
              " 'S048.wav',\n",
              " 'S049.wav',\n",
              " 'S051.wav',\n",
              " 'S052.wav',\n",
              " 'S055.wav',\n",
              " 'S056.wav',\n",
              " 'S058.wav',\n",
              " 'S059.wav',\n",
              " 'S061.wav',\n",
              " 'S062.wav',\n",
              " 'S063.wav',\n",
              " 'S064.wav',\n",
              " 'S067.wav',\n",
              " 'S068.wav',\n",
              " 'S070.wav',\n",
              " 'S071.wav',\n",
              " 'S072.wav',\n",
              " 'S073.wav',\n",
              " 'S076.wav',\n",
              " 'S077.wav',\n",
              " 'S079.wav',\n",
              " 'S080.wav',\n",
              " 'S081.wav',\n",
              " 'S082.wav',\n",
              " 'S083.wav',\n",
              " 'S084.wav',\n",
              " 'S086.wav',\n",
              " 'S087.wav',\n",
              " 'S089.wav',\n",
              " 'S090.wav',\n",
              " 'S092.wav',\n",
              " 'S093.wav',\n",
              " 'S094.wav',\n",
              " 'S095.wav',\n",
              " 'S096.wav',\n",
              " 'S097.wav',\n",
              " 'S100.wav',\n",
              " 'S101.wav',\n",
              " 'S103.wav',\n",
              " 'S104.wav',\n",
              " 'S107.wav',\n",
              " 'S108.wav',\n",
              " 'S110.wav',\n",
              " 'S111.wav',\n",
              " 'S114.wav',\n",
              " 'S116.wav',\n",
              " 'S118.wav',\n",
              " 'S122.wav',\n",
              " 'S124.wav',\n",
              " 'S125.wav',\n",
              " 'S126.wav',\n",
              " 'S127.wav',\n",
              " 'S128.wav',\n",
              " 'S129.wav',\n",
              " 'S130.wav',\n",
              " 'S132.wav',\n",
              " 'S135.wav',\n",
              " 'S136.wav',\n",
              " 'S137.wav',\n",
              " 'S138.wav',\n",
              " 'S139.wav',\n",
              " 'S140.wav',\n",
              " 'S141.wav',\n",
              " 'S142.wav',\n",
              " 'S143.wav',\n",
              " 'S144.wav',\n",
              " 'S145.wav',\n",
              " 'S148.wav',\n",
              " 'S149.wav',\n",
              " 'S150.wav',\n",
              " 'S151.wav',\n",
              " 'S153.wav',\n",
              " 'S154.wav',\n",
              " 'S156.wav']"
            ]
          },
          "metadata": {},
          "execution_count": 10
        }
      ]
    },
    {
      "cell_type": "code",
      "source": [
        "def read_file(filename, path='', sample_rate=None, trim=False):\n",
        "    filename = Path(path) / filename\n",
        "    file_sr, data = wavfile.read(filename)\n",
        "    if data.dtype == np.int16:\n",
        "        data = np.float32(data) / np.iinfo(np.int16).max\n",
        "    elif data.dtype != np.float32:\n",
        "        raise OSError('Encounted unexpected dtype: {}'.format(data.dtype))\n",
        "    if sample_rate is not None and sample_rate != file_sr:\n",
        "        if len(data) > 0:\n",
        "            data = librosa.core.resample(data, file_sr, sample_rate, res_type='kaiser_fast')\n",
        "        file_sr = sample_rate\n",
        "    if trim and len(data) > 1:\n",
        "        data = librosa.effects.trim(data, top_db=40)[0]\n",
        "    return data, file_sr"
      ],
      "metadata": {
        "id": "5WU-Q6VDPKIX"
      },
      "execution_count": null,
      "outputs": []
    },
    {
      "cell_type": "code",
      "source": [
        "def mfcc_extraction(fname, src_path):\n",
        "    #X, sample_rate = librosa.load(file_name, sr=None)\n",
        "    X, sample_rate = read_file(fname, src_path)\n",
        "    #mfcc = librosa.feature.mfcc(y=librosa.effects.harmonic(X), \n",
        "    #sr=sample_rate, n_fft=4096, hop_length=2048, n_mfcc=n_mfcc).T\n",
        "    mfcc = librosa.feature.mfcc(y=X, sr=sample_rate, n_fft=4096, hop_length=4096, n_mfcc=n_mfcc).T\n",
        "    mfcc_delta = librosa.feature.delta(mfcc, width=5, order=1)\n",
        "    mfcc_deltadelta = librosa.feature.delta(mfcc,width=5, order=2)\n",
        "    len(mfcc)\n",
        "    len(mfcc_delta)\n",
        "    return mfcc, mfcc_delta,mfcc_deltadelta \n",
        "    \n",
        "    \n",
        "    '''\n",
        "    x, sample_rate = read_file(fname, src_path)\n",
        "    \n",
        "    n_fft = 1024\n",
        "    hop_length = 256\n",
        "    n_mels = 40\n",
        "    fmin = 20\n",
        "    fmax = sample_rate / 2 \n",
        "    \n",
        "    mel_spec_power = librosa.feature.melspectrogram(x, sr=sample_rate, n_fft=n_fft, \n",
        "                                                    hop_length=hop_length, \n",
        "                                                    n_mels=n_mels, power=2.0, \n",
        "                                                    fmin=fmin, fmax=fmax)\n",
        "    mel_spec_db = librosa.power_to_db(mel_spec_power, ref=np.max)\n",
        "    dst_fname = dst_path / (fname[:-4] + '.png')\n",
        "    plt.imsave(dst_fname, mel_spec_db)\n",
        "    '''"
      ],
      "metadata": {
        "id": "bUJbwi56OyLm"
      },
      "execution_count": null,
      "outputs": []
    },
    {
      "cell_type": "code",
      "source": [
        "import glob\n",
        "import numpy as np\n",
        "control = glob.glob('/content/drive/MyDrive/ADReSS-IS2020-train/ADReSS-IS2020-data/train/Full_wave_enhanced_audio/cc/*.*')\n",
        "dementia = glob.glob('/content/drive/MyDrive/ADReSS-IS2020-train/ADReSS-IS2020-data/train/Full_wave_enhanced_audio/cd/*.*')\n",
        "\n",
        "import tensorflow as tf\n",
        "#data = []\n",
        "labels = []\n",
        "for i in control:   \n",
        "    labels.append('Control')\n",
        "for i in dementia:   \n",
        "    labels.append('Dementia')\n",
        "\n",
        "#train_data = np.array(data)\n",
        "#train_labels = np.array(labels)"
      ],
      "metadata": {
        "id": "S5NGIEouQb0r"
      },
      "execution_count": null,
      "outputs": []
    },
    {
      "cell_type": "code",
      "source": [],
      "metadata": {
        "id": "1hCY5IJUgLm1"
      },
      "execution_count": null,
      "outputs": []
    },
    {
      "cell_type": "code",
      "source": [
        "labels"
      ],
      "metadata": {
        "colab": {
          "base_uri": "https://localhost:8080/"
        },
        "id": "NT72UBU1VW28",
        "outputId": "86298da9-cea6-496c-cee4-14c19e0dbee7"
      },
      "execution_count": null,
      "outputs": [
        {
          "output_type": "execute_result",
          "data": {
            "text/plain": [
              "['Control',\n",
              " 'Control',\n",
              " 'Control',\n",
              " 'Control',\n",
              " 'Control',\n",
              " 'Control',\n",
              " 'Control',\n",
              " 'Control',\n",
              " 'Control',\n",
              " 'Control',\n",
              " 'Control',\n",
              " 'Control',\n",
              " 'Control',\n",
              " 'Control',\n",
              " 'Control',\n",
              " 'Control',\n",
              " 'Control',\n",
              " 'Control',\n",
              " 'Control',\n",
              " 'Control',\n",
              " 'Control',\n",
              " 'Control',\n",
              " 'Control',\n",
              " 'Control',\n",
              " 'Control',\n",
              " 'Control',\n",
              " 'Control',\n",
              " 'Control',\n",
              " 'Control',\n",
              " 'Control',\n",
              " 'Control',\n",
              " 'Control',\n",
              " 'Control',\n",
              " 'Control',\n",
              " 'Control',\n",
              " 'Control',\n",
              " 'Control',\n",
              " 'Control',\n",
              " 'Control',\n",
              " 'Control',\n",
              " 'Control',\n",
              " 'Control',\n",
              " 'Control',\n",
              " 'Control',\n",
              " 'Control',\n",
              " 'Control',\n",
              " 'Control',\n",
              " 'Control',\n",
              " 'Control',\n",
              " 'Control',\n",
              " 'Control',\n",
              " 'Control',\n",
              " 'Control',\n",
              " 'Control',\n",
              " 'Dementia',\n",
              " 'Dementia',\n",
              " 'Dementia',\n",
              " 'Dementia',\n",
              " 'Dementia',\n",
              " 'Dementia',\n",
              " 'Dementia',\n",
              " 'Dementia',\n",
              " 'Dementia',\n",
              " 'Dementia',\n",
              " 'Dementia',\n",
              " 'Dementia',\n",
              " 'Dementia',\n",
              " 'Dementia',\n",
              " 'Dementia',\n",
              " 'Dementia',\n",
              " 'Dementia',\n",
              " 'Dementia',\n",
              " 'Dementia',\n",
              " 'Dementia',\n",
              " 'Dementia',\n",
              " 'Dementia',\n",
              " 'Dementia',\n",
              " 'Dementia',\n",
              " 'Dementia',\n",
              " 'Dementia',\n",
              " 'Dementia',\n",
              " 'Dementia',\n",
              " 'Dementia',\n",
              " 'Dementia',\n",
              " 'Dementia',\n",
              " 'Dementia',\n",
              " 'Dementia',\n",
              " 'Dementia',\n",
              " 'Dementia',\n",
              " 'Dementia',\n",
              " 'Dementia',\n",
              " 'Dementia',\n",
              " 'Dementia',\n",
              " 'Dementia',\n",
              " 'Dementia',\n",
              " 'Dementia',\n",
              " 'Dementia',\n",
              " 'Dementia',\n",
              " 'Dementia',\n",
              " 'Dementia',\n",
              " 'Dementia',\n",
              " 'Dementia',\n",
              " 'Dementia',\n",
              " 'Dementia',\n",
              " 'Dementia',\n",
              " 'Dementia',\n",
              " 'Dementia',\n",
              " 'Dementia']"
            ]
          },
          "metadata": {},
          "execution_count": 16
        }
      ]
    },
    {
      "cell_type": "code",
      "source": [
        "labels_train = pd.factorize(labels)[0]"
      ],
      "metadata": {
        "id": "2wYGXO7Wlfbe"
      },
      "execution_count": null,
      "outputs": []
    },
    {
      "cell_type": "code",
      "source": [
        "labels_train"
      ],
      "metadata": {
        "colab": {
          "base_uri": "https://localhost:8080/"
        },
        "id": "OmfcCQi9lj8z",
        "outputId": "0b236c3b-d794-4923-da4b-08d06186d5c1"
      },
      "execution_count": null,
      "outputs": [
        {
          "output_type": "execute_result",
          "data": {
            "text/plain": [
              "array([0, 0, 0, 0, ..., 1, 1, 1, 1])"
            ]
          },
          "metadata": {},
          "execution_count": 15
        }
      ]
    },
    {
      "cell_type": "code",
      "source": [
        "train_labels = np.array(labels)\n",
        "import keras\n",
        "from sklearn import preprocessing\n",
        "lb = preprocessing.LabelEncoder()\n",
        "y_train=train_labels\n",
        "y_train = tf.keras.utils.to_categorical(lb.fit_transform(y_train))"
      ],
      "metadata": {
        "id": "vFOwshUBhK21"
      },
      "execution_count": null,
      "outputs": []
    },
    {
      "cell_type": "code",
      "source": [
        "SAMPLE_RATE = 44100\n",
        "def get_mfcc(name):\n",
        "    b, _ = librosa.core.load(name, sr = SAMPLE_RATE)\n",
        "    assert _ == SAMPLE_RATE\n",
        "    try:\n",
        "        mfcc = librosa.feature.mfcc(b, sr = SAMPLE_RATE, n_mfcc=40)\n",
        "        #mfcc_delta = librosa.feature.delta(mfcc, width=5, order=1)\n",
        "        return np.array(np.mean(mfcc, axis=1))\n",
        "    except:\n",
        "        print('bad file')\n",
        "        return np.array([0]*40)"
      ],
      "metadata": {
        "id": "kJL7cqgAjuPO"
      },
      "execution_count": null,
      "outputs": []
    },
    {
      "cell_type": "code",
      "source": [
        "SAMPLE_RATE = 44100\n",
        "def get_delta(name):\n",
        "    b, _ = librosa.core.load(name, sr = SAMPLE_RATE)\n",
        "    assert _ == SAMPLE_RATE\n",
        "    try:\n",
        "        mfcc = librosa.feature.mfcc(b, sr = SAMPLE_RATE, n_mfcc=40)\n",
        "        mfcc_delta = librosa.feature.delta(mfcc, width=5, order=1)\n",
        "        return np.array(np.mean(mfcc_delta, axis=1))\n",
        "    except:\n",
        "        print('bad file')\n",
        "        return np.array([0]*40)"
      ],
      "metadata": {
        "id": "5f-aV9V2xTOw"
      },
      "execution_count": null,
      "outputs": []
    },
    {
      "cell_type": "code",
      "source": [
        "temp = get_delta(\"/content/drive/MyDrive/ADReSS-IS2020-train/ADReSS-IS2020-data/train/Full_wave_enhanced_audio/cc/S001.wav\")\n",
        "temp.shape\n",
        "                "
      ],
      "metadata": {
        "colab": {
          "base_uri": "https://localhost:8080/"
        },
        "id": "R2IYN357t2I_",
        "outputId": "760248e4-4a54-4718-b497-8f8744650132"
      },
      "execution_count": null,
      "outputs": [
        {
          "output_type": "execute_result",
          "data": {
            "text/plain": [
              "(40,)"
            ]
          },
          "metadata": {},
          "execution_count": 99
        }
      ]
    },
    {
      "cell_type": "code",
      "source": [
        "x = []\n",
        "y = []\n",
        "\n",
        "for filename in os.listdir('/content/drive/MyDrive/ADReSS-IS2020-train/ADReSS-IS2020-data/train/Full_wave_enhanced_audio/cc'):\n",
        "    df = get_mfcc(\"/content/drive/MyDrive/ADReSS-IS2020-train/ADReSS-IS2020-data/train/Full_wave_enhanced_audio/cc/\" + filename)\n",
        "    x.append(df)\n",
        "    y.append(0)\n",
        "    \n",
        "for filename in os.listdir('/content/drive/MyDrive/ADReSS-IS2020-train/ADReSS-IS2020-data/train/Full_wave_enhanced_audio/cd'):\n",
        "    df = get_mfcc(\"/content/drive/MyDrive/ADReSS-IS2020-train/ADReSS-IS2020-data/train/Full_wave_enhanced_audio/cd/\" + filename)\n",
        "    x.append(df)\n",
        "    y.append(1)"
      ],
      "metadata": {
        "id": "QLF4sdpqtWA9"
      },
      "execution_count": null,
      "outputs": []
    },
    {
      "cell_type": "code",
      "source": [
        "xd = []\n",
        "yd = []\n",
        "\n",
        "for filename in os.listdir('/content/drive/MyDrive/ADReSS-IS2020-train/ADReSS-IS2020-data/train/Full_wave_enhanced_audio/cc'):\n",
        "    df = get_delta(\"/content/drive/MyDrive/ADReSS-IS2020-train/ADReSS-IS2020-data/train/Full_wave_enhanced_audio/cc/\" + filename)\n",
        "    xd.append(df)\n",
        "    yd.append(0)\n",
        "    \n",
        "for filename in os.listdir('/content/drive/MyDrive/ADReSS-IS2020-train/ADReSS-IS2020-data/train/Full_wave_enhanced_audio/cd'):\n",
        "    df = get_delta(\"/content/drive/MyDrive/ADReSS-IS2020-train/ADReSS-IS2020-data/train/Full_wave_enhanced_audio/cd/\" + filename)\n",
        "    xd.append(df)\n",
        "    yd.append(1)"
      ],
      "metadata": {
        "id": "QbC-RZ9sxfBs"
      },
      "execution_count": null,
      "outputs": []
    },
    {
      "cell_type": "code",
      "source": [
        "deldata = pd.DataFrame(xd)\n",
        "label = pd.DataFrame(yd)\n",
        "deldata['label'] = label\n",
        "deldata.head()\n",
        "deldata.shape"
      ],
      "metadata": {
        "colab": {
          "base_uri": "https://localhost:8080/"
        },
        "id": "J68bG37DyAAj",
        "outputId": "d82c3aee-7c06-4d2a-ed0a-845285f80b0d"
      },
      "execution_count": null,
      "outputs": [
        {
          "output_type": "execute_result",
          "data": {
            "text/plain": [
              "(108, 41)"
            ]
          },
          "metadata": {},
          "execution_count": 103
        }
      ]
    },
    {
      "cell_type": "code",
      "source": [
        "deldata = shuffle(deldata)\n",
        "delata = deldata.reset_index(drop=True)\n",
        "delata.head()"
      ],
      "metadata": {
        "colab": {
          "base_uri": "https://localhost:8080/",
          "height": 299
        },
        "id": "DCEtt2oyyEBG",
        "outputId": "e859873b-86f0-4fd4-f7d4-37a3dcae9230"
      },
      "execution_count": null,
      "outputs": [
        {
          "output_type": "execute_result",
          "data": {
            "text/plain": [
              "          0         1         2         3         4         5         6  \\\n",
              "0  0.000632 -0.000400 -0.004146 -0.005923 -0.004558 -0.006200 -0.008632   \n",
              "1  0.011000  0.006950 -0.003551 -0.003685 -0.003250 -0.003663 -0.001474   \n",
              "2  0.001470  0.001395  0.000376 -0.000271 -0.000282 -0.000122 -0.000070   \n",
              "3  0.018437  0.012034 -0.008067 -0.008874  0.000276  0.002677  0.002729   \n",
              "4  0.000047  0.000066  0.000065  0.000062  0.000059  0.000056  0.000051   \n",
              "\n",
              "          7         8         9  ...        31        32        33        34  \\\n",
              "0 -0.006335 -0.001749  0.001643  ... -0.000843 -0.002226 -0.001621 -0.001511   \n",
              "1 -0.002147 -0.003461 -0.000712  ...  0.001974  0.000857 -0.000569 -0.000107   \n",
              "2 -0.000311 -0.000763 -0.000662  ... -0.000264 -0.000474 -0.000284  0.000026   \n",
              "3  0.003687  0.002439  0.001354  ...  0.000284 -0.000176  0.001540  0.001193   \n",
              "4  0.000046  0.000041  0.000035  ...  0.000008  0.000014  0.000020  0.000026   \n",
              "\n",
              "         35        36        37        38        39  label  \n",
              "0 -0.002546 -0.001936 -0.000967 -0.001464 -0.001925      0  \n",
              "1  0.000724  0.000743  0.000527  0.000456  0.000689      0  \n",
              "2  0.000315  0.000570  0.000225 -0.000235 -0.000442      1  \n",
              "3  0.001041 -0.000297 -0.000246  0.000555 -0.000747      1  \n",
              "4  0.000032  0.000038  0.000043  0.000048  0.000052      1  \n",
              "\n",
              "[5 rows x 41 columns]"
            ],
            "text/html": [
              "\n",
              "  <div id=\"df-49e43b5d-d2a5-437b-9a39-1800db939975\">\n",
              "    <div class=\"colab-df-container\">\n",
              "      <div>\n",
              "<style scoped>\n",
              "    .dataframe tbody tr th:only-of-type {\n",
              "        vertical-align: middle;\n",
              "    }\n",
              "\n",
              "    .dataframe tbody tr th {\n",
              "        vertical-align: top;\n",
              "    }\n",
              "\n",
              "    .dataframe thead th {\n",
              "        text-align: right;\n",
              "    }\n",
              "</style>\n",
              "<table border=\"1\" class=\"dataframe\">\n",
              "  <thead>\n",
              "    <tr style=\"text-align: right;\">\n",
              "      <th></th>\n",
              "      <th>0</th>\n",
              "      <th>1</th>\n",
              "      <th>2</th>\n",
              "      <th>3</th>\n",
              "      <th>4</th>\n",
              "      <th>5</th>\n",
              "      <th>6</th>\n",
              "      <th>7</th>\n",
              "      <th>8</th>\n",
              "      <th>9</th>\n",
              "      <th>...</th>\n",
              "      <th>31</th>\n",
              "      <th>32</th>\n",
              "      <th>33</th>\n",
              "      <th>34</th>\n",
              "      <th>35</th>\n",
              "      <th>36</th>\n",
              "      <th>37</th>\n",
              "      <th>38</th>\n",
              "      <th>39</th>\n",
              "      <th>label</th>\n",
              "    </tr>\n",
              "  </thead>\n",
              "  <tbody>\n",
              "    <tr>\n",
              "      <th>0</th>\n",
              "      <td>0.000632</td>\n",
              "      <td>-0.000400</td>\n",
              "      <td>-0.004146</td>\n",
              "      <td>-0.005923</td>\n",
              "      <td>-0.004558</td>\n",
              "      <td>-0.006200</td>\n",
              "      <td>-0.008632</td>\n",
              "      <td>-0.006335</td>\n",
              "      <td>-0.001749</td>\n",
              "      <td>0.001643</td>\n",
              "      <td>...</td>\n",
              "      <td>-0.000843</td>\n",
              "      <td>-0.002226</td>\n",
              "      <td>-0.001621</td>\n",
              "      <td>-0.001511</td>\n",
              "      <td>-0.002546</td>\n",
              "      <td>-0.001936</td>\n",
              "      <td>-0.000967</td>\n",
              "      <td>-0.001464</td>\n",
              "      <td>-0.001925</td>\n",
              "      <td>0</td>\n",
              "    </tr>\n",
              "    <tr>\n",
              "      <th>1</th>\n",
              "      <td>0.011000</td>\n",
              "      <td>0.006950</td>\n",
              "      <td>-0.003551</td>\n",
              "      <td>-0.003685</td>\n",
              "      <td>-0.003250</td>\n",
              "      <td>-0.003663</td>\n",
              "      <td>-0.001474</td>\n",
              "      <td>-0.002147</td>\n",
              "      <td>-0.003461</td>\n",
              "      <td>-0.000712</td>\n",
              "      <td>...</td>\n",
              "      <td>0.001974</td>\n",
              "      <td>0.000857</td>\n",
              "      <td>-0.000569</td>\n",
              "      <td>-0.000107</td>\n",
              "      <td>0.000724</td>\n",
              "      <td>0.000743</td>\n",
              "      <td>0.000527</td>\n",
              "      <td>0.000456</td>\n",
              "      <td>0.000689</td>\n",
              "      <td>0</td>\n",
              "    </tr>\n",
              "    <tr>\n",
              "      <th>2</th>\n",
              "      <td>0.001470</td>\n",
              "      <td>0.001395</td>\n",
              "      <td>0.000376</td>\n",
              "      <td>-0.000271</td>\n",
              "      <td>-0.000282</td>\n",
              "      <td>-0.000122</td>\n",
              "      <td>-0.000070</td>\n",
              "      <td>-0.000311</td>\n",
              "      <td>-0.000763</td>\n",
              "      <td>-0.000662</td>\n",
              "      <td>...</td>\n",
              "      <td>-0.000264</td>\n",
              "      <td>-0.000474</td>\n",
              "      <td>-0.000284</td>\n",
              "      <td>0.000026</td>\n",
              "      <td>0.000315</td>\n",
              "      <td>0.000570</td>\n",
              "      <td>0.000225</td>\n",
              "      <td>-0.000235</td>\n",
              "      <td>-0.000442</td>\n",
              "      <td>1</td>\n",
              "    </tr>\n",
              "    <tr>\n",
              "      <th>3</th>\n",
              "      <td>0.018437</td>\n",
              "      <td>0.012034</td>\n",
              "      <td>-0.008067</td>\n",
              "      <td>-0.008874</td>\n",
              "      <td>0.000276</td>\n",
              "      <td>0.002677</td>\n",
              "      <td>0.002729</td>\n",
              "      <td>0.003687</td>\n",
              "      <td>0.002439</td>\n",
              "      <td>0.001354</td>\n",
              "      <td>...</td>\n",
              "      <td>0.000284</td>\n",
              "      <td>-0.000176</td>\n",
              "      <td>0.001540</td>\n",
              "      <td>0.001193</td>\n",
              "      <td>0.001041</td>\n",
              "      <td>-0.000297</td>\n",
              "      <td>-0.000246</td>\n",
              "      <td>0.000555</td>\n",
              "      <td>-0.000747</td>\n",
              "      <td>1</td>\n",
              "    </tr>\n",
              "    <tr>\n",
              "      <th>4</th>\n",
              "      <td>0.000047</td>\n",
              "      <td>0.000066</td>\n",
              "      <td>0.000065</td>\n",
              "      <td>0.000062</td>\n",
              "      <td>0.000059</td>\n",
              "      <td>0.000056</td>\n",
              "      <td>0.000051</td>\n",
              "      <td>0.000046</td>\n",
              "      <td>0.000041</td>\n",
              "      <td>0.000035</td>\n",
              "      <td>...</td>\n",
              "      <td>0.000008</td>\n",
              "      <td>0.000014</td>\n",
              "      <td>0.000020</td>\n",
              "      <td>0.000026</td>\n",
              "      <td>0.000032</td>\n",
              "      <td>0.000038</td>\n",
              "      <td>0.000043</td>\n",
              "      <td>0.000048</td>\n",
              "      <td>0.000052</td>\n",
              "      <td>1</td>\n",
              "    </tr>\n",
              "  </tbody>\n",
              "</table>\n",
              "<p>5 rows × 41 columns</p>\n",
              "</div>\n",
              "      <button class=\"colab-df-convert\" onclick=\"convertToInteractive('df-49e43b5d-d2a5-437b-9a39-1800db939975')\"\n",
              "              title=\"Convert this dataframe to an interactive table.\"\n",
              "              style=\"display:none;\">\n",
              "        \n",
              "  <svg xmlns=\"http://www.w3.org/2000/svg\" height=\"24px\"viewBox=\"0 0 24 24\"\n",
              "       width=\"24px\">\n",
              "    <path d=\"M0 0h24v24H0V0z\" fill=\"none\"/>\n",
              "    <path d=\"M18.56 5.44l.94 2.06.94-2.06 2.06-.94-2.06-.94-.94-2.06-.94 2.06-2.06.94zm-11 1L8.5 8.5l.94-2.06 2.06-.94-2.06-.94L8.5 2.5l-.94 2.06-2.06.94zm10 10l.94 2.06.94-2.06 2.06-.94-2.06-.94-.94-2.06-.94 2.06-2.06.94z\"/><path d=\"M17.41 7.96l-1.37-1.37c-.4-.4-.92-.59-1.43-.59-.52 0-1.04.2-1.43.59L10.3 9.45l-7.72 7.72c-.78.78-.78 2.05 0 2.83L4 21.41c.39.39.9.59 1.41.59.51 0 1.02-.2 1.41-.59l7.78-7.78 2.81-2.81c.8-.78.8-2.07 0-2.86zM5.41 20L4 18.59l7.72-7.72 1.47 1.35L5.41 20z\"/>\n",
              "  </svg>\n",
              "      </button>\n",
              "      \n",
              "  <style>\n",
              "    .colab-df-container {\n",
              "      display:flex;\n",
              "      flex-wrap:wrap;\n",
              "      gap: 12px;\n",
              "    }\n",
              "\n",
              "    .colab-df-convert {\n",
              "      background-color: #E8F0FE;\n",
              "      border: none;\n",
              "      border-radius: 50%;\n",
              "      cursor: pointer;\n",
              "      display: none;\n",
              "      fill: #1967D2;\n",
              "      height: 32px;\n",
              "      padding: 0 0 0 0;\n",
              "      width: 32px;\n",
              "    }\n",
              "\n",
              "    .colab-df-convert:hover {\n",
              "      background-color: #E2EBFA;\n",
              "      box-shadow: 0px 1px 2px rgba(60, 64, 67, 0.3), 0px 1px 3px 1px rgba(60, 64, 67, 0.15);\n",
              "      fill: #174EA6;\n",
              "    }\n",
              "\n",
              "    [theme=dark] .colab-df-convert {\n",
              "      background-color: #3B4455;\n",
              "      fill: #D2E3FC;\n",
              "    }\n",
              "\n",
              "    [theme=dark] .colab-df-convert:hover {\n",
              "      background-color: #434B5C;\n",
              "      box-shadow: 0px 1px 3px 1px rgba(0, 0, 0, 0.15);\n",
              "      filter: drop-shadow(0px 1px 2px rgba(0, 0, 0, 0.3));\n",
              "      fill: #FFFFFF;\n",
              "    }\n",
              "  </style>\n",
              "\n",
              "      <script>\n",
              "        const buttonEl =\n",
              "          document.querySelector('#df-49e43b5d-d2a5-437b-9a39-1800db939975 button.colab-df-convert');\n",
              "        buttonEl.style.display =\n",
              "          google.colab.kernel.accessAllowed ? 'block' : 'none';\n",
              "\n",
              "        async function convertToInteractive(key) {\n",
              "          const element = document.querySelector('#df-49e43b5d-d2a5-437b-9a39-1800db939975');\n",
              "          const dataTable =\n",
              "            await google.colab.kernel.invokeFunction('convertToInteractive',\n",
              "                                                     [key], {});\n",
              "          if (!dataTable) return;\n",
              "\n",
              "          const docLinkHtml = 'Like what you see? Visit the ' +\n",
              "            '<a target=\"_blank\" href=https://colab.research.google.com/notebooks/data_table.ipynb>data table notebook</a>'\n",
              "            + ' to learn more about interactive tables.';\n",
              "          element.innerHTML = '';\n",
              "          dataTable['output_type'] = 'display_data';\n",
              "          await google.colab.output.renderOutput(dataTable, element);\n",
              "          const docLink = document.createElement('div');\n",
              "          docLink.innerHTML = docLinkHtml;\n",
              "          element.appendChild(docLink);\n",
              "        }\n",
              "      </script>\n",
              "    </div>\n",
              "  </div>\n",
              "  "
            ]
          },
          "metadata": {},
          "execution_count": 104
        }
      ]
    },
    {
      "cell_type": "code",
      "source": [
        "DX = delata.iloc[:,:-1]\n",
        "DX.head()\n",
        "DY=Y"
      ],
      "metadata": {
        "id": "_tAUs59ByfvA"
      },
      "execution_count": null,
      "outputs": []
    },
    {
      "cell_type": "code",
      "source": [
        "rfc = RandomForestClassifier(n_estimators = 150)\n",
        "XD_train, XD_val, yD_train, yD_val = train_test_split(DX, DY, test_size=0.2, random_state=10, shuffle = True)\n",
        "rfc.fit(DX, DY)"
      ],
      "metadata": {
        "colab": {
          "base_uri": "https://localhost:8080/"
        },
        "id": "T1iJqzo2yjCo",
        "outputId": "e198c117-746b-45da-daa1-8832fd73af55"
      },
      "execution_count": null,
      "outputs": [
        {
          "output_type": "execute_result",
          "data": {
            "text/plain": [
              "RandomForestClassifier(n_estimators=150)"
            ]
          },
          "metadata": {},
          "execution_count": 106
        }
      ]
    },
    {
      "cell_type": "code",
      "source": [
        "acc_delta=rfc.score(TDX, TDY)\n",
        "print('Accuracy using only delta features: ',acc_delta)"
      ],
      "metadata": {
        "colab": {
          "base_uri": "https://localhost:8080/"
        },
        "id": "cnBqEMLr0MF7",
        "outputId": "10b6384d-cbb0-4021-d9da-40a97600af10"
      },
      "execution_count": null,
      "outputs": [
        {
          "output_type": "stream",
          "name": "stdout",
          "text": [
            "Accuracy using only delta features:  0.4583333333333333\n"
          ]
        }
      ]
    },
    {
      "cell_type": "code",
      "source": [
        "l = linear_model.LogisticRegression(C=0.0001)\n",
        "l.fit(DX,DY)"
      ],
      "metadata": {
        "colab": {
          "base_uri": "https://localhost:8080/"
        },
        "id": "NtkR0mS5yx1G",
        "outputId": "646d7f49-0e2a-4621-a93e-e2aafc8195f0"
      },
      "execution_count": null,
      "outputs": [
        {
          "output_type": "execute_result",
          "data": {
            "text/plain": [
              "LogisticRegression(C=0.0001)"
            ]
          },
          "metadata": {},
          "execution_count": 114
        }
      ]
    },
    {
      "cell_type": "code",
      "source": [
        "accdelta=l.score(TDX, TDY)\n",
        "print('Accuracy using only delta features: ',accdelta)"
      ],
      "metadata": {
        "colab": {
          "base_uri": "https://localhost:8080/"
        },
        "id": "3U5QYq5m0cb8",
        "outputId": "96cea1f3-8b04-4081-928e-ea13886bd1ae"
      },
      "execution_count": null,
      "outputs": [
        {
          "output_type": "stream",
          "name": "stdout",
          "text": [
            "Accuracy using only delta features:  0.5208333333333334\n"
          ]
        }
      ]
    },
    {
      "cell_type": "code",
      "source": [
        "data = pd.DataFrame(x)\n",
        "label = pd.DataFrame(y)\n",
        "data['label'] = label\n",
        "data.head()\n",
        "data.shape"
      ],
      "metadata": {
        "colab": {
          "base_uri": "https://localhost:8080/"
        },
        "id": "iPC1YmvCuAod",
        "outputId": "c97a38fd-01f8-4827-c7ce-ceb19f578489"
      },
      "execution_count": null,
      "outputs": [
        {
          "output_type": "execute_result",
          "data": {
            "text/plain": [
              "(108, 41)"
            ]
          },
          "metadata": {},
          "execution_count": 82
        }
      ]
    },
    {
      "cell_type": "code",
      "source": [
        "from sklearn.utils import shuffle\n",
        "data = shuffle(data)\n",
        "data = data.reset_index(drop=True)\n",
        "data.head()"
      ],
      "metadata": {
        "colab": {
          "base_uri": "https://localhost:8080/",
          "height": 299
        },
        "id": "W63DXfTzuAiP",
        "outputId": "301c487f-2779-4b1b-f1bf-0fe6e7a42866"
      },
      "execution_count": null,
      "outputs": [
        {
          "output_type": "execute_result",
          "data": {
            "text/plain": [
              "            0           1          2          3         4         5         6  \\\n",
              "0 -647.470154   73.837791  20.598610  11.832037  5.994508  4.896005  3.587691   \n",
              "1 -299.500977  170.659302  38.962574   1.235188  8.952155  6.384075 -5.129279   \n",
              "2 -644.097473   23.652416  13.427549  10.828506  8.314803  4.308354  1.919591   \n",
              "3 -752.406494   52.879448  27.359529  14.342052  9.042205  6.971618  4.089694   \n",
              "4 -426.231018   77.847389   7.452454   7.383195 -3.602942 -5.444239 -3.694212   \n",
              "\n",
              "          7         8         9  ...        31        32        33        34  \\\n",
              "0 -0.970787 -4.193769 -4.257558  ... -1.161308 -1.084687 -0.965439 -2.012323   \n",
              "1 -9.316207 -6.096016 -4.574850  ... -1.422376 -1.994360 -2.675920 -3.078722   \n",
              "2  1.853076  0.648600  0.387064  ... -2.031844 -2.147707 -1.793273 -1.696349   \n",
              "3  3.891873  1.711816  2.228172  ... -0.411470 -0.571743 -0.071638 -0.248480   \n",
              "4 -8.580276 -8.932719 -1.927036  ... -1.926689 -2.147499 -1.916187 -1.342119   \n",
              "\n",
              "         35        36        37        38        39  label  \n",
              "0 -1.868908 -1.595058 -1.471887 -1.887323 -1.767366      0  \n",
              "1 -2.360181 -0.881648 -0.024202 -0.341197 -1.377586      1  \n",
              "2 -1.270723 -0.789062 -0.478098 -0.296390 -0.160531      0  \n",
              "3 -0.207247 -0.210997  0.136996  0.401446  0.359582      1  \n",
              "4 -1.098734 -0.718994  0.094379  0.389756  1.127997      1  \n",
              "\n",
              "[5 rows x 41 columns]"
            ],
            "text/html": [
              "\n",
              "  <div id=\"df-1aa1af1c-070b-4442-ba1e-683b0444e1e7\">\n",
              "    <div class=\"colab-df-container\">\n",
              "      <div>\n",
              "<style scoped>\n",
              "    .dataframe tbody tr th:only-of-type {\n",
              "        vertical-align: middle;\n",
              "    }\n",
              "\n",
              "    .dataframe tbody tr th {\n",
              "        vertical-align: top;\n",
              "    }\n",
              "\n",
              "    .dataframe thead th {\n",
              "        text-align: right;\n",
              "    }\n",
              "</style>\n",
              "<table border=\"1\" class=\"dataframe\">\n",
              "  <thead>\n",
              "    <tr style=\"text-align: right;\">\n",
              "      <th></th>\n",
              "      <th>0</th>\n",
              "      <th>1</th>\n",
              "      <th>2</th>\n",
              "      <th>3</th>\n",
              "      <th>4</th>\n",
              "      <th>5</th>\n",
              "      <th>6</th>\n",
              "      <th>7</th>\n",
              "      <th>8</th>\n",
              "      <th>9</th>\n",
              "      <th>...</th>\n",
              "      <th>31</th>\n",
              "      <th>32</th>\n",
              "      <th>33</th>\n",
              "      <th>34</th>\n",
              "      <th>35</th>\n",
              "      <th>36</th>\n",
              "      <th>37</th>\n",
              "      <th>38</th>\n",
              "      <th>39</th>\n",
              "      <th>label</th>\n",
              "    </tr>\n",
              "  </thead>\n",
              "  <tbody>\n",
              "    <tr>\n",
              "      <th>0</th>\n",
              "      <td>-647.470154</td>\n",
              "      <td>73.837791</td>\n",
              "      <td>20.598610</td>\n",
              "      <td>11.832037</td>\n",
              "      <td>5.994508</td>\n",
              "      <td>4.896005</td>\n",
              "      <td>3.587691</td>\n",
              "      <td>-0.970787</td>\n",
              "      <td>-4.193769</td>\n",
              "      <td>-4.257558</td>\n",
              "      <td>...</td>\n",
              "      <td>-1.161308</td>\n",
              "      <td>-1.084687</td>\n",
              "      <td>-0.965439</td>\n",
              "      <td>-2.012323</td>\n",
              "      <td>-1.868908</td>\n",
              "      <td>-1.595058</td>\n",
              "      <td>-1.471887</td>\n",
              "      <td>-1.887323</td>\n",
              "      <td>-1.767366</td>\n",
              "      <td>0</td>\n",
              "    </tr>\n",
              "    <tr>\n",
              "      <th>1</th>\n",
              "      <td>-299.500977</td>\n",
              "      <td>170.659302</td>\n",
              "      <td>38.962574</td>\n",
              "      <td>1.235188</td>\n",
              "      <td>8.952155</td>\n",
              "      <td>6.384075</td>\n",
              "      <td>-5.129279</td>\n",
              "      <td>-9.316207</td>\n",
              "      <td>-6.096016</td>\n",
              "      <td>-4.574850</td>\n",
              "      <td>...</td>\n",
              "      <td>-1.422376</td>\n",
              "      <td>-1.994360</td>\n",
              "      <td>-2.675920</td>\n",
              "      <td>-3.078722</td>\n",
              "      <td>-2.360181</td>\n",
              "      <td>-0.881648</td>\n",
              "      <td>-0.024202</td>\n",
              "      <td>-0.341197</td>\n",
              "      <td>-1.377586</td>\n",
              "      <td>1</td>\n",
              "    </tr>\n",
              "    <tr>\n",
              "      <th>2</th>\n",
              "      <td>-644.097473</td>\n",
              "      <td>23.652416</td>\n",
              "      <td>13.427549</td>\n",
              "      <td>10.828506</td>\n",
              "      <td>8.314803</td>\n",
              "      <td>4.308354</td>\n",
              "      <td>1.919591</td>\n",
              "      <td>1.853076</td>\n",
              "      <td>0.648600</td>\n",
              "      <td>0.387064</td>\n",
              "      <td>...</td>\n",
              "      <td>-2.031844</td>\n",
              "      <td>-2.147707</td>\n",
              "      <td>-1.793273</td>\n",
              "      <td>-1.696349</td>\n",
              "      <td>-1.270723</td>\n",
              "      <td>-0.789062</td>\n",
              "      <td>-0.478098</td>\n",
              "      <td>-0.296390</td>\n",
              "      <td>-0.160531</td>\n",
              "      <td>0</td>\n",
              "    </tr>\n",
              "    <tr>\n",
              "      <th>3</th>\n",
              "      <td>-752.406494</td>\n",
              "      <td>52.879448</td>\n",
              "      <td>27.359529</td>\n",
              "      <td>14.342052</td>\n",
              "      <td>9.042205</td>\n",
              "      <td>6.971618</td>\n",
              "      <td>4.089694</td>\n",
              "      <td>3.891873</td>\n",
              "      <td>1.711816</td>\n",
              "      <td>2.228172</td>\n",
              "      <td>...</td>\n",
              "      <td>-0.411470</td>\n",
              "      <td>-0.571743</td>\n",
              "      <td>-0.071638</td>\n",
              "      <td>-0.248480</td>\n",
              "      <td>-0.207247</td>\n",
              "      <td>-0.210997</td>\n",
              "      <td>0.136996</td>\n",
              "      <td>0.401446</td>\n",
              "      <td>0.359582</td>\n",
              "      <td>1</td>\n",
              "    </tr>\n",
              "    <tr>\n",
              "      <th>4</th>\n",
              "      <td>-426.231018</td>\n",
              "      <td>77.847389</td>\n",
              "      <td>7.452454</td>\n",
              "      <td>7.383195</td>\n",
              "      <td>-3.602942</td>\n",
              "      <td>-5.444239</td>\n",
              "      <td>-3.694212</td>\n",
              "      <td>-8.580276</td>\n",
              "      <td>-8.932719</td>\n",
              "      <td>-1.927036</td>\n",
              "      <td>...</td>\n",
              "      <td>-1.926689</td>\n",
              "      <td>-2.147499</td>\n",
              "      <td>-1.916187</td>\n",
              "      <td>-1.342119</td>\n",
              "      <td>-1.098734</td>\n",
              "      <td>-0.718994</td>\n",
              "      <td>0.094379</td>\n",
              "      <td>0.389756</td>\n",
              "      <td>1.127997</td>\n",
              "      <td>1</td>\n",
              "    </tr>\n",
              "  </tbody>\n",
              "</table>\n",
              "<p>5 rows × 41 columns</p>\n",
              "</div>\n",
              "      <button class=\"colab-df-convert\" onclick=\"convertToInteractive('df-1aa1af1c-070b-4442-ba1e-683b0444e1e7')\"\n",
              "              title=\"Convert this dataframe to an interactive table.\"\n",
              "              style=\"display:none;\">\n",
              "        \n",
              "  <svg xmlns=\"http://www.w3.org/2000/svg\" height=\"24px\"viewBox=\"0 0 24 24\"\n",
              "       width=\"24px\">\n",
              "    <path d=\"M0 0h24v24H0V0z\" fill=\"none\"/>\n",
              "    <path d=\"M18.56 5.44l.94 2.06.94-2.06 2.06-.94-2.06-.94-.94-2.06-.94 2.06-2.06.94zm-11 1L8.5 8.5l.94-2.06 2.06-.94-2.06-.94L8.5 2.5l-.94 2.06-2.06.94zm10 10l.94 2.06.94-2.06 2.06-.94-2.06-.94-.94-2.06-.94 2.06-2.06.94z\"/><path d=\"M17.41 7.96l-1.37-1.37c-.4-.4-.92-.59-1.43-.59-.52 0-1.04.2-1.43.59L10.3 9.45l-7.72 7.72c-.78.78-.78 2.05 0 2.83L4 21.41c.39.39.9.59 1.41.59.51 0 1.02-.2 1.41-.59l7.78-7.78 2.81-2.81c.8-.78.8-2.07 0-2.86zM5.41 20L4 18.59l7.72-7.72 1.47 1.35L5.41 20z\"/>\n",
              "  </svg>\n",
              "      </button>\n",
              "      \n",
              "  <style>\n",
              "    .colab-df-container {\n",
              "      display:flex;\n",
              "      flex-wrap:wrap;\n",
              "      gap: 12px;\n",
              "    }\n",
              "\n",
              "    .colab-df-convert {\n",
              "      background-color: #E8F0FE;\n",
              "      border: none;\n",
              "      border-radius: 50%;\n",
              "      cursor: pointer;\n",
              "      display: none;\n",
              "      fill: #1967D2;\n",
              "      height: 32px;\n",
              "      padding: 0 0 0 0;\n",
              "      width: 32px;\n",
              "    }\n",
              "\n",
              "    .colab-df-convert:hover {\n",
              "      background-color: #E2EBFA;\n",
              "      box-shadow: 0px 1px 2px rgba(60, 64, 67, 0.3), 0px 1px 3px 1px rgba(60, 64, 67, 0.15);\n",
              "      fill: #174EA6;\n",
              "    }\n",
              "\n",
              "    [theme=dark] .colab-df-convert {\n",
              "      background-color: #3B4455;\n",
              "      fill: #D2E3FC;\n",
              "    }\n",
              "\n",
              "    [theme=dark] .colab-df-convert:hover {\n",
              "      background-color: #434B5C;\n",
              "      box-shadow: 0px 1px 3px 1px rgba(0, 0, 0, 0.15);\n",
              "      filter: drop-shadow(0px 1px 2px rgba(0, 0, 0, 0.3));\n",
              "      fill: #FFFFFF;\n",
              "    }\n",
              "  </style>\n",
              "\n",
              "      <script>\n",
              "        const buttonEl =\n",
              "          document.querySelector('#df-1aa1af1c-070b-4442-ba1e-683b0444e1e7 button.colab-df-convert');\n",
              "        buttonEl.style.display =\n",
              "          google.colab.kernel.accessAllowed ? 'block' : 'none';\n",
              "\n",
              "        async function convertToInteractive(key) {\n",
              "          const element = document.querySelector('#df-1aa1af1c-070b-4442-ba1e-683b0444e1e7');\n",
              "          const dataTable =\n",
              "            await google.colab.kernel.invokeFunction('convertToInteractive',\n",
              "                                                     [key], {});\n",
              "          if (!dataTable) return;\n",
              "\n",
              "          const docLinkHtml = 'Like what you see? Visit the ' +\n",
              "            '<a target=\"_blank\" href=https://colab.research.google.com/notebooks/data_table.ipynb>data table notebook</a>'\n",
              "            + ' to learn more about interactive tables.';\n",
              "          element.innerHTML = '';\n",
              "          dataTable['output_type'] = 'display_data';\n",
              "          await google.colab.output.renderOutput(dataTable, element);\n",
              "          const docLink = document.createElement('div');\n",
              "          docLink.innerHTML = docLinkHtml;\n",
              "          element.appendChild(docLink);\n",
              "        }\n",
              "      </script>\n",
              "    </div>\n",
              "  </div>\n",
              "  "
            ]
          },
          "metadata": {},
          "execution_count": 83
        }
      ]
    },
    {
      "cell_type": "code",
      "source": [
        "X = data.iloc[:,:-1]\n",
        "X.head()"
      ],
      "metadata": {
        "colab": {
          "base_uri": "https://localhost:8080/",
          "height": 299
        },
        "id": "IOYu_ztLuAcW",
        "outputId": "0e800d4e-7d8a-45e7-b5fb-0d0763e97ce3"
      },
      "execution_count": null,
      "outputs": [
        {
          "output_type": "execute_result",
          "data": {
            "text/plain": [
              "           0           1          2          3         4         5         6   \\\n",
              "0 -647.470154   73.837791  20.598610  11.832037  5.994508  4.896005  3.587691   \n",
              "1 -299.500977  170.659302  38.962574   1.235188  8.952155  6.384075 -5.129279   \n",
              "2 -644.097473   23.652416  13.427549  10.828506  8.314803  4.308354  1.919591   \n",
              "3 -752.406494   52.879448  27.359529  14.342052  9.042205  6.971618  4.089694   \n",
              "4 -426.231018   77.847389   7.452454   7.383195 -3.602942 -5.444239 -3.694212   \n",
              "\n",
              "         7         8         9   ...        30        31        32        33  \\\n",
              "0 -0.970787 -4.193769 -4.257558  ... -1.417511 -1.161308 -1.084687 -0.965439   \n",
              "1 -9.316207 -6.096016 -4.574850  ... -1.579020 -1.422376 -1.994360 -2.675920   \n",
              "2  1.853076  0.648600  0.387064  ... -2.103207 -2.031844 -2.147707 -1.793273   \n",
              "3  3.891873  1.711816  2.228172  ... -1.226796 -0.411470 -0.571743 -0.071638   \n",
              "4 -8.580276 -8.932719 -1.927036  ... -1.798399 -1.926689 -2.147499 -1.916187   \n",
              "\n",
              "         34        35        36        37        38        39  \n",
              "0 -2.012323 -1.868908 -1.595058 -1.471887 -1.887323 -1.767366  \n",
              "1 -3.078722 -2.360181 -0.881648 -0.024202 -0.341197 -1.377586  \n",
              "2 -1.696349 -1.270723 -0.789062 -0.478098 -0.296390 -0.160531  \n",
              "3 -0.248480 -0.207247 -0.210997  0.136996  0.401446  0.359582  \n",
              "4 -1.342119 -1.098734 -0.718994  0.094379  0.389756  1.127997  \n",
              "\n",
              "[5 rows x 40 columns]"
            ],
            "text/html": [
              "\n",
              "  <div id=\"df-8c6f7824-15bb-4a5b-b433-f54c1d934721\">\n",
              "    <div class=\"colab-df-container\">\n",
              "      <div>\n",
              "<style scoped>\n",
              "    .dataframe tbody tr th:only-of-type {\n",
              "        vertical-align: middle;\n",
              "    }\n",
              "\n",
              "    .dataframe tbody tr th {\n",
              "        vertical-align: top;\n",
              "    }\n",
              "\n",
              "    .dataframe thead th {\n",
              "        text-align: right;\n",
              "    }\n",
              "</style>\n",
              "<table border=\"1\" class=\"dataframe\">\n",
              "  <thead>\n",
              "    <tr style=\"text-align: right;\">\n",
              "      <th></th>\n",
              "      <th>0</th>\n",
              "      <th>1</th>\n",
              "      <th>2</th>\n",
              "      <th>3</th>\n",
              "      <th>4</th>\n",
              "      <th>5</th>\n",
              "      <th>6</th>\n",
              "      <th>7</th>\n",
              "      <th>8</th>\n",
              "      <th>9</th>\n",
              "      <th>...</th>\n",
              "      <th>30</th>\n",
              "      <th>31</th>\n",
              "      <th>32</th>\n",
              "      <th>33</th>\n",
              "      <th>34</th>\n",
              "      <th>35</th>\n",
              "      <th>36</th>\n",
              "      <th>37</th>\n",
              "      <th>38</th>\n",
              "      <th>39</th>\n",
              "    </tr>\n",
              "  </thead>\n",
              "  <tbody>\n",
              "    <tr>\n",
              "      <th>0</th>\n",
              "      <td>-647.470154</td>\n",
              "      <td>73.837791</td>\n",
              "      <td>20.598610</td>\n",
              "      <td>11.832037</td>\n",
              "      <td>5.994508</td>\n",
              "      <td>4.896005</td>\n",
              "      <td>3.587691</td>\n",
              "      <td>-0.970787</td>\n",
              "      <td>-4.193769</td>\n",
              "      <td>-4.257558</td>\n",
              "      <td>...</td>\n",
              "      <td>-1.417511</td>\n",
              "      <td>-1.161308</td>\n",
              "      <td>-1.084687</td>\n",
              "      <td>-0.965439</td>\n",
              "      <td>-2.012323</td>\n",
              "      <td>-1.868908</td>\n",
              "      <td>-1.595058</td>\n",
              "      <td>-1.471887</td>\n",
              "      <td>-1.887323</td>\n",
              "      <td>-1.767366</td>\n",
              "    </tr>\n",
              "    <tr>\n",
              "      <th>1</th>\n",
              "      <td>-299.500977</td>\n",
              "      <td>170.659302</td>\n",
              "      <td>38.962574</td>\n",
              "      <td>1.235188</td>\n",
              "      <td>8.952155</td>\n",
              "      <td>6.384075</td>\n",
              "      <td>-5.129279</td>\n",
              "      <td>-9.316207</td>\n",
              "      <td>-6.096016</td>\n",
              "      <td>-4.574850</td>\n",
              "      <td>...</td>\n",
              "      <td>-1.579020</td>\n",
              "      <td>-1.422376</td>\n",
              "      <td>-1.994360</td>\n",
              "      <td>-2.675920</td>\n",
              "      <td>-3.078722</td>\n",
              "      <td>-2.360181</td>\n",
              "      <td>-0.881648</td>\n",
              "      <td>-0.024202</td>\n",
              "      <td>-0.341197</td>\n",
              "      <td>-1.377586</td>\n",
              "    </tr>\n",
              "    <tr>\n",
              "      <th>2</th>\n",
              "      <td>-644.097473</td>\n",
              "      <td>23.652416</td>\n",
              "      <td>13.427549</td>\n",
              "      <td>10.828506</td>\n",
              "      <td>8.314803</td>\n",
              "      <td>4.308354</td>\n",
              "      <td>1.919591</td>\n",
              "      <td>1.853076</td>\n",
              "      <td>0.648600</td>\n",
              "      <td>0.387064</td>\n",
              "      <td>...</td>\n",
              "      <td>-2.103207</td>\n",
              "      <td>-2.031844</td>\n",
              "      <td>-2.147707</td>\n",
              "      <td>-1.793273</td>\n",
              "      <td>-1.696349</td>\n",
              "      <td>-1.270723</td>\n",
              "      <td>-0.789062</td>\n",
              "      <td>-0.478098</td>\n",
              "      <td>-0.296390</td>\n",
              "      <td>-0.160531</td>\n",
              "    </tr>\n",
              "    <tr>\n",
              "      <th>3</th>\n",
              "      <td>-752.406494</td>\n",
              "      <td>52.879448</td>\n",
              "      <td>27.359529</td>\n",
              "      <td>14.342052</td>\n",
              "      <td>9.042205</td>\n",
              "      <td>6.971618</td>\n",
              "      <td>4.089694</td>\n",
              "      <td>3.891873</td>\n",
              "      <td>1.711816</td>\n",
              "      <td>2.228172</td>\n",
              "      <td>...</td>\n",
              "      <td>-1.226796</td>\n",
              "      <td>-0.411470</td>\n",
              "      <td>-0.571743</td>\n",
              "      <td>-0.071638</td>\n",
              "      <td>-0.248480</td>\n",
              "      <td>-0.207247</td>\n",
              "      <td>-0.210997</td>\n",
              "      <td>0.136996</td>\n",
              "      <td>0.401446</td>\n",
              "      <td>0.359582</td>\n",
              "    </tr>\n",
              "    <tr>\n",
              "      <th>4</th>\n",
              "      <td>-426.231018</td>\n",
              "      <td>77.847389</td>\n",
              "      <td>7.452454</td>\n",
              "      <td>7.383195</td>\n",
              "      <td>-3.602942</td>\n",
              "      <td>-5.444239</td>\n",
              "      <td>-3.694212</td>\n",
              "      <td>-8.580276</td>\n",
              "      <td>-8.932719</td>\n",
              "      <td>-1.927036</td>\n",
              "      <td>...</td>\n",
              "      <td>-1.798399</td>\n",
              "      <td>-1.926689</td>\n",
              "      <td>-2.147499</td>\n",
              "      <td>-1.916187</td>\n",
              "      <td>-1.342119</td>\n",
              "      <td>-1.098734</td>\n",
              "      <td>-0.718994</td>\n",
              "      <td>0.094379</td>\n",
              "      <td>0.389756</td>\n",
              "      <td>1.127997</td>\n",
              "    </tr>\n",
              "  </tbody>\n",
              "</table>\n",
              "<p>5 rows × 40 columns</p>\n",
              "</div>\n",
              "      <button class=\"colab-df-convert\" onclick=\"convertToInteractive('df-8c6f7824-15bb-4a5b-b433-f54c1d934721')\"\n",
              "              title=\"Convert this dataframe to an interactive table.\"\n",
              "              style=\"display:none;\">\n",
              "        \n",
              "  <svg xmlns=\"http://www.w3.org/2000/svg\" height=\"24px\"viewBox=\"0 0 24 24\"\n",
              "       width=\"24px\">\n",
              "    <path d=\"M0 0h24v24H0V0z\" fill=\"none\"/>\n",
              "    <path d=\"M18.56 5.44l.94 2.06.94-2.06 2.06-.94-2.06-.94-.94-2.06-.94 2.06-2.06.94zm-11 1L8.5 8.5l.94-2.06 2.06-.94-2.06-.94L8.5 2.5l-.94 2.06-2.06.94zm10 10l.94 2.06.94-2.06 2.06-.94-2.06-.94-.94-2.06-.94 2.06-2.06.94z\"/><path d=\"M17.41 7.96l-1.37-1.37c-.4-.4-.92-.59-1.43-.59-.52 0-1.04.2-1.43.59L10.3 9.45l-7.72 7.72c-.78.78-.78 2.05 0 2.83L4 21.41c.39.39.9.59 1.41.59.51 0 1.02-.2 1.41-.59l7.78-7.78 2.81-2.81c.8-.78.8-2.07 0-2.86zM5.41 20L4 18.59l7.72-7.72 1.47 1.35L5.41 20z\"/>\n",
              "  </svg>\n",
              "      </button>\n",
              "      \n",
              "  <style>\n",
              "    .colab-df-container {\n",
              "      display:flex;\n",
              "      flex-wrap:wrap;\n",
              "      gap: 12px;\n",
              "    }\n",
              "\n",
              "    .colab-df-convert {\n",
              "      background-color: #E8F0FE;\n",
              "      border: none;\n",
              "      border-radius: 50%;\n",
              "      cursor: pointer;\n",
              "      display: none;\n",
              "      fill: #1967D2;\n",
              "      height: 32px;\n",
              "      padding: 0 0 0 0;\n",
              "      width: 32px;\n",
              "    }\n",
              "\n",
              "    .colab-df-convert:hover {\n",
              "      background-color: #E2EBFA;\n",
              "      box-shadow: 0px 1px 2px rgba(60, 64, 67, 0.3), 0px 1px 3px 1px rgba(60, 64, 67, 0.15);\n",
              "      fill: #174EA6;\n",
              "    }\n",
              "\n",
              "    [theme=dark] .colab-df-convert {\n",
              "      background-color: #3B4455;\n",
              "      fill: #D2E3FC;\n",
              "    }\n",
              "\n",
              "    [theme=dark] .colab-df-convert:hover {\n",
              "      background-color: #434B5C;\n",
              "      box-shadow: 0px 1px 3px 1px rgba(0, 0, 0, 0.15);\n",
              "      filter: drop-shadow(0px 1px 2px rgba(0, 0, 0, 0.3));\n",
              "      fill: #FFFFFF;\n",
              "    }\n",
              "  </style>\n",
              "\n",
              "      <script>\n",
              "        const buttonEl =\n",
              "          document.querySelector('#df-8c6f7824-15bb-4a5b-b433-f54c1d934721 button.colab-df-convert');\n",
              "        buttonEl.style.display =\n",
              "          google.colab.kernel.accessAllowed ? 'block' : 'none';\n",
              "\n",
              "        async function convertToInteractive(key) {\n",
              "          const element = document.querySelector('#df-8c6f7824-15bb-4a5b-b433-f54c1d934721');\n",
              "          const dataTable =\n",
              "            await google.colab.kernel.invokeFunction('convertToInteractive',\n",
              "                                                     [key], {});\n",
              "          if (!dataTable) return;\n",
              "\n",
              "          const docLinkHtml = 'Like what you see? Visit the ' +\n",
              "            '<a target=\"_blank\" href=https://colab.research.google.com/notebooks/data_table.ipynb>data table notebook</a>'\n",
              "            + ' to learn more about interactive tables.';\n",
              "          element.innerHTML = '';\n",
              "          dataTable['output_type'] = 'display_data';\n",
              "          await google.colab.output.renderOutput(dataTable, element);\n",
              "          const docLink = document.createElement('div');\n",
              "          docLink.innerHTML = docLinkHtml;\n",
              "          element.appendChild(docLink);\n",
              "        }\n",
              "      </script>\n",
              "    </div>\n",
              "  </div>\n",
              "  "
            ]
          },
          "metadata": {},
          "execution_count": 84
        }
      ]
    },
    {
      "cell_type": "code",
      "source": [
        "Y = data.iloc[:,-1]\n",
        "Y.head()"
      ],
      "metadata": {
        "colab": {
          "base_uri": "https://localhost:8080/"
        },
        "id": "rGSsrnqsuaFl",
        "outputId": "54b6d5a0-b21e-49dd-d08b-1b045cc199a5"
      },
      "execution_count": null,
      "outputs": [
        {
          "output_type": "execute_result",
          "data": {
            "text/plain": [
              "0    0\n",
              "1    1\n",
              "2    0\n",
              "3    1\n",
              "4    1\n",
              "Name: label, dtype: int64"
            ]
          },
          "metadata": {},
          "execution_count": 85
        }
      ]
    },
    {
      "cell_type": "code",
      "source": [
        "tx = []\n",
        "ty = []\n",
        "\n",
        "for filename in os.listdir('/content/drive/MyDrive/ADReSS-IS2020-test/ADReSS-IS2020-data/test/Full_wave_enhanced_audio/cc'):\n",
        "    df = get_mfcc(\"/content/drive/MyDrive/ADReSS-IS2020-test/ADReSS-IS2020-data/test/Full_wave_enhanced_audio/cc/\" + filename)\n",
        "    tx.append(df)\n",
        "    ty.append(0)\n",
        "    \n",
        "for filename in os.listdir('/content/drive/MyDrive/ADReSS-IS2020-test/ADReSS-IS2020-data/test/Full_wave_enhanced_audio/cd'):\n",
        "    df = get_mfcc(\"/content/drive/MyDrive/ADReSS-IS2020-test/ADReSS-IS2020-data/test/Full_wave_enhanced_audio/cd/\" + filename)\n",
        "    tx.append(df)\n",
        "    ty.append(1)"
      ],
      "metadata": {
        "id": "K4F69t45vXry"
      },
      "execution_count": null,
      "outputs": []
    },
    {
      "cell_type": "code",
      "source": [
        "txd = []\n",
        "tyd = []\n",
        "\n",
        "for filename in os.listdir('/content/drive/MyDrive/ADReSS-IS2020-test/ADReSS-IS2020-data/test/Full_wave_enhanced_audio/cc'):\n",
        "    df = get_delta(\"/content/drive/MyDrive/ADReSS-IS2020-test/ADReSS-IS2020-data/test/Full_wave_enhanced_audio/cc/\" + filename)\n",
        "    txd.append(df)\n",
        "    tyd.append(0)\n",
        "    \n",
        "for filename in os.listdir('/content/drive/MyDrive/ADReSS-IS2020-test/ADReSS-IS2020-data/test/Full_wave_enhanced_audio/cd'):\n",
        "    df = get_delta(\"/content/drive/MyDrive/ADReSS-IS2020-test/ADReSS-IS2020-data/test/Full_wave_enhanced_audio/cd/\" + filename)\n",
        "    txd.append(df)\n",
        "    tyd.append(1)"
      ],
      "metadata": {
        "id": "aNSIgBUkzBzm"
      },
      "execution_count": null,
      "outputs": []
    },
    {
      "cell_type": "code",
      "source": [
        "tddata = pd.DataFrame(txd)\n",
        "tdlabel = pd.DataFrame(tyd)\n",
        "tddata['label'] = tdlabel\n",
        "tddata.head()\n",
        "tddata.shape"
      ],
      "metadata": {
        "colab": {
          "base_uri": "https://localhost:8080/"
        },
        "id": "x2tgtbaRzMkw",
        "outputId": "25656986-fb9d-443b-f2d0-9a07a572aeb8"
      },
      "execution_count": null,
      "outputs": [
        {
          "output_type": "execute_result",
          "data": {
            "text/plain": [
              "(48, 41)"
            ]
          },
          "metadata": {},
          "execution_count": 108
        }
      ]
    },
    {
      "cell_type": "code",
      "source": [
        "tddata = shuffle(tddata)\n",
        "tddata = tddata.reset_index(drop=True)\n",
        "tddata.head()"
      ],
      "metadata": {
        "colab": {
          "base_uri": "https://localhost:8080/",
          "height": 386
        },
        "id": "cRRaLsSOzOgO",
        "outputId": "119bbeae-ec2a-4358-e44b-d9c820e50d26"
      },
      "execution_count": null,
      "outputs": [
        {
          "output_type": "execute_result",
          "data": {
            "text/plain": [
              "          0         1         2         3         4         5         6  \\\n",
              "0  0.000470 -0.000114 -0.001264 -0.001232 -0.000377  0.000205  0.000389   \n",
              "1 -0.004654 -0.002868  0.003077  0.001917  0.001793  0.006102  0.004228   \n",
              "2 -0.002171 -0.002010 -0.000181  0.000591  0.000401  0.000022 -0.000458   \n",
              "3 -0.000144  0.000711  0.000451 -0.000891 -0.001118 -0.000543 -0.000256   \n",
              "4 -0.006409 -0.005304 -0.000862  0.000269  0.000571  0.000413  0.000783   \n",
              "\n",
              "          7         8         9  ...        31        32        33        34  \\\n",
              "0  0.000493  0.000546  0.000542  ... -0.000129  0.000093  0.000263  0.000290   \n",
              "1  0.001938  0.001721  0.002608  ... -0.000280 -0.001866 -0.000527  0.000858   \n",
              "2 -0.000977 -0.001159 -0.000919  ...  0.000563  0.000167 -0.000245 -0.000295   \n",
              "3 -0.000781 -0.000124 -0.000292  ...  0.000153  0.000114 -0.000277 -0.000334   \n",
              "4  0.000307 -0.000037  0.000617  ...  0.000228 -0.000365 -0.000188  0.000237   \n",
              "\n",
              "         35            36        37        38        39  label  \n",
              "0  0.000203  7.888842e-07 -0.000194 -0.000220 -0.000176      0  \n",
              "1 -0.001240 -1.239337e-03  0.000700  0.000296 -0.000087      0  \n",
              "2 -0.000517 -8.128654e-04 -0.000524  0.000119  0.000344      1  \n",
              "3  0.000150  1.026244e-04 -0.000130  0.000006 -0.000078      0  \n",
              "4  0.000004  1.331102e-04  0.000286  0.000164 -0.000247      0  \n",
              "\n",
              "[5 rows x 41 columns]"
            ],
            "text/html": [
              "\n",
              "  <div id=\"df-f5100ffb-c374-46d7-8581-914767ca2246\">\n",
              "    <div class=\"colab-df-container\">\n",
              "      <div>\n",
              "<style scoped>\n",
              "    .dataframe tbody tr th:only-of-type {\n",
              "        vertical-align: middle;\n",
              "    }\n",
              "\n",
              "    .dataframe tbody tr th {\n",
              "        vertical-align: top;\n",
              "    }\n",
              "\n",
              "    .dataframe thead th {\n",
              "        text-align: right;\n",
              "    }\n",
              "</style>\n",
              "<table border=\"1\" class=\"dataframe\">\n",
              "  <thead>\n",
              "    <tr style=\"text-align: right;\">\n",
              "      <th></th>\n",
              "      <th>0</th>\n",
              "      <th>1</th>\n",
              "      <th>2</th>\n",
              "      <th>3</th>\n",
              "      <th>4</th>\n",
              "      <th>5</th>\n",
              "      <th>6</th>\n",
              "      <th>7</th>\n",
              "      <th>8</th>\n",
              "      <th>9</th>\n",
              "      <th>...</th>\n",
              "      <th>31</th>\n",
              "      <th>32</th>\n",
              "      <th>33</th>\n",
              "      <th>34</th>\n",
              "      <th>35</th>\n",
              "      <th>36</th>\n",
              "      <th>37</th>\n",
              "      <th>38</th>\n",
              "      <th>39</th>\n",
              "      <th>label</th>\n",
              "    </tr>\n",
              "  </thead>\n",
              "  <tbody>\n",
              "    <tr>\n",
              "      <th>0</th>\n",
              "      <td>0.000470</td>\n",
              "      <td>-0.000114</td>\n",
              "      <td>-0.001264</td>\n",
              "      <td>-0.001232</td>\n",
              "      <td>-0.000377</td>\n",
              "      <td>0.000205</td>\n",
              "      <td>0.000389</td>\n",
              "      <td>0.000493</td>\n",
              "      <td>0.000546</td>\n",
              "      <td>0.000542</td>\n",
              "      <td>...</td>\n",
              "      <td>-0.000129</td>\n",
              "      <td>0.000093</td>\n",
              "      <td>0.000263</td>\n",
              "      <td>0.000290</td>\n",
              "      <td>0.000203</td>\n",
              "      <td>7.888842e-07</td>\n",
              "      <td>-0.000194</td>\n",
              "      <td>-0.000220</td>\n",
              "      <td>-0.000176</td>\n",
              "      <td>0</td>\n",
              "    </tr>\n",
              "    <tr>\n",
              "      <th>1</th>\n",
              "      <td>-0.004654</td>\n",
              "      <td>-0.002868</td>\n",
              "      <td>0.003077</td>\n",
              "      <td>0.001917</td>\n",
              "      <td>0.001793</td>\n",
              "      <td>0.006102</td>\n",
              "      <td>0.004228</td>\n",
              "      <td>0.001938</td>\n",
              "      <td>0.001721</td>\n",
              "      <td>0.002608</td>\n",
              "      <td>...</td>\n",
              "      <td>-0.000280</td>\n",
              "      <td>-0.001866</td>\n",
              "      <td>-0.000527</td>\n",
              "      <td>0.000858</td>\n",
              "      <td>-0.001240</td>\n",
              "      <td>-1.239337e-03</td>\n",
              "      <td>0.000700</td>\n",
              "      <td>0.000296</td>\n",
              "      <td>-0.000087</td>\n",
              "      <td>0</td>\n",
              "    </tr>\n",
              "    <tr>\n",
              "      <th>2</th>\n",
              "      <td>-0.002171</td>\n",
              "      <td>-0.002010</td>\n",
              "      <td>-0.000181</td>\n",
              "      <td>0.000591</td>\n",
              "      <td>0.000401</td>\n",
              "      <td>0.000022</td>\n",
              "      <td>-0.000458</td>\n",
              "      <td>-0.000977</td>\n",
              "      <td>-0.001159</td>\n",
              "      <td>-0.000919</td>\n",
              "      <td>...</td>\n",
              "      <td>0.000563</td>\n",
              "      <td>0.000167</td>\n",
              "      <td>-0.000245</td>\n",
              "      <td>-0.000295</td>\n",
              "      <td>-0.000517</td>\n",
              "      <td>-8.128654e-04</td>\n",
              "      <td>-0.000524</td>\n",
              "      <td>0.000119</td>\n",
              "      <td>0.000344</td>\n",
              "      <td>1</td>\n",
              "    </tr>\n",
              "    <tr>\n",
              "      <th>3</th>\n",
              "      <td>-0.000144</td>\n",
              "      <td>0.000711</td>\n",
              "      <td>0.000451</td>\n",
              "      <td>-0.000891</td>\n",
              "      <td>-0.001118</td>\n",
              "      <td>-0.000543</td>\n",
              "      <td>-0.000256</td>\n",
              "      <td>-0.000781</td>\n",
              "      <td>-0.000124</td>\n",
              "      <td>-0.000292</td>\n",
              "      <td>...</td>\n",
              "      <td>0.000153</td>\n",
              "      <td>0.000114</td>\n",
              "      <td>-0.000277</td>\n",
              "      <td>-0.000334</td>\n",
              "      <td>0.000150</td>\n",
              "      <td>1.026244e-04</td>\n",
              "      <td>-0.000130</td>\n",
              "      <td>0.000006</td>\n",
              "      <td>-0.000078</td>\n",
              "      <td>0</td>\n",
              "    </tr>\n",
              "    <tr>\n",
              "      <th>4</th>\n",
              "      <td>-0.006409</td>\n",
              "      <td>-0.005304</td>\n",
              "      <td>-0.000862</td>\n",
              "      <td>0.000269</td>\n",
              "      <td>0.000571</td>\n",
              "      <td>0.000413</td>\n",
              "      <td>0.000783</td>\n",
              "      <td>0.000307</td>\n",
              "      <td>-0.000037</td>\n",
              "      <td>0.000617</td>\n",
              "      <td>...</td>\n",
              "      <td>0.000228</td>\n",
              "      <td>-0.000365</td>\n",
              "      <td>-0.000188</td>\n",
              "      <td>0.000237</td>\n",
              "      <td>0.000004</td>\n",
              "      <td>1.331102e-04</td>\n",
              "      <td>0.000286</td>\n",
              "      <td>0.000164</td>\n",
              "      <td>-0.000247</td>\n",
              "      <td>0</td>\n",
              "    </tr>\n",
              "  </tbody>\n",
              "</table>\n",
              "<p>5 rows × 41 columns</p>\n",
              "</div>\n",
              "      <button class=\"colab-df-convert\" onclick=\"convertToInteractive('df-f5100ffb-c374-46d7-8581-914767ca2246')\"\n",
              "              title=\"Convert this dataframe to an interactive table.\"\n",
              "              style=\"display:none;\">\n",
              "        \n",
              "  <svg xmlns=\"http://www.w3.org/2000/svg\" height=\"24px\"viewBox=\"0 0 24 24\"\n",
              "       width=\"24px\">\n",
              "    <path d=\"M0 0h24v24H0V0z\" fill=\"none\"/>\n",
              "    <path d=\"M18.56 5.44l.94 2.06.94-2.06 2.06-.94-2.06-.94-.94-2.06-.94 2.06-2.06.94zm-11 1L8.5 8.5l.94-2.06 2.06-.94-2.06-.94L8.5 2.5l-.94 2.06-2.06.94zm10 10l.94 2.06.94-2.06 2.06-.94-2.06-.94-.94-2.06-.94 2.06-2.06.94z\"/><path d=\"M17.41 7.96l-1.37-1.37c-.4-.4-.92-.59-1.43-.59-.52 0-1.04.2-1.43.59L10.3 9.45l-7.72 7.72c-.78.78-.78 2.05 0 2.83L4 21.41c.39.39.9.59 1.41.59.51 0 1.02-.2 1.41-.59l7.78-7.78 2.81-2.81c.8-.78.8-2.07 0-2.86zM5.41 20L4 18.59l7.72-7.72 1.47 1.35L5.41 20z\"/>\n",
              "  </svg>\n",
              "      </button>\n",
              "      \n",
              "  <style>\n",
              "    .colab-df-container {\n",
              "      display:flex;\n",
              "      flex-wrap:wrap;\n",
              "      gap: 12px;\n",
              "    }\n",
              "\n",
              "    .colab-df-convert {\n",
              "      background-color: #E8F0FE;\n",
              "      border: none;\n",
              "      border-radius: 50%;\n",
              "      cursor: pointer;\n",
              "      display: none;\n",
              "      fill: #1967D2;\n",
              "      height: 32px;\n",
              "      padding: 0 0 0 0;\n",
              "      width: 32px;\n",
              "    }\n",
              "\n",
              "    .colab-df-convert:hover {\n",
              "      background-color: #E2EBFA;\n",
              "      box-shadow: 0px 1px 2px rgba(60, 64, 67, 0.3), 0px 1px 3px 1px rgba(60, 64, 67, 0.15);\n",
              "      fill: #174EA6;\n",
              "    }\n",
              "\n",
              "    [theme=dark] .colab-df-convert {\n",
              "      background-color: #3B4455;\n",
              "      fill: #D2E3FC;\n",
              "    }\n",
              "\n",
              "    [theme=dark] .colab-df-convert:hover {\n",
              "      background-color: #434B5C;\n",
              "      box-shadow: 0px 1px 3px 1px rgba(0, 0, 0, 0.15);\n",
              "      filter: drop-shadow(0px 1px 2px rgba(0, 0, 0, 0.3));\n",
              "      fill: #FFFFFF;\n",
              "    }\n",
              "  </style>\n",
              "\n",
              "      <script>\n",
              "        const buttonEl =\n",
              "          document.querySelector('#df-f5100ffb-c374-46d7-8581-914767ca2246 button.colab-df-convert');\n",
              "        buttonEl.style.display =\n",
              "          google.colab.kernel.accessAllowed ? 'block' : 'none';\n",
              "\n",
              "        async function convertToInteractive(key) {\n",
              "          const element = document.querySelector('#df-f5100ffb-c374-46d7-8581-914767ca2246');\n",
              "          const dataTable =\n",
              "            await google.colab.kernel.invokeFunction('convertToInteractive',\n",
              "                                                     [key], {});\n",
              "          if (!dataTable) return;\n",
              "\n",
              "          const docLinkHtml = 'Like what you see? Visit the ' +\n",
              "            '<a target=\"_blank\" href=https://colab.research.google.com/notebooks/data_table.ipynb>data table notebook</a>'\n",
              "            + ' to learn more about interactive tables.';\n",
              "          element.innerHTML = '';\n",
              "          dataTable['output_type'] = 'display_data';\n",
              "          await google.colab.output.renderOutput(dataTable, element);\n",
              "          const docLink = document.createElement('div');\n",
              "          docLink.innerHTML = docLinkHtml;\n",
              "          element.appendChild(docLink);\n",
              "        }\n",
              "      </script>\n",
              "    </div>\n",
              "  </div>\n",
              "  "
            ]
          },
          "metadata": {},
          "execution_count": 109
        }
      ]
    },
    {
      "cell_type": "code",
      "source": [
        "TDX = tddata.iloc[:,:-1]\n",
        "TDY=TY\n",
        "TDX.head()"
      ],
      "metadata": {
        "colab": {
          "base_uri": "https://localhost:8080/",
          "height": 386
        },
        "id": "Z3WVogGTzR-U",
        "outputId": "fb3c8008-9285-4b92-fba1-97fe760cdadc"
      },
      "execution_count": null,
      "outputs": [
        {
          "output_type": "execute_result",
          "data": {
            "text/plain": [
              "         0         1         2         3         4         5         6   \\\n",
              "0  0.000470 -0.000114 -0.001264 -0.001232 -0.000377  0.000205  0.000389   \n",
              "1 -0.004654 -0.002868  0.003077  0.001917  0.001793  0.006102  0.004228   \n",
              "2 -0.002171 -0.002010 -0.000181  0.000591  0.000401  0.000022 -0.000458   \n",
              "3 -0.000144  0.000711  0.000451 -0.000891 -0.001118 -0.000543 -0.000256   \n",
              "4 -0.006409 -0.005304 -0.000862  0.000269  0.000571  0.000413  0.000783   \n",
              "\n",
              "         7         8         9   ...        30        31        32        33  \\\n",
              "0  0.000493  0.000546  0.000542  ... -0.000132 -0.000129  0.000093  0.000263   \n",
              "1  0.001938  0.001721  0.002608  ...  0.000030 -0.000280 -0.001866 -0.000527   \n",
              "2 -0.000977 -0.001159 -0.000919  ...  0.000250  0.000563  0.000167 -0.000245   \n",
              "3 -0.000781 -0.000124 -0.000292  ...  0.000019  0.000153  0.000114 -0.000277   \n",
              "4  0.000307 -0.000037  0.000617  ...  0.000282  0.000228 -0.000365 -0.000188   \n",
              "\n",
              "         34        35            36        37        38        39  \n",
              "0  0.000290  0.000203  7.888842e-07 -0.000194 -0.000220 -0.000176  \n",
              "1  0.000858 -0.001240 -1.239337e-03  0.000700  0.000296 -0.000087  \n",
              "2 -0.000295 -0.000517 -8.128654e-04 -0.000524  0.000119  0.000344  \n",
              "3 -0.000334  0.000150  1.026244e-04 -0.000130  0.000006 -0.000078  \n",
              "4  0.000237  0.000004  1.331102e-04  0.000286  0.000164 -0.000247  \n",
              "\n",
              "[5 rows x 40 columns]"
            ],
            "text/html": [
              "\n",
              "  <div id=\"df-ac94e076-1029-44d0-8216-f680e12c8165\">\n",
              "    <div class=\"colab-df-container\">\n",
              "      <div>\n",
              "<style scoped>\n",
              "    .dataframe tbody tr th:only-of-type {\n",
              "        vertical-align: middle;\n",
              "    }\n",
              "\n",
              "    .dataframe tbody tr th {\n",
              "        vertical-align: top;\n",
              "    }\n",
              "\n",
              "    .dataframe thead th {\n",
              "        text-align: right;\n",
              "    }\n",
              "</style>\n",
              "<table border=\"1\" class=\"dataframe\">\n",
              "  <thead>\n",
              "    <tr style=\"text-align: right;\">\n",
              "      <th></th>\n",
              "      <th>0</th>\n",
              "      <th>1</th>\n",
              "      <th>2</th>\n",
              "      <th>3</th>\n",
              "      <th>4</th>\n",
              "      <th>5</th>\n",
              "      <th>6</th>\n",
              "      <th>7</th>\n",
              "      <th>8</th>\n",
              "      <th>9</th>\n",
              "      <th>...</th>\n",
              "      <th>30</th>\n",
              "      <th>31</th>\n",
              "      <th>32</th>\n",
              "      <th>33</th>\n",
              "      <th>34</th>\n",
              "      <th>35</th>\n",
              "      <th>36</th>\n",
              "      <th>37</th>\n",
              "      <th>38</th>\n",
              "      <th>39</th>\n",
              "    </tr>\n",
              "  </thead>\n",
              "  <tbody>\n",
              "    <tr>\n",
              "      <th>0</th>\n",
              "      <td>0.000470</td>\n",
              "      <td>-0.000114</td>\n",
              "      <td>-0.001264</td>\n",
              "      <td>-0.001232</td>\n",
              "      <td>-0.000377</td>\n",
              "      <td>0.000205</td>\n",
              "      <td>0.000389</td>\n",
              "      <td>0.000493</td>\n",
              "      <td>0.000546</td>\n",
              "      <td>0.000542</td>\n",
              "      <td>...</td>\n",
              "      <td>-0.000132</td>\n",
              "      <td>-0.000129</td>\n",
              "      <td>0.000093</td>\n",
              "      <td>0.000263</td>\n",
              "      <td>0.000290</td>\n",
              "      <td>0.000203</td>\n",
              "      <td>7.888842e-07</td>\n",
              "      <td>-0.000194</td>\n",
              "      <td>-0.000220</td>\n",
              "      <td>-0.000176</td>\n",
              "    </tr>\n",
              "    <tr>\n",
              "      <th>1</th>\n",
              "      <td>-0.004654</td>\n",
              "      <td>-0.002868</td>\n",
              "      <td>0.003077</td>\n",
              "      <td>0.001917</td>\n",
              "      <td>0.001793</td>\n",
              "      <td>0.006102</td>\n",
              "      <td>0.004228</td>\n",
              "      <td>0.001938</td>\n",
              "      <td>0.001721</td>\n",
              "      <td>0.002608</td>\n",
              "      <td>...</td>\n",
              "      <td>0.000030</td>\n",
              "      <td>-0.000280</td>\n",
              "      <td>-0.001866</td>\n",
              "      <td>-0.000527</td>\n",
              "      <td>0.000858</td>\n",
              "      <td>-0.001240</td>\n",
              "      <td>-1.239337e-03</td>\n",
              "      <td>0.000700</td>\n",
              "      <td>0.000296</td>\n",
              "      <td>-0.000087</td>\n",
              "    </tr>\n",
              "    <tr>\n",
              "      <th>2</th>\n",
              "      <td>-0.002171</td>\n",
              "      <td>-0.002010</td>\n",
              "      <td>-0.000181</td>\n",
              "      <td>0.000591</td>\n",
              "      <td>0.000401</td>\n",
              "      <td>0.000022</td>\n",
              "      <td>-0.000458</td>\n",
              "      <td>-0.000977</td>\n",
              "      <td>-0.001159</td>\n",
              "      <td>-0.000919</td>\n",
              "      <td>...</td>\n",
              "      <td>0.000250</td>\n",
              "      <td>0.000563</td>\n",
              "      <td>0.000167</td>\n",
              "      <td>-0.000245</td>\n",
              "      <td>-0.000295</td>\n",
              "      <td>-0.000517</td>\n",
              "      <td>-8.128654e-04</td>\n",
              "      <td>-0.000524</td>\n",
              "      <td>0.000119</td>\n",
              "      <td>0.000344</td>\n",
              "    </tr>\n",
              "    <tr>\n",
              "      <th>3</th>\n",
              "      <td>-0.000144</td>\n",
              "      <td>0.000711</td>\n",
              "      <td>0.000451</td>\n",
              "      <td>-0.000891</td>\n",
              "      <td>-0.001118</td>\n",
              "      <td>-0.000543</td>\n",
              "      <td>-0.000256</td>\n",
              "      <td>-0.000781</td>\n",
              "      <td>-0.000124</td>\n",
              "      <td>-0.000292</td>\n",
              "      <td>...</td>\n",
              "      <td>0.000019</td>\n",
              "      <td>0.000153</td>\n",
              "      <td>0.000114</td>\n",
              "      <td>-0.000277</td>\n",
              "      <td>-0.000334</td>\n",
              "      <td>0.000150</td>\n",
              "      <td>1.026244e-04</td>\n",
              "      <td>-0.000130</td>\n",
              "      <td>0.000006</td>\n",
              "      <td>-0.000078</td>\n",
              "    </tr>\n",
              "    <tr>\n",
              "      <th>4</th>\n",
              "      <td>-0.006409</td>\n",
              "      <td>-0.005304</td>\n",
              "      <td>-0.000862</td>\n",
              "      <td>0.000269</td>\n",
              "      <td>0.000571</td>\n",
              "      <td>0.000413</td>\n",
              "      <td>0.000783</td>\n",
              "      <td>0.000307</td>\n",
              "      <td>-0.000037</td>\n",
              "      <td>0.000617</td>\n",
              "      <td>...</td>\n",
              "      <td>0.000282</td>\n",
              "      <td>0.000228</td>\n",
              "      <td>-0.000365</td>\n",
              "      <td>-0.000188</td>\n",
              "      <td>0.000237</td>\n",
              "      <td>0.000004</td>\n",
              "      <td>1.331102e-04</td>\n",
              "      <td>0.000286</td>\n",
              "      <td>0.000164</td>\n",
              "      <td>-0.000247</td>\n",
              "    </tr>\n",
              "  </tbody>\n",
              "</table>\n",
              "<p>5 rows × 40 columns</p>\n",
              "</div>\n",
              "      <button class=\"colab-df-convert\" onclick=\"convertToInteractive('df-ac94e076-1029-44d0-8216-f680e12c8165')\"\n",
              "              title=\"Convert this dataframe to an interactive table.\"\n",
              "              style=\"display:none;\">\n",
              "        \n",
              "  <svg xmlns=\"http://www.w3.org/2000/svg\" height=\"24px\"viewBox=\"0 0 24 24\"\n",
              "       width=\"24px\">\n",
              "    <path d=\"M0 0h24v24H0V0z\" fill=\"none\"/>\n",
              "    <path d=\"M18.56 5.44l.94 2.06.94-2.06 2.06-.94-2.06-.94-.94-2.06-.94 2.06-2.06.94zm-11 1L8.5 8.5l.94-2.06 2.06-.94-2.06-.94L8.5 2.5l-.94 2.06-2.06.94zm10 10l.94 2.06.94-2.06 2.06-.94-2.06-.94-.94-2.06-.94 2.06-2.06.94z\"/><path d=\"M17.41 7.96l-1.37-1.37c-.4-.4-.92-.59-1.43-.59-.52 0-1.04.2-1.43.59L10.3 9.45l-7.72 7.72c-.78.78-.78 2.05 0 2.83L4 21.41c.39.39.9.59 1.41.59.51 0 1.02-.2 1.41-.59l7.78-7.78 2.81-2.81c.8-.78.8-2.07 0-2.86zM5.41 20L4 18.59l7.72-7.72 1.47 1.35L5.41 20z\"/>\n",
              "  </svg>\n",
              "      </button>\n",
              "      \n",
              "  <style>\n",
              "    .colab-df-container {\n",
              "      display:flex;\n",
              "      flex-wrap:wrap;\n",
              "      gap: 12px;\n",
              "    }\n",
              "\n",
              "    .colab-df-convert {\n",
              "      background-color: #E8F0FE;\n",
              "      border: none;\n",
              "      border-radius: 50%;\n",
              "      cursor: pointer;\n",
              "      display: none;\n",
              "      fill: #1967D2;\n",
              "      height: 32px;\n",
              "      padding: 0 0 0 0;\n",
              "      width: 32px;\n",
              "    }\n",
              "\n",
              "    .colab-df-convert:hover {\n",
              "      background-color: #E2EBFA;\n",
              "      box-shadow: 0px 1px 2px rgba(60, 64, 67, 0.3), 0px 1px 3px 1px rgba(60, 64, 67, 0.15);\n",
              "      fill: #174EA6;\n",
              "    }\n",
              "\n",
              "    [theme=dark] .colab-df-convert {\n",
              "      background-color: #3B4455;\n",
              "      fill: #D2E3FC;\n",
              "    }\n",
              "\n",
              "    [theme=dark] .colab-df-convert:hover {\n",
              "      background-color: #434B5C;\n",
              "      box-shadow: 0px 1px 3px 1px rgba(0, 0, 0, 0.15);\n",
              "      filter: drop-shadow(0px 1px 2px rgba(0, 0, 0, 0.3));\n",
              "      fill: #FFFFFF;\n",
              "    }\n",
              "  </style>\n",
              "\n",
              "      <script>\n",
              "        const buttonEl =\n",
              "          document.querySelector('#df-ac94e076-1029-44d0-8216-f680e12c8165 button.colab-df-convert');\n",
              "        buttonEl.style.display =\n",
              "          google.colab.kernel.accessAllowed ? 'block' : 'none';\n",
              "\n",
              "        async function convertToInteractive(key) {\n",
              "          const element = document.querySelector('#df-ac94e076-1029-44d0-8216-f680e12c8165');\n",
              "          const dataTable =\n",
              "            await google.colab.kernel.invokeFunction('convertToInteractive',\n",
              "                                                     [key], {});\n",
              "          if (!dataTable) return;\n",
              "\n",
              "          const docLinkHtml = 'Like what you see? Visit the ' +\n",
              "            '<a target=\"_blank\" href=https://colab.research.google.com/notebooks/data_table.ipynb>data table notebook</a>'\n",
              "            + ' to learn more about interactive tables.';\n",
              "          element.innerHTML = '';\n",
              "          dataTable['output_type'] = 'display_data';\n",
              "          await google.colab.output.renderOutput(dataTable, element);\n",
              "          const docLink = document.createElement('div');\n",
              "          docLink.innerHTML = docLinkHtml;\n",
              "          element.appendChild(docLink);\n",
              "        }\n",
              "      </script>\n",
              "    </div>\n",
              "  </div>\n",
              "  "
            ]
          },
          "metadata": {},
          "execution_count": 110
        }
      ]
    },
    {
      "cell_type": "code",
      "source": [
        "\n",
        "tdata = pd.DataFrame(tx)\n",
        "tlabel = pd.DataFrame(ty)\n",
        "tdata['label'] = tlabel\n",
        "tdata.head()\n",
        "tdata.shape"
      ],
      "metadata": {
        "colab": {
          "base_uri": "https://localhost:8080/"
        },
        "id": "ITwm3ps7vxE5",
        "outputId": "a77696ae-1c8a-4555-cbf3-a63cce5750ef"
      },
      "execution_count": null,
      "outputs": [
        {
          "output_type": "execute_result",
          "data": {
            "text/plain": [
              "(48, 41)"
            ]
          },
          "metadata": {},
          "execution_count": 90
        }
      ]
    },
    {
      "cell_type": "code",
      "source": [],
      "metadata": {
        "id": "bgYfuAy_zLiH"
      },
      "execution_count": null,
      "outputs": []
    },
    {
      "cell_type": "code",
      "source": [
        "from sklearn.utils import shuffle\n",
        "tdata = shuffle(tdata)\n",
        "tdata = tdata.reset_index(drop=True)\n",
        "tdata.head()"
      ],
      "metadata": {
        "colab": {
          "base_uri": "https://localhost:8080/",
          "height": 299
        },
        "id": "Nktdx5ynv0ft",
        "outputId": "cf1c2d63-376e-4e3f-913e-5aff4d1add38"
      },
      "execution_count": null,
      "outputs": [
        {
          "output_type": "execute_result",
          "data": {
            "text/plain": [
              "            0           1          2          3          4         5  \\\n",
              "0 -659.858826   15.518291   4.643536   2.474949   1.856934  1.326966   \n",
              "1 -673.250427   74.049706  27.088451  19.070208  12.857368  4.738476   \n",
              "2 -526.153442   88.377609   7.719505  23.285154   7.209867  2.030739   \n",
              "3 -430.444550  115.154541  35.908588  22.195105   8.008975  2.676006   \n",
              "4 -487.827911  105.509575  34.932629  21.757771   8.002418 -1.943404   \n",
              "\n",
              "          6          7          8         9  ...        31        32  \\\n",
              "0  1.053260   0.016039   0.478516  1.610914  ...  0.068605 -0.241742   \n",
              "1  3.261811   2.099103  -0.832536 -1.572835  ... -0.988127 -0.267990   \n",
              "2  0.640738 -10.820081 -11.471400  1.595716  ... -2.545892 -2.863963   \n",
              "3  1.217171  -1.682811  -0.173634 -2.103630  ... -2.055184 -3.010881   \n",
              "4 -5.894741  -7.497775  -6.641140 -7.171933  ... -2.130994 -1.187432   \n",
              "\n",
              "         33        34        35        36        37        38        39  label  \n",
              "0 -0.275036  0.168752  0.323615  0.296374  0.240232  0.366528  0.565608      1  \n",
              "1 -1.338692 -1.927761 -1.018401 -0.963583 -1.333958 -1.866681 -1.776560      1  \n",
              "2 -1.910514 -2.834326 -2.424511 -2.800462 -2.271753 -1.474033 -1.309104      0  \n",
              "3 -2.526923 -2.380335 -1.916101 -1.406517 -1.930398 -1.869083 -2.432397      0  \n",
              "4 -1.704373 -2.020617 -1.124170 -0.367220 -0.804883 -1.588557 -0.710653      0  \n",
              "\n",
              "[5 rows x 41 columns]"
            ],
            "text/html": [
              "\n",
              "  <div id=\"df-dd252d42-8ba8-4c06-b7ed-4a0bb3851918\">\n",
              "    <div class=\"colab-df-container\">\n",
              "      <div>\n",
              "<style scoped>\n",
              "    .dataframe tbody tr th:only-of-type {\n",
              "        vertical-align: middle;\n",
              "    }\n",
              "\n",
              "    .dataframe tbody tr th {\n",
              "        vertical-align: top;\n",
              "    }\n",
              "\n",
              "    .dataframe thead th {\n",
              "        text-align: right;\n",
              "    }\n",
              "</style>\n",
              "<table border=\"1\" class=\"dataframe\">\n",
              "  <thead>\n",
              "    <tr style=\"text-align: right;\">\n",
              "      <th></th>\n",
              "      <th>0</th>\n",
              "      <th>1</th>\n",
              "      <th>2</th>\n",
              "      <th>3</th>\n",
              "      <th>4</th>\n",
              "      <th>5</th>\n",
              "      <th>6</th>\n",
              "      <th>7</th>\n",
              "      <th>8</th>\n",
              "      <th>9</th>\n",
              "      <th>...</th>\n",
              "      <th>31</th>\n",
              "      <th>32</th>\n",
              "      <th>33</th>\n",
              "      <th>34</th>\n",
              "      <th>35</th>\n",
              "      <th>36</th>\n",
              "      <th>37</th>\n",
              "      <th>38</th>\n",
              "      <th>39</th>\n",
              "      <th>label</th>\n",
              "    </tr>\n",
              "  </thead>\n",
              "  <tbody>\n",
              "    <tr>\n",
              "      <th>0</th>\n",
              "      <td>-659.858826</td>\n",
              "      <td>15.518291</td>\n",
              "      <td>4.643536</td>\n",
              "      <td>2.474949</td>\n",
              "      <td>1.856934</td>\n",
              "      <td>1.326966</td>\n",
              "      <td>1.053260</td>\n",
              "      <td>0.016039</td>\n",
              "      <td>0.478516</td>\n",
              "      <td>1.610914</td>\n",
              "      <td>...</td>\n",
              "      <td>0.068605</td>\n",
              "      <td>-0.241742</td>\n",
              "      <td>-0.275036</td>\n",
              "      <td>0.168752</td>\n",
              "      <td>0.323615</td>\n",
              "      <td>0.296374</td>\n",
              "      <td>0.240232</td>\n",
              "      <td>0.366528</td>\n",
              "      <td>0.565608</td>\n",
              "      <td>1</td>\n",
              "    </tr>\n",
              "    <tr>\n",
              "      <th>1</th>\n",
              "      <td>-673.250427</td>\n",
              "      <td>74.049706</td>\n",
              "      <td>27.088451</td>\n",
              "      <td>19.070208</td>\n",
              "      <td>12.857368</td>\n",
              "      <td>4.738476</td>\n",
              "      <td>3.261811</td>\n",
              "      <td>2.099103</td>\n",
              "      <td>-0.832536</td>\n",
              "      <td>-1.572835</td>\n",
              "      <td>...</td>\n",
              "      <td>-0.988127</td>\n",
              "      <td>-0.267990</td>\n",
              "      <td>-1.338692</td>\n",
              "      <td>-1.927761</td>\n",
              "      <td>-1.018401</td>\n",
              "      <td>-0.963583</td>\n",
              "      <td>-1.333958</td>\n",
              "      <td>-1.866681</td>\n",
              "      <td>-1.776560</td>\n",
              "      <td>1</td>\n",
              "    </tr>\n",
              "    <tr>\n",
              "      <th>2</th>\n",
              "      <td>-526.153442</td>\n",
              "      <td>88.377609</td>\n",
              "      <td>7.719505</td>\n",
              "      <td>23.285154</td>\n",
              "      <td>7.209867</td>\n",
              "      <td>2.030739</td>\n",
              "      <td>0.640738</td>\n",
              "      <td>-10.820081</td>\n",
              "      <td>-11.471400</td>\n",
              "      <td>1.595716</td>\n",
              "      <td>...</td>\n",
              "      <td>-2.545892</td>\n",
              "      <td>-2.863963</td>\n",
              "      <td>-1.910514</td>\n",
              "      <td>-2.834326</td>\n",
              "      <td>-2.424511</td>\n",
              "      <td>-2.800462</td>\n",
              "      <td>-2.271753</td>\n",
              "      <td>-1.474033</td>\n",
              "      <td>-1.309104</td>\n",
              "      <td>0</td>\n",
              "    </tr>\n",
              "    <tr>\n",
              "      <th>3</th>\n",
              "      <td>-430.444550</td>\n",
              "      <td>115.154541</td>\n",
              "      <td>35.908588</td>\n",
              "      <td>22.195105</td>\n",
              "      <td>8.008975</td>\n",
              "      <td>2.676006</td>\n",
              "      <td>1.217171</td>\n",
              "      <td>-1.682811</td>\n",
              "      <td>-0.173634</td>\n",
              "      <td>-2.103630</td>\n",
              "      <td>...</td>\n",
              "      <td>-2.055184</td>\n",
              "      <td>-3.010881</td>\n",
              "      <td>-2.526923</td>\n",
              "      <td>-2.380335</td>\n",
              "      <td>-1.916101</td>\n",
              "      <td>-1.406517</td>\n",
              "      <td>-1.930398</td>\n",
              "      <td>-1.869083</td>\n",
              "      <td>-2.432397</td>\n",
              "      <td>0</td>\n",
              "    </tr>\n",
              "    <tr>\n",
              "      <th>4</th>\n",
              "      <td>-487.827911</td>\n",
              "      <td>105.509575</td>\n",
              "      <td>34.932629</td>\n",
              "      <td>21.757771</td>\n",
              "      <td>8.002418</td>\n",
              "      <td>-1.943404</td>\n",
              "      <td>-5.894741</td>\n",
              "      <td>-7.497775</td>\n",
              "      <td>-6.641140</td>\n",
              "      <td>-7.171933</td>\n",
              "      <td>...</td>\n",
              "      <td>-2.130994</td>\n",
              "      <td>-1.187432</td>\n",
              "      <td>-1.704373</td>\n",
              "      <td>-2.020617</td>\n",
              "      <td>-1.124170</td>\n",
              "      <td>-0.367220</td>\n",
              "      <td>-0.804883</td>\n",
              "      <td>-1.588557</td>\n",
              "      <td>-0.710653</td>\n",
              "      <td>0</td>\n",
              "    </tr>\n",
              "  </tbody>\n",
              "</table>\n",
              "<p>5 rows × 41 columns</p>\n",
              "</div>\n",
              "      <button class=\"colab-df-convert\" onclick=\"convertToInteractive('df-dd252d42-8ba8-4c06-b7ed-4a0bb3851918')\"\n",
              "              title=\"Convert this dataframe to an interactive table.\"\n",
              "              style=\"display:none;\">\n",
              "        \n",
              "  <svg xmlns=\"http://www.w3.org/2000/svg\" height=\"24px\"viewBox=\"0 0 24 24\"\n",
              "       width=\"24px\">\n",
              "    <path d=\"M0 0h24v24H0V0z\" fill=\"none\"/>\n",
              "    <path d=\"M18.56 5.44l.94 2.06.94-2.06 2.06-.94-2.06-.94-.94-2.06-.94 2.06-2.06.94zm-11 1L8.5 8.5l.94-2.06 2.06-.94-2.06-.94L8.5 2.5l-.94 2.06-2.06.94zm10 10l.94 2.06.94-2.06 2.06-.94-2.06-.94-.94-2.06-.94 2.06-2.06.94z\"/><path d=\"M17.41 7.96l-1.37-1.37c-.4-.4-.92-.59-1.43-.59-.52 0-1.04.2-1.43.59L10.3 9.45l-7.72 7.72c-.78.78-.78 2.05 0 2.83L4 21.41c.39.39.9.59 1.41.59.51 0 1.02-.2 1.41-.59l7.78-7.78 2.81-2.81c.8-.78.8-2.07 0-2.86zM5.41 20L4 18.59l7.72-7.72 1.47 1.35L5.41 20z\"/>\n",
              "  </svg>\n",
              "      </button>\n",
              "      \n",
              "  <style>\n",
              "    .colab-df-container {\n",
              "      display:flex;\n",
              "      flex-wrap:wrap;\n",
              "      gap: 12px;\n",
              "    }\n",
              "\n",
              "    .colab-df-convert {\n",
              "      background-color: #E8F0FE;\n",
              "      border: none;\n",
              "      border-radius: 50%;\n",
              "      cursor: pointer;\n",
              "      display: none;\n",
              "      fill: #1967D2;\n",
              "      height: 32px;\n",
              "      padding: 0 0 0 0;\n",
              "      width: 32px;\n",
              "    }\n",
              "\n",
              "    .colab-df-convert:hover {\n",
              "      background-color: #E2EBFA;\n",
              "      box-shadow: 0px 1px 2px rgba(60, 64, 67, 0.3), 0px 1px 3px 1px rgba(60, 64, 67, 0.15);\n",
              "      fill: #174EA6;\n",
              "    }\n",
              "\n",
              "    [theme=dark] .colab-df-convert {\n",
              "      background-color: #3B4455;\n",
              "      fill: #D2E3FC;\n",
              "    }\n",
              "\n",
              "    [theme=dark] .colab-df-convert:hover {\n",
              "      background-color: #434B5C;\n",
              "      box-shadow: 0px 1px 3px 1px rgba(0, 0, 0, 0.15);\n",
              "      filter: drop-shadow(0px 1px 2px rgba(0, 0, 0, 0.3));\n",
              "      fill: #FFFFFF;\n",
              "    }\n",
              "  </style>\n",
              "\n",
              "      <script>\n",
              "        const buttonEl =\n",
              "          document.querySelector('#df-dd252d42-8ba8-4c06-b7ed-4a0bb3851918 button.colab-df-convert');\n",
              "        buttonEl.style.display =\n",
              "          google.colab.kernel.accessAllowed ? 'block' : 'none';\n",
              "\n",
              "        async function convertToInteractive(key) {\n",
              "          const element = document.querySelector('#df-dd252d42-8ba8-4c06-b7ed-4a0bb3851918');\n",
              "          const dataTable =\n",
              "            await google.colab.kernel.invokeFunction('convertToInteractive',\n",
              "                                                     [key], {});\n",
              "          if (!dataTable) return;\n",
              "\n",
              "          const docLinkHtml = 'Like what you see? Visit the ' +\n",
              "            '<a target=\"_blank\" href=https://colab.research.google.com/notebooks/data_table.ipynb>data table notebook</a>'\n",
              "            + ' to learn more about interactive tables.';\n",
              "          element.innerHTML = '';\n",
              "          dataTable['output_type'] = 'display_data';\n",
              "          await google.colab.output.renderOutput(dataTable, element);\n",
              "          const docLink = document.createElement('div');\n",
              "          docLink.innerHTML = docLinkHtml;\n",
              "          element.appendChild(docLink);\n",
              "        }\n",
              "      </script>\n",
              "    </div>\n",
              "  </div>\n",
              "  "
            ]
          },
          "metadata": {},
          "execution_count": 92
        }
      ]
    },
    {
      "cell_type": "code",
      "source": [
        "TX = tdata.iloc[:,:-1]\n",
        "TX.head()"
      ],
      "metadata": {
        "colab": {
          "base_uri": "https://localhost:8080/",
          "height": 299
        },
        "id": "aF8HtMLIwIlR",
        "outputId": "06ba32e1-0bcb-4595-a1c6-13b2331d2f57"
      },
      "execution_count": null,
      "outputs": [
        {
          "output_type": "execute_result",
          "data": {
            "text/plain": [
              "           0           1          2          3          4         5   \\\n",
              "0 -659.858826   15.518291   4.643536   2.474949   1.856934  1.326966   \n",
              "1 -673.250427   74.049706  27.088451  19.070208  12.857368  4.738476   \n",
              "2 -526.153442   88.377609   7.719505  23.285154   7.209867  2.030739   \n",
              "3 -430.444550  115.154541  35.908588  22.195105   8.008975  2.676006   \n",
              "4 -487.827911  105.509575  34.932629  21.757771   8.002418 -1.943404   \n",
              "\n",
              "         6          7          8         9   ...        30        31  \\\n",
              "0  1.053260   0.016039   0.478516  1.610914  ... -0.143819  0.068605   \n",
              "1  3.261811   2.099103  -0.832536 -1.572835  ... -1.839497 -0.988127   \n",
              "2  0.640738 -10.820081 -11.471400  1.595716  ... -4.535014 -2.545892   \n",
              "3  1.217171  -1.682811  -0.173634 -2.103630  ... -1.594464 -2.055184   \n",
              "4 -5.894741  -7.497775  -6.641140 -7.171933  ... -3.290756 -2.130994   \n",
              "\n",
              "         32        33        34        35        36        37        38  \\\n",
              "0 -0.241742 -0.275036  0.168752  0.323615  0.296374  0.240232  0.366528   \n",
              "1 -0.267990 -1.338692 -1.927761 -1.018401 -0.963583 -1.333958 -1.866681   \n",
              "2 -2.863963 -1.910514 -2.834326 -2.424511 -2.800462 -2.271753 -1.474033   \n",
              "3 -3.010881 -2.526923 -2.380335 -1.916101 -1.406517 -1.930398 -1.869083   \n",
              "4 -1.187432 -1.704373 -2.020617 -1.124170 -0.367220 -0.804883 -1.588557   \n",
              "\n",
              "         39  \n",
              "0  0.565608  \n",
              "1 -1.776560  \n",
              "2 -1.309104  \n",
              "3 -2.432397  \n",
              "4 -0.710653  \n",
              "\n",
              "[5 rows x 40 columns]"
            ],
            "text/html": [
              "\n",
              "  <div id=\"df-7c8ae3e6-ab99-4ccc-96c7-b68201567a5f\">\n",
              "    <div class=\"colab-df-container\">\n",
              "      <div>\n",
              "<style scoped>\n",
              "    .dataframe tbody tr th:only-of-type {\n",
              "        vertical-align: middle;\n",
              "    }\n",
              "\n",
              "    .dataframe tbody tr th {\n",
              "        vertical-align: top;\n",
              "    }\n",
              "\n",
              "    .dataframe thead th {\n",
              "        text-align: right;\n",
              "    }\n",
              "</style>\n",
              "<table border=\"1\" class=\"dataframe\">\n",
              "  <thead>\n",
              "    <tr style=\"text-align: right;\">\n",
              "      <th></th>\n",
              "      <th>0</th>\n",
              "      <th>1</th>\n",
              "      <th>2</th>\n",
              "      <th>3</th>\n",
              "      <th>4</th>\n",
              "      <th>5</th>\n",
              "      <th>6</th>\n",
              "      <th>7</th>\n",
              "      <th>8</th>\n",
              "      <th>9</th>\n",
              "      <th>...</th>\n",
              "      <th>30</th>\n",
              "      <th>31</th>\n",
              "      <th>32</th>\n",
              "      <th>33</th>\n",
              "      <th>34</th>\n",
              "      <th>35</th>\n",
              "      <th>36</th>\n",
              "      <th>37</th>\n",
              "      <th>38</th>\n",
              "      <th>39</th>\n",
              "    </tr>\n",
              "  </thead>\n",
              "  <tbody>\n",
              "    <tr>\n",
              "      <th>0</th>\n",
              "      <td>-659.858826</td>\n",
              "      <td>15.518291</td>\n",
              "      <td>4.643536</td>\n",
              "      <td>2.474949</td>\n",
              "      <td>1.856934</td>\n",
              "      <td>1.326966</td>\n",
              "      <td>1.053260</td>\n",
              "      <td>0.016039</td>\n",
              "      <td>0.478516</td>\n",
              "      <td>1.610914</td>\n",
              "      <td>...</td>\n",
              "      <td>-0.143819</td>\n",
              "      <td>0.068605</td>\n",
              "      <td>-0.241742</td>\n",
              "      <td>-0.275036</td>\n",
              "      <td>0.168752</td>\n",
              "      <td>0.323615</td>\n",
              "      <td>0.296374</td>\n",
              "      <td>0.240232</td>\n",
              "      <td>0.366528</td>\n",
              "      <td>0.565608</td>\n",
              "    </tr>\n",
              "    <tr>\n",
              "      <th>1</th>\n",
              "      <td>-673.250427</td>\n",
              "      <td>74.049706</td>\n",
              "      <td>27.088451</td>\n",
              "      <td>19.070208</td>\n",
              "      <td>12.857368</td>\n",
              "      <td>4.738476</td>\n",
              "      <td>3.261811</td>\n",
              "      <td>2.099103</td>\n",
              "      <td>-0.832536</td>\n",
              "      <td>-1.572835</td>\n",
              "      <td>...</td>\n",
              "      <td>-1.839497</td>\n",
              "      <td>-0.988127</td>\n",
              "      <td>-0.267990</td>\n",
              "      <td>-1.338692</td>\n",
              "      <td>-1.927761</td>\n",
              "      <td>-1.018401</td>\n",
              "      <td>-0.963583</td>\n",
              "      <td>-1.333958</td>\n",
              "      <td>-1.866681</td>\n",
              "      <td>-1.776560</td>\n",
              "    </tr>\n",
              "    <tr>\n",
              "      <th>2</th>\n",
              "      <td>-526.153442</td>\n",
              "      <td>88.377609</td>\n",
              "      <td>7.719505</td>\n",
              "      <td>23.285154</td>\n",
              "      <td>7.209867</td>\n",
              "      <td>2.030739</td>\n",
              "      <td>0.640738</td>\n",
              "      <td>-10.820081</td>\n",
              "      <td>-11.471400</td>\n",
              "      <td>1.595716</td>\n",
              "      <td>...</td>\n",
              "      <td>-4.535014</td>\n",
              "      <td>-2.545892</td>\n",
              "      <td>-2.863963</td>\n",
              "      <td>-1.910514</td>\n",
              "      <td>-2.834326</td>\n",
              "      <td>-2.424511</td>\n",
              "      <td>-2.800462</td>\n",
              "      <td>-2.271753</td>\n",
              "      <td>-1.474033</td>\n",
              "      <td>-1.309104</td>\n",
              "    </tr>\n",
              "    <tr>\n",
              "      <th>3</th>\n",
              "      <td>-430.444550</td>\n",
              "      <td>115.154541</td>\n",
              "      <td>35.908588</td>\n",
              "      <td>22.195105</td>\n",
              "      <td>8.008975</td>\n",
              "      <td>2.676006</td>\n",
              "      <td>1.217171</td>\n",
              "      <td>-1.682811</td>\n",
              "      <td>-0.173634</td>\n",
              "      <td>-2.103630</td>\n",
              "      <td>...</td>\n",
              "      <td>-1.594464</td>\n",
              "      <td>-2.055184</td>\n",
              "      <td>-3.010881</td>\n",
              "      <td>-2.526923</td>\n",
              "      <td>-2.380335</td>\n",
              "      <td>-1.916101</td>\n",
              "      <td>-1.406517</td>\n",
              "      <td>-1.930398</td>\n",
              "      <td>-1.869083</td>\n",
              "      <td>-2.432397</td>\n",
              "    </tr>\n",
              "    <tr>\n",
              "      <th>4</th>\n",
              "      <td>-487.827911</td>\n",
              "      <td>105.509575</td>\n",
              "      <td>34.932629</td>\n",
              "      <td>21.757771</td>\n",
              "      <td>8.002418</td>\n",
              "      <td>-1.943404</td>\n",
              "      <td>-5.894741</td>\n",
              "      <td>-7.497775</td>\n",
              "      <td>-6.641140</td>\n",
              "      <td>-7.171933</td>\n",
              "      <td>...</td>\n",
              "      <td>-3.290756</td>\n",
              "      <td>-2.130994</td>\n",
              "      <td>-1.187432</td>\n",
              "      <td>-1.704373</td>\n",
              "      <td>-2.020617</td>\n",
              "      <td>-1.124170</td>\n",
              "      <td>-0.367220</td>\n",
              "      <td>-0.804883</td>\n",
              "      <td>-1.588557</td>\n",
              "      <td>-0.710653</td>\n",
              "    </tr>\n",
              "  </tbody>\n",
              "</table>\n",
              "<p>5 rows × 40 columns</p>\n",
              "</div>\n",
              "      <button class=\"colab-df-convert\" onclick=\"convertToInteractive('df-7c8ae3e6-ab99-4ccc-96c7-b68201567a5f')\"\n",
              "              title=\"Convert this dataframe to an interactive table.\"\n",
              "              style=\"display:none;\">\n",
              "        \n",
              "  <svg xmlns=\"http://www.w3.org/2000/svg\" height=\"24px\"viewBox=\"0 0 24 24\"\n",
              "       width=\"24px\">\n",
              "    <path d=\"M0 0h24v24H0V0z\" fill=\"none\"/>\n",
              "    <path d=\"M18.56 5.44l.94 2.06.94-2.06 2.06-.94-2.06-.94-.94-2.06-.94 2.06-2.06.94zm-11 1L8.5 8.5l.94-2.06 2.06-.94-2.06-.94L8.5 2.5l-.94 2.06-2.06.94zm10 10l.94 2.06.94-2.06 2.06-.94-2.06-.94-.94-2.06-.94 2.06-2.06.94z\"/><path d=\"M17.41 7.96l-1.37-1.37c-.4-.4-.92-.59-1.43-.59-.52 0-1.04.2-1.43.59L10.3 9.45l-7.72 7.72c-.78.78-.78 2.05 0 2.83L4 21.41c.39.39.9.59 1.41.59.51 0 1.02-.2 1.41-.59l7.78-7.78 2.81-2.81c.8-.78.8-2.07 0-2.86zM5.41 20L4 18.59l7.72-7.72 1.47 1.35L5.41 20z\"/>\n",
              "  </svg>\n",
              "      </button>\n",
              "      \n",
              "  <style>\n",
              "    .colab-df-container {\n",
              "      display:flex;\n",
              "      flex-wrap:wrap;\n",
              "      gap: 12px;\n",
              "    }\n",
              "\n",
              "    .colab-df-convert {\n",
              "      background-color: #E8F0FE;\n",
              "      border: none;\n",
              "      border-radius: 50%;\n",
              "      cursor: pointer;\n",
              "      display: none;\n",
              "      fill: #1967D2;\n",
              "      height: 32px;\n",
              "      padding: 0 0 0 0;\n",
              "      width: 32px;\n",
              "    }\n",
              "\n",
              "    .colab-df-convert:hover {\n",
              "      background-color: #E2EBFA;\n",
              "      box-shadow: 0px 1px 2px rgba(60, 64, 67, 0.3), 0px 1px 3px 1px rgba(60, 64, 67, 0.15);\n",
              "      fill: #174EA6;\n",
              "    }\n",
              "\n",
              "    [theme=dark] .colab-df-convert {\n",
              "      background-color: #3B4455;\n",
              "      fill: #D2E3FC;\n",
              "    }\n",
              "\n",
              "    [theme=dark] .colab-df-convert:hover {\n",
              "      background-color: #434B5C;\n",
              "      box-shadow: 0px 1px 3px 1px rgba(0, 0, 0, 0.15);\n",
              "      filter: drop-shadow(0px 1px 2px rgba(0, 0, 0, 0.3));\n",
              "      fill: #FFFFFF;\n",
              "    }\n",
              "  </style>\n",
              "\n",
              "      <script>\n",
              "        const buttonEl =\n",
              "          document.querySelector('#df-7c8ae3e6-ab99-4ccc-96c7-b68201567a5f button.colab-df-convert');\n",
              "        buttonEl.style.display =\n",
              "          google.colab.kernel.accessAllowed ? 'block' : 'none';\n",
              "\n",
              "        async function convertToInteractive(key) {\n",
              "          const element = document.querySelector('#df-7c8ae3e6-ab99-4ccc-96c7-b68201567a5f');\n",
              "          const dataTable =\n",
              "            await google.colab.kernel.invokeFunction('convertToInteractive',\n",
              "                                                     [key], {});\n",
              "          if (!dataTable) return;\n",
              "\n",
              "          const docLinkHtml = 'Like what you see? Visit the ' +\n",
              "            '<a target=\"_blank\" href=https://colab.research.google.com/notebooks/data_table.ipynb>data table notebook</a>'\n",
              "            + ' to learn more about interactive tables.';\n",
              "          element.innerHTML = '';\n",
              "          dataTable['output_type'] = 'display_data';\n",
              "          await google.colab.output.renderOutput(dataTable, element);\n",
              "          const docLink = document.createElement('div');\n",
              "          docLink.innerHTML = docLinkHtml;\n",
              "          element.appendChild(docLink);\n",
              "        }\n",
              "      </script>\n",
              "    </div>\n",
              "  </div>\n",
              "  "
            ]
          },
          "metadata": {},
          "execution_count": 93
        }
      ]
    },
    {
      "cell_type": "code",
      "source": [
        "TY = tdata.iloc[:,-1]\n",
        "TY.head()"
      ],
      "metadata": {
        "colab": {
          "base_uri": "https://localhost:8080/"
        },
        "id": "gSsbhOJ4v-Im",
        "outputId": "0de90c2b-4241-4beb-85ce-8ca7b22cb7d6"
      },
      "execution_count": null,
      "outputs": [
        {
          "output_type": "execute_result",
          "data": {
            "text/plain": [
              "0    1\n",
              "1    1\n",
              "2    0\n",
              "3    0\n",
              "4    0\n",
              "Name: label, dtype: int64"
            ]
          },
          "metadata": {},
          "execution_count": 94
        }
      ]
    },
    {
      "cell_type": "code",
      "source": [],
      "metadata": {
        "id": "wrWPt4s1v-NY"
      },
      "execution_count": null,
      "outputs": []
    },
    {
      "cell_type": "code",
      "source": [
        "from sklearn.ensemble import RandomForestClassifier\n",
        "from sklearn.model_selection import train_test_split\n",
        "\n",
        "rfc = RandomForestClassifier(n_estimators = 150)\n",
        "X_train, X_val, y_train, y_val = train_test_split(X, Y, test_size=0.2, random_state=10, shuffle = True)\n",
        "rfc.fit(X_train, y_train)"
      ],
      "metadata": {
        "colab": {
          "base_uri": "https://localhost:8080/"
        },
        "id": "PcPkAII1uaBX",
        "outputId": "818a0585-391a-4e41-f81d-ed283906fdf6"
      },
      "execution_count": null,
      "outputs": [
        {
          "output_type": "execute_result",
          "data": {
            "text/plain": [
              "RandomForestClassifier(n_estimators=150)"
            ]
          },
          "metadata": {},
          "execution_count": 86
        }
      ]
    },
    {
      "cell_type": "code",
      "source": [
        "\n",
        "acc_mfcc=rfc.score(TX, TY)\n",
        "print('Accuracy using only MFCC: ',acc_mfcc)"
      ],
      "metadata": {
        "colab": {
          "base_uri": "https://localhost:8080/"
        },
        "id": "5c30xiEpvRRo",
        "outputId": "b9093b49-3a28-4776-92c0-432ade726e89"
      },
      "execution_count": null,
      "outputs": [
        {
          "output_type": "stream",
          "name": "stdout",
          "text": [
            "Accuracy using only MFCC:  0.5625\n"
          ]
        }
      ]
    },
    {
      "cell_type": "code",
      "source": [
        "l = linear_model.LogisticRegression(C=0.0001)\n",
        "l.fit(X_train,y_train)"
      ],
      "metadata": {
        "colab": {
          "base_uri": "https://localhost:8080/"
        },
        "id": "I7xSh-8-vI7H",
        "outputId": "08167e06-8e4d-4e05-8b42-9856c57102ae"
      },
      "execution_count": null,
      "outputs": [
        {
          "output_type": "execute_result",
          "data": {
            "text/plain": [
              "LogisticRegression(C=0.0001)"
            ]
          },
          "metadata": {},
          "execution_count": 87
        }
      ]
    },
    {
      "cell_type": "code",
      "source": [
        "acc=l.score(TX, TY)\n",
        "print('Accuracy using only MFCC: ',acc)"
      ],
      "metadata": {
        "colab": {
          "base_uri": "https://localhost:8080/"
        },
        "id": "7ZJ1BUQuw5Vk",
        "outputId": "79fb6432-c22a-45e9-df34-98af46884c00"
      },
      "execution_count": null,
      "outputs": [
        {
          "output_type": "stream",
          "name": "stdout",
          "text": [
            "Accuracy using only MFCC:  0.5833333333333334\n"
          ]
        }
      ]
    },
    {
      "cell_type": "code",
      "source": [],
      "metadata": {
        "id": "WPCSN_Slutz1"
      },
      "execution_count": null,
      "outputs": []
    },
    {
      "cell_type": "code",
      "source": [
        "def get_tdata(file_names,file_labels):\n",
        "    features, features_delta, features_deltadelta, labels = np.empty((0,n_mfcc)), np.empty((0,n_mfcc)),np.empty((0,n_mfcc)), np.empty(0)\n",
        "    for fn,fl in zip(file_names,file_labels):\n",
        "        tpath='/content/drive/MyDrive/ADReSS-IS2020-train/ADReSS-IS2020-data/train/Full_wave_enhanced_audio/all'\n",
        "        mfcc, mfcc_delta, mfcc_deltadelta = mfcc_extraction(fn,tpath)\n",
        "        \n",
        "        features = np.vstack([features, mfcc])\n",
        "        features_delta = np.vstack([features_delta, mfcc_delta])\n",
        "        features_deltadelta = np.vstack([features_deltadelta, mfcc_deltadelta])\n",
        "        labels = np.append(labels, fl*np.ones(mfcc.shape[0]))\n",
        "    return np.array(features), np.array(features_delta),np.array(features_deltadelta), np.array(labels, dtype = np.int)"
      ],
      "metadata": {
        "id": "lx7IHnSUOx_a"
      },
      "execution_count": null,
      "outputs": []
    },
    {
      "cell_type": "code",
      "source": [
        "\n",
        "def get_testdata(file_names,file_labels):\n",
        "    features, features_delta,features_deltadelta, labels = np.empty((0,n_mfcc)), np.empty((0,n_mfcc)),np.empty((0,n_mfcc)), np.empty(0)\n",
        "    for fn,fl in zip(file_names,file_labels):\n",
        "        tpath='/content/drive/MyDrive/ADReSS-IS2020-test/ADReSS-IS2020-data/test/Full_wave_enhanced_audio/all'\n",
        "        mfcc, mfcc_delta, mfcc_deltadelta = mfcc_extraction(fn,tpath)\n",
        "        \n",
        "        features = np.vstack([features, mfcc])\n",
        "        features_delta = np.vstack([features_delta, mfcc_delta])\n",
        "        features_deltadelta = np.vstack([features_deltadelta, mfcc_deltadelta])\n",
        "        labels = np.append(labels, fl*np.ones(mfcc.shape[0]))\n",
        "    return np.array(features), np.array(features_delta),np.array(features_deltadelta), np.array(labels, dtype = np.int)"
      ],
      "metadata": {
        "id": "xHcQOciam55Z"
      },
      "execution_count": null,
      "outputs": []
    },
    {
      "cell_type": "code",
      "source": [
        "n_mfcc=40\n",
        "\n",
        "x_train1, x_train2,xtrain3,ytrain=get_tdata(train_fnames,labels_train)\n"
      ],
      "metadata": {
        "colab": {
          "base_uri": "https://localhost:8080/"
        },
        "id": "P2i35K94VeBs",
        "outputId": "cb7b7243-d193-4510-f68f-e0f4d2efabd1"
      },
      "execution_count": null,
      "outputs": [
        {
          "output_type": "stream",
          "name": "stderr",
          "text": [
            "/usr/local/lib/python3.7/dist-packages/ipykernel_launcher.py:11: DeprecationWarning: `np.int` is a deprecated alias for the builtin `int`. To silence this warning, use `int` by itself. Doing this will not modify any behavior and is safe. When replacing `np.int`, you may wish to use e.g. `np.int64` or `np.int32` to specify the precision. If you wish to review your current use, check the release note link for additional information.\n",
            "Deprecated in NumPy 1.20; for more details and guidance: https://numpy.org/devdocs/release/1.20.0-notes.html#deprecations\n",
            "  # This is added back by InteractiveShellApp.init_path()\n"
          ]
        }
      ]
    },
    {
      "cell_type": "markdown",
      "source": [
        "MFCC only"
      ],
      "metadata": {
        "id": "vTfpgs4Wnl2q"
      }
    },
    {
      "cell_type": "code",
      "source": [
        "from sklearn.preprocessing import MinMaxScaler\n",
        "data = x_train1\n",
        "scaler = MinMaxScaler(feature_range=(0, 1))\n",
        "scaler.fit(data)\n",
        "\n",
        "\n",
        "print(np.amax(x_train1))\n",
        "\n",
        "normalized_features = scaler.transform(data)\n",
        "print(np.amax(normalized_features))"
      ],
      "metadata": {
        "colab": {
          "base_uri": "https://localhost:8080/"
        },
        "id": "K-PxSefwjoOt",
        "outputId": "98e73b3f-8bad-4abf-ab30-31c9559a4b0f"
      },
      "execution_count": null,
      "outputs": [
        {
          "output_type": "stream",
          "name": "stdout",
          "text": [
            "260.486083984375\n",
            "1.0\n"
          ]
        }
      ]
    },
    {
      "cell_type": "code",
      "source": [
        "from sklearn import tree\n",
        "clf = tree.DecisionTreeClassifier()\n",
        "\n",
        "clf.fit(normalized_features, ytrain)"
      ],
      "metadata": {
        "colab": {
          "base_uri": "https://localhost:8080/"
        },
        "id": "r6rDUrznk9yC",
        "outputId": "c26bd749-4b31-4e00-a26a-c69a62428538"
      },
      "execution_count": null,
      "outputs": [
        {
          "output_type": "execute_result",
          "data": {
            "text/plain": [
              "DecisionTreeClassifier()"
            ]
          },
          "metadata": {},
          "execution_count": 58
        }
      ]
    },
    {
      "cell_type": "code",
      "source": [
        "n_mfcc=40\n",
        "\n",
        "x_test1, x_test2,ytest=get_testdata(test_fnames,labels_test)"
      ],
      "metadata": {
        "colab": {
          "base_uri": "https://localhost:8080/"
        },
        "id": "tRqFsDyEl31c",
        "outputId": "1b204723-6531-4200-8b90-0d4d5f765d72"
      },
      "execution_count": null,
      "outputs": [
        {
          "output_type": "stream",
          "name": "stderr",
          "text": [
            "/usr/local/lib/python3.7/dist-packages/ipykernel_launcher.py:10: DeprecationWarning: `np.int` is a deprecated alias for the builtin `int`. To silence this warning, use `int` by itself. Doing this will not modify any behavior and is safe. When replacing `np.int`, you may wish to use e.g. `np.int64` or `np.int32` to specify the precision. If you wish to review your current use, check the release note link for additional information.\n",
            "Deprecated in NumPy 1.20; for more details and guidance: https://numpy.org/devdocs/release/1.20.0-notes.html#deprecations\n",
            "  # Remove the CWD from sys.path while we load stuff.\n"
          ]
        }
      ]
    },
    {
      "cell_type": "code",
      "source": [
        "from sklearn.preprocessing import MinMaxScaler\n",
        "data = x_test1\n",
        "scaler = MinMaxScaler(feature_range=(0, 1))\n",
        "scaler.fit(data)\n",
        "\n",
        "\n",
        "print(np.amax(x_test1))\n",
        "\n",
        "normalized_tfeatures = scaler.transform(data)\n",
        "print(np.amax(normalized_tfeatures))"
      ],
      "metadata": {
        "colab": {
          "base_uri": "https://localhost:8080/"
        },
        "id": "n5xKkLh0nH3J",
        "outputId": "d537ddcf-ba53-4d36-ce2f-75a614e1b15e"
      },
      "execution_count": null,
      "outputs": [
        {
          "output_type": "stream",
          "name": "stdout",
          "text": [
            "268.9161071777344\n",
            "1.0\n"
          ]
        }
      ]
    },
    {
      "cell_type": "code",
      "source": [
        "y_pred = clf.predict(x_test1)\n",
        "print(accuracy_score(ytest, y_pred))"
      ],
      "metadata": {
        "colab": {
          "base_uri": "https://localhost:8080/"
        },
        "id": "wKTuBfn8lt96",
        "outputId": "d39fadae-18c8-4b8b-ed92-5ff8fd2f4a8c"
      },
      "execution_count": null,
      "outputs": [
        {
          "output_type": "stream",
          "name": "stdout",
          "text": [
            "0.5123048797637463\n"
          ]
        }
      ]
    },
    {
      "cell_type": "code",
      "source": [
        "y_pred = clf.predict(normalized_tfeatures)\n",
        "print(accuracy_score(ytest, y_pred))"
      ],
      "metadata": {
        "colab": {
          "base_uri": "https://localhost:8080/"
        },
        "id": "2tC4MFGFocI4",
        "outputId": "ae85dac6-c9d3-439e-ce87-99dc1936ff6a"
      },
      "execution_count": null,
      "outputs": [
        {
          "output_type": "stream",
          "name": "stdout",
          "text": [
            "0.5434772418319036\n"
          ]
        }
      ]
    },
    {
      "cell_type": "code",
      "source": [
        "y_pred"
      ],
      "metadata": {
        "colab": {
          "base_uri": "https://localhost:8080/"
        },
        "id": "f04FFbp1nX6W",
        "outputId": "978a047c-ae13-4d92-a048-24351ee35fb2"
      },
      "execution_count": null,
      "outputs": [
        {
          "output_type": "execute_result",
          "data": {
            "text/plain": [
              "array([0, 1, 0, 0, ..., 1, 1, 1, 1])"
            ]
          },
          "metadata": {},
          "execution_count": 76
        }
      ]
    },
    {
      "cell_type": "code",
      "source": [
        "y_pred.shape\n"
      ],
      "metadata": {
        "colab": {
          "base_uri": "https://localhost:8080/"
        },
        "id": "UxCXs6MaoByv",
        "outputId": "b61cedc8-fffb-4f9c-a5a8-033cfd0fe711"
      },
      "execution_count": null,
      "outputs": [
        {
          "output_type": "execute_result",
          "data": {
            "text/plain": [
              "(42666,)"
            ]
          },
          "metadata": {},
          "execution_count": 77
        }
      ]
    },
    {
      "cell_type": "markdown",
      "source": [
        "delta only"
      ],
      "metadata": {
        "id": "LMTE9OYLno8n"
      }
    },
    {
      "cell_type": "code",
      "source": [],
      "metadata": {
        "id": "IWZ0Ovc0nszX"
      },
      "execution_count": null,
      "outputs": []
    },
    {
      "cell_type": "code",
      "source": [
        "from sklearn.preprocessing import MinMaxScaler\n",
        "data = x_train2\n",
        "scaler = MinMaxScaler(feature_range=(0, 1))\n",
        "scaler.fit(data)\n",
        "\n",
        "\n",
        "print(np.amax(x_train2))\n",
        "\n",
        "normalized_features_d = scaler.transform(data)\n",
        "print(np.amax(normalized_features_d))\n",
        "clfdelta = tree.DecisionTreeClassifier()\n",
        "\n",
        "clfdelta.fit(normalized_features_d, ytrain)"
      ],
      "metadata": {
        "colab": {
          "base_uri": "https://localhost:8080/"
        },
        "id": "YsoYTWgxnqM1",
        "outputId": "0e4ef341-a953-4141-e7c7-94f8fdca6934"
      },
      "execution_count": null,
      "outputs": [
        {
          "output_type": "stream",
          "name": "stdout",
          "text": [
            "178.9772491455078\n",
            "1.0\n"
          ]
        },
        {
          "output_type": "execute_result",
          "data": {
            "text/plain": [
              "DecisionTreeClassifier()"
            ]
          },
          "metadata": {},
          "execution_count": 65
        }
      ]
    },
    {
      "cell_type": "code",
      "source": [
        "from sklearn.preprocessing import MinMaxScaler\n",
        "data = x_test2\n",
        "scaler = MinMaxScaler(feature_range=(0, 1))\n",
        "scaler.fit(data)\n",
        "\n",
        "\n",
        "print(np.amax(x_test2))\n",
        "\n",
        "normalized_tfeatures_d = scaler.transform(data)\n",
        "print(np.amax(normalized_tfeatures_d))"
      ],
      "metadata": {
        "colab": {
          "base_uri": "https://localhost:8080/"
        },
        "id": "hsdSEdpbnt6_",
        "outputId": "7373bc46-cdbf-46f6-ff2a-08d17b1ed880"
      },
      "execution_count": null,
      "outputs": [
        {
          "output_type": "stream",
          "name": "stdout",
          "text": [
            "174.30821228027344\n",
            "1.0\n"
          ]
        }
      ]
    },
    {
      "cell_type": "code",
      "source": [
        "y_pred = clf.predict(normalized_tfeatures_d)\n",
        "print(accuracy_score(ytest, y_pred))"
      ],
      "metadata": {
        "colab": {
          "base_uri": "https://localhost:8080/"
        },
        "id": "nxhox4uEoQpc",
        "outputId": "a0e46665-4541-465d-95f6-038b6dd0f960"
      },
      "execution_count": null,
      "outputs": [
        {
          "output_type": "stream",
          "name": "stdout",
          "text": [
            "0.42699104673510524\n"
          ]
        }
      ]
    },
    {
      "cell_type": "code",
      "source": [],
      "metadata": {
        "id": "BOSftrisoQlM"
      },
      "execution_count": null,
      "outputs": []
    },
    {
      "cell_type": "code",
      "source": [],
      "metadata": {
        "id": "sNuBwGl5oQf5"
      },
      "execution_count": null,
      "outputs": []
    },
    {
      "cell_type": "markdown",
      "source": [
        "delta delta only"
      ],
      "metadata": {
        "id": "TeLx1fbTQOSc"
      }
    },
    {
      "cell_type": "code",
      "source": [],
      "metadata": {
        "id": "MPlTACLVQN6g"
      },
      "execution_count": null,
      "outputs": []
    },
    {
      "cell_type": "code",
      "source": [
        "from sklearn.preprocessing import MinMaxScaler\n",
        "data = xtrain3\n",
        "scaler = MinMaxScaler(feature_range=(0, 1))\n",
        "scaler.fit(data)\n",
        "\n",
        "\n",
        "print(np.amax(xtrain3))\n",
        "\n",
        "normalized_features = scaler.transform(data)\n",
        "print(np.amax(normalized_features))"
      ],
      "metadata": {
        "colab": {
          "base_uri": "https://localhost:8080/"
        },
        "outputId": "4a8a59a0-4752-4e1b-c869-dd54be6846d7",
        "id": "Oldt2nYOQQ0e"
      },
      "execution_count": null,
      "outputs": [
        {
          "output_type": "stream",
          "name": "stdout",
          "text": [
            "94.35246276855469\n",
            "1.0000000000000002\n"
          ]
        }
      ]
    },
    {
      "cell_type": "code",
      "source": [
        "from sklearn import tree\n",
        "clf = tree.DecisionTreeClassifier()\n",
        "\n",
        "clf.fit(normalized_features, ytrain)\n",
        "n_mfcc=40\n",
        "\n",
        "x_test1, x_test2,x_test3,ytest=get_testdata(test_fnames,labels_test)\n"
      ],
      "metadata": {
        "colab": {
          "base_uri": "https://localhost:8080/"
        },
        "id": "hBMQNNMPQQbk",
        "outputId": "123cd924-4a14-4a05-baf2-04e71676be9a"
      },
      "execution_count": null,
      "outputs": [
        {
          "output_type": "stream",
          "name": "stderr",
          "text": [
            "/usr/local/lib/python3.7/dist-packages/ipykernel_launcher.py:12: DeprecationWarning: `np.int` is a deprecated alias for the builtin `int`. To silence this warning, use `int` by itself. Doing this will not modify any behavior and is safe. When replacing `np.int`, you may wish to use e.g. `np.int64` or `np.int32` to specify the precision. If you wish to review your current use, check the release note link for additional information.\n",
            "Deprecated in NumPy 1.20; for more details and guidance: https://numpy.org/devdocs/release/1.20.0-notes.html#deprecations\n",
            "  if sys.path[0] == '':\n"
          ]
        }
      ]
    },
    {
      "cell_type": "code",
      "source": [
        "from sklearn.preprocessing import MinMaxScaler\n",
        "data = x_test3\n",
        "scaler = MinMaxScaler(feature_range=(0, 1))\n",
        "scaler.fit(data)\n",
        "\n",
        "\n",
        "print(np.amax(x_test3))\n",
        "\n",
        "normalized_tfeatures = scaler.transform(data)\n",
        "print(np.amax(normalized_tfeatures))"
      ],
      "metadata": {
        "colab": {
          "base_uri": "https://localhost:8080/"
        },
        "id": "oT85Gw7XQQVw",
        "outputId": "5bb8540e-cdbe-45b5-f888-ab800d320fcd"
      },
      "execution_count": null,
      "outputs": [
        {
          "output_type": "stream",
          "name": "stdout",
          "text": [
            "92.41328430175781\n",
            "1.0\n"
          ]
        }
      ]
    },
    {
      "cell_type": "code",
      "source": [
        "y_pred = clf.predict(normalized_tfeatures)\n",
        "print(accuracy_score(ytest, y_pred))"
      ],
      "metadata": {
        "colab": {
          "base_uri": "https://localhost:8080/"
        },
        "id": "ve3APlz0QnsV",
        "outputId": "3795435f-9cc2-4d50-ea38-76021281a80e"
      },
      "execution_count": null,
      "outputs": [
        {
          "output_type": "stream",
          "name": "stdout",
          "text": [
            "0.4881404396943702\n"
          ]
        }
      ]
    },
    {
      "cell_type": "code",
      "source": [],
      "metadata": {
        "id": "_V3n6OeAQQRA"
      },
      "execution_count": null,
      "outputs": []
    },
    {
      "cell_type": "code",
      "source": [
        "x_train1.shape"
      ],
      "metadata": {
        "colab": {
          "base_uri": "https://localhost:8080/"
        },
        "id": "6zVoq4N2WD8l",
        "outputId": "0dbb9670-0439-45f9-cccf-53a6891cf8ec"
      },
      "execution_count": null,
      "outputs": [
        {
          "output_type": "execute_result",
          "data": {
            "text/plain": [
              "(83886, 40)"
            ]
          },
          "metadata": {},
          "execution_count": 22
        }
      ]
    },
    {
      "cell_type": "code",
      "source": [
        "x_train2.shape"
      ],
      "metadata": {
        "colab": {
          "base_uri": "https://localhost:8080/"
        },
        "id": "AIkbohMBhV_q",
        "outputId": "0e2d2783-0361-4b16-e68c-fbb1574248f2"
      },
      "execution_count": null,
      "outputs": [
        {
          "output_type": "execute_result",
          "data": {
            "text/plain": [
              "(83886, 40)"
            ]
          },
          "metadata": {},
          "execution_count": 23
        }
      ]
    },
    {
      "cell_type": "code",
      "source": [
        "ytrain.shape"
      ],
      "metadata": {
        "colab": {
          "base_uri": "https://localhost:8080/"
        },
        "id": "K8rAoF6xhaEV",
        "outputId": "c9066582-c220-4c46-a4b8-a4fe63bb9c6c"
      },
      "execution_count": null,
      "outputs": [
        {
          "output_type": "execute_result",
          "data": {
            "text/plain": [
              "(83886,)"
            ]
          },
          "metadata": {},
          "execution_count": 24
        }
      ]
    },
    {
      "cell_type": "code",
      "source": [
        "ytrain[5]"
      ],
      "metadata": {
        "colab": {
          "base_uri": "https://localhost:8080/"
        },
        "id": "09tBafVomtAs",
        "outputId": "51a91af5-0cf7-4613-8802-5e96264c9e30"
      },
      "execution_count": null,
      "outputs": [
        {
          "output_type": "execute_result",
          "data": {
            "text/plain": [
              "0"
            ]
          },
          "metadata": {},
          "execution_count": 25
        }
      ]
    },
    {
      "cell_type": "code",
      "source": [
        "# Train classifier - MLP\n",
        "print (\"Training classifier...\")\n",
        "np.random.seed(42)\n",
        "t0 = time()\n",
        "clf1 = MLPClassifier(hidden_layer_sizes=(40), alpha=0.01)\n",
        "clf1.fit(x_train1, ytrain)\n",
        "#print (\"Training on MFCC done in %0.3fs.\" % (time()-t0)\n",
        "t0 = time()\n",
        "clf2 = MLPClassifier(hidden_layer_sizes=(40), alpha=1)\n",
        "clf2.fit(x_train2, ytrain)\n",
        "#print \"Training on MFCC delta done in %0.3fs.\" % (time()-t0)"
      ],
      "metadata": {
        "colab": {
          "base_uri": "https://localhost:8080/"
        },
        "id": "n32XC5y0hcuv",
        "outputId": "283ddfac-fbb4-45fb-fd78-9368ad9ef252"
      },
      "execution_count": null,
      "outputs": [
        {
          "output_type": "stream",
          "name": "stdout",
          "text": [
            "Training classifier...\n"
          ]
        },
        {
          "output_type": "execute_result",
          "data": {
            "text/plain": [
              "MLPClassifier(alpha=1, hidden_layer_sizes=40)"
            ]
          },
          "metadata": {},
          "execution_count": 26
        }
      ]
    },
    {
      "cell_type": "code",
      "source": [
        "x1_mfcc, x2_mfcc_delta = mfcc_extraction(test_fnames[45],testp)\n",
        "     "
      ],
      "metadata": {
        "id": "bjyEHG3vgYAU"
      },
      "execution_count": null,
      "outputs": []
    },
    {
      "cell_type": "code",
      "source": [
        "x1_mfcc.shape"
      ],
      "metadata": {
        "colab": {
          "base_uri": "https://localhost:8080/"
        },
        "id": "x7xcD0cUhIIh",
        "outputId": "68f467aa-f9ee-4a8a-9e23-21e7fb75c245"
      },
      "execution_count": null,
      "outputs": [
        {
          "output_type": "execute_result",
          "data": {
            "text/plain": [
              "(1041, 40)"
            ]
          },
          "metadata": {},
          "execution_count": 45
        }
      ]
    },
    {
      "cell_type": "code",
      "source": [
        "p=clf1.predict(x1_mfcc)"
      ],
      "metadata": {
        "id": "--jhYSVFhMzQ"
      },
      "execution_count": null,
      "outputs": []
    },
    {
      "cell_type": "code",
      "source": [
        "print(p)"
      ],
      "metadata": {
        "colab": {
          "base_uri": "https://localhost:8080/"
        },
        "id": "QFcRZekWitg-",
        "outputId": "aaebe3d6-557e-4ce0-c053-e599a5ef24a6"
      },
      "execution_count": null,
      "outputs": [
        {
          "output_type": "stream",
          "name": "stdout",
          "text": [
            "[1 0 0 1 ... 0 0 0 1]\n"
          ]
        }
      ]
    },
    {
      "cell_type": "code",
      "source": [
        "print(np.sum(p, axis=0))\n"
      ],
      "metadata": {
        "colab": {
          "base_uri": "https://localhost:8080/"
        },
        "id": "s4z-s4u6htZz",
        "outputId": "06899487-d0d8-4359-dc80-0d04512dae50"
      },
      "execution_count": null,
      "outputs": [
        {
          "output_type": "stream",
          "name": "stdout",
          "text": [
            "835\n"
          ]
        }
      ]
    },
    {
      "cell_type": "code",
      "source": [
        "print(np.sum(p, axis=0).reshape(-1))"
      ],
      "metadata": {
        "colab": {
          "base_uri": "https://localhost:8080/"
        },
        "id": "-tcIlTvniQR5",
        "outputId": "2cdb1c12-edd9-4d7f-aceb-be391668945f"
      },
      "execution_count": null,
      "outputs": [
        {
          "output_type": "stream",
          "name": "stdout",
          "text": [
            "[797]\n"
          ]
        }
      ]
    },
    {
      "cell_type": "code",
      "source": [
        "testp='/content/drive/MyDrive/ADReSS-IS2020-test/ADReSS-IS2020-data/test/Full_wave_enhanced_audio/all'\n",
        "def predict_proba(clf1, clf2, X_val):\n",
        "    pred_proba = np.empty((0,2))\n",
        "    for x in X_val:\n",
        "        x_mfcc, x_mfcc_delta = mfcc_extraction(x,testp)\n",
        "        y_pred_proba1 = np.sum(clf1.predict(x_mfcc), axis=0).reshape(-1)\n",
        "        y_pred_proba2 = np.sum(clf2.predict(x_mfcc_delta), axis=0).reshape(-1)\n",
        "        pred_proba = np.vstack([pred_proba,np.hstack([y_pred_proba1,y_pred_proba2])])\n",
        "        #print pred_proba.shape\n",
        "    return np.array(pred_proba, dtype=np.int)"
      ],
      "metadata": {
        "id": "tZzB0nQdnFxw"
      },
      "execution_count": null,
      "outputs": []
    },
    {
      "cell_type": "code",
      "source": [
        "#pred_proba_val = predict_proba(clf1, clf2, files_val)\n",
        "pred_proba_test = predict_proba(clf1, clf2, test_fnames)\n",
        "print (pred_proba_test.shape)\n",
        "#print (labels_val.shape)"
      ],
      "metadata": {
        "colab": {
          "base_uri": "https://localhost:8080/"
        },
        "id": "aOnzaiSpnUPA",
        "outputId": "ae377274-d92f-4f98-e77c-075f65dffa17"
      },
      "execution_count": null,
      "outputs": [
        {
          "output_type": "stream",
          "name": "stdout",
          "text": [
            "(48, 2)\n"
          ]
        },
        {
          "output_type": "stream",
          "name": "stderr",
          "text": [
            "/usr/local/lib/python3.7/dist-packages/ipykernel_launcher.py:10: DeprecationWarning: `np.int` is a deprecated alias for the builtin `int`. To silence this warning, use `int` by itself. Doing this will not modify any behavior and is safe. When replacing `np.int`, you may wish to use e.g. `np.int64` or `np.int32` to specify the precision. If you wish to review your current use, check the release note link for additional information.\n",
            "Deprecated in NumPy 1.20; for more details and guidance: https://numpy.org/devdocs/release/1.20.0-notes.html#deprecations\n",
            "  # Remove the CWD from sys.path while we load stuff.\n"
          ]
        }
      ]
    },
    {
      "cell_type": "code",
      "source": [
        "pred_proba_test"
      ],
      "metadata": {
        "colab": {
          "base_uri": "https://localhost:8080/"
        },
        "id": "bkeKiHDZjCXz",
        "outputId": "c443f46f-6e60-4ed8-ce23-37efaae176f0"
      },
      "execution_count": null,
      "outputs": [
        {
          "output_type": "execute_result",
          "data": {
            "text/plain": [
              "array([[962, 960],\n",
              "       [797, 219],\n",
              "       [711, 653],\n",
              "       [515, 380],\n",
              "       ...,\n",
              "       [424, 292],\n",
              "       [835, 735],\n",
              "       [602, 545],\n",
              "       [447, 376]])"
            ]
          },
          "metadata": {},
          "execution_count": 50
        }
      ]
    },
    {
      "cell_type": "code",
      "source": [
        "#print \"Score calibration...\"\n",
        "t0 = time()\n",
        "logistic = linear_model.LogisticRegression(C=0.0001)\n",
        "logistic.fit(pred_proba_test,labels_test)\n",
        "#print \"Done in %0.3fs.\" % (time()-t0)"
      ],
      "metadata": {
        "colab": {
          "base_uri": "https://localhost:8080/"
        },
        "id": "dE7g1QI1nY0K",
        "outputId": "6d71bc00-8dd3-415e-9d54-ffd67dc306f3"
      },
      "execution_count": null,
      "outputs": [
        {
          "output_type": "execute_result",
          "data": {
            "text/plain": [
              "LogisticRegression(C=0.0001)"
            ]
          },
          "metadata": {},
          "execution_count": 51
        }
      ]
    },
    {
      "cell_type": "code",
      "source": [
        "logistic = linear_model.LogisticRegression(C=0.0001)\n",
        "y_test_pred = logistic.predict(pred_proba_test)\n",
        "np.savetxt('y_test_pred_mfcc_delta_mfcc_mlp_logistic.txt', y_test_pred, fmt='%d')\n",
        "print y_test_pred"
      ],
      "metadata": {
        "id": "p6g2pRtpnlDY"
      },
      "execution_count": null,
      "outputs": []
    },
    {
      "cell_type": "code",
      "source": [
        "y_test_pred = logistic.predict(pred_proba_test)"
      ],
      "metadata": {
        "id": "-xpZyqQqnz-K"
      },
      "execution_count": null,
      "outputs": []
    },
    {
      "cell_type": "code",
      "source": [
        "print(y_test_pred)"
      ],
      "metadata": {
        "colab": {
          "base_uri": "https://localhost:8080/"
        },
        "id": "9TllnC1mkd-7",
        "outputId": "bd8949b3-b137-4c87-c5ea-78e4ead251ac"
      },
      "execution_count": null,
      "outputs": [
        {
          "output_type": "stream",
          "name": "stdout",
          "text": [
            "[1 0 1 0 0 0 0 0 0 1 0 1 1 0 0 0 0 0 0 0 0 1 0 0 1 1 0 1 0 1 0 1 1 0 1 1 1 1 1 0 1 0 0 1 0 1 1 0]\n"
          ]
        }
      ]
    },
    {
      "cell_type": "code",
      "source": [
        "\n",
        "from sklearn.metrics import accuracy_score\n",
        "from sklearn.metrics import plot_confusion_matrix\n",
        "from sklearn.metrics import classification_report\n",
        "print('Accuracy: {:.2f}'.format(accuracy_score(labels_test, y_test_pred)))"
      ],
      "metadata": {
        "colab": {
          "base_uri": "https://localhost:8080/"
        },
        "id": "oklc_G_zxseL",
        "outputId": "95ba47cf-52d1-4f9e-d520-fbd73b0fab10"
      },
      "execution_count": null,
      "outputs": [
        {
          "output_type": "stream",
          "name": "stdout",
          "text": [
            "Accuracy: 0.69\n"
          ]
        }
      ]
    },
    {
      "cell_type": "code",
      "source": [
        "DATA = Path('/content/drive/MyDrive/ADReSS-IS2020-test')\n",
        "TEST_AUDIO_PATH = DATA/'ADReSS-IS2020-data/test/Full_wave_enhanced_audio/cd'\n",
        "TEST_AUDIO_PATH2 = DATA/'ADReSS-IS2020-data/test/Full_wave_enhanced_audio/cc'\n",
        "TEST_IMAGE_PATH = DATA/'ADReSS2020_images/test'\n",
        "test_cd = [f.name for f in (TEST_AUDIO_PATH.iterdir())\n",
        "                         if 'S' in f.name]\n",
        "len(test_cd)\n",
        "test_cc = [f.name for f in (TEST_AUDIO_PATH2.iterdir())\n",
        "                         if 'S' in f.name]\n"
      ],
      "metadata": {
        "id": "DB18EhDanztV"
      },
      "execution_count": null,
      "outputs": []
    },
    {
      "cell_type": "code",
      "source": [
        "len(test_cc)"
      ],
      "metadata": {
        "colab": {
          "base_uri": "https://localhost:8080/"
        },
        "id": "9msTVbsEpVeZ",
        "outputId": "da68f1c1-703e-4399-9726-55e12b8a375e"
      },
      "execution_count": null,
      "outputs": [
        {
          "output_type": "execute_result",
          "data": {
            "text/plain": [
              "24"
            ]
          },
          "metadata": {},
          "execution_count": 36
        }
      ]
    },
    {
      "cell_type": "code",
      "source": [
        "test_fnames=[]\n",
        "for i in test_cc:\n",
        "   test_fnames.append(i)\n",
        "for i in test_cd:\n",
        "   test_fnames.append(i)"
      ],
      "metadata": {
        "id": "i6VgFW_3prXb"
      },
      "execution_count": null,
      "outputs": []
    },
    {
      "cell_type": "code",
      "source": [
        "test_fnames\n"
      ],
      "metadata": {
        "colab": {
          "base_uri": "https://localhost:8080/"
        },
        "id": "6U8zy_zpp6wT",
        "outputId": "7798b388-0610-475f-99e1-3c5832d1c22a"
      },
      "execution_count": null,
      "outputs": [
        {
          "output_type": "execute_result",
          "data": {
            "text/plain": [
              "['S177.wav',\n",
              " 'S161.wav',\n",
              " 'S180.wav',\n",
              " 'S201.wav',\n",
              " 'S199.wav',\n",
              " 'S166.wav',\n",
              " 'S197.wav',\n",
              " 'S193.wav',\n",
              " 'S186.wav',\n",
              " 'S175.wav',\n",
              " 'S184.wav',\n",
              " 'S178.wav',\n",
              " 'S174.wav',\n",
              " 'S163.wav',\n",
              " 'S202.wav',\n",
              " 'S170.wav',\n",
              " 'S204.wav',\n",
              " 'S160.wav',\n",
              " 'S207.wav',\n",
              " 'S196.wav',\n",
              " 'S206.wav',\n",
              " 'S183.wav',\n",
              " 'S172.wav',\n",
              " 'S195.wav',\n",
              " 'S189.wav',\n",
              " 'S185.wav',\n",
              " 'S168.wav',\n",
              " 'S179.wav',\n",
              " 'S203.wav',\n",
              " 'S173.wav',\n",
              " 'S200.wav',\n",
              " 'S190.wav',\n",
              " 'S165.wav',\n",
              " 'S194.wav',\n",
              " 'S192.wav',\n",
              " 'S187.wav',\n",
              " 'S182.wav',\n",
              " 'S181.wav',\n",
              " 'S167.wav',\n",
              " 'S164.wav',\n",
              " 'S176.wav',\n",
              " 'S162.wav',\n",
              " 'S198.wav',\n",
              " 'S191.wav',\n",
              " 'S169.wav',\n",
              " 'S188.wav',\n",
              " 'S171.wav',\n",
              " 'S205.wav']"
            ]
          },
          "metadata": {},
          "execution_count": 38
        }
      ]
    },
    {
      "cell_type": "code",
      "source": [
        "import glob\n",
        "import numpy as np\n",
        "tcontrol = glob.glob('/content/drive/MyDrive/ADReSS-IS2020-test/ADReSS-IS2020-data/test/Full_wave_enhanced_audio/cc/*.*')\n",
        "tdementia = glob.glob('/content/drive/MyDrive/ADReSS-IS2020-test/ADReSS-IS2020-data/test/Full_wave_enhanced_audio/cd/*.*')\n",
        "\n",
        "import tensorflow as tf\n",
        "#data = []\n",
        "labelst= []\n",
        "for i in tcontrol:   \n",
        "    labelst.append('Control')\n",
        "for i in tdementia:   \n",
        "    labelst.append('Dementia')"
      ],
      "metadata": {
        "id": "VpWcu268qCfM"
      },
      "execution_count": null,
      "outputs": []
    },
    {
      "cell_type": "code",
      "source": [
        "labels_test = pd.factorize(labelst)[0]"
      ],
      "metadata": {
        "id": "-SxqGebWqoFT"
      },
      "execution_count": null,
      "outputs": []
    },
    {
      "cell_type": "code",
      "source": [
        "labels_test.shape"
      ],
      "metadata": {
        "colab": {
          "base_uri": "https://localhost:8080/"
        },
        "id": "oSoq-qwRrWTp",
        "outputId": "0e0ff6f2-e4e0-4bf4-897a-87798d611e8e"
      },
      "execution_count": null,
      "outputs": [
        {
          "output_type": "execute_result",
          "data": {
            "text/plain": [
              "(48,)"
            ]
          },
          "metadata": {},
          "execution_count": 41
        }
      ]
    },
    {
      "cell_type": "code",
      "source": [],
      "metadata": {
        "id": "uE9kTDeGwX--"
      },
      "execution_count": null,
      "outputs": []
    },
    {
      "cell_type": "code",
      "source": [
        "testp='/content/drive/MyDrive/ADReSS-IS2020-test/ADReSS-IS2020-data/test/Full_wave_enhanced_audio/all'\n",
        "def predict_proba_mfcc(clf1, X_val):\n",
        "    pred_proba = np.empty((0,1))\n",
        "    for x in X_val:\n",
        "        x_mfcc, x_mfcc_delta = mfcc_extraction(x,testp)\n",
        "        y_pred_proba1 = np.sum(clf1.predict(x_mfcc), axis=0).reshape(-1)\n",
        "        #y_pred_proba2 = np.sum(clf2.predict(x_mfcc_delta), axis=0).reshape(-1)\n",
        "        pred_proba = np.vstack([pred_proba,y_pred_proba1])\n",
        "        #print pred_proba.shape\n",
        "    return np.array(pred_proba, dtype=np.int)\n",
        "pred_proba_test_mfcc = predict_proba_mfcc(clf1,test_fnames)\n",
        "print (pred_proba_test_mfcc.shape)"
      ],
      "metadata": {
        "colab": {
          "base_uri": "https://localhost:8080/"
        },
        "id": "mBfm36wkoxEo",
        "outputId": "a1282407-8ffc-4565-d92b-9a1f9c46b7c9"
      },
      "execution_count": null,
      "outputs": [
        {
          "output_type": "stream",
          "name": "stdout",
          "text": [
            "(48, 1)\n"
          ]
        },
        {
          "output_type": "stream",
          "name": "stderr",
          "text": [
            "/usr/local/lib/python3.7/dist-packages/ipykernel_launcher.py:10: DeprecationWarning: `np.int` is a deprecated alias for the builtin `int`. To silence this warning, use `int` by itself. Doing this will not modify any behavior and is safe. When replacing `np.int`, you may wish to use e.g. `np.int64` or `np.int32` to specify the precision. If you wish to review your current use, check the release note link for additional information.\n",
            "Deprecated in NumPy 1.20; for more details and guidance: https://numpy.org/devdocs/release/1.20.0-notes.html#deprecations\n",
            "  # Remove the CWD from sys.path while we load stuff.\n"
          ]
        }
      ]
    },
    {
      "cell_type": "code",
      "source": [
        "\n",
        "logist = linear_model.LogisticRegression(C=0.0001)\n",
        "logist.fit(pred_proba_test_mfcc,labels_test)"
      ],
      "metadata": {
        "colab": {
          "base_uri": "https://localhost:8080/"
        },
        "id": "0jP-yXwspLBX",
        "outputId": "51f4dbc7-d9a0-4417-9889-c2ef70e92552"
      },
      "execution_count": null,
      "outputs": [
        {
          "output_type": "execute_result",
          "data": {
            "text/plain": [
              "LogisticRegression(C=0.0001)"
            ]
          },
          "metadata": {},
          "execution_count": 74
        }
      ]
    },
    {
      "cell_type": "code",
      "source": [
        "y_test_pred_mfcc = logistic.predict(pred_proba_test_mfcc)"
      ],
      "metadata": {
        "colab": {
          "base_uri": "https://localhost:8080/",
          "height": 320
        },
        "id": "F2XiQZLvp_j4",
        "outputId": "5eec057f-cba5-4ee5-b036-f9988c69b44b"
      },
      "execution_count": null,
      "outputs": [
        {
          "output_type": "error",
          "ename": "ValueError",
          "evalue": "ignored",
          "traceback": [
            "\u001b[0;31m---------------------------------------------------------------------------\u001b[0m",
            "\u001b[0;31mValueError\u001b[0m                                Traceback (most recent call last)",
            "\u001b[0;32m<ipython-input-75-64ebc917d15a>\u001b[0m in \u001b[0;36m<module>\u001b[0;34m()\u001b[0m\n\u001b[0;32m----> 1\u001b[0;31m \u001b[0my_test_pred_mfcc\u001b[0m \u001b[0;34m=\u001b[0m \u001b[0mlogistic\u001b[0m\u001b[0;34m.\u001b[0m\u001b[0mpredict\u001b[0m\u001b[0;34m(\u001b[0m\u001b[0mpred_proba_test_mfcc\u001b[0m\u001b[0;34m)\u001b[0m\u001b[0;34m\u001b[0m\u001b[0;34m\u001b[0m\u001b[0m\n\u001b[0m",
            "\u001b[0;32m/usr/local/lib/python3.7/dist-packages/sklearn/linear_model/_base.py\u001b[0m in \u001b[0;36mpredict\u001b[0;34m(self, X)\u001b[0m\n\u001b[1;32m    423\u001b[0m             \u001b[0mVector\u001b[0m \u001b[0mcontaining\u001b[0m \u001b[0mthe\u001b[0m \u001b[0;32mclass\u001b[0m \u001b[0mlabels\u001b[0m \u001b[0;32mfor\u001b[0m \u001b[0meach\u001b[0m \u001b[0msample\u001b[0m\u001b[0;34m.\u001b[0m\u001b[0;34m\u001b[0m\u001b[0;34m\u001b[0m\u001b[0m\n\u001b[1;32m    424\u001b[0m         \"\"\"\n\u001b[0;32m--> 425\u001b[0;31m         \u001b[0mscores\u001b[0m \u001b[0;34m=\u001b[0m \u001b[0mself\u001b[0m\u001b[0;34m.\u001b[0m\u001b[0mdecision_function\u001b[0m\u001b[0;34m(\u001b[0m\u001b[0mX\u001b[0m\u001b[0;34m)\u001b[0m\u001b[0;34m\u001b[0m\u001b[0;34m\u001b[0m\u001b[0m\n\u001b[0m\u001b[1;32m    426\u001b[0m         \u001b[0;32mif\u001b[0m \u001b[0mlen\u001b[0m\u001b[0;34m(\u001b[0m\u001b[0mscores\u001b[0m\u001b[0;34m.\u001b[0m\u001b[0mshape\u001b[0m\u001b[0;34m)\u001b[0m \u001b[0;34m==\u001b[0m \u001b[0;36m1\u001b[0m\u001b[0;34m:\u001b[0m\u001b[0;34m\u001b[0m\u001b[0;34m\u001b[0m\u001b[0m\n\u001b[1;32m    427\u001b[0m             \u001b[0mindices\u001b[0m \u001b[0;34m=\u001b[0m \u001b[0;34m(\u001b[0m\u001b[0mscores\u001b[0m \u001b[0;34m>\u001b[0m \u001b[0;36m0\u001b[0m\u001b[0;34m)\u001b[0m\u001b[0;34m.\u001b[0m\u001b[0mastype\u001b[0m\u001b[0;34m(\u001b[0m\u001b[0mint\u001b[0m\u001b[0;34m)\u001b[0m\u001b[0;34m\u001b[0m\u001b[0;34m\u001b[0m\u001b[0m\n",
            "\u001b[0;32m/usr/local/lib/python3.7/dist-packages/sklearn/linear_model/_base.py\u001b[0m in \u001b[0;36mdecision_function\u001b[0;34m(self, X)\u001b[0m\n\u001b[1;32m    405\u001b[0m         \u001b[0mcheck_is_fitted\u001b[0m\u001b[0;34m(\u001b[0m\u001b[0mself\u001b[0m\u001b[0;34m)\u001b[0m\u001b[0;34m\u001b[0m\u001b[0;34m\u001b[0m\u001b[0m\n\u001b[1;32m    406\u001b[0m \u001b[0;34m\u001b[0m\u001b[0m\n\u001b[0;32m--> 407\u001b[0;31m         \u001b[0mX\u001b[0m \u001b[0;34m=\u001b[0m \u001b[0mself\u001b[0m\u001b[0;34m.\u001b[0m\u001b[0m_validate_data\u001b[0m\u001b[0;34m(\u001b[0m\u001b[0mX\u001b[0m\u001b[0;34m,\u001b[0m \u001b[0maccept_sparse\u001b[0m\u001b[0;34m=\u001b[0m\u001b[0;34m\"csr\"\u001b[0m\u001b[0;34m,\u001b[0m \u001b[0mreset\u001b[0m\u001b[0;34m=\u001b[0m\u001b[0;32mFalse\u001b[0m\u001b[0;34m)\u001b[0m\u001b[0;34m\u001b[0m\u001b[0;34m\u001b[0m\u001b[0m\n\u001b[0m\u001b[1;32m    408\u001b[0m         \u001b[0mscores\u001b[0m \u001b[0;34m=\u001b[0m \u001b[0msafe_sparse_dot\u001b[0m\u001b[0;34m(\u001b[0m\u001b[0mX\u001b[0m\u001b[0;34m,\u001b[0m \u001b[0mself\u001b[0m\u001b[0;34m.\u001b[0m\u001b[0mcoef_\u001b[0m\u001b[0;34m.\u001b[0m\u001b[0mT\u001b[0m\u001b[0;34m,\u001b[0m \u001b[0mdense_output\u001b[0m\u001b[0;34m=\u001b[0m\u001b[0;32mTrue\u001b[0m\u001b[0;34m)\u001b[0m \u001b[0;34m+\u001b[0m \u001b[0mself\u001b[0m\u001b[0;34m.\u001b[0m\u001b[0mintercept_\u001b[0m\u001b[0;34m\u001b[0m\u001b[0;34m\u001b[0m\u001b[0m\n\u001b[1;32m    409\u001b[0m         \u001b[0;32mreturn\u001b[0m \u001b[0mscores\u001b[0m\u001b[0;34m.\u001b[0m\u001b[0mravel\u001b[0m\u001b[0;34m(\u001b[0m\u001b[0;34m)\u001b[0m \u001b[0;32mif\u001b[0m \u001b[0mscores\u001b[0m\u001b[0;34m.\u001b[0m\u001b[0mshape\u001b[0m\u001b[0;34m[\u001b[0m\u001b[0;36m1\u001b[0m\u001b[0;34m]\u001b[0m \u001b[0;34m==\u001b[0m \u001b[0;36m1\u001b[0m \u001b[0;32melse\u001b[0m \u001b[0mscores\u001b[0m\u001b[0;34m\u001b[0m\u001b[0;34m\u001b[0m\u001b[0m\n",
            "\u001b[0;32m/usr/local/lib/python3.7/dist-packages/sklearn/base.py\u001b[0m in \u001b[0;36m_validate_data\u001b[0;34m(self, X, y, reset, validate_separately, **check_params)\u001b[0m\n\u001b[1;32m    583\u001b[0m \u001b[0;34m\u001b[0m\u001b[0m\n\u001b[1;32m    584\u001b[0m         \u001b[0;32mif\u001b[0m \u001b[0;32mnot\u001b[0m \u001b[0mno_val_X\u001b[0m \u001b[0;32mand\u001b[0m \u001b[0mcheck_params\u001b[0m\u001b[0;34m.\u001b[0m\u001b[0mget\u001b[0m\u001b[0;34m(\u001b[0m\u001b[0;34m\"ensure_2d\"\u001b[0m\u001b[0;34m,\u001b[0m \u001b[0;32mTrue\u001b[0m\u001b[0;34m)\u001b[0m\u001b[0;34m:\u001b[0m\u001b[0;34m\u001b[0m\u001b[0;34m\u001b[0m\u001b[0m\n\u001b[0;32m--> 585\u001b[0;31m             \u001b[0mself\u001b[0m\u001b[0;34m.\u001b[0m\u001b[0m_check_n_features\u001b[0m\u001b[0;34m(\u001b[0m\u001b[0mX\u001b[0m\u001b[0;34m,\u001b[0m \u001b[0mreset\u001b[0m\u001b[0;34m=\u001b[0m\u001b[0mreset\u001b[0m\u001b[0;34m)\u001b[0m\u001b[0;34m\u001b[0m\u001b[0;34m\u001b[0m\u001b[0m\n\u001b[0m\u001b[1;32m    586\u001b[0m \u001b[0;34m\u001b[0m\u001b[0m\n\u001b[1;32m    587\u001b[0m         \u001b[0;32mreturn\u001b[0m \u001b[0mout\u001b[0m\u001b[0;34m\u001b[0m\u001b[0;34m\u001b[0m\u001b[0m\n",
            "\u001b[0;32m/usr/local/lib/python3.7/dist-packages/sklearn/base.py\u001b[0m in \u001b[0;36m_check_n_features\u001b[0;34m(self, X, reset)\u001b[0m\n\u001b[1;32m    399\u001b[0m         \u001b[0;32mif\u001b[0m \u001b[0mn_features\u001b[0m \u001b[0;34m!=\u001b[0m \u001b[0mself\u001b[0m\u001b[0;34m.\u001b[0m\u001b[0mn_features_in_\u001b[0m\u001b[0;34m:\u001b[0m\u001b[0;34m\u001b[0m\u001b[0;34m\u001b[0m\u001b[0m\n\u001b[1;32m    400\u001b[0m             raise ValueError(\n\u001b[0;32m--> 401\u001b[0;31m                 \u001b[0;34mf\"X has {n_features} features, but {self.__class__.__name__} \"\u001b[0m\u001b[0;34m\u001b[0m\u001b[0;34m\u001b[0m\u001b[0m\n\u001b[0m\u001b[1;32m    402\u001b[0m                 \u001b[0;34mf\"is expecting {self.n_features_in_} features as input.\"\u001b[0m\u001b[0;34m\u001b[0m\u001b[0;34m\u001b[0m\u001b[0m\n\u001b[1;32m    403\u001b[0m             )\n",
            "\u001b[0;31mValueError\u001b[0m: X has 1 features, but LogisticRegression is expecting 2 features as input."
          ]
        }
      ]
    },
    {
      "cell_type": "code",
      "source": [
        "\n",
        "\n",
        "from sklearn.metrics import accuracy_score\n"
      ],
      "metadata": {
        "id": "XJoX_1MBqNlN"
      },
      "execution_count": null,
      "outputs": []
    },
    {
      "cell_type": "code",
      "source": [],
      "metadata": {
        "id": "liFHzOGhTM3r"
      },
      "execution_count": null,
      "outputs": []
    }
  ]
}