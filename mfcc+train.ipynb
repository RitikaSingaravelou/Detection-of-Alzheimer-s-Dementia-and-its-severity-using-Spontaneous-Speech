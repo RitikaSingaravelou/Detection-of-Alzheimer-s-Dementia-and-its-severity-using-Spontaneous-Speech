{
  "nbformat": 4,
  "nbformat_minor": 0,
  "metadata": {
    "colab": {
      "provenance": [],
      "collapsed_sections": []
    },
    "kernelspec": {
      "name": "python3",
      "display_name": "Python 3"
    },
    "language_info": {
      "name": "python"
    }
  },
  "cells": [
    {
      "cell_type": "code",
      "execution_count": null,
      "metadata": {
        "id": "UupGnNimNfgD"
      },
      "outputs": [],
      "source": [
        "import numpy as np\n",
        "import scipy as sp\n",
        "from scipy.stats import mode\n",
        "import pandas as pd\n",
        "import matplotlib.pyplot as plt\n",
        "from time import time\n",
        "\n",
        "import librosa\n",
        "import librosa.display\n",
        "\n",
        "from sklearn.preprocessing import StandardScaler\n",
        "from sklearn.decomposition import PCA\n",
        "from sklearn.neural_network import MLPClassifier\n",
        "from sklearn.model_selection import GridSearchCV\n",
        "from sklearn.metrics import classification_report\n",
        "from sklearn.ensemble import BaggingClassifier\n",
        "from sklearn import linear_model\n",
        "from sklearn.discriminant_analysis import LinearDiscriminantAnalysis\n",
        "from sklearn.svm import SVC"
      ]
    },
    {
      "cell_type": "code",
      "source": [
        "def load_sound_file(file_path):\n",
        "    X, sr = librosa.load(file_path, sr=None)\n",
        "    return X\n",
        "\n",
        "def extract_feature(file_name): # Late fusion\n",
        "    X, sample_rate = librosa.load(file_name, sr=None)\n",
        "    mfcc = librosa.feature.mfcc(y=X, sr=sample_rate, n_fft=4096, hop_length=4096, n_mfcc=n_mfcc).T\n",
        "    mfcc_delta = librosa.feature.delta(mfcc, width=5, order=1, trim=True)\n",
        "    return mfcc, mfcc_delta\n",
        "\n",
        "def parse_audio_files(file_names, file_labels):\n",
        "    features, features_delta, labels = np.empty((0,n_mfcc-1)), np.empty((0,n_mfcc)), np.empty(0)\n",
        "    for fn, fl in zip(file_names, file_labels):\n",
        "        try:\n",
        "            mfcc, mfcc_delta = extract_feature(fn)\n",
        "        except Exception as e:\n",
        "            print (\"Error encountered while parsing file: \", fn)\n",
        "            continue\n",
        "        features = np.vstack([features, mfcc])\n",
        "        features_delta = np.vstack([features_delta, mfcc_delta])\n",
        "        labels = np.append(labels, fl*np.ones(mfcc.shape[0]))\n",
        "    return np.array(features), np.array(features_delta), np.array(labels, dtype = np.int)\n",
        "\n",
        "def predict_proba(clf1, clf2, X_val):\n",
        "    pred_proba = np.empty((0,30))\n",
        "    for x in X_val:\n",
        "        x_mfcc, x_mfcc_delta = extract_feature(x)\n",
        "        y_pred_proba1 = np.sum(clf1.predict_proba(x_mfcc), axis=0).reshape(-1)\n",
        "        y_pred_proba2 = np.sum(clf2.predict_proba(x_mfcc_delta), axis=0).reshape(-1)\n",
        "        pred_proba = np.vstack([pred_proba,np.hstack([y_pred_proba1,y_pred_proba2])])\n",
        "        #print pred_proba.shape\n",
        "    return np.array(pred_proba, dtype=np.int)\n",
        "\n",
        "\n"
      ],
      "metadata": {
        "id": "o6uY6Mk4NiXW"
      },
      "execution_count": null,
      "outputs": []
    },
    {
      "cell_type": "code",
      "source": [
        "def plot_wave(title, raw_sound):\n",
        "    plt.close('all')\n",
        "    plt.figure(figsize=(20,6))\n",
        "    plt.title(title)\n",
        "    librosa.display.waveplot(np.array(raw_sound), sr=16000)\n",
        "    plt.show()\n",
        "    \n",
        "def plot_specgram(title,raw_sound):\n",
        "    plt.close('all')\n",
        "    plt.figure(figsize=(20,6))\n",
        "    plt.title(title)\n",
        "    plt.specgram(np.array(raw_sound), Fs=16000)\n",
        "    plt.show()\n",
        "\n",
        "def plot_log_power_specgram(title,raw_sound):\n",
        "    plt.close('all')\n",
        "    plt.figure(figsize=(20,6))\n",
        "    plt.title(title)\n",
        "    D = librosa.logamplitude(np.abs(librosa.stft(raw_sound))**2, ref_power=np.max)\n",
        "    librosa.display.specshow(D, x_axis='time' ,y_axis='log')\n",
        "    plt.specgram(np.array(f), Fs=16000)\n",
        "    plt.show()"
      ],
      "metadata": {
        "id": "MKcugHoGNxZ4"
      },
      "execution_count": null,
      "outputs": []
    },
    {
      "cell_type": "code",
      "source": [
        "from functools import partial\n",
        "from pathlib import Path\n",
        "from multiprocessing import Pool\n",
        "import os\n",
        "import shutil\n",
        "import numpy as np\n",
        "import pandas as pd\n",
        "import librosa\n",
        "from scipy.io import wavfile\n",
        "from tqdm import tqdm_notebook as tqdm\n",
        "import torch.nn.functional as F\n",
        "from fastai.basic_data import DatasetType\n"
      ],
      "metadata": {
        "id": "QtqGuli5NiP_"
      },
      "execution_count": null,
      "outputs": []
    },
    {
      "cell_type": "code",
      "source": [
        "DATA = Path('/content/drive/MyDrive/ADReSS-IS2020-train')\n",
        "NSYNTH_AUDIO = DATA/'ADReSS-IS2020-data'\n",
        "TRAIN_AUDIO_PATH = NSYNTH_AUDIO/'train/Full_wave_enhanced_audio/cd'\n",
        "TRAIN_AUDIO_PATH2 = NSYNTH_AUDIO/'train/Full_wave_enhanced_audio/cc'\n",
        "\n",
        "NSYNTH_IMAGES = DATA/'ADReSS2020_images'\n",
        "TRAIN_IMAGE_PATH = NSYNTH_IMAGES/'train'\n",
        "train_acoustic_fnames = [f.name for f in (TRAIN_AUDIO_PATH.iterdir())\n",
        "                         if 'S' in f.name]\n",
        "\n",
        "len(train_acoustic_fnames)"
      ],
      "metadata": {
        "colab": {
          "base_uri": "https://localhost:8080/"
        },
        "id": "9Q-4A4Z3NiM5",
        "outputId": "0e2fb30e-cc14-42bc-d669-5594f7fe8e45"
      },
      "execution_count": null,
      "outputs": [
        {
          "output_type": "execute_result",
          "data": {
            "text/plain": [
              "54"
            ]
          },
          "metadata": {},
          "execution_count": 8
        }
      ]
    },
    {
      "cell_type": "code",
      "source": [
        "train_acoustic_fnames.append([f.name for f in (TRAIN_AUDIO_PATH2.iterdir())\n",
        "                         if 'S' in f.name])\n"
      ],
      "metadata": {
        "id": "2QP1DBKzTQiA"
      },
      "execution_count": null,
      "outputs": []
    },
    {
      "cell_type": "code",
      "source": [
        "fcd = [f.name for f in (TRAIN_AUDIO_PATH.iterdir())\n",
        "                         if 'S' in f.name]\n",
        "\n",
        "len(fcd)\n",
        "\n",
        "fcc = [f.name for f in (TRAIN_AUDIO_PATH2.iterdir())\n",
        "                         if 'S' in f.name]\n",
        "\n",
        "len(fcc)"
      ],
      "metadata": {
        "colab": {
          "base_uri": "https://localhost:8080/"
        },
        "id": "_YDnVwfsTvNV",
        "outputId": "fd62c6b6-8f3e-4f08-accb-c658729e69c1"
      },
      "execution_count": null,
      "outputs": [
        {
          "output_type": "execute_result",
          "data": {
            "text/plain": [
              "54"
            ]
          },
          "metadata": {},
          "execution_count": 17
        }
      ]
    },
    {
      "cell_type": "code",
      "source": [
        "fnames_cc.append(fnames_cd)"
      ],
      "metadata": {
        "id": "7H9pjwz7UC3T"
      },
      "execution_count": null,
      "outputs": []
    },
    {
      "cell_type": "code",
      "source": [
        "len(fcc)"
      ],
      "metadata": {
        "colab": {
          "base_uri": "https://localhost:8080/"
        },
        "id": "9VqO_RIXUZU_",
        "outputId": "cbd21180-eadb-479a-c0c2-43057c0268ee"
      },
      "execution_count": null,
      "outputs": [
        {
          "output_type": "execute_result",
          "data": {
            "text/plain": [
              "54"
            ]
          },
          "metadata": {},
          "execution_count": 19
        }
      ]
    },
    {
      "cell_type": "code",
      "source": [
        "train_fnames=[]\n",
        "for i in fcc:\n",
        "   train_fnames.append(i)\n",
        "for i in fcd:\n",
        "   train_fnames.append(i)"
      ],
      "metadata": {
        "id": "xhInTsTGU1Pr"
      },
      "execution_count": null,
      "outputs": []
    },
    {
      "cell_type": "code",
      "source": [
        "train_fnames"
      ],
      "metadata": {
        "colab": {
          "base_uri": "https://localhost:8080/"
        },
        "id": "JJnJXLAMVHwa",
        "outputId": "f566b4d2-d86f-422d-eafd-96a533e1d2e8"
      },
      "execution_count": null,
      "outputs": [
        {
          "output_type": "execute_result",
          "data": {
            "text/plain": [
              "['S001.wav',\n",
              " 'S002.wav',\n",
              " 'S003.wav',\n",
              " 'S004.wav',\n",
              " 'S005.wav',\n",
              " 'S006.wav',\n",
              " 'S007.wav',\n",
              " 'S009.wav',\n",
              " 'S011.wav',\n",
              " 'S012.wav',\n",
              " 'S013.wav',\n",
              " 'S015.wav',\n",
              " 'S016.wav',\n",
              " 'S017.wav',\n",
              " 'S018.wav',\n",
              " 'S019.wav',\n",
              " 'S020.wav',\n",
              " 'S021.wav',\n",
              " 'S024.wav',\n",
              " 'S025.wav',\n",
              " 'S027.wav',\n",
              " 'S028.wav',\n",
              " 'S029.wav',\n",
              " 'S030.wav',\n",
              " 'S032.wav',\n",
              " 'S033.wav',\n",
              " 'S034.wav',\n",
              " 'S035.wav',\n",
              " 'S036.wav',\n",
              " 'S038.wav',\n",
              " 'S039.wav',\n",
              " 'S040.wav',\n",
              " 'S041.wav',\n",
              " 'S043.wav',\n",
              " 'S048.wav',\n",
              " 'S049.wav',\n",
              " 'S051.wav',\n",
              " 'S052.wav',\n",
              " 'S055.wav',\n",
              " 'S056.wav',\n",
              " 'S058.wav',\n",
              " 'S059.wav',\n",
              " 'S061.wav',\n",
              " 'S062.wav',\n",
              " 'S063.wav',\n",
              " 'S064.wav',\n",
              " 'S067.wav',\n",
              " 'S068.wav',\n",
              " 'S070.wav',\n",
              " 'S071.wav',\n",
              " 'S072.wav',\n",
              " 'S073.wav',\n",
              " 'S076.wav',\n",
              " 'S077.wav',\n",
              " 'S079.wav',\n",
              " 'S080.wav',\n",
              " 'S081.wav',\n",
              " 'S082.wav',\n",
              " 'S083.wav',\n",
              " 'S084.wav',\n",
              " 'S086.wav',\n",
              " 'S087.wav',\n",
              " 'S089.wav',\n",
              " 'S090.wav',\n",
              " 'S092.wav',\n",
              " 'S093.wav',\n",
              " 'S094.wav',\n",
              " 'S095.wav',\n",
              " 'S096.wav',\n",
              " 'S097.wav',\n",
              " 'S100.wav',\n",
              " 'S101.wav',\n",
              " 'S103.wav',\n",
              " 'S104.wav',\n",
              " 'S107.wav',\n",
              " 'S108.wav',\n",
              " 'S110.wav',\n",
              " 'S111.wav',\n",
              " 'S114.wav',\n",
              " 'S116.wav',\n",
              " 'S118.wav',\n",
              " 'S122.wav',\n",
              " 'S124.wav',\n",
              " 'S125.wav',\n",
              " 'S126.wav',\n",
              " 'S127.wav',\n",
              " 'S128.wav',\n",
              " 'S129.wav',\n",
              " 'S130.wav',\n",
              " 'S132.wav',\n",
              " 'S135.wav',\n",
              " 'S136.wav',\n",
              " 'S137.wav',\n",
              " 'S138.wav',\n",
              " 'S139.wav',\n",
              " 'S140.wav',\n",
              " 'S141.wav',\n",
              " 'S142.wav',\n",
              " 'S143.wav',\n",
              " 'S144.wav',\n",
              " 'S145.wav',\n",
              " 'S148.wav',\n",
              " 'S149.wav',\n",
              " 'S150.wav',\n",
              " 'S151.wav',\n",
              " 'S153.wav',\n",
              " 'S154.wav',\n",
              " 'S156.wav']"
            ]
          },
          "metadata": {},
          "execution_count": 22
        }
      ]
    },
    {
      "cell_type": "code",
      "source": [
        "def read_file(filename, path='', sample_rate=None, trim=False):\n",
        "    filename = Path(path) / filename\n",
        "    file_sr, data = wavfile.read(filename)\n",
        "    if data.dtype == np.int16:\n",
        "        data = np.float32(data) / np.iinfo(np.int16).max\n",
        "    elif data.dtype != np.float32:\n",
        "        raise OSError('Encounted unexpected dtype: {}'.format(data.dtype))\n",
        "    if sample_rate is not None and sample_rate != file_sr:\n",
        "        if len(data) > 0:\n",
        "            data = librosa.core.resample(data, file_sr, sample_rate, res_type='kaiser_fast')\n",
        "        file_sr = sample_rate\n",
        "    if trim and len(data) > 1:\n",
        "        data = librosa.effects.trim(data, top_db=40)[0]\n",
        "    return data, file_sr"
      ],
      "metadata": {
        "id": "5WU-Q6VDPKIX"
      },
      "execution_count": null,
      "outputs": []
    },
    {
      "cell_type": "code",
      "source": [
        "def mfcc_extraction(fname, src_path):\n",
        "    #X, sample_rate = librosa.load(file_name, sr=None)\n",
        "    X, sample_rate = read_file(fname, src_path)\n",
        "    #mfcc = librosa.feature.mfcc(y=librosa.effects.harmonic(X), \n",
        "    #sr=sample_rate, n_fft=4096, hop_length=2048, n_mfcc=n_mfcc).T\n",
        "    mfcc = librosa.feature.mfcc(y=X, sr=sample_rate, n_fft=4096, hop_length=4096, n_mfcc=n_mfcc).T\n",
        "    mfcc_delta = librosa.feature.delta(mfcc, width=5, order=1)\n",
        "    len(mfcc)\n",
        "    len(mfcc_delta)\n",
        "    return mfcc, mfcc_delta \n",
        "    \n",
        "    \n",
        "    '''\n",
        "    x, sample_rate = read_file(fname, src_path)\n",
        "    \n",
        "    n_fft = 1024\n",
        "    hop_length = 256\n",
        "    n_mels = 40\n",
        "    fmin = 20\n",
        "    fmax = sample_rate / 2 \n",
        "    \n",
        "    mel_spec_power = librosa.feature.melspectrogram(x, sr=sample_rate, n_fft=n_fft, \n",
        "                                                    hop_length=hop_length, \n",
        "                                                    n_mels=n_mels, power=2.0, \n",
        "                                                    fmin=fmin, fmax=fmax)\n",
        "    mel_spec_db = librosa.power_to_db(mel_spec_power, ref=np.max)\n",
        "    dst_fname = dst_path / (fname[:-4] + '.png')\n",
        "    plt.imsave(dst_fname, mel_spec_db)\n",
        "    '''"
      ],
      "metadata": {
        "id": "bUJbwi56OyLm"
      },
      "execution_count": null,
      "outputs": []
    },
    {
      "cell_type": "code",
      "source": [
        "import glob\n",
        "import numpy as np\n",
        "control = glob.glob('/content/drive/MyDrive/ADReSS-IS2020-train/ADReSS-IS2020-data/train/Full_wave_enhanced_audio/cc/*.*')\n",
        "dementia = glob.glob('/content/drive/MyDrive/ADReSS-IS2020-train/ADReSS-IS2020-data/train/Full_wave_enhanced_audio/cd/*.*')\n",
        "\n",
        "import tensorflow as tf\n",
        "#data = []\n",
        "labels = []\n",
        "for i in control:   \n",
        "    labels.append('Control')\n",
        "for i in dementia:   \n",
        "    labels.append('Dementia')\n",
        "\n",
        "#train_data = np.array(data)\n",
        "#train_labels = np.array(labels)"
      ],
      "metadata": {
        "id": "S5NGIEouQb0r"
      },
      "execution_count": null,
      "outputs": []
    },
    {
      "cell_type": "code",
      "source": [
        "import numpy as np\n",
        "import pandas as pd"
      ],
      "metadata": {
        "id": "1hCY5IJUgLm1"
      },
      "execution_count": null,
      "outputs": []
    },
    {
      "cell_type": "code",
      "source": [
        "labels"
      ],
      "metadata": {
        "colab": {
          "base_uri": "https://localhost:8080/"
        },
        "id": "NT72UBU1VW28",
        "outputId": "4b6ced47-dc78-4d7c-c3cb-b5f8cce4ea19"
      },
      "execution_count": null,
      "outputs": [
        {
          "output_type": "execute_result",
          "data": {
            "text/plain": [
              "['Control',\n",
              " 'Control',\n",
              " 'Control',\n",
              " 'Control',\n",
              " 'Control',\n",
              " 'Control',\n",
              " 'Control',\n",
              " 'Control',\n",
              " 'Control',\n",
              " 'Control',\n",
              " 'Control',\n",
              " 'Control',\n",
              " 'Control',\n",
              " 'Control',\n",
              " 'Control',\n",
              " 'Control',\n",
              " 'Control',\n",
              " 'Control',\n",
              " 'Control',\n",
              " 'Control',\n",
              " 'Control',\n",
              " 'Control',\n",
              " 'Control',\n",
              " 'Control',\n",
              " 'Control',\n",
              " 'Control',\n",
              " 'Control',\n",
              " 'Control',\n",
              " 'Control',\n",
              " 'Control',\n",
              " 'Control',\n",
              " 'Control',\n",
              " 'Control',\n",
              " 'Control',\n",
              " 'Control',\n",
              " 'Control',\n",
              " 'Control',\n",
              " 'Control',\n",
              " 'Control',\n",
              " 'Control',\n",
              " 'Control',\n",
              " 'Control',\n",
              " 'Control',\n",
              " 'Control',\n",
              " 'Control',\n",
              " 'Control',\n",
              " 'Control',\n",
              " 'Control',\n",
              " 'Control',\n",
              " 'Control',\n",
              " 'Control',\n",
              " 'Control',\n",
              " 'Control',\n",
              " 'Control',\n",
              " 'Dementia',\n",
              " 'Dementia',\n",
              " 'Dementia',\n",
              " 'Dementia',\n",
              " 'Dementia',\n",
              " 'Dementia',\n",
              " 'Dementia',\n",
              " 'Dementia',\n",
              " 'Dementia',\n",
              " 'Dementia',\n",
              " 'Dementia',\n",
              " 'Dementia',\n",
              " 'Dementia',\n",
              " 'Dementia',\n",
              " 'Dementia',\n",
              " 'Dementia',\n",
              " 'Dementia',\n",
              " 'Dementia',\n",
              " 'Dementia',\n",
              " 'Dementia',\n",
              " 'Dementia',\n",
              " 'Dementia',\n",
              " 'Dementia',\n",
              " 'Dementia',\n",
              " 'Dementia',\n",
              " 'Dementia',\n",
              " 'Dementia',\n",
              " 'Dementia',\n",
              " 'Dementia',\n",
              " 'Dementia',\n",
              " 'Dementia',\n",
              " 'Dementia',\n",
              " 'Dementia',\n",
              " 'Dementia',\n",
              " 'Dementia',\n",
              " 'Dementia',\n",
              " 'Dementia',\n",
              " 'Dementia',\n",
              " 'Dementia',\n",
              " 'Dementia',\n",
              " 'Dementia',\n",
              " 'Dementia',\n",
              " 'Dementia',\n",
              " 'Dementia',\n",
              " 'Dementia',\n",
              " 'Dementia',\n",
              " 'Dementia',\n",
              " 'Dementia',\n",
              " 'Dementia',\n",
              " 'Dementia',\n",
              " 'Dementia',\n",
              " 'Dementia',\n",
              " 'Dementia',\n",
              " 'Dementia']"
            ]
          },
          "metadata": {},
          "execution_count": 27
        }
      ]
    },
    {
      "cell_type": "code",
      "source": [
        "labels_train = pd.factorize(labels)[0]"
      ],
      "metadata": {
        "id": "2wYGXO7Wlfbe"
      },
      "execution_count": null,
      "outputs": []
    },
    {
      "cell_type": "code",
      "source": [
        "labels_train"
      ],
      "metadata": {
        "colab": {
          "base_uri": "https://localhost:8080/"
        },
        "id": "OmfcCQi9lj8z",
        "outputId": "7376c184-bc17-4676-a769-6741a0f94010"
      },
      "execution_count": null,
      "outputs": [
        {
          "output_type": "execute_result",
          "data": {
            "text/plain": [
              "array([0, 0, 0, 0, ..., 1, 1, 1, 1])"
            ]
          },
          "metadata": {},
          "execution_count": 57
        }
      ]
    },
    {
      "cell_type": "code",
      "source": [
        "train_labels = np.array(labels)\n",
        "import keras\n",
        "from sklearn import preprocessing\n",
        "lb = preprocessing.LabelEncoder()\n",
        "y_train=train_labels\n",
        "y_train = tf.keras.utils.to_categorical(lb.fit_transform(y_train))"
      ],
      "metadata": {
        "id": "vFOwshUBhK21"
      },
      "execution_count": null,
      "outputs": []
    },
    {
      "cell_type": "code",
      "source": [
        "def extract_feature_means(audio_file_path: str) -> pd.DataFrame:\n",
        "    # config settings\n",
        "    number_of_mfcc = 40\n",
        "    \n",
        "\n",
        "    # 1. Importing 1 file\n",
        "    y, sr = librosa.load(audio_file_path)\n",
        "\n",
        "    # Trim leading and trailing silence from an audio signal (silence before and after the actual audio)\n",
        "    signal, _ = librosa.effects.trim(y)\n",
        "\n",
        "    # 2. Fourier Transform\n",
        "    # Default FFT window size\n",
        "    n_fft = c.N_FFT  # FFT window size\n",
        "    hop_length = c.HOP_LENGTH  # number audio of frames between STFT columns (looks like a good default)\n",
        "\n",
        "    # Short-time Fourier transform (STFT)\n",
        "    d_audio = np.abs(librosa.stft(signal, n_fft=n_fft, hop_length=hop_length))\n",
        "    '''\n",
        "    # 3. Spectrogram\n",
        "    # Convert an amplitude spectrogram to Decibels-scaled spectrogram.\n",
        "    db_audio = librosa.amplitude_to_db(d_audio, ref=np.max)\n",
        "\n",
        "    # 4. Create the Mel Spectrograms\n",
        "    s_audio = librosa.feature.melspectrogram(signal, sr=sr)\n",
        "    s_db_audio = librosa.amplitude_to_db(s_audio, ref=np.max)\n",
        "\n",
        "    # 5 Zero crossings\n",
        "\n",
        "    # #6. Harmonics and Perceptrual\n",
        "    # Note:\n",
        "    #\n",
        "    # Harmonics are characteristichs that represent the sound color\n",
        "    # Perceptrual shock wave represents the sound rhythm and emotion\n",
        "    y_harm, y_perc = librosa.effects.hpss(signal)\n",
        "\n",
        "    # 7. Spectral Centroid\n",
        "    # Note: Indicates where the ”centre of mass” for a sound is located and is calculated\n",
        "    # as the weighted mean of the frequencies present in the sound.\n",
        "\n",
        "    # Calculate the Spectral Centroids\n",
        "    spectral_centroids = librosa.feature.spectral_centroid(signal, sr=sr)[0]\n",
        "    spectral_centroids_delta = librosa.feature.delta(spectral_centroids)\n",
        "    spectral_centroids_accelerate = librosa.feature.delta(spectral_centroids, order=2)\n",
        "\n",
        "    # spectral_centroid_feats = np.stack((spectral_centroids, delta, accelerate))  # (3, 64, xx)\n",
        "\n",
        "    # 8. Chroma Frequencies¶\n",
        "    # Note: Chroma features are an interesting and powerful representation\n",
        "    # for music audio in which the entire spectrum is projected onto 12 bins\n",
        "    # representing the 12 distinct semitones ( or chromas) of the musical octave.\n",
        "\n",
        "    # Increase or decrease hop_length to change how granular you want your data to be\n",
        "    hop_length = c.HOP_LENGTH\n",
        "\n",
        "    # Chromogram\n",
        "    chromagram = librosa.feature.chroma_stft(signal, sr=sr, hop_length=hop_length)\n",
        "\n",
        "    # 9. Tempo BPM (beats per minute)¶\n",
        "    # Note: Dynamic programming beat tracker.\n",
        "\n",
        "    # Create Tempo BPM variable\n",
        "    tempo_y, _ = librosa.beat.beat_track(signal, sr=sr)\n",
        "\n",
        "    # 10. Spectral Rolloff\n",
        "    # Note: Is a measure of the shape of the signal. It represents the frequency below which a specified\n",
        "    #  percentage of the total spectral energy(e.g. 85 %) lies.\n",
        "\n",
        "    # Spectral RollOff Vector\n",
        "    spectral_rolloff = librosa.feature.spectral_rolloff(signal, sr=sr)[0]\n",
        "\n",
        "    # spectral flux\n",
        "    onset_env = librosa.onset.onset_strength(y=signal, sr=sr)\n",
        "\n",
        "    # Spectral Bandwidth¶\n",
        "    # The spectral bandwidth is defined as the width of the band of light at one-half the peak\n",
        "    # maximum (or full width at half maximum [FWHM]) and is represented by the two vertical\n",
        "    # red lines and λSB on the wavelength axis.\n",
        "    spectral_bandwidth_2 = librosa.feature.spectral_bandwidth(signal, sr=sr)[0]\n",
        "    spectral_bandwidth_3 = librosa.feature.spectral_bandwidth(signal, sr=sr, p=3)[0]\n",
        "    spectral_bandwidth_4 = librosa.feature.spectral_bandwidth(signal, sr=sr, p=4)[0]\n",
        "\n",
        "    audio_features = {\n",
        "        \"file_name\": audio_file_path,\n",
        "        \"zero_crossing_rate\": np.mean(librosa.feature.zero_crossing_rate(signal)[0]),\n",
        "        \"zero_crossings\": np.sum(librosa.zero_crossings(signal, pad=False)),\n",
        "        \"spectrogram\": np.mean(db_audio[0]),\n",
        "        \"mel_spectrogram\": np.mean(s_db_audio[0]),\n",
        "        \"harmonics\": np.mean(y_harm),\n",
        "        \"perceptual_shock_wave\": np.mean(y_perc),\n",
        "        \"spectral_centroids\": np.mean(spectral_centroids),\n",
        "        \"spectral_centroids_delta\": np.mean(spectral_centroids_delta),\n",
        "        \"spectral_centroids_accelerate\": np.mean(spectral_centroids_accelerate),\n",
        "        \"chroma1\": np.mean(chromagram[0]),\n",
        "        \"chroma2\": np.mean(chromagram[1]),\n",
        "        \"chroma3\": np.mean(chromagram[2]),\n",
        "        \"chroma4\": np.mean(chromagram[3]),\n",
        "        \"chroma5\": np.mean(chromagram[4]),\n",
        "        \"chroma6\": np.mean(chromagram[5]),\n",
        "        \"chroma7\": np.mean(chromagram[6]),\n",
        "        \"chroma8\": np.mean(chromagram[7]),\n",
        "        \"chroma9\": np.mean(chromagram[8]),\n",
        "        \"chroma10\": np.mean(chromagram[9]),\n",
        "        \"chroma11\": np.mean(chromagram[10]),\n",
        "        \"chroma12\": np.mean(chromagram[11]),\n",
        "        \"tempo_bpm\": tempo_y,\n",
        "        \"spectral_rolloff\": np.mean(spectral_rolloff),\n",
        "        \"spectral_flux\": np.mean(onset_env),\n",
        "        \"spectral_bandwidth_2\": np.mean(spectral_bandwidth_2),\n",
        "        \"spectral_bandwidth_3\": np.mean(spectral_bandwidth_3),\n",
        "        \"spectral_bandwidth_4\": np.mean(spectral_bandwidth_4),\n",
        "    }\n",
        "    '''\n",
        "\n",
        "    # extract mfcc feature\n",
        "    mfcc_df = extract_mfcc_feature_means(audio_file_path,\n",
        "                                    signal,\n",
        "                                    sample_rate=sr,\n",
        "                                    number_of_mfcc=number_of_mfcc)\n",
        "\n",
        "    df = pd.DataFrame.from_records(data=[audio_features])\n",
        "\n",
        "    df = pd.merge(df, mfcc_df, on='file_name')\n",
        "\n",
        "    return df\n",
        "\n",
        "    # librosa.feature.mfcc(signal)[0, 0]\n",
        "\n",
        "def extract_mfcc_feature_means(audio_file_name: str,\n",
        "                          signal: np.ndarray,\n",
        "                          sample_rate: int,\n",
        "                          number_of_mfcc: int) -> pd.DataFrame:\n",
        "\n",
        "    mfcc_alt = librosa.feature.mfcc(y=signal, sr=sample_rate,\n",
        "                                    n_mfcc=number_of_mfcc)\n",
        "    delta = librosa.feature.delta(mfcc_alt)\n",
        "    accelerate = librosa.feature.delta(mfcc_alt, order=2)\n",
        "\n",
        "    mfcc_features = {\n",
        "        \"file_name\": audio_file_name,\n",
        "    }\n",
        "\n",
        "    for i in range(0, number_of_mfcc):\n",
        "        # dict.update({'key3': 'geeks'})\n",
        "\n",
        "        # mfcc coefficient\n",
        "        key_name = \"\".join(['mfcc', str(i)])\n",
        "        mfcc_value = np.mean(mfcc_alt[i])\n",
        "        mfcc_features.update({key_name: mfcc_value})\n",
        "\n",
        "        # mfcc delta coefficient\n",
        "        key_name = \"\".join(['mfcc_delta_', str(i)])\n",
        "        mfcc_value = np.mean(delta[i])\n",
        "        mfcc_features.update({key_name: mfcc_value})\n",
        "\n",
        "        # mfcc accelerate coefficient\n",
        "        #key_name = \"\".join(['mfcc_accelerate_', str(i)])\n",
        "        #mfcc_value = np.mean(accelerate[i])\n",
        "        #mfcc_features.update({key_name: mfcc_value})\n",
        "\n",
        "    df = pd.DataFrame.from_records(data=[mfcc_features])\n",
        "    return df"
      ],
      "metadata": {
        "id": "kJL7cqgAjuPO"
      },
      "execution_count": null,
      "outputs": []
    },
    {
      "cell_type": "code",
      "source": [
        "for i in train_fnames:\n",
        "  "
      ],
      "metadata": {
        "id": "_JSWn3TGjbCA"
      },
      "execution_count": null,
      "outputs": []
    },
    {
      "cell_type": "code",
      "source": [
        "def get_tdata(file_names,file_labels):\n",
        "    features, features_delta, labels = np.empty((0,n_mfcc)), np.empty((0,n_mfcc)), np.empty(0)\n",
        "    for fn,fl in zip(file_names,file_labels):\n",
        "        tpath='/content/drive/MyDrive/ADReSS-IS2020-train/ADReSS-IS2020-data/train/Full_wave_enhanced_audio/all'\n",
        "        mfcc, mfcc_delta = mfcc_extraction(fn,tpath)\n",
        "        \n",
        "        features = np.vstack([features, mfcc])\n",
        "        features_delta = np.vstack([features_delta, mfcc_delta])\n",
        "        labels = np.append(labels, fl*np.ones(mfcc.shape[0]))\n",
        "    return np.array(features), np.array(features_delta), np.array(labels, dtype = np.int)"
      ],
      "metadata": {
        "id": "lx7IHnSUOx_a"
      },
      "execution_count": null,
      "outputs": []
    },
    {
      "cell_type": "code",
      "source": [
        "n_mfcc=40\n",
        "\n",
        "x_train1, x_train2,ytrain=get_tdata(train_fnames,labels_train)"
      ],
      "metadata": {
        "colab": {
          "base_uri": "https://localhost:8080/"
        },
        "id": "P2i35K94VeBs",
        "outputId": "763abad9-ce47-49ea-a810-f71c3df16fc1"
      },
      "execution_count": null,
      "outputs": [
        {
          "output_type": "stream",
          "name": "stderr",
          "text": [
            "/usr/local/lib/python3.7/dist-packages/ipykernel_launcher.py:10: DeprecationWarning: `np.int` is a deprecated alias for the builtin `int`. To silence this warning, use `int` by itself. Doing this will not modify any behavior and is safe. When replacing `np.int`, you may wish to use e.g. `np.int64` or `np.int32` to specify the precision. If you wish to review your current use, check the release note link for additional information.\n",
            "Deprecated in NumPy 1.20; for more details and guidance: https://numpy.org/devdocs/release/1.20.0-notes.html#deprecations\n",
            "  # Remove the CWD from sys.path while we load stuff.\n"
          ]
        }
      ]
    },
    {
      "cell_type": "code",
      "source": [
        "x_train1.shape"
      ],
      "metadata": {
        "colab": {
          "base_uri": "https://localhost:8080/"
        },
        "id": "6zVoq4N2WD8l",
        "outputId": "f26caefd-3e30-4a41-b734-7f09e3ccea3c"
      },
      "execution_count": null,
      "outputs": [
        {
          "output_type": "execute_result",
          "data": {
            "text/plain": [
              "(83886, 40)"
            ]
          },
          "metadata": {},
          "execution_count": 63
        }
      ]
    },
    {
      "cell_type": "code",
      "source": [
        "x_train2.shape"
      ],
      "metadata": {
        "colab": {
          "base_uri": "https://localhost:8080/"
        },
        "id": "AIkbohMBhV_q",
        "outputId": "d5f2b1b2-99ed-4f64-ebae-7376b1941e2f"
      },
      "execution_count": null,
      "outputs": [
        {
          "output_type": "execute_result",
          "data": {
            "text/plain": [
              "(83886, 40)"
            ]
          },
          "metadata": {},
          "execution_count": 64
        }
      ]
    },
    {
      "cell_type": "code",
      "source": [
        "ytrain.shape"
      ],
      "metadata": {
        "colab": {
          "base_uri": "https://localhost:8080/"
        },
        "id": "K8rAoF6xhaEV",
        "outputId": "8791b581-cd00-4620-97ee-d260157e5098"
      },
      "execution_count": null,
      "outputs": [
        {
          "output_type": "execute_result",
          "data": {
            "text/plain": [
              "(83886,)"
            ]
          },
          "metadata": {},
          "execution_count": 66
        }
      ]
    },
    {
      "cell_type": "code",
      "source": [
        "ytrain[5]"
      ],
      "metadata": {
        "colab": {
          "base_uri": "https://localhost:8080/"
        },
        "id": "09tBafVomtAs",
        "outputId": "a65f840b-e1ff-46dc-a837-a22523e7079d"
      },
      "execution_count": null,
      "outputs": [
        {
          "output_type": "execute_result",
          "data": {
            "text/plain": [
              "0"
            ]
          },
          "metadata": {},
          "execution_count": 68
        }
      ]
    },
    {
      "cell_type": "code",
      "source": [
        "# Train classifier - MLP\n",
        "print (\"Training classifier...\")\n",
        "\n",
        "\n",
        "clf1 = MLPClassifier(hidden_layer_sizes=(40), alpha=0.01)\n",
        "clf1.fit(x_train1, ytrain)\n",
        "\n",
        "clf2 = MLPClassifier(hidden_layer_sizes=(40), alpha=1)\n",
        "clf2.fit(x_train2, ytrain)"
      ],
      "metadata": {
        "colab": {
          "base_uri": "https://localhost:8080/"
        },
        "id": "n32XC5y0hcuv",
        "outputId": "eb0f6566-952f-4cf6-ccef-23b4bb8cfa86"
      },
      "execution_count": null,
      "outputs": [
        {
          "output_type": "stream",
          "name": "stdout",
          "text": [
            "Training classifier...\n"
          ]
        },
        {
          "output_type": "execute_result",
          "data": {
            "text/plain": [
              "MLPClassifier(alpha=1, hidden_layer_sizes=40)"
            ]
          },
          "metadata": {},
          "execution_count": 73
        }
      ]
    },
    {
      "cell_type": "code",
      "source": [
        "testp='/content/drive/MyDrive/ADReSS-IS2020-test/ADReSS-IS2020-data/test/Full_wave_enhanced_audio/all'\n",
        "def predict_proba(clf1, clf2, X_val):\n",
        "    pred_proba = np.empty((0,2))\n",
        "    for x in X_val:\n",
        "        x_mfcc, x_mfcc_delta = mfcc_extraction(x,testp)\n",
        "        y_pred_proba1 = np.sum(clf1.predict(x_mfcc), axis=0).reshape(-1)\n",
        "        y_pred_proba2 = np.sum(clf2.predict(x_mfcc_delta), axis=0).reshape(-1)\n",
        "        pred_proba = np.vstack([pred_proba,np.hstack([y_pred_proba1,y_pred_proba2])])\n",
        "        #print pred_proba.shape\n",
        "    return np.array(pred_proba, dtype=np.int)"
      ],
      "metadata": {
        "id": "tZzB0nQdnFxw"
      },
      "execution_count": null,
      "outputs": []
    },
    {
      "cell_type": "code",
      "source": [
        "#pred_proba_val = predict_proba(clf1, clf2, files_val)\n",
        "pred_proba_test = predict_proba(clf1, clf2, test_fnames)\n",
        "print (pred_proba_test.shape)\n",
        "#print (labels_val.shape)"
      ],
      "metadata": {
        "colab": {
          "base_uri": "https://localhost:8080/"
        },
        "id": "aOnzaiSpnUPA",
        "outputId": "d2d40cb6-71cd-48a0-9e90-a767d5525310"
      },
      "execution_count": null,
      "outputs": [
        {
          "output_type": "stream",
          "name": "stdout",
          "text": [
            "(48, 2)\n"
          ]
        },
        {
          "output_type": "stream",
          "name": "stderr",
          "text": [
            "/usr/local/lib/python3.7/dist-packages/ipykernel_launcher.py:10: DeprecationWarning: `np.int` is a deprecated alias for the builtin `int`. To silence this warning, use `int` by itself. Doing this will not modify any behavior and is safe. When replacing `np.int`, you may wish to use e.g. `np.int64` or `np.int32` to specify the precision. If you wish to review your current use, check the release note link for additional information.\n",
            "Deprecated in NumPy 1.20; for more details and guidance: https://numpy.org/devdocs/release/1.20.0-notes.html#deprecations\n",
            "  # Remove the CWD from sys.path while we load stuff.\n"
          ]
        }
      ]
    },
    {
      "cell_type": "code",
      "source": [
        "#print \"Score calibration...\"\n",
        "t0 = time()\n",
        "logistic = linear_model.LogisticRegression(C=0.0001)\n",
        "logistic.fit(pred_proba_test,labels_test)\n",
        "#print \"Done in %0.3fs.\" % (time()-t0)"
      ],
      "metadata": {
        "colab": {
          "base_uri": "https://localhost:8080/"
        },
        "id": "dE7g1QI1nY0K",
        "outputId": "d7a9a759-5b76-45e2-f624-b165f2554f16"
      },
      "execution_count": null,
      "outputs": [
        {
          "output_type": "execute_result",
          "data": {
            "text/plain": [
              "LogisticRegression(C=0.0001)"
            ]
          },
          "metadata": {},
          "execution_count": 101
        }
      ]
    },
    {
      "cell_type": "code",
      "source": [
        "logistic = linear_model.LogisticRegression(C=0.0001)\n",
        "y_test_pred = logistic.predict(pred_proba_test)\n",
        "np.savetxt('y_test_pred_mfcc_delta_mfcc_mlp_logistic.txt', y_test_pred, fmt='%d')\n",
        "print y_test_pred"
      ],
      "metadata": {
        "id": "p6g2pRtpnlDY"
      },
      "execution_count": null,
      "outputs": []
    },
    {
      "cell_type": "code",
      "source": [
        "y_test_pred = logistic.predict(pred_proba_test)"
      ],
      "metadata": {
        "id": "-xpZyqQqnz-K"
      },
      "execution_count": null,
      "outputs": []
    },
    {
      "cell_type": "code",
      "source": [
        "\n",
        "from sklearn.metrics import accuracy_score\n",
        "from sklearn.metrics import plot_confusion_matrix\n",
        "from sklearn.metrics import classification_report\n",
        "print('Accuracy: {:.2f}'.format(accuracy_score(labels_test, y_test_pred)))"
      ],
      "metadata": {
        "colab": {
          "base_uri": "https://localhost:8080/"
        },
        "id": "oklc_G_zxseL",
        "outputId": "0b5d402d-0fb6-4da1-c29f-9b3e153d5295"
      },
      "execution_count": null,
      "outputs": [
        {
          "output_type": "stream",
          "name": "stdout",
          "text": [
            "Accuracy: 0.69\n"
          ]
        }
      ]
    },
    {
      "cell_type": "code",
      "source": [
        "DATA = Path('/content/drive/MyDrive/ADReSS-IS2020-test')\n",
        "TEST_AUDIO_PATH = DATA/'ADReSS-IS2020-data/test/Full_wave_enhanced_audio/cd'\n",
        "TEST_AUDIO_PATH2 = DATA/'ADReSS-IS2020-data/test/Full_wave_enhanced_audio/cc'\n",
        "TEST_IMAGE_PATH = DATA/'ADReSS2020_images/test'\n",
        "test_cd = [f.name for f in (TEST_AUDIO_PATH.iterdir())\n",
        "                         if 'S' in f.name]\n",
        "len(test_cd)\n",
        "test_cc = [f.name for f in (TEST_AUDIO_PATH2.iterdir())\n",
        "                         if 'S' in f.name]\n"
      ],
      "metadata": {
        "colab": {
          "base_uri": "https://localhost:8080/"
        },
        "id": "DB18EhDanztV",
        "outputId": "bb7ab014-0387-426d-df9b-9993044cdfb8"
      },
      "execution_count": null,
      "outputs": [
        {
          "output_type": "execute_result",
          "data": {
            "text/plain": [
              "24"
            ]
          },
          "metadata": {},
          "execution_count": 74
        }
      ]
    },
    {
      "cell_type": "code",
      "source": [
        "len(test_cc)"
      ],
      "metadata": {
        "colab": {
          "base_uri": "https://localhost:8080/"
        },
        "id": "9msTVbsEpVeZ",
        "outputId": "11913773-5dd9-48d0-eab8-0932addadc40"
      },
      "execution_count": null,
      "outputs": [
        {
          "output_type": "execute_result",
          "data": {
            "text/plain": [
              "24"
            ]
          },
          "metadata": {},
          "execution_count": 76
        }
      ]
    },
    {
      "cell_type": "code",
      "source": [
        "test_fnames=[]\n",
        "for i in test_cc:\n",
        "   test_fnames.append(i)\n",
        "for i in test_cd:\n",
        "   test_fnames.append(i)"
      ],
      "metadata": {
        "id": "i6VgFW_3prXb"
      },
      "execution_count": null,
      "outputs": []
    },
    {
      "cell_type": "code",
      "source": [
        "test_fnames\n"
      ],
      "metadata": {
        "colab": {
          "base_uri": "https://localhost:8080/"
        },
        "id": "6U8zy_zpp6wT",
        "outputId": "b6290840-fb65-48b0-bb59-27daa10ee35b"
      },
      "execution_count": null,
      "outputs": [
        {
          "output_type": "execute_result",
          "data": {
            "text/plain": [
              "['S177.wav',\n",
              " 'S161.wav',\n",
              " 'S180.wav',\n",
              " 'S201.wav',\n",
              " 'S199.wav',\n",
              " 'S166.wav',\n",
              " 'S197.wav',\n",
              " 'S193.wav',\n",
              " 'S186.wav',\n",
              " 'S175.wav',\n",
              " 'S184.wav',\n",
              " 'S178.wav',\n",
              " 'S174.wav',\n",
              " 'S163.wav',\n",
              " 'S202.wav',\n",
              " 'S170.wav',\n",
              " 'S204.wav',\n",
              " 'S160.wav',\n",
              " 'S207.wav',\n",
              " 'S196.wav',\n",
              " 'S206.wav',\n",
              " 'S183.wav',\n",
              " 'S172.wav',\n",
              " 'S195.wav',\n",
              " 'S189.wav',\n",
              " 'S185.wav',\n",
              " 'S168.wav',\n",
              " 'S179.wav',\n",
              " 'S203.wav',\n",
              " 'S173.wav',\n",
              " 'S200.wav',\n",
              " 'S190.wav',\n",
              " 'S165.wav',\n",
              " 'S194.wav',\n",
              " 'S192.wav',\n",
              " 'S187.wav',\n",
              " 'S182.wav',\n",
              " 'S181.wav',\n",
              " 'S167.wav',\n",
              " 'S164.wav',\n",
              " 'S176.wav',\n",
              " 'S162.wav',\n",
              " 'S198.wav',\n",
              " 'S191.wav',\n",
              " 'S169.wav',\n",
              " 'S188.wav',\n",
              " 'S171.wav',\n",
              " 'S205.wav']"
            ]
          },
          "metadata": {},
          "execution_count": 84
        }
      ]
    },
    {
      "cell_type": "code",
      "source": [
        "import glob\n",
        "import numpy as np\n",
        "tcontrol = glob.glob('/content/drive/MyDrive/ADReSS-IS2020-test/ADReSS-IS2020-data/test/Full_wave_enhanced_audio/cc/*.*')\n",
        "tdementia = glob.glob('/content/drive/MyDrive/ADReSS-IS2020-test/ADReSS-IS2020-data/test/Full_wave_enhanced_audio/cd/*.*')\n",
        "\n",
        "import tensorflow as tf\n",
        "#data = []\n",
        "labelst= []\n",
        "for i in tcontrol:   \n",
        "    labelst.append('Control')\n",
        "for i in tdementia:   \n",
        "    labelst.append('Dementia')"
      ],
      "metadata": {
        "id": "VpWcu268qCfM"
      },
      "execution_count": null,
      "outputs": []
    },
    {
      "cell_type": "code",
      "source": [
        "labels_test = pd.factorize(labelst)[0]"
      ],
      "metadata": {
        "id": "-SxqGebWqoFT"
      },
      "execution_count": null,
      "outputs": []
    },
    {
      "cell_type": "code",
      "source": [
        "labels_test.shape"
      ],
      "metadata": {
        "colab": {
          "base_uri": "https://localhost:8080/"
        },
        "id": "oSoq-qwRrWTp",
        "outputId": "54176162-e099-4738-8435-640a9bb16183"
      },
      "execution_count": null,
      "outputs": [
        {
          "output_type": "execute_result",
          "data": {
            "text/plain": [
              "(48,)"
            ]
          },
          "metadata": {},
          "execution_count": 99
        }
      ]
    },
    {
      "cell_type": "code",
      "source": [],
      "metadata": {
        "id": "uE9kTDeGwX--"
      },
      "execution_count": null,
      "outputs": []
    }
  ]
}