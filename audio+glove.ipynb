{
  "nbformat": 4,
  "nbformat_minor": 0,
  "metadata": {
    "colab": {
      "provenance": []
    },
    "kernelspec": {
      "name": "python3",
      "display_name": "Python 3"
    },
    "language_info": {
      "name": "python"
    }
  },
  "cells": [
    {
      "cell_type": "code",
      "execution_count": null,
      "metadata": {
        "id": "gWKf-jMdSfww"
      },
      "outputs": [],
      "source": []
    },
    {
      "cell_type": "code",
      "execution_count": null,
      "metadata": {
        "id": "pbJZfi2gRi3q"
      },
      "outputs": [],
      "source": []
    },
    {
      "cell_type": "code",
      "execution_count": null,
      "metadata": {
        "colab": {
          "base_uri": "https://localhost:8080/"
        },
        "id": "19ICcBtgwQ7n",
        "outputId": "2f071ca0-267d-481f-99ae-5a08859629cf"
      },
      "outputs": [
        {
          "output_type": "stream",
          "name": "stdout",
          "text": [
            "(108, 82) (108,)\n"
          ]
        }
      ],
      "source": [
        "import pandas as pd\n",
        "import numpy as np\n",
        "import pickle\n",
        "\n",
        "import itertools\n",
        "import xgboost as xgb\n",
        "from sklearn.svm import LinearSVC\n",
        "\n",
        "from sklearn.naive_bayes import MultinomialNB\n",
        "from sklearn.neural_network import MLPClassifier\n",
        "from sklearn.linear_model import LogisticRegression\n",
        "from sklearn.ensemble import RandomForestClassifier\n",
        "from sklearn.model_selection import train_test_split\n",
        "from sklearn.feature_selection import SelectFromModel\n",
        "from sklearn.feature_extraction.text import CountVectorizer\n",
        "\n",
        "from sklearn.feature_extraction.text import TfidfTransformer, TfidfVectorizer\n",
        "from sklearn.metrics import confusion_matrix, f1_score, accuracy_score, precision_score, recall_score\n",
        "\n",
        "import matplotlib\n",
        "from sklearn.linear_model import LogisticRegression\n",
        "from sklearn.neural_network import MLPClassifier\n",
        "from sklearn.decomposition import PCA\n",
        "from sklearn.manifold import TSNE\n",
        "from sklearn.preprocessing import MinMaxScaler, OneHotEncoder\n",
        "from sklearn.utils.class_weight import compute_class_weight\n",
        "\n",
        "from IPython.display import display\n",
        "import matplotlib.pyplot as plt\n",
        "import seaborn as sns\n",
        "\n",
        "\n",
        "\n",
        "x_train_audio = pd.read_csv('/content/drive/MyDrive/MFCCDeltaFeatures.csv')\n",
        "\n",
        "\n",
        "xtrainaudiofull=pd.read_csv('/content/drive/MyDrive/MFCCDeltaFeaturestrain.csv')\n",
        "y_train_audio = xtrainaudiofull['label']\n",
        "\n",
        "\n",
        "y_train = y_train_audio  \n",
        "\n",
        "print(x_train_audio.shape, y_train_audio.shape)"
      ]
    },
    {
      "cell_type": "code",
      "source": [
        "x_test_audio = pd.read_csv('/content/drive/MyDrive/MFCCDeltaFeaturestestlabel.csv')\n",
        "\n",
        "\n",
        "xtestaudiofull=pd.read_csv('/content/drive/MyDrive/MFCCDeltaFeaturestestlabelsorder.csv')\n",
        "y_test_audio = xtestaudiofull['label']\n",
        "\n",
        "\n",
        "y_test = y_test_audio  \n",
        "\n",
        "print(x_test_audio.shape, y_test_audio.shape)"
      ],
      "metadata": {
        "colab": {
          "base_uri": "https://localhost:8080/"
        },
        "id": "SWwkVwYUAMNc",
        "outputId": "ab7837b9-9a90-440e-9f01-c29e463888c8"
      },
      "execution_count": null,
      "outputs": [
        {
          "output_type": "stream",
          "name": "stdout",
          "text": [
            "(48, 82) (48,)\n"
          ]
        }
      ]
    },
    {
      "cell_type": "code",
      "source": [
        "ytam=pd.read_csv('/content/drive/MyDrive/train108.csv')\n",
        "y_train_mmse=ytam['mmse']"
      ],
      "metadata": {
        "id": "0JgD5vv5Rci2"
      },
      "execution_count": null,
      "outputs": []
    },
    {
      "cell_type": "code",
      "source": [
        "ytestam=pd.read_csv('/content/drive/MyDrive/test108crct.csv')\n",
        "y_test_mmse=ytestam['mmse']"
      ],
      "metadata": {
        "id": "XcLn-i7fSHmQ"
      },
      "execution_count": null,
      "outputs": []
    },
    {
      "cell_type": "code",
      "source": [
        "y_test_mmse"
      ],
      "metadata": {
        "colab": {
          "base_uri": "https://localhost:8080/"
        },
        "id": "G7qdCzDJT4L-",
        "outputId": "7a9ea11d-5df0-4bda-aff8-077da55b1e9f"
      },
      "execution_count": null,
      "outputs": [
        {
          "output_type": "execute_result",
          "data": {
            "text/plain": [
              "0     28\n",
              "1     29\n",
              "2     24\n",
              "3     30\n",
              "4     21\n",
              "5     15\n",
              "6     29\n",
              "7     28\n",
              "8     27\n",
              "9     26\n",
              "10    28\n",
              "11    23\n",
              "12    30\n",
              "13    17\n",
              "14    29\n",
              "15    30\n",
              "16    27\n",
              "17    30\n",
              "18    30\n",
              "19    10\n",
              "20    29\n",
              "21    17\n",
              "22    12\n",
              "23    30\n",
              "24    29\n",
              "25    19\n",
              "26    29\n",
              "27    18\n",
              "28    20\n",
              "29    20\n",
              "30    13\n",
              "31    22\n",
              "32    12\n",
              "33    24\n",
              "34    11\n",
              "35    26\n",
              "36    30\n",
              "37    28\n",
              "38    19\n",
              "39    30\n",
              "40    25\n",
              "41    30\n",
              "42    30\n",
              "43    18\n",
              "44    28\n",
              "45    23\n",
              "46    28\n",
              "47    27\n",
              "Name: mmse, dtype: int64"
            ]
          },
          "metadata": {},
          "execution_count": 5
        }
      ]
    },
    {
      "cell_type": "code",
      "source": [
        "y_train_mmse"
      ],
      "metadata": {
        "colab": {
          "base_uri": "https://localhost:8080/"
        },
        "id": "nwt7mX3XTkU4",
        "outputId": "b69e9284-b905-495d-83b7-22f2fd0774ac"
      },
      "execution_count": null,
      "outputs": [
        {
          "output_type": "execute_result",
          "data": {
            "text/plain": [
              "0       30\n",
              "1       30\n",
              "2       29\n",
              "3       30\n",
              "4       30\n",
              "      ... \n",
              "103     20\n",
              "104     24\n",
              "105     12\n",
              "106     20\n",
              "107     13\n",
              "Name: mmse, Length: 108, dtype: object"
            ]
          },
          "metadata": {},
          "execution_count": 8
        }
      ]
    },
    {
      "cell_type": "code",
      "source": [
        "xtrainaudiofull=pd.read_csv('/content/drive/MyDrive/MFCCDeltaFeaturestrain.csv')\n",
        "y_train_audio = xtrainaudiofull['label']\n",
        "\n",
        "y_train = y_train_audio  "
      ],
      "metadata": {
        "id": "OPnMd9h23Wmv"
      },
      "execution_count": null,
      "outputs": []
    },
    {
      "cell_type": "code",
      "source": [
        "y_train_audio"
      ],
      "metadata": {
        "colab": {
          "base_uri": "https://localhost:8080/"
        },
        "id": "HtWmaQvPJgma",
        "outputId": "515cabdb-909a-4a9f-ad0d-041bf17a9b72"
      },
      "execution_count": null,
      "outputs": [
        {
          "output_type": "execute_result",
          "data": {
            "text/plain": [
              "0      0\n",
              "1      0\n",
              "2      0\n",
              "3      0\n",
              "4      0\n",
              "      ..\n",
              "103    1\n",
              "104    1\n",
              "105    1\n",
              "106    1\n",
              "107    1\n",
              "Name: label, Length: 108, dtype: int64"
            ]
          },
          "metadata": {},
          "execution_count": 10
        }
      ]
    },
    {
      "cell_type": "code",
      "source": [
        "y_train_text"
      ],
      "metadata": {
        "colab": {
          "base_uri": "https://localhost:8080/",
          "height": 166
        },
        "id": "2XlyKklJJjvE",
        "outputId": "13c6fba1-4ca9-4489-cd1d-67b52a4132ca"
      },
      "execution_count": null,
      "outputs": [
        {
          "output_type": "error",
          "ename": "NameError",
          "evalue": "ignored",
          "traceback": [
            "\u001b[0;31m---------------------------------------------------------------------------\u001b[0m",
            "\u001b[0;31mNameError\u001b[0m                                 Traceback (most recent call last)",
            "\u001b[0;32m<ipython-input-11-0bf882178341>\u001b[0m in \u001b[0;36m<module>\u001b[0;34m()\u001b[0m\n\u001b[0;32m----> 1\u001b[0;31m \u001b[0my_train_text\u001b[0m\u001b[0;34m\u001b[0m\u001b[0;34m\u001b[0m\u001b[0m\n\u001b[0m",
            "\u001b[0;31mNameError\u001b[0m: name 'y_train_text' is not defined"
          ]
        }
      ]
    },
    {
      "cell_type": "code",
      "source": [
        "y_test_text"
      ],
      "metadata": {
        "colab": {
          "base_uri": "https://localhost:8080/"
        },
        "id": "AfMTOixNZkpY",
        "outputId": "641fc2a3-3777-4302-d82b-2b84a7dec34f"
      },
      "execution_count": null,
      "outputs": [
        {
          "output_type": "execute_result",
          "data": {
            "text/plain": [
              "array([1, 0, 0, 1, 1, 1, 0, 0, 0, 1, 1, 1, 1, 1, 0, 1, 0, 0, 1, 0, 0, 0,\n",
              "       1, 0, 0, 1, 0, 1, 1, 1, 1, 1, 0, 0, 1, 1, 0, 0, 0, 1, 0, 1, 0, 0,\n",
              "       1, 1, 0, 0])"
            ]
          },
          "metadata": {},
          "execution_count": 20
        }
      ]
    },
    {
      "cell_type": "code",
      "source": [
        "y_test_audio"
      ],
      "metadata": {
        "colab": {
          "base_uri": "https://localhost:8080/"
        },
        "id": "MgR51qz-ZeCk",
        "outputId": "70596035-55b8-4878-97e7-c77e12c4fb06"
      },
      "execution_count": null,
      "outputs": [
        {
          "output_type": "execute_result",
          "data": {
            "text/plain": [
              "0     0\n",
              "1     0\n",
              "2     0\n",
              "3     0\n",
              "4     0\n",
              "5     0\n",
              "6     0\n",
              "7     0\n",
              "8     0\n",
              "9     0\n",
              "10    0\n",
              "11    0\n",
              "12    0\n",
              "13    0\n",
              "14    0\n",
              "15    0\n",
              "16    0\n",
              "17    0\n",
              "18    0\n",
              "19    0\n",
              "20    0\n",
              "21    0\n",
              "22    0\n",
              "23    0\n",
              "24    1\n",
              "25    1\n",
              "26    1\n",
              "27    1\n",
              "28    1\n",
              "29    1\n",
              "30    1\n",
              "31    1\n",
              "32    1\n",
              "33    1\n",
              "34    1\n",
              "35    1\n",
              "36    1\n",
              "37    1\n",
              "38    1\n",
              "39    1\n",
              "40    1\n",
              "41    1\n",
              "42    1\n",
              "43    1\n",
              "44    1\n",
              "45    1\n",
              "46    1\n",
              "47    1\n",
              "Name: label, dtype: int64"
            ]
          },
          "metadata": {},
          "execution_count": 19
        }
      ]
    },
    {
      "cell_type": "code",
      "source": [
        "y_test"
      ],
      "metadata": {
        "colab": {
          "base_uri": "https://localhost:8080/"
        },
        "id": "hUts49hEAsgg",
        "outputId": "e6717e22-3108-4b1f-b7d7-03e771223ba3"
      },
      "execution_count": null,
      "outputs": [
        {
          "output_type": "execute_result",
          "data": {
            "text/plain": [
              "0     0\n",
              "1     0\n",
              "2     1\n",
              "3     0\n",
              "4     1\n",
              "5     1\n",
              "6     0\n",
              "7     1\n",
              "8     1\n",
              "9     1\n",
              "10    0\n",
              "11    1\n",
              "12    0\n",
              "13    1\n",
              "14    0\n",
              "15    0\n",
              "16    1\n",
              "17    0\n",
              "18    0\n",
              "19    1\n",
              "20    0\n",
              "21    1\n",
              "22    1\n",
              "23    0\n",
              "24    0\n",
              "25    1\n",
              "26    0\n",
              "27    1\n",
              "28    1\n",
              "29    1\n",
              "30    1\n",
              "31    1\n",
              "32    1\n",
              "33    0\n",
              "34    1\n",
              "35    0\n",
              "36    0\n",
              "37    0\n",
              "38    1\n",
              "39    0\n",
              "40    1\n",
              "41    0\n",
              "42    0\n",
              "43    1\n",
              "44    0\n",
              "45    1\n",
              "46    0\n",
              "47    0\n",
              "Name: label, dtype: int64"
            ]
          },
          "metadata": {},
          "execution_count": 4
        }
      ]
    },
    {
      "cell_type": "code",
      "source": [
        "y_train"
      ],
      "metadata": {
        "colab": {
          "base_uri": "https://localhost:8080/"
        },
        "id": "DAixLe0q23Se",
        "outputId": "975b6b3c-8530-4830-f151-c4d3ac6df3d3"
      },
      "execution_count": null,
      "outputs": [
        {
          "output_type": "execute_result",
          "data": {
            "text/plain": [
              "0      0\n",
              "1      0\n",
              "2      0\n",
              "3      0\n",
              "4      0\n",
              "      ..\n",
              "103    1\n",
              "104    1\n",
              "105    1\n",
              "106    1\n",
              "107    1\n",
              "Name: label, Length: 108, dtype: int64"
            ]
          },
          "metadata": {},
          "execution_count": 5
        }
      ]
    },
    {
      "cell_type": "code",
      "source": [],
      "metadata": {
        "id": "M0QIVe6fzs1i"
      },
      "execution_count": null,
      "outputs": []
    },
    {
      "cell_type": "code",
      "source": [
        "from google.colab import drive\n",
        "drive.mount('/content/drive')"
      ],
      "metadata": {
        "colab": {
          "base_uri": "https://localhost:8080/"
        },
        "id": "bDqXDzKiwThg",
        "outputId": "201caeb2-ac09-4cfd-f63e-c23a1a4d5deb"
      },
      "execution_count": null,
      "outputs": [
        {
          "output_type": "stream",
          "name": "stdout",
          "text": [
            "Mounted at /content/drive\n"
          ]
        }
      ]
    },
    {
      "cell_type": "code",
      "execution_count": null,
      "metadata": {
        "id": "5kBXaD9YwQ7q"
      },
      "outputs": [],
      "source": [
        "ad_dict = {'NON-AD': 0,\n",
        "                'AD': 1}\n",
        "\n",
        "ad_keys = list(['NON-AD', 'AD'])\n",
        "\n",
        "\n",
        "def plot_confusion_matrix(cm, classes,\n",
        "                          normalize=False,\n",
        "                          title='Confusion matrix',\n",
        "                          cmap=plt.cm.Blues):\n",
        "    \n",
        "    plt.imshow(cm, interpolation='nearest', cmap=cmap)\n",
        "    plt.title(title)\n",
        "    plt.colorbar()\n",
        "    tick_marks = np.arange(len(classes))\n",
        "    plt.xticks(tick_marks, classes, rotation=45)\n",
        "    plt.yticks(tick_marks, classes)\n",
        "\n",
        "    if normalize:\n",
        "        cm = cm.astype('float') / cm.sum(axis=1)[:, np.newaxis]\n",
        "        print(\"Normalized confusion matrix\")\n",
        "    else:\n",
        "        print('Confusion matrix')\n",
        "\n",
        "    print(cm)\n",
        "\n",
        "    thresh = cm.max() / 2.\n",
        "    for i, j in itertools.product(range(cm.shape[0]), range(cm.shape[1])):\n",
        "        plt.text(j, i, cm[i, j],\n",
        "                 horizontalalignment=\"center\",\n",
        "                 color=\"white\" if cm[i, j] > thresh else \"black\")\n",
        "\n",
        "    plt.tight_layout()\n",
        "    plt.ylabel('True label')\n",
        "    plt.xlabel('Predicted label')\n",
        "    \n",
        "def one_hot_encoder(true_labels, num_records, num_classes):\n",
        "    temp = np.array(true_labels[:num_records])\n",
        "    true_labels = np.zeros((num_records, num_classes))\n",
        "    true_labels[np.arange(num_records), temp] = 1\n",
        "    return true_labels\n",
        "\n",
        "def display_results(y_test, pred_probs, cm=True):\n",
        "    pred = np.argmax(pred_probs, axis=-1)\n",
        "    one_hot_true = one_hot_encoder(y_test, len(pred), len(ad_dict))\n",
        "    print('Test Set Accuracy =  {0:.3f}'.format(accuracy_score(y_test, pred)))\n",
        "    print('Test Set F1-score =  {0:.3f}'.format(f1_score(y_test, pred, average='macro')))\n",
        "    print('Test Set Precision =  {0:.3f}'.format(precision_score(y_test, pred, average='macro')))\n",
        "    print('Test Set Recall =  {0:.3f}'.format(recall_score(y_test, pred, average='macro')))\n",
        "    if cm:\n",
        "        plot_confusion_matrix(confusion_matrix(y_test, pred), classes=ad_keys)"
      ]
    },
    {
      "cell_type": "markdown",
      "metadata": {
        "id": "-pMa-qSDwQ7r"
      },
      "source": [
        "## Get glove Features"
      ]
    },
    {
      "cell_type": "code",
      "source": [
        "from numpy import load\n",
        "# load array\n",
        "x_train_text = load('/content/drive/MyDrive/glove_train.npy')\n",
        "y_train_text = load('/content/drive/MyDrive/labelstext_train.npy')\n",
        "print(x_train_text.shape, y_train_text.shape)"
      ],
      "metadata": {
        "colab": {
          "base_uri": "https://localhost:8080/"
        },
        "id": "ImeWhn33z-Lx",
        "outputId": "75e4086c-01a9-4b90-db92-2e8ddfb25444"
      },
      "execution_count": null,
      "outputs": [
        {
          "output_type": "stream",
          "name": "stdout",
          "text": [
            "(108, 100) (108,)\n"
          ]
        }
      ]
    },
    {
      "cell_type": "code",
      "source": [
        "y_train_text"
      ],
      "metadata": {
        "colab": {
          "base_uri": "https://localhost:8080/"
        },
        "id": "uYllyB6AKIbi",
        "outputId": "02ca620c-6df0-4df4-e1c9-c05a250f2c83"
      },
      "execution_count": null,
      "outputs": [
        {
          "output_type": "execute_result",
          "data": {
            "text/plain": [
              "array([0, 0, 0, 0, 0, 0, 0, 0, 0, 0, 0, 0, 0, 0, 0, 0, 0, 0, 0, 0, 0, 0,\n",
              "       0, 0, 0, 0, 0, 0, 0, 0, 0, 0, 0, 0, 0, 0, 0, 0, 0, 0, 0, 0, 0, 0,\n",
              "       0, 0, 0, 0, 0, 0, 0, 0, 0, 0, 1, 1, 1, 1, 1, 1, 1, 1, 1, 1, 1, 1,\n",
              "       1, 1, 1, 1, 1, 1, 1, 1, 1, 1, 1, 1, 1, 1, 1, 1, 1, 1, 1, 1, 1, 1,\n",
              "       1, 1, 1, 1, 1, 1, 1, 1, 1, 1, 1, 1, 1, 1, 1, 1, 1, 1, 1, 1])"
            ]
          },
          "metadata": {},
          "execution_count": 14
        }
      ]
    },
    {
      "cell_type": "code",
      "source": [
        "from numpy import load\n",
        "\n",
        "x_test_text = load('/content/drive/MyDrive/glove_test.npy')\n",
        "y_test_text = load('/content/drive/MyDrive/labeltext_test.npy')\n",
        "print(x_test_text.shape, y_test_text.shape)\n"
      ],
      "metadata": {
        "colab": {
          "base_uri": "https://localhost:8080/"
        },
        "id": "0lUVmlOQY7be",
        "outputId": "b0fc354a-646e-4b16-8c43-508eda93f5b4"
      },
      "execution_count": null,
      "outputs": [
        {
          "output_type": "stream",
          "name": "stdout",
          "text": [
            "(48, 100) (48,)\n"
          ]
        }
      ]
    },
    {
      "cell_type": "code",
      "source": [
        "y_test=y_test_text"
      ],
      "metadata": {
        "id": "SDErIszFKacL"
      },
      "execution_count": null,
      "outputs": []
    },
    {
      "cell_type": "code",
      "source": [
        "import numpy\n",
        "numpy.array_equal(y_test_text,y_test_audio, equal_nan=False)"
      ],
      "metadata": {
        "colab": {
          "base_uri": "https://localhost:8080/"
        },
        "id": "j28CdxrbJGLM",
        "outputId": "d4663c9d-7d15-4b29-d05c-1fa3f5a43ba3"
      },
      "execution_count": null,
      "outputs": [
        {
          "output_type": "execute_result",
          "data": {
            "text/plain": [
              "True"
            ]
          },
          "metadata": {},
          "execution_count": 17
        }
      ]
    },
    {
      "cell_type": "code",
      "source": [
        "import numpy\n",
        "numpy.array_equal(y_train_text,y_train_audio, equal_nan=False)"
      ],
      "metadata": {
        "colab": {
          "base_uri": "https://localhost:8080/"
        },
        "id": "In9wF2RDJRDd",
        "outputId": "1e9dbcb0-d45f-4da5-b1ca-d08e2c8620b2"
      },
      "execution_count": null,
      "outputs": [
        {
          "output_type": "execute_result",
          "data": {
            "text/plain": [
              "True"
            ]
          },
          "metadata": {},
          "execution_count": 18
        }
      ]
    },
    {
      "cell_type": "markdown",
      "metadata": {
        "id": "613Qz-m4wQ7s"
      },
      "source": [
        "## Combine Text + Audio Features"
      ]
    },
    {
      "cell_type": "code",
      "execution_count": null,
      "metadata": {
        "colab": {
          "base_uri": "https://localhost:8080/"
        },
        "id": "n2btdvjrwQ7t",
        "outputId": "46c4485f-5577-4c3a-d84c-db9f0030ee28"
      },
      "outputs": [
        {
          "output_type": "stream",
          "name": "stdout",
          "text": [
            "(108, 180)\n"
          ]
        }
      ],
      "source": [
        "combinedxtrain = np.concatenate((np.array(x_train_audio[x_train_audio.columns[2:]]), x_train_text), axis=1)\n",
        "combinedxtest = np.concatenate((np.array(x_test_audio[x_test_audio.columns[2:]]), x_test_text), axis=1)\n",
        "\n",
        "print(combinedxtrain.shape)\n",
        "\n",
        "combined_features_dict = {}\n",
        "\n",
        "combined_features_dict['x_train'] = combinedxtrain\n",
        "combined_features_dict['x_test'] = combinedxtest\n",
        "combined_features_dict['y_train'] = np.array(y_train)\n",
        "combined_features_dict['y_test'] = np.array(y_test)\n",
        "\n",
        "with open('combined_features.pkl', 'wb') as f:\n",
        "    pickle.dump(combined_features_dict, f)"
      ]
    },
    {
      "cell_type": "code",
      "source": [
        "y_train"
      ],
      "metadata": {
        "colab": {
          "base_uri": "https://localhost:8080/"
        },
        "id": "0_nLhBtH3lcs",
        "outputId": "df9c8425-4288-4093-8400-4faa2ba93d56"
      },
      "execution_count": null,
      "outputs": [
        {
          "output_type": "execute_result",
          "data": {
            "text/plain": [
              "0      0\n",
              "1      0\n",
              "2      0\n",
              "3      0\n",
              "4      0\n",
              "      ..\n",
              "103    1\n",
              "104    1\n",
              "105    1\n",
              "106    1\n",
              "107    1\n",
              "Name: label, Length: 108, dtype: int64"
            ]
          },
          "metadata": {},
          "execution_count": 20
        }
      ]
    },
    {
      "cell_type": "code",
      "source": [
        "rf_classifier = RandomForestClassifier(n_estimators=600, min_samples_split=25)\n",
        "rf_classifier.fit(combined_xtrain, y_train)"
      ],
      "metadata": {
        "colab": {
          "base_uri": "https://localhost:8080/",
          "height": 183
        },
        "id": "a5kAB57d2jiG",
        "outputId": "465ba888-b95e-4631-912d-759cda41ee61"
      },
      "execution_count": null,
      "outputs": [
        {
          "output_type": "error",
          "ename": "NameError",
          "evalue": "ignored",
          "traceback": [
            "\u001b[0;31m---------------------------------------------------------------------------\u001b[0m",
            "\u001b[0;31mNameError\u001b[0m                                 Traceback (most recent call last)",
            "\u001b[0;32m<ipython-input-21-47c4c63485d3>\u001b[0m in \u001b[0;36m<module>\u001b[0;34m()\u001b[0m\n\u001b[1;32m      1\u001b[0m \u001b[0mrf_classifier\u001b[0m \u001b[0;34m=\u001b[0m \u001b[0mRandomForestClassifier\u001b[0m\u001b[0;34m(\u001b[0m\u001b[0mn_estimators\u001b[0m\u001b[0;34m=\u001b[0m\u001b[0;36m600\u001b[0m\u001b[0;34m,\u001b[0m \u001b[0mmin_samples_split\u001b[0m\u001b[0;34m=\u001b[0m\u001b[0;36m25\u001b[0m\u001b[0;34m)\u001b[0m\u001b[0;34m\u001b[0m\u001b[0;34m\u001b[0m\u001b[0m\n\u001b[0;32m----> 2\u001b[0;31m \u001b[0mrf_classifier\u001b[0m\u001b[0;34m.\u001b[0m\u001b[0mfit\u001b[0m\u001b[0;34m(\u001b[0m\u001b[0mcombined_xtrain\u001b[0m\u001b[0;34m,\u001b[0m \u001b[0my_train\u001b[0m\u001b[0;34m)\u001b[0m\u001b[0;34m\u001b[0m\u001b[0;34m\u001b[0m\u001b[0m\n\u001b[0m",
            "\u001b[0;31mNameError\u001b[0m: name 'combined_xtrain' is not defined"
          ]
        }
      ]
    },
    {
      "cell_type": "code",
      "source": [
        "combinedxtrain.shape"
      ],
      "metadata": {
        "colab": {
          "base_uri": "https://localhost:8080/"
        },
        "id": "Im1ELIBZSHbx",
        "outputId": "6a1c0e25-3cc8-4abf-df4f-c31410d7a842"
      },
      "execution_count": null,
      "outputs": [
        {
          "output_type": "execute_result",
          "data": {
            "text/plain": [
              "(108, 180)"
            ]
          },
          "metadata": {},
          "execution_count": 22
        }
      ]
    },
    {
      "cell_type": "code",
      "source": [
        "rf_classifier = RandomForestClassifier(n_estimators=600, min_samples_split=25)\n",
        "rf_classifier.fit(combinedxtrain, y_train)\n",
        "\n",
        "pred_probs = rf_classifier.predict_proba(combinedxtest)\n",
        "display_results(y_test, pred_probs)"
      ],
      "metadata": {
        "colab": {
          "base_uri": "https://localhost:8080/",
          "height": 432
        },
        "id": "RGlUOF0LL3It",
        "outputId": "77de00c2-368c-473a-f8f6-2385aacd0a00"
      },
      "execution_count": null,
      "outputs": [
        {
          "output_type": "stream",
          "name": "stdout",
          "text": [
            "Test Set Accuracy =  0.729\n",
            "Test Set F1-score =  0.728\n",
            "Test Set Precision =  0.733\n",
            "Test Set Recall =  0.729\n",
            "Confusion matrix\n",
            "[[16  8]\n",
            " [ 5 19]]\n"
          ]
        },
        {
          "output_type": "display_data",
          "data": {
            "text/plain": [
              "<Figure size 432x288 with 2 Axes>"
            ],
            "image/png": "[encoded data removed]"
          },
          "metadata": {
            "needs_background": "light"
          }
        }
      ]
    },
    {
      "cell_type": "code",
      "source": [
        "xgb_classifier = xgb.XGBClassifier(max_depth=7, learning_rate=0.008, objective='multi:softprob', \n",
        "                                   n_estimators=600, sub_sample=0.8, num_class=len(ad_dict),\n",
        "                                   booster='gbtree', n_jobs=4)\n",
        "xgb_classifier.fit(combinedxtrain, y_train)\n",
        "pred_probs = xgb_classifier.predict_proba(combinedxtest)\n",
        "display_results(y_test, pred_probs)"
      ],
      "metadata": {
        "colab": {
          "base_uri": "https://localhost:8080/",
          "height": 432
        },
        "id": "4poyxRizNUP_",
        "outputId": "71872b13-0b6d-4239-ca5a-07ab790eb40e"
      },
      "execution_count": null,
      "outputs": [
        {
          "output_type": "stream",
          "name": "stdout",
          "text": [
            "Test Set Accuracy =  0.625\n",
            "Test Set F1-score =  0.624\n",
            "Test Set Precision =  0.626\n",
            "Test Set Recall =  0.625\n",
            "Confusion matrix\n",
            "[[14 10]\n",
            " [ 8 16]]\n"
          ]
        },
        {
          "output_type": "display_data",
          "data": {
            "text/plain": [
              "<Figure size 432x288 with 2 Axes>"
            ],
            "image/png": "[encoded data removed]"
          },
          "metadata": {
            "needs_background": "light"
          }
        }
      ]
    },
    {
      "cell_type": "code",
      "source": [
        "svc_classifier = LinearSVC()\n",
        "\n",
        "svc_classifier.fit(combinedxtrain, y_train)\n",
        "\n",
        "pred = svc_classifier.predict(combinedxtest)\n",
        "\n",
        "\n",
        "one_hot_true = one_hot_encoder(y_test, len(pred), len(ad_dict))\n",
        "print('Test Set Accuracy =  {0:.3f}'.format(accuracy_score(y_test, pred)))\n",
        "print('Test Set F-score =  {0:.3f}'.format(f1_score(y_test, pred, average='macro')))\n",
        "print('Test Set Precision =  {0:.3f}'.format(precision_score(y_test, pred, average='macro')))\n",
        "print('Test Set Recall =  {0:.3f}'.format(recall_score(y_test, pred, average='macro')))\n",
        "plot_confusion_matrix(confusion_matrix(y_test, pred), classes=ad_keys)\n",
        "(y_test, pred_probs)"
      ],
      "metadata": {
        "colab": {
          "base_uri": "https://localhost:8080/",
          "height": 1000
        },
        "id": "MXV8YSe9NhU3",
        "outputId": "c70680a5-5cc3-416e-ed68-89a0791da7dc"
      },
      "execution_count": null,
      "outputs": [
        {
          "output_type": "stream",
          "name": "stdout",
          "text": [
            "Test Set Accuracy =  0.500\n",
            "Test Set F-score =  0.333\n",
            "Test Set Precision =  0.250\n",
            "Test Set Recall =  0.500\n",
            "Confusion matrix\n",
            "[[24  0]\n",
            " [24  0]]\n"
          ]
        },
        {
          "output_type": "stream",
          "name": "stderr",
          "text": [
            "/usr/local/lib/python3.7/dist-packages/sklearn/svm/_base.py:1208: ConvergenceWarning: Liblinear failed to converge, increase the number of iterations.\n",
            "  ConvergenceWarning,\n",
            "/usr/local/lib/python3.7/dist-packages/sklearn/metrics/_classification.py:1318: UndefinedMetricWarning: Precision is ill-defined and being set to 0.0 in labels with no predicted samples. Use `zero_division` parameter to control this behavior.\n",
            "  _warn_prf(average, modifier, msg_start, len(result))\n"
          ]
        },
        {
          "output_type": "execute_result",
          "data": {
            "text/plain": [
              "(array([0, 0, 1, 0, 1, 1, 0, 1, 1, 1, 0, 1, 0, 1, 0, 0, 1, 0, 0, 1, 0, 1,\n",
              "        1, 0, 0, 1, 0, 1, 1, 1, 1, 1, 1, 0, 1, 0, 0, 0, 1, 0, 1, 0, 0, 1,\n",
              "        0, 1, 0, 0]), array([[0.81847614, 0.18152384],\n",
              "        [0.29882285, 0.7011772 ],\n",
              "        [0.5193614 , 0.48063862],\n",
              "        [0.84230924, 0.15769082],\n",
              "        [0.39990363, 0.60009634],\n",
              "        [0.05640894, 0.9435911 ],\n",
              "        [0.8114446 , 0.1885554 ],\n",
              "        [0.06976898, 0.930231  ],\n",
              "        [0.8565439 , 0.14345615],\n",
              "        [0.7604824 , 0.23951763],\n",
              "        [0.07928109, 0.92071885],\n",
              "        [0.2780128 , 0.7219872 ],\n",
              "        [0.9324178 , 0.06758217],\n",
              "        [0.7937377 , 0.20626229],\n",
              "        [0.72466636, 0.2753336 ],\n",
              "        [0.23374534, 0.76625466],\n",
              "        [0.5382413 , 0.46175867],\n",
              "        [0.15165244, 0.84834754],\n",
              "        [0.08841234, 0.9115876 ],\n",
              "        [0.45517907, 0.54482096],\n",
              "        [0.52492535, 0.4750747 ],\n",
              "        [0.67545485, 0.32454515],\n",
              "        [0.09229906, 0.90770096],\n",
              "        [0.48586407, 0.51413596],\n",
              "        [0.6321982 , 0.36780182],\n",
              "        [0.08442631, 0.9155737 ],\n",
              "        [0.29883185, 0.7011681 ],\n",
              "        [0.05040715, 0.9495928 ],\n",
              "        [0.1159202 , 0.8840798 ],\n",
              "        [0.48392084, 0.5160791 ],\n",
              "        [0.10703006, 0.89296997],\n",
              "        [0.19407439, 0.8059256 ],\n",
              "        [0.11519935, 0.8848006 ],\n",
              "        [0.8535648 , 0.14643522],\n",
              "        [0.8576713 , 0.14232871],\n",
              "        [0.9186288 , 0.08137122],\n",
              "        [0.76577276, 0.23422724],\n",
              "        [0.59735936, 0.40264064],\n",
              "        [0.6066409 , 0.39335918],\n",
              "        [0.4165066 , 0.5834934 ],\n",
              "        [0.45869264, 0.54130733],\n",
              "        [0.3779422 , 0.6220578 ],\n",
              "        [0.8657588 , 0.13424124],\n",
              "        [0.26774427, 0.7322557 ],\n",
              "        [0.9482578 , 0.05174217],\n",
              "        [0.45890343, 0.54109657],\n",
              "        [0.64492816, 0.35507187],\n",
              "        [0.22644675, 0.77355325]], dtype=float32))"
            ]
          },
          "metadata": {},
          "execution_count": 25
        },
        {
          "output_type": "display_data",
          "data": {
            "text/plain": [
              "<Figure size 432x288 with 2 Axes>"
            ],
            "image/png": "[encoded data removed]"
          },
          "metadata": {
            "needs_background": "light"
          }
        }
      ]
    },
    {
      "cell_type": "code",
      "source": [
        "mlp_classifier = MLPClassifier(hidden_layer_sizes=(500, ), activation='relu', solver='adam', alpha=0.0001,\n",
        "                               batch_size='auto', learning_rate='adaptive', learning_rate_init=0.01,\n",
        "                               power_t=0.5, max_iter=1000, shuffle=True, random_state=None, tol=0.0001,\n",
        "                               verbose=False, warm_start=True, momentum=0.8, nesterovs_momentum=True,\n",
        "                               early_stopping=False, validation_fraction=0.1, beta_1=0.9, beta_2=0.999,\n",
        "                               epsilon=1e-08)\n",
        "\n",
        "mlp_classifier.fit(combinedxtrain, y_train)\n",
        "\n",
        "pred_probs = mlp_classifier.predict_proba(combinedxtest)\n",
        "\n",
        "display_results(y_test, pred_probs)"
      ],
      "metadata": {
        "colab": {
          "base_uri": "https://localhost:8080/",
          "height": 432
        },
        "id": "LS8uVP_wNzUR",
        "outputId": "f9c4912e-be6c-477a-e75b-bebb428aeb8e"
      },
      "execution_count": null,
      "outputs": [
        {
          "output_type": "stream",
          "name": "stdout",
          "text": [
            "Test Set Accuracy =  0.542\n",
            "Test Set F1-score =  0.541\n",
            "Test Set Precision =  0.542\n",
            "Test Set Recall =  0.542\n",
            "Confusion matrix\n",
            "[[14 10]\n",
            " [12 12]]\n"
          ]
        },
        {
          "output_type": "display_data",
          "data": {
            "text/plain": [
              "<Figure size 432x288 with 2 Axes>"
            ],
            "image/png": "[encoded data removed]"
          },
          "metadata": {
            "needs_background": "light"
          }
        }
      ]
    },
    {
      "cell_type": "code",
      "source": [
        "lr_classifier = LogisticRegression(solver='lbfgs', multi_class='multinomial', max_iter=1000)\n",
        "\n",
        "lr_classifier.fit(combinedxtrain, y_train)\n",
        "\n",
        "pred_probs = lr_classifier.predict_proba(combinedxtest)\n",
        "\n",
        "display_results(y_test, pred_probs)"
      ],
      "metadata": {
        "colab": {
          "base_uri": "https://localhost:8080/",
          "height": 571
        },
        "id": "s2uRxaxxN-MX",
        "outputId": "3a7389a6-9274-4335-8d8b-539e5a0a16df"
      },
      "execution_count": null,
      "outputs": [
        {
          "output_type": "stream",
          "name": "stderr",
          "text": [
            "/usr/local/lib/python3.7/dist-packages/sklearn/linear_model/_logistic.py:818: ConvergenceWarning: lbfgs failed to converge (status=1):\n",
            "STOP: TOTAL NO. of ITERATIONS REACHED LIMIT.\n",
            "\n",
            "Increase the number of iterations (max_iter) or scale the data as shown in:\n",
            "    https://scikit-learn.org/stable/modules/preprocessing.html\n",
            "Please also refer to the documentation for alternative solver options:\n",
            "    https://scikit-learn.org/stable/modules/linear_model.html#logistic-regression\n",
            "  extra_warning_msg=_LOGISTIC_SOLVER_CONVERGENCE_MSG,\n"
          ]
        },
        {
          "output_type": "stream",
          "name": "stdout",
          "text": [
            "Test Set Accuracy =  0.562\n",
            "Test Set F1-score =  0.553\n",
            "Test Set Precision =  0.568\n",
            "Test Set Recall =  0.562\n",
            "Confusion matrix\n",
            "[[17  7]\n",
            " [14 10]]\n"
          ]
        },
        {
          "output_type": "display_data",
          "data": {
            "text/plain": [
              "<Figure size 432x288 with 2 Axes>"
            ],
            "image/png": "[encoded data removed]"
          },
          "metadata": {
            "needs_background": "light"
          }
        }
      ]
    },
    {
      "cell_type": "code",
      "source": [
        "lr_classifier = LogisticRegression(solver='lbfgs', multi_class='multinomial', max_iter=1000)\n",
        "\n",
        "lr_classifier.fit(combinedxtrain, y_train)\n",
        "\n",
        "pred_probs = lr_classifier.predict_proba(combinedxtest)\n",
        "\n",
        "display_results(y_test, pred_probs)\n"
      ],
      "metadata": {
        "colab": {
          "base_uri": "https://localhost:8080/",
          "height": 571
        },
        "id": "HKRpg3i8OESK",
        "outputId": "4595213e-89e5-482d-9a54-bc7d1267feda"
      },
      "execution_count": null,
      "outputs": [
        {
          "output_type": "stream",
          "name": "stderr",
          "text": [
            "/usr/local/lib/python3.7/dist-packages/sklearn/linear_model/_logistic.py:818: ConvergenceWarning: lbfgs failed to converge (status=1):\n",
            "STOP: TOTAL NO. of ITERATIONS REACHED LIMIT.\n",
            "\n",
            "Increase the number of iterations (max_iter) or scale the data as shown in:\n",
            "    https://scikit-learn.org/stable/modules/preprocessing.html\n",
            "Please also refer to the documentation for alternative solver options:\n",
            "    https://scikit-learn.org/stable/modules/linear_model.html#logistic-regression\n",
            "  extra_warning_msg=_LOGISTIC_SOLVER_CONVERGENCE_MSG,\n"
          ]
        },
        {
          "output_type": "stream",
          "name": "stdout",
          "text": [
            "Test Set Accuracy =  0.562\n",
            "Test Set F1-score =  0.553\n",
            "Test Set Precision =  0.568\n",
            "Test Set Recall =  0.562\n",
            "Confusion matrix\n",
            "[[17  7]\n",
            " [14 10]]\n"
          ]
        },
        {
          "output_type": "display_data",
          "data": {
            "text/plain": [
              "<Figure size 432x288 with 2 Axes>"
            ],
            "image/png": "[encoded data removed]"
          },
          "metadata": {
            "needs_background": "light"
          }
        }
      ]
    },
    {
      "cell_type": "markdown",
      "source": [
        "Regression"
      ],
      "metadata": {
        "id": "kz16nquDOWZq"
      }
    },
    {
      "cell_type": "code",
      "source": [
        "import numpy as np\n",
        "import pandas as pd\n",
        "import seaborn as sns\n",
        "import matplotlib.pyplot as plt\n",
        "from sklearn import preprocessing, svm\n",
        "from sklearn.model_selection import train_test_split\n",
        "from sklearn.linear_model import LinearRegression"
      ],
      "metadata": {
        "id": "dxhazRPbOXq_"
      },
      "execution_count": null,
      "outputs": []
    },
    {
      "cell_type": "code",
      "source": [
        "regr = LinearRegression()\n",
        "  \n",
        "regr.fit(combinedxtrain, y_train_mmse)\n",
        "print(regr.score(combinedxtest, y_test_mmse))"
      ],
      "metadata": {
        "colab": {
          "base_uri": "https://localhost:8080/"
        },
        "id": "vzU_ID8mOX-6",
        "outputId": "de0d0736-1b27-4fe2-c889-b1298513ea6b"
      },
      "execution_count": null,
      "outputs": [
        {
          "output_type": "stream",
          "name": "stdout",
          "text": [
            "-4.502311769483324\n"
          ]
        }
      ]
    },
    {
      "cell_type": "code",
      "source": [
        "y_train_mmse[0]=30"
      ],
      "metadata": {
        "colab": {
          "base_uri": "https://localhost:8080/"
        },
        "id": "FcA3quBpSRNI",
        "outputId": "274a60a1-18bc-4a99-d399-130c94b09608"
      },
      "execution_count": null,
      "outputs": [
        {
          "output_type": "stream",
          "name": "stderr",
          "text": [
            "/usr/local/lib/python3.7/dist-packages/ipykernel_launcher.py:1: SettingWithCopyWarning: \n",
            "A value is trying to be set on a copy of a slice from a DataFrame\n",
            "\n",
            "See the caveats in the documentation: https://pandas.pydata.org/pandas-docs/stable/user_guide/indexing.html#returning-a-view-versus-a-copy\n",
            "  \"\"\"Entry point for launching an IPython kernel.\n"
          ]
        }
      ]
    },
    {
      "cell_type": "code",
      "source": [
        "y_pred=regr.predict(combinedxtest)\n",
        "from sklearn.metrics import mean_squared_error\n",
        "print(\"RMSE : \",np.sqrt(mean_squared_error(y_test_mmse,y_pred)))"
      ],
      "metadata": {
        "colab": {
          "base_uri": "https://localhost:8080/"
        },
        "id": "N3TVTILgUwbu",
        "outputId": "ba3594a8-d88a-48d4-fd51-7099c2618c41"
      },
      "execution_count": null,
      "outputs": [
        {
          "output_type": "stream",
          "name": "stdout",
          "text": [
            "RMSE :  14.21703147309993\n"
          ]
        }
      ]
    },
    {
      "cell_type": "code",
      "source": [
        "from sklearn.ensemble import RandomForestRegressor\n",
        "rf = RandomForestRegressor(n_estimators = 100, max_features = 'sqrt', max_depth = 5, random_state = 18).fit(combinedxtrain, y_train_mmse)\n",
        "y_pred=rf.predict(combinedxtest)\n",
        "from sklearn.metrics import mean_squared_error\n",
        "print(\"RMSE : \",np.sqrt(mean_squared_error(y_test_mmse,y_pred)))"
      ],
      "metadata": {
        "colab": {
          "base_uri": "https://localhost:8080/"
        },
        "id": "y8FD1HvNVJ4E",
        "outputId": "57c87850-34c1-4231-b441-84e5142496b0"
      },
      "execution_count": null,
      "outputs": [
        {
          "output_type": "stream",
          "name": "stdout",
          "text": [
            "RMSE :  5.768772645691936\n"
          ]
        }
      ]
    },
    {
      "cell_type": "code",
      "source": [
        "from sklearn.svm import SVR\n",
        "svr = SVR().fit(combinedxtrain, y_train_mmse)\n",
        "y_pred=svr.predict(combinedxtest)\n",
        "from sklearn.metrics import mean_squared_error\n",
        "print(\"RMSE : \",np.sqrt(mean_squared_error(y_test_mmse,y_pred)))\n"
      ],
      "metadata": {
        "colab": {
          "base_uri": "https://localhost:8080/"
        },
        "id": "AWQn6ge0WBhf",
        "outputId": "923c75f6-af86-4e28-c84f-dfa2eb5092ce"
      },
      "execution_count": null,
      "outputs": [
        {
          "output_type": "stream",
          "name": "stdout",
          "text": [
            "RMSE :  6.576104422091357\n"
          ]
        }
      ]
    },
    {
      "cell_type": "code",
      "source": [],
      "metadata": {
        "id": "EBGUwc-5VzI2"
      },
      "execution_count": null,
      "outputs": []
    }
  ]
}