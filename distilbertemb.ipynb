{
  "nbformat": 4,
  "nbformat_minor": 0,
  "metadata": {
    "colab": {
      "provenance": []
    },
    "kernelspec": {
      "name": "python3",
      "display_name": "Python 3"
    },
    "language_info": {
      "name": "python"
    }
  },
  "cells": [
    {
      "cell_type": "code",
      "source": [
        "import pandas as pd\n",
        "import numpy as np\n",
        "import pickle\n",
        "from sklearn.model_selection import cross_validate\n",
        "import itertools\n",
        "import xgboost as xgb\n",
        "from sklearn.svm import LinearSVC\n",
        "\n",
        "from sklearn.naive_bayes import MultinomialNB\n",
        "from sklearn.neural_network import MLPClassifier\n",
        "from sklearn.linear_model import LogisticRegression\n",
        "from sklearn.ensemble import RandomForestClassifier\n",
        "from sklearn.model_selection import train_test_split\n",
        "from sklearn.feature_selection import SelectFromModel\n",
        "from sklearn.feature_extraction.text import CountVectorizer\n",
        "\n",
        "from sklearn.feature_extraction.text import TfidfTransformer, TfidfVectorizer\n",
        "from sklearn.metrics import confusion_matrix, f1_score, accuracy_score, precision_score, recall_score\n",
        "\n",
        "import matplotlib\n",
        "from sklearn.linear_model import LogisticRegression\n",
        "from sklearn.neural_network import MLPClassifier\n",
        "from sklearn.decomposition import PCA\n",
        "from sklearn.manifold import TSNE\n",
        "from sklearn.preprocessing import MinMaxScaler, OneHotEncoder\n",
        "from sklearn.utils.class_weight import compute_class_weight\n",
        "from sklearn import svm\n",
        "from IPython.display import display\n",
        "import matplotlib.pyplot as plt\n",
        "import seaborn as sns"
      ],
      "metadata": {
        "id": "IJmi9Bsx-EWs"
      },
      "execution_count": null,
      "outputs": []
    },
    {
      "cell_type": "code",
      "source": [
        "!pip install sklearn_crfsuite\n",
        "!pip install transformers"
      ],
      "metadata": {
        "colab": {
          "base_uri": "https://localhost:8080/"
        },
        "id": "6TTiG8foD0KC",
        "outputId": "0a5ef1b3-8cb3-44c4-fd38-3e42eb68e797"
      },
      "execution_count": null,
      "outputs": [
        {
          "output_type": "stream",
          "name": "stdout",
          "text": [
            "Looking in indexes: https://pypi.org/simple, https://us-python.pkg.dev/colab-wheels/public/simple/\n",
            "Collecting sklearn_crfsuite\n",
            "  Downloading sklearn_crfsuite-0.3.6-py2.py3-none-any.whl (12 kB)\n",
            "Requirement already satisfied: six in /usr/local/lib/python3.7/dist-packages (from sklearn_crfsuite) (1.15.0)\n",
            "Requirement already satisfied: tabulate in /usr/local/lib/python3.7/dist-packages (from sklearn_crfsuite) (0.8.9)\n",
            "Collecting python-crfsuite>=0.8.3\n",
            "  Downloading python_crfsuite-0.9.8-cp37-cp37m-manylinux_2_17_x86_64.manylinux2014_x86_64.whl (965 kB)\n",
            "\u001b[K     |████████████████████████████████| 965 kB 4.8 MB/s \n",
            "\u001b[?25hRequirement already satisfied: tqdm>=2.0 in /usr/local/lib/python3.7/dist-packages (from sklearn_crfsuite) (4.64.0)\n",
            "Installing collected packages: python-crfsuite, sklearn-crfsuite\n",
            "Successfully installed python-crfsuite-0.9.8 sklearn-crfsuite-0.3.6\n",
            "Looking in indexes: https://pypi.org/simple, https://us-python.pkg.dev/colab-wheels/public/simple/\n",
            "Collecting transformers\n",
            "  Downloading transformers-4.19.4-py3-none-any.whl (4.2 MB)\n",
            "\u001b[K     |████████████████████████████████| 4.2 MB 5.0 MB/s \n",
            "\u001b[?25hRequirement already satisfied: requests in /usr/local/lib/python3.7/dist-packages (from transformers) (2.23.0)\n",
            "Requirement already satisfied: filelock in /usr/local/lib/python3.7/dist-packages (from transformers) (3.7.0)\n",
            "Collecting huggingface-hub<1.0,>=0.1.0\n",
            "  Downloading huggingface_hub-0.7.0-py3-none-any.whl (86 kB)\n",
            "\u001b[K     |████████████████████████████████| 86 kB 5.5 MB/s \n",
            "\u001b[?25hRequirement already satisfied: numpy>=1.17 in /usr/local/lib/python3.7/dist-packages (from transformers) (1.21.6)\n",
            "Requirement already satisfied: regex!=2019.12.17 in /usr/local/lib/python3.7/dist-packages (from transformers) (2019.12.20)\n",
            "Collecting tokenizers!=0.11.3,<0.13,>=0.11.1\n",
            "  Downloading tokenizers-0.12.1-cp37-cp37m-manylinux_2_12_x86_64.manylinux2010_x86_64.whl (6.6 MB)\n",
            "\u001b[K     |████████████████████████████████| 6.6 MB 40.8 MB/s \n",
            "\u001b[?25hRequirement already satisfied: tqdm>=4.27 in /usr/local/lib/python3.7/dist-packages (from transformers) (4.64.0)\n",
            "Requirement already satisfied: importlib-metadata in /usr/local/lib/python3.7/dist-packages (from transformers) (4.11.4)\n",
            "Requirement already satisfied: packaging>=20.0 in /usr/local/lib/python3.7/dist-packages (from transformers) (21.3)\n",
            "Collecting pyyaml>=5.1\n",
            "  Downloading PyYAML-6.0-cp37-cp37m-manylinux_2_5_x86_64.manylinux1_x86_64.manylinux_2_12_x86_64.manylinux2010_x86_64.whl (596 kB)\n",
            "\u001b[K     |████████████████████████████████| 596 kB 30.4 MB/s \n",
            "\u001b[?25hRequirement already satisfied: typing-extensions>=3.7.4.3 in /usr/local/lib/python3.7/dist-packages (from huggingface-hub<1.0,>=0.1.0->transformers) (4.2.0)\n",
            "Requirement already satisfied: pyparsing!=3.0.5,>=2.0.2 in /usr/local/lib/python3.7/dist-packages (from packaging>=20.0->transformers) (3.0.9)\n",
            "Requirement already satisfied: zipp>=0.5 in /usr/local/lib/python3.7/dist-packages (from importlib-metadata->transformers) (3.8.0)\n",
            "Requirement already satisfied: chardet<4,>=3.0.2 in /usr/local/lib/python3.7/dist-packages (from requests->transformers) (3.0.4)\n",
            "Requirement already satisfied: urllib3!=1.25.0,!=1.25.1,<1.26,>=1.21.1 in /usr/local/lib/python3.7/dist-packages (from requests->transformers) (1.24.3)\n",
            "Requirement already satisfied: certifi>=2017.4.17 in /usr/local/lib/python3.7/dist-packages (from requests->transformers) (2022.5.18.1)\n",
            "Requirement already satisfied: idna<3,>=2.5 in /usr/local/lib/python3.7/dist-packages (from requests->transformers) (2.10)\n",
            "Installing collected packages: pyyaml, tokenizers, huggingface-hub, transformers\n",
            "  Attempting uninstall: pyyaml\n",
            "    Found existing installation: PyYAML 3.13\n",
            "    Uninstalling PyYAML-3.13:\n",
            "      Successfully uninstalled PyYAML-3.13\n",
            "Successfully installed huggingface-hub-0.7.0 pyyaml-6.0 tokenizers-0.12.1 transformers-4.19.4\n"
          ]
        }
      ]
    },
    {
      "cell_type": "code",
      "source": [
        "from math import sqrt\n",
        "import regex as re\n",
        "import os\n",
        "from glob import glob\n",
        "\n",
        "import numpy as np\n",
        "import pandas as pd\n",
        "from sklearn.model_selection import train_test_split\n",
        "from sklearn.linear_model import LogisticRegression\n",
        "from sklearn.linear_model import Lasso, Ridge\n",
        "from sklearn.preprocessing import StandardScaler\n",
        "from sklearn.model_selection import GridSearchCV, KFold, RandomizedSearchCV\n",
        "from sklearn.pipeline import Pipeline\n",
        "from sklearn.feature_extraction.text import TfidfVectorizer\n",
        "from sklearn.ensemble import GradientBoostingClassifier, GradientBoostingRegressor\n",
        "from sklearn.svm import SVC, SVR\n",
        "from sklearn.model_selection import cross_val_score\n",
        "from sklearn.metrics import precision_recall_fscore_support, mean_squared_error, accuracy_score\n",
        "\n",
        "import sklearn_crfsuite\n",
        "from sklearn_crfsuite import scorers\n",
        "from sklearn_crfsuite import metrics\n",
        "from sklearn.naive_bayes import BernoulliNB\n",
        "import scipy\n",
        "\n",
        "import torch\n",
        "import transformers as ppb\n",
        "import warnings\n",
        "\n",
        "from xgboost import XGBClassifier, XGBRFClassifier, XGBRegressor, XGBRFRegressor\n",
        "from xgboost import plot_importance\n",
        "from xgboost import plot_importance\n",
        "from matplotlib import pyplot as plt"
      ],
      "metadata": {
        "id": "40QChojFD9f5"
      },
      "execution_count": null,
      "outputs": []
    },
    {
      "cell_type": "code",
      "source": [
        "from numpy import load\n",
        "# load array\n",
        "x_train_text = load('/content/drive/MyDrive/fasttextvectors_train.npy')\n",
        "y_train_text = load('/content/drive/MyDrive/labelstext_train.npy')\n",
        "print(x_train_text.shape, y_train_text.shape)"
      ],
      "metadata": {
        "colab": {
          "base_uri": "https://localhost:8080/"
        },
        "id": "Ov4_LY91-E0G",
        "outputId": "6609bc11-0221-4ba2-d95d-784d057cda02"
      },
      "execution_count": null,
      "outputs": [
        {
          "output_type": "stream",
          "name": "stdout",
          "text": [
            "(108, 300) (108,)\n"
          ]
        }
      ]
    },
    {
      "cell_type": "code",
      "source": [
        "df = pd.read_csv('/content/drive/MyDrive/train108.csv')\n",
        "docs = df['doc_text']\n",
        "y = df['labels']\n",
        "trainX = docs"
      ],
      "metadata": {
        "id": "YCQTQdpHDAI9"
      },
      "execution_count": null,
      "outputs": []
    },
    {
      "cell_type": "code",
      "source": [
        "ytam=pd.read_csv('/content/drive/MyDrive/train108.csv')\n",
        "y_train_mmse=ytam['mmse']"
      ],
      "metadata": {
        "id": "UCq1MSQ_6pVM"
      },
      "execution_count": null,
      "outputs": []
    },
    {
      "cell_type": "code",
      "source": [
        "y_train_mmse\n"
      ],
      "metadata": {
        "colab": {
          "base_uri": "https://localhost:8080/"
        },
        "id": "XGKKearA6w-V",
        "outputId": "759654e9-ffda-480d-f645-c1ad2b8440e4"
      },
      "execution_count": null,
      "outputs": [
        {
          "output_type": "execute_result",
          "data": {
            "text/plain": [
              "0       30\n",
              "1       30\n",
              "2       29\n",
              "3       30\n",
              "4       30\n",
              "      ... \n",
              "103     20\n",
              "104     24\n",
              "105     12\n",
              "106     20\n",
              "107     13\n",
              "Name: mmse, Length: 108, dtype: object"
            ]
          },
          "metadata": {},
          "execution_count": 63
        }
      ]
    },
    {
      "cell_type": "code",
      "source": [
        "def get_results(X,y):\n",
        "    values = {}\n",
        "    scoring = {\n",
        "        'acc':'accuracy',\n",
        "        'f1':'f1_macro'\n",
        "    }\n",
        "    clf = MLPClassifier(n_iter_no_change=50, max_iter=10000,hidden_layer_sizes=(512, ))\n",
        "    res = cross_validate(clf, X, y, cv=10,  return_train_score=True, scoring=scoring) \n",
        "    acc = res['test_acc']\n",
        "    f1 = res['test_f1']\n",
        "    \n",
        "    print()\n",
        "    values['mlp_acc'] = acc.mean()\n",
        "    values['mlp_f1'] = f1.mean()\n",
        "    print(\"MLP\")\n",
        "    print(\"Accuracy: %f\" %(acc.mean()))\n",
        "    print(\"F1 Score: %f\" %(f1.mean()))\n",
        "\n",
        "    clf = BernoulliNB()\n",
        "    res = cross_validate(clf, X, y, cv=10,  return_train_score=True, scoring=scoring)  \n",
        "    acc = res['test_acc']\n",
        "    f1 = res['test_f1']\n",
        "    \n",
        "    print()\n",
        "    values['nb_acc'] = acc.mean()\n",
        "    values['nb_f1'] = f1.mean()\n",
        "    print(\"Naive Bayes\")\n",
        "    print(\"Accuracy: %f\" %(acc.mean()))\n",
        "    print(\"F1 Score: %f\" %(f1.mean()))\n",
        "\n",
        "    \n",
        "    clf = LogisticRegression(max_iter=1000)\n",
        "    res = cross_validate(clf, X, y, cv=10,  return_train_score=True, scoring=scoring) \n",
        "    acc = res['test_acc']\n",
        "    f1 = res['test_f1']\n",
        "    print()\n",
        "    values['lr_acc'] = acc.mean()\n",
        "    values['lr_f1'] = f1.mean()\n",
        "    print(\"Logistic Regression\")\n",
        "    print(\"Accuracy: %f\" %(acc.mean()))\n",
        "    print(\"F1 Score: %f\" %(f1.mean()))\n",
        "\n",
        "    \n",
        "    clf = svm.SVC(kernel='poly', degree=2)\n",
        "    res = cross_validate(clf, X, y, cv=10,  return_train_score=True, scoring=scoring)  \n",
        "    acc = res['test_acc']\n",
        "    f1 = res['test_f1']\n",
        "    print()\n",
        "    values['svm_acc'] = acc.mean()\n",
        "    values['svm_f1'] = f1.mean()\n",
        "    print(\"SVM\")\n",
        "    print(\"Accuracy: %f\" %(acc.mean()))\n",
        "    print(\"F1 Score: %f\" %(f1.mean()))\n",
        "    \n",
        "    clf = RandomForestClassifier(n_estimators=1000,n_jobs=-1)\n",
        "    res = cross_validate(clf, X, y, cv=10,  return_train_score=True, scoring=scoring)  \n",
        "    acc = res['test_acc']\n",
        "    f1 = res['test_f1']\n",
        "    print()\n",
        "    values['rf_acc'] = acc.mean()\n",
        "    values['rf_f1'] = f1.mean()\n",
        "    print(\"Random Forest\")\n",
        "    print(\"Accuracy: %f\" %(acc.mean()))\n",
        "    print(\"F1 Score: %f\" %(f1.mean()))\n",
        "    print()\n",
        "    print()\n",
        "    return values\n",
        "    "
      ],
      "metadata": {
        "id": "HYHRwvneJLPE"
      },
      "execution_count": null,
      "outputs": []
    },
    {
      "cell_type": "markdown",
      "source": [
        "BERT"
      ],
      "metadata": {
        "id": "BXznzYxAAHub"
      }
    },
    {
      "cell_type": "code",
      "source": [
        "# Embedding function\n",
        "def bert_embedding(text: pd.Series, tokenizer, model):\n",
        "    tokenized = text.apply((lambda x: tokenizer.encode(x, add_special_tokens=True, max_length=512)))\n",
        "    max_len = max([len(i) for i in tokenized.values])\n",
        "    padded = np.array([i + [0]*(max_len-len(i)) for i in tokenized.values])\n",
        "    attention_mask = np.where(padded != 0, 1, 0)\n",
        "    input_ids = torch.tensor(padded)  \n",
        "    attention_mask = torch.tensor(attention_mask)\n",
        "    last_hidden_states = model(input_ids, attention_mask=attention_mask)\n",
        "    last_hidden_states = last_hidden_states[0]\n",
        "    features = last_hidden_states[:,0,:].numpy()\n",
        "    return features, attention_mask"
      ],
      "metadata": {
        "id": "M6s7Jdx2FxVo"
      },
      "execution_count": null,
      "outputs": []
    },
    {
      "cell_type": "code",
      "source": [
        "def load_transformer_model_tokenizer(model_class, tokenizer_class, pretrained_weights):\n",
        "    tokenizer = tokenizer_class.from_pretrained(pretrained_weights)\n",
        "    model = model_class.from_pretrained(pretrained_weights)\n",
        "    return tokenizer, model"
      ],
      "metadata": {
        "id": "Bl9ApSVGDm_3"
      },
      "execution_count": null,
      "outputs": []
    },
    {
      "cell_type": "code",
      "source": [
        "def run_model(model_class, tokenizer_class, pretrained_weights, text):\n",
        "    tokenizer, model = load_transformer_model_tokenizer(model_class, tokenizer_class, pretrained_weights)\n",
        "    features, _ = bert_embedding(text, tokenizer, model)\n",
        "    return tokenizer, model, features"
      ],
      "metadata": {
        "id": "0ZRAXRpNASOj"
      },
      "execution_count": null,
      "outputs": []
    },
    {
      "cell_type": "code",
      "source": [
        "# Distil BERT\n",
        "model_class, tokenizer_class, pretrained_weights = (ppb.DistilBertModel, ppb.DistilBertTokenizer, 'distilbert-base-uncased')\n",
        "tokenizer, model, features = run_model(model_class, tokenizer_class, pretrained_weights, trainX)"
      ],
      "metadata": {
        "colab": {
          "base_uri": "https://localhost:8080/"
        },
        "id": "2EK7u-jg-N0p",
        "outputId": "1fc462be-6eb7-4762-b400-d1b9a0f7a844"
      },
      "execution_count": null,
      "outputs": [
        {
          "output_type": "stream",
          "name": "stderr",
          "text": [
            "Some weights of the model checkpoint at distilbert-base-uncased were not used when initializing DistilBertModel: ['vocab_transform.bias', 'vocab_projector.bias', 'vocab_layer_norm.weight', 'vocab_layer_norm.bias', 'vocab_transform.weight', 'vocab_projector.weight']\n",
            "- This IS expected if you are initializing DistilBertModel from the checkpoint of a model trained on another task or with another architecture (e.g. initializing a BertForSequenceClassification model from a BertForPreTraining model).\n",
            "- This IS NOT expected if you are initializing DistilBertModel from the checkpoint of a model that you expect to be exactly identical (initializing a BertForSequenceClassification model from a BertForSequenceClassification model).\n",
            "Truncation was not explicitly activated but `max_length` is provided a specific value, please use `truncation=True` to explicitly truncate examples to max length. Defaulting to 'longest_first' truncation strategy. If you encode pairs of sequences (GLUE-style) with the tokenizer you can select this strategy more precisely by providing a specific strategy to `truncation`.\n"
          ]
        }
      ]
    },
    {
      "cell_type": "code",
      "source": [
        "features.shape"
      ],
      "metadata": {
        "colab": {
          "base_uri": "https://localhost:8080/"
        },
        "id": "rqU70hsEHMis",
        "outputId": "9cd8554f-5f6c-4c67-f171-88e8b7cc9817"
      },
      "execution_count": null,
      "outputs": [
        {
          "output_type": "execute_result",
          "data": {
            "text/plain": [
              "(108, 768)"
            ]
          },
          "metadata": {},
          "execution_count": 57
        }
      ]
    },
    {
      "cell_type": "code",
      "source": [
        "distilbertemb=features"
      ],
      "metadata": {
        "id": "F4AWZMTrEKLc"
      },
      "execution_count": null,
      "outputs": []
    },
    {
      "cell_type": "code",
      "source": [
        "get_results(distilbertemb,y)"
      ],
      "metadata": {
        "colab": {
          "base_uri": "https://localhost:8080/"
        },
        "id": "3qIV0DGI3csU",
        "outputId": "e1ed66b3-909e-4fb7-f035-0ac06b1ab39c"
      },
      "execution_count": null,
      "outputs": [
        {
          "output_type": "stream",
          "name": "stdout",
          "text": [
            "\n",
            "MLP\n",
            "Accuracy: 0.804545\n",
            "F1 Score: 0.798016\n",
            "\n",
            "Naive Bayes\n",
            "Accuracy: 0.776364\n",
            "F1 Score: 0.771297\n",
            "\n",
            "Logistic Regression\n",
            "Accuracy: 0.822727\n",
            "F1 Score: 0.815106\n",
            "\n",
            "SVM\n",
            "Accuracy: 0.813636\n",
            "F1 Score: 0.811022\n",
            "\n",
            "Random Forest\n",
            "Accuracy: 0.832727\n",
            "F1 Score: 0.829483\n",
            "\n",
            "\n"
          ]
        },
        {
          "output_type": "execute_result",
          "data": {
            "text/plain": [
              "{'lr_acc': 0.8227272727272726,\n",
              " 'lr_f1': 0.8151060051060052,\n",
              " 'mlp_acc': 0.8045454545454545,\n",
              " 'mlp_f1': 0.798015873015873,\n",
              " 'nb_acc': 0.7763636363636364,\n",
              " 'nb_f1': 0.7712970362970364,\n",
              " 'rf_acc': 0.8327272727272728,\n",
              " 'rf_f1': 0.8294830169830169,\n",
              " 'svm_acc': 0.8136363636363637,\n",
              " 'svm_f1': 0.811021756021756}"
            ]
          },
          "metadata": {},
          "execution_count": 64
        }
      ]
    },
    {
      "cell_type": "code",
      "source": [
        "from sklearn.ensemble import RandomForestRegressor\n",
        "rf = RandomForestRegressor(n_estimators = 50, max_depth = 5, random_state = 8).fit(distilbertemb, y_train_mmse)\n",
        "y_pred=rf.predict(distilbertemb)\n",
        "print(\"RMSE : \",np.sqrt(mean_squared_error(y_train_mmse,y_pred)))"
      ],
      "metadata": {
        "colab": {
          "base_uri": "https://localhost:8080/"
        },
        "id": "6tup1tXpLPIX",
        "outputId": "fa8b88e8-a6bd-4eb4-de36-b4448120834a"
      },
      "execution_count": null,
      "outputs": [
        {
          "output_type": "stream",
          "name": "stdout",
          "text": [
            "RMSE : 6.0222050567935037\n"
          ]
        }
      ]
    },
    {
      "cell_type": "code",
      "source": [
        "\n",
        "from sklearn.metrics import mean_squared_error\n",
        "\n",
        "from sklearn.linear_model import LinearRegression\n",
        "regr = LinearRegression()\n",
        "regr.fit(distilbertemb, y_train_mmse)\n",
        "y_pred=regr.predict(distilbertemb)\n",
        "print(\"RMSE : \",np.sqrt(mean_squared_error(y_train_mmse,y_pred)))"
      ],
      "metadata": {
        "colab": {
          "base_uri": "https://localhost:8080/"
        },
        "id": "E3uejdCfLozq",
        "outputId": "1f1ace20-2774-4c96-ee28-86893d9bd9a5"
      },
      "execution_count": null,
      "outputs": [
        {
          "output_type": "stream",
          "name": "stdout",
          "text": [
            "RMSE : 6.3026203459082396\n"
          ]
        }
      ]
    },
    {
      "cell_type": "markdown",
      "source": [
        "TEST SET\n"
      ],
      "metadata": {
        "id": "DbIDiCg1Kujv"
      }
    },
    {
      "cell_type": "code",
      "source": [
        "test = pd.read_csv('/content/drive/MyDrive/test108crct.csv')\n",
        "testX = test['doc_text']\n",
        "y_test=test['labels']"
      ],
      "metadata": {
        "id": "FSxlelB_L9-k"
      },
      "execution_count": null,
      "outputs": []
    },
    {
      "cell_type": "code",
      "source": [
        "model_class, tokenizer_class, pretrained_weights = (ppb.DistilBertModel, ppb.DistilBertTokenizer, 'distilbert-base-uncased')\n",
        "tokenizer, model, features = run_model(model_class, tokenizer_class, pretrained_weights, testX)"
      ],
      "metadata": {
        "colab": {
          "base_uri": "https://localhost:8080/"
        },
        "id": "4KQJ0agDL5iR",
        "outputId": "515870a3-c369-41d6-fe4a-b63770b72b7c"
      },
      "execution_count": null,
      "outputs": [
        {
          "output_type": "stream",
          "name": "stderr",
          "text": [
            "Some weights of the model checkpoint at distilbert-base-uncased were not used when initializing DistilBertModel: ['vocab_transform.bias', 'vocab_projector.bias', 'vocab_layer_norm.weight', 'vocab_layer_norm.bias', 'vocab_transform.weight', 'vocab_projector.weight']\n",
            "- This IS expected if you are initializing DistilBertModel from the checkpoint of a model trained on another task or with another architecture (e.g. initializing a BertForSequenceClassification model from a BertForPreTraining model).\n",
            "- This IS NOT expected if you are initializing DistilBertModel from the checkpoint of a model that you expect to be exactly identical (initializing a BertForSequenceClassification model from a BertForSequenceClassification model).\n",
            "Truncation was not explicitly activated but `max_length` is provided a specific value, please use `truncation=True` to explicitly truncate examples to max length. Defaulting to 'longest_first' truncation strategy. If you encode pairs of sequences (GLUE-style) with the tokenizer you can select this strategy more precisely by providing a specific strategy to `truncation`.\n"
          ]
        }
      ]
    },
    {
      "cell_type": "code",
      "source": [
        "ad_dict = {'NON-AD': 0,\n",
        "                'AD': 1}\n",
        "\n",
        "ad_keys = list(['NON-AD', 'AD'])\n",
        "\n",
        "\n",
        "def plot_confusion_matrix(cm, classes,\n",
        "                          normalize=False,\n",
        "                          title='Confusion matrix',\n",
        "                          cmap=plt.cm.Blues):\n",
        "    \n",
        "    plt.imshow(cm, interpolation='nearest', cmap=cmap)\n",
        "    plt.title(title)\n",
        "    plt.colorbar()\n",
        "    tick_marks = np.arange(len(classes))\n",
        "    plt.xticks(tick_marks, classes, rotation=45)\n",
        "    plt.yticks(tick_marks, classes)\n",
        "\n",
        "    if normalize:\n",
        "        cm = cm.astype('float') / cm.sum(axis=1)[:, np.newaxis]\n",
        "        print(\"Normalized confusion matrix\")\n",
        "    else:\n",
        "        print('Confusion matrix')\n",
        "\n",
        "    print(cm)\n",
        "\n",
        "    thresh = cm.max() / 2.\n",
        "    for i, j in itertools.product(range(cm.shape[0]), range(cm.shape[1])):\n",
        "        plt.text(j, i, cm[i, j],\n",
        "                 horizontalalignment=\"center\",\n",
        "                 color=\"white\" if cm[i, j] > thresh else \"black\")\n",
        "\n",
        "    plt.tight_layout()\n",
        "    plt.ylabel('True label')\n",
        "    plt.xlabel('Predicted label')\n",
        "    \n",
        "def one_hot_encoder(true_labels, num_records, num_classes):\n",
        "    temp = np.array(true_labels[:num_records])\n",
        "    true_labels = np.zeros((num_records, num_classes))\n",
        "    true_labels[np.arange(num_records), temp] = 1\n",
        "    return true_labels\n",
        "\n",
        "def display_results(y_test, pred_probs, cm=True):\n",
        "    pred = np.argmax(pred_probs, axis=-1)\n",
        "    one_hot_true = one_hot_encoder(y_test, len(pred), len(ad_dict))\n",
        "    print('Test Set Accuracy =  {0:.3f}'.format(accuracy_score(y_test, pred)))\n",
        "    print('Test Set F1-score =  {0:.3f}'.format(f1_score(y_test, pred, average='macro')))\n",
        "    print('Test Set Precision =  {0:.3f}'.format(precision_score(y_test, pred, average='macro')))\n",
        "    print('Test Set Recall =  {0:.3f}'.format(recall_score(y_test, pred, average='macro')))\n",
        "    if cm:\n",
        "        plot_confusion_matrix(confusion_matrix(y_test, pred), classes=ad_keys)"
      ],
      "metadata": {
        "id": "FyBeBagwM-kr"
      },
      "execution_count": null,
      "outputs": []
    },
    {
      "cell_type": "code",
      "source": [
        "test_distilbert=features\n",
        "test_distilbert.shape"
      ],
      "metadata": {
        "colab": {
          "base_uri": "https://localhost:8080/"
        },
        "id": "RG0iW9DDMen6",
        "outputId": "8a736c2b-6954-4662-f776-f79ece8db5a5"
      },
      "execution_count": null,
      "outputs": [
        {
          "output_type": "execute_result",
          "data": {
            "text/plain": [
              "(48, 768)"
            ]
          },
          "metadata": {},
          "execution_count": 74
        }
      ]
    },
    {
      "cell_type": "code",
      "source": [
        "ytestam=pd.read_csv('/content/drive/MyDrive/test108crct.csv')\n",
        "y_test_mmse=ytestam['mmse']"
      ],
      "metadata": {
        "id": "un5RVA1zKE1a"
      },
      "execution_count": null,
      "outputs": []
    },
    {
      "cell_type": "code",
      "source": [
        "\n",
        "rf_clf = RandomForestClassifier(n_estimators=1000,n_jobs=-1)\n",
        "rf_clf.fit(distilbertemb, y)\n",
        "\n",
        "pred_probs = rf_clf.predict_proba(test_distilbert)\n",
        "display_results(y_test, pred_probs)"
      ],
      "metadata": {
        "colab": {
          "base_uri": "https://localhost:8080/",
          "height": 432
        },
        "id": "RgGyHS-3KEyJ",
        "outputId": "7ee9c30e-d981-423f-ce87-bbe99b125dca"
      },
      "execution_count": null,
      "outputs": [
        {
          "output_type": "stream",
          "name": "stdout",
          "text": [
            "Test Set Accuracy =  0.792\n",
            "Test Set F1-score =  0.790\n",
            "Test Set Precision =  0.800\n",
            "Test Set Recall =  0.792\n",
            "Confusion matrix\n",
            "[[21  3]\n",
            " [ 7 17]]\n"
          ]
        },
        {
          "output_type": "display_data",
          "data": {
            "text/plain": [
              "<Figure size 432x288 with 2 Axes>"
            ],
            "image/png": "[encoded data removed]"
          },
          "metadata": {
            "needs_background": "light"
          }
        }
      ]
    },
    {
      "cell_type": "code",
      "source": [
        "y_test.shape"
      ],
      "metadata": {
        "colab": {
          "base_uri": "https://localhost:8080/"
        },
        "id": "vSviIezzOMX8",
        "outputId": "7fa62c43-0c41-405a-913d-30dabbe9daef"
      },
      "execution_count": null,
      "outputs": [
        {
          "output_type": "execute_result",
          "data": {
            "text/plain": [
              "(48,)"
            ]
          },
          "metadata": {},
          "execution_count": 80
        }
      ]
    },
    {
      "cell_type": "code",
      "source": [
        "\n",
        "clf =  MLPClassifier(n_iter_no_change=50, max_iter=10000,hidden_layer_sizes=(512, ))\n",
        "clf.fit(distilbertemb, y)\n",
        "\n",
        "pred_probs = clf.predict_proba(test_distilbert)\n",
        "display_results(y_test, pred_probs)"
      ],
      "metadata": {
        "colab": {
          "base_uri": "https://localhost:8080/",
          "height": 432
        },
        "id": "4tgHLK_LLy-R",
        "outputId": "25ace53e-0eb8-443b-dfd6-064c737d8813"
      },
      "execution_count": null,
      "outputs": [
        {
          "output_type": "stream",
          "name": "stdout",
          "text": [
            "Test Set Accuracy =  0.792\n",
            "Test Set F1-score =  0.791\n",
            "Test Set Precision =  0.794\n",
            "Test Set Recall =  0.792\n",
            "Confusion matrix\n",
            "[[20  4]\n",
            " [ 6 18]]\n"
          ]
        },
        {
          "output_type": "display_data",
          "data": {
            "text/plain": [
              "<Figure size 432x288 with 2 Axes>"
            ],
            "image/png": "[encoded data removed]"
          },
          "metadata": {
            "needs_background": "light"
          }
        }
      ]
    },
    {
      "cell_type": "code",
      "source": [
        "clf =  LogisticRegression(max_iter=500)\n",
        "clf.fit(distilbertemb, y)\n",
        "pred_probs = clf.predict_proba(test_distilbert)\n",
        "display_results(y_test, pred_probs)"
      ],
      "metadata": {
        "colab": {
          "base_uri": "https://localhost:8080/",
          "height": 432
        },
        "id": "pp8PsycVLy7a",
        "outputId": "2c62a4dd-6841-4cd6-f797-30a0678a09c5"
      },
      "execution_count": null,
      "outputs": [
        {
          "output_type": "stream",
          "name": "stdout",
          "text": [
            "Test Set Accuracy =  0.750\n",
            "Test Set F1-score =  0.750\n",
            "Test Set Precision =  0.762\n",
            "Test Set Recall =  0.762\n",
            "Confusion matrix\n",
            "[[18  3]\n",
            " [ 9 18]]\n"
          ]
        },
        {
          "output_type": "display_data",
          "data": {
            "text/plain": [
              "<Figure size 432x288 with 2 Axes>"
            ],
            "image/png": "[encoded data removed]"
          },
          "metadata": {
            "needs_background": "light"
          }
        }
      ]
    },
    {
      "cell_type": "code",
      "source": [
        "#distilbert\n",
        "from sklearn.ensemble import RandomForestRegressor\n",
        "rf = RandomForestRegressor(n_estimators = 100, max_depth = 5, random_state = 8).fit(distilbertemb, y_train_mmse)\n",
        "y_pred=rf.predict(test_distilbert)\n",
        "print(\"RMSE : \",np.sqrt(mean_squared_error(y_test_mmse,y_pred)))"
      ],
      "metadata": {
        "colab": {
          "base_uri": "https://localhost:8080/"
        },
        "id": "Mjxwv0rgP0Le",
        "outputId": "673e156c-d8a1-4c57-b1fe-081ec3b7f4bc"
      },
      "execution_count": null,
      "outputs": [
        {
          "output_type": "stream",
          "name": "stdout",
          "text": [
            "RMSE :  5.018409065447369\n"
          ]
        }
      ]
    },
    {
      "cell_type": "code",
      "source": [
        "from sklearn.metrics import mean_squared_error\n",
        "\n",
        "from sklearn.linear_model import LinearRegression\n",
        "regr = LinearRegression()\n",
        "regr.fit(distilbertemb, y_train_mmse)\n",
        "y_pred=regr.predict(test_distilbert)\n",
        "print(\"RMSE : \",np.sqrt(mean_squared_error(y_test_mmse,y_pred)))"
      ],
      "metadata": {
        "colab": {
          "base_uri": "https://localhost:8080/"
        },
        "id": "3PYskED8P0Hk",
        "outputId": "aae23e8b-2977-49e4-a565-8556bbc122bd"
      },
      "execution_count": null,
      "outputs": [
        {
          "output_type": "stream",
          "name": "stdout",
          "text": [
            "RMSE :  4.877475732983708\n"
          ]
        }
      ]
    },
    {
      "cell_type": "markdown",
      "source": [
        "hybrid"
      ],
      "metadata": {
        "id": "jUUqMEGRLz3R"
      }
    },
    {
      "cell_type": "code",
      "source": [],
      "metadata": {
        "id": "YzxDIogGLy3w"
      },
      "execution_count": null,
      "outputs": []
    },
    {
      "cell_type": "code",
      "source": [
        "fasttextemb=load('/content/drive/MyDrive/fasttextvectors_train.npy')\n",
        "bertemb = features\n"
      ],
      "metadata": {
        "id": "Tl_-bAOrH6q7"
      },
      "execution_count": null,
      "outputs": []
    },
    {
      "cell_type": "code",
      "source": [
        "\n",
        "hybridemb=np.concatenate((fasttextemb,bertemb), axis=1)"
      ],
      "metadata": {
        "id": "ND0n2N4UHPIi"
      },
      "execution_count": null,
      "outputs": []
    },
    {
      "cell_type": "code",
      "source": [
        "hybridemb.shape"
      ],
      "metadata": {
        "colab": {
          "base_uri": "https://localhost:8080/"
        },
        "id": "XHX5wda9Iwb3",
        "outputId": "d692785b-9aa2-4b5f-e784-0c02a325df80"
      },
      "execution_count": null,
      "outputs": [
        {
          "output_type": "execute_result",
          "data": {
            "text/plain": [
              "(108, 1068)"
            ]
          },
          "metadata": {},
          "execution_count": 22
        }
      ]
    },
    {
      "cell_type": "code",
      "source": [
        "np.save('fasttext+bert',hybridemb)"
      ],
      "metadata": {
        "id": "4kQy8aQSNfLV"
      },
      "execution_count": null,
      "outputs": []
    },
    {
      "cell_type": "code",
      "source": [],
      "metadata": {
        "id": "K81mvbx-XOu9"
      },
      "execution_count": null,
      "outputs": []
    },
    {
      "cell_type": "code",
      "source": [],
      "metadata": {
        "id": "Fh8JVlcQXOp_"
      },
      "execution_count": null,
      "outputs": []
    },
    {
      "cell_type": "code",
      "source": [],
      "metadata": {
        "id": "YCg6LawIXOnY"
      },
      "execution_count": null,
      "outputs": []
    },
    {
      "cell_type": "code",
      "source": [],
      "metadata": {
        "id": "1Uy_MP9qXOih"
      },
      "execution_count": null,
      "outputs": []
    },
    {
      "cell_type": "code",
      "source": [],
      "metadata": {
        "id": "xNhLhoIOXOfC"
      },
      "execution_count": null,
      "outputs": []
    },
    {
      "cell_type": "code",
      "source": [
        "get_results(hybridemb,y)"
      ],
      "metadata": {
        "colab": {
          "base_uri": "https://localhost:8080/"
        },
        "id": "KZj7Fq8XJ8d3",
        "outputId": "e5e42e53-77a2-4101-db36-492f873ef8b0"
      },
      "execution_count": null,
      "outputs": [
        {
          "output_type": "stream",
          "name": "stdout",
          "text": [
            "\n",
            "MLP\n",
            "Accuracy: 0.786364\n",
            "F1 Score: 0.778750\n",
            "\n",
            "Naive Bayes\n",
            "Accuracy: 0.814545\n",
            "F1 Score: 0.807859\n",
            "\n",
            "Logistic Regression\n",
            "Accuracy: 0.822727\n",
            "F1 Score: 0.815106\n",
            "\n",
            "SVM\n",
            "Accuracy: 0.813636\n",
            "F1 Score: 0.811022\n",
            "\n",
            "Random Forest\n",
            "Accuracy: 0.860000\n",
            "F1 Score: 0.857117\n",
            "\n",
            "\n"
          ]
        },
        {
          "output_type": "execute_result",
          "data": {
            "text/plain": [
              "{'lr_acc': 0.8227272727272726,\n",
              " 'lr_f1': 0.8151060051060052,\n",
              " 'mlp_acc': 0.7863636363636364,\n",
              " 'mlp_f1': 0.7787501387501388,\n",
              " 'nb_acc': 0.8145454545454545,\n",
              " 'nb_f1': 0.8078585303585303,\n",
              " 'rf_acc': 0.86,\n",
              " 'rf_f1': 0.857117327117327,\n",
              " 'svm_acc': 0.8136363636363637,\n",
              " 'svm_f1': 0.811021756021756}"
            ]
          },
          "metadata": {},
          "execution_count": 27
        }
      ]
    },
    {
      "cell_type": "code",
      "source": [
        "from sklearn.ensemble import RandomForestRegressor\n",
        "rf = RandomForestRegressor(n_estimators = 50, max_depth = 5, random_state = 8).fit(distilbertemb, y_train_mmse)\n",
        "y_pred=rf.predict(test_distilbert)\n",
        "print(\"RMSE : \",np.sqrt(mean_squared_error(y_test_mmse,y_pred)))"
      ],
      "metadata": {
        "colab": {
          "base_uri": "https://localhost:8080/"
        },
        "id": "T8h4tbxWKSEV",
        "outputId": "4001cc22-0cbb-4d9b-b427-fdaf5d6b2777"
      },
      "execution_count": null,
      "outputs": [
        {
          "output_type": "stream",
          "name": "stdout",
          "text": [
            "RMSE :  4.9052907563742485\n"
          ]
        }
      ]
    },
    {
      "cell_type": "markdown",
      "source": [
        "test set-hybrid"
      ],
      "metadata": {
        "id": "jQAiBuwhPR1u"
      }
    },
    {
      "cell_type": "code",
      "source": [
        "from numpy import load\n",
        "\n",
        "x_test_text = load('/content/drive/MyDrive/fasttext_test.npy')\n",
        "y_test_text = load('/content/drive/MyDrive/labeltext_test.npy')\n",
        "print(x_test_text.shape, y_test_text.shape)"
      ],
      "metadata": {
        "id": "mIxDt6ZlPiCi"
      },
      "execution_count": null,
      "outputs": []
    },
    {
      "cell_type": "code",
      "source": [
        "test = pd.read_csv('/content/drive/MyDrive/test108crct.csv')\n",
        "\n",
        "\n",
        "\n",
        "X_test_ = test['doc_text']"
      ],
      "metadata": {
        "id": "leyO8lnAPTg8"
      },
      "execution_count": null,
      "outputs": []
    },
    {
      "cell_type": "code",
      "source": [
        "tmodel_class, ttokenizer_class, tpretrained_weights = (ppb.DistilBertModel, ppb.DistilBertTokenizer, 'distilbert-base-uncased')\n",
        "ttokenizer, tmodel, tfeatures = run_model(model_class, tokenizer_class, pretrained_weights, X_test_)"
      ],
      "metadata": {
        "colab": {
          "base_uri": "https://localhost:8080/"
        },
        "id": "3wBFYiVPPVUn",
        "outputId": "1ae7ab28-f021-40bc-f875-e8800a935eb7"
      },
      "execution_count": null,
      "outputs": [
        {
          "output_type": "stream",
          "name": "stderr",
          "text": [
            "Some weights of the model checkpoint at distilbert-base-uncased were not used when initializing DistilBertModel: ['vocab_projector.bias', 'vocab_layer_norm.bias', 'vocab_transform.weight', 'vocab_transform.bias', 'vocab_projector.weight', 'vocab_layer_norm.weight']\n",
            "- This IS expected if you are initializing DistilBertModel from the checkpoint of a model trained on another task or with another architecture (e.g. initializing a BertForSequenceClassification model from a BertForPreTraining model).\n",
            "- This IS NOT expected if you are initializing DistilBertModel from the checkpoint of a model that you expect to be exactly identical (initializing a BertForSequenceClassification model from a BertForSequenceClassification model).\n",
            "Truncation was not explicitly activated but `max_length` is provided a specific value, please use `truncation=True` to explicitly truncate examples to max length. Defaulting to 'longest_first' truncation strategy. If you encode pairs of sequences (GLUE-style) with the tokenizer you can select this strategy more precisely by providing a specific strategy to `truncation`.\n"
          ]
        }
      ]
    },
    {
      "cell_type": "code",
      "source": [
        "tfeatures.shape"
      ],
      "metadata": {
        "colab": {
          "base_uri": "https://localhost:8080/"
        },
        "id": "kekTZs8kQL6t",
        "outputId": "b4514047-0019-4d8f-b3ac-44aba5081d8f"
      },
      "execution_count": null,
      "outputs": [
        {
          "output_type": "execute_result",
          "data": {
            "text/plain": [
              "(48, 768)"
            ]
          },
          "metadata": {},
          "execution_count": 33
        }
      ]
    },
    {
      "cell_type": "code",
      "source": [
        "fasttextemb_test=load('/content/drive/MyDrive/fasttext_test.npy')\n",
        "bertemb_test = tfeatures\n",
        "hybridemb_test=np.concatenate((fasttextemb_test,bertemb_test), axis=1)"
      ],
      "metadata": {
        "id": "RwJgmADuP6Yq"
      },
      "execution_count": null,
      "outputs": []
    },
    {
      "cell_type": "code",
      "source": [
        "hybridemb_test.shape"
      ],
      "metadata": {
        "colab": {
          "base_uri": "https://localhost:8080/"
        },
        "id": "kjGh4POgQTMo",
        "outputId": "3ba8892a-5a49-462e-c602-994c95d4c97e"
      },
      "execution_count": null,
      "outputs": [
        {
          "output_type": "execute_result",
          "data": {
            "text/plain": [
              "(48, 1068)"
            ]
          },
          "metadata": {},
          "execution_count": 36
        }
      ]
    },
    {
      "cell_type": "code",
      "source": [
        "np.save(\"fasttext+bert_test\",hybridemb_test)"
      ],
      "metadata": {
        "id": "kD9_nuwbQb3N"
      },
      "execution_count": null,
      "outputs": []
    },
    {
      "cell_type": "code",
      "source": [],
      "metadata": {
        "id": "2UGmlJzSQwWR"
      },
      "execution_count": null,
      "outputs": []
    }
  ]
}